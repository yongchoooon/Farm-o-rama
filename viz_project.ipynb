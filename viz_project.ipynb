{
 "cells": [
  {
   "cell_type": "markdown",
   "metadata": {},
   "source": [
    "# Visualization Project"
   ]
  },
  {
   "cell_type": "markdown",
   "metadata": {},
   "source": [
    "TEAMLAB Intern Researcher 서용득"
   ]
  },
  {
   "cell_type": "markdown",
   "metadata": {},
   "source": [
    "# Topic"
   ]
  },
  {
   "cell_type": "markdown",
   "metadata": {},
   "source": [
    "- 품목별, 품종별, 산지별 등 다양한 기준에 따른 농산물들의 거래량과 거래 가격 파악\n",
    "- 시간의 흐름에 따른 농산물의 거래량과 거래 가격 변동 추이 파악"
   ]
  },
  {
   "cell_type": "markdown",
   "metadata": {},
   "source": [
    "## 데이터 출처\n",
    "* DACON - 2021 농산물 가격예측 AI 경진대회 (https://dacon.io/competitions/official/235801/data)\n",
    "* 2016년 1월 ~ 2020년 9월의 전국 농산물 도매시장 거래정보 데이터"
   ]
  },
  {
   "cell_type": "markdown",
   "metadata": {},
   "source": [
    "## 데이터 정보"
   ]
  },
  {
   "cell_type": "markdown",
   "metadata": {},
   "source": [
    "기간 : 2016-01 ~ 2020-09\n",
    "\n",
    "- train.csv \n",
    "  - date : 일자\n",
    "  - 요일 : 요일\n",
    "  - 품목_거래량(kg) : 해당 품목의 거래량\n",
    "  - 품목_가격(원/kg) : 해당 품목의 kg당 가격\n",
    "  - 품목_가격 산출 방식 : 품목 또는 품종의 총 거래금액 / 총 거래량 (취소된 거래내역 제외)  \n",
    "- train_AT_TSALET_ALL : 월별 전국 도매시장 거래정보 데이터\n",
    "  - SALEDATE: 경락 일자\n",
    "  - WHSAL_NM: 도매시장\n",
    "  - CMP_NM: 법인\n",
    "  - PUM_NM: 품목\n",
    "  - KIND_NM: 품종\n",
    "  - DAN_NM: 단위\n",
    "  - POJ_NM: 포장\n",
    "  - SIZE_NM: 크기\n",
    "  - LV_NM: 등급\n",
    "  - SAN_NM: 산지\n",
    "  - DANQ: 단위중량\n",
    "  - QTY: 물량\n",
    "  - COST: 단가\n",
    "  - TOT_QTY: 총물량 (음수로 집계된 값은 거래 취소 내역)\n",
    "  - TOT_AMT: 총금액"
   ]
  },
  {
   "cell_type": "markdown",
   "metadata": {},
   "source": [
    "## Hypothesis\n",
    "- **가설 1** : 김장철이 되면 배추 가격이 상승할 것이다.  \n",
    "\n",
    "- **가설 2-1** : 귤의 주 생산지는 제주도일 것이다.\n",
    "- **가설 2-2** : 제주도에서는 다른 농산물보다 귤을 가장 많이 생산할 것이다.  \n",
    "    \n",
    "- **가설 3** : 제주도에서 멀리 있는 지역의 도매시장에서 일어난 거래일수록 거래 가격이 비쌀 것이다.  \n",
    "    \n",
    "- **가설 4** : 코로나 발생(2020년 1월 기준) 이후로 중국산 농산물의 거래량은 줄었을 것이고 가격은 올랐을 것이다.  \n",
    "\n",
    "- **가설 5** : 2016년에 비해 2019년에 열대과일의 수입량 대비 국내 생산량의 비율이 증가했을 것이다."
   ]
  },
  {
   "cell_type": "markdown",
   "metadata": {},
   "source": [
    "## 라이브러리"
   ]
  },
  {
   "cell_type": "code",
   "execution_count": 1,
   "metadata": {
    "scrolled": true
   },
   "outputs": [
    {
     "name": "stdout",
     "output_type": "stream",
     "text": [
      "Requirement already satisfied: plotly in c:\\miniconda3\\envs\\da\\lib\\site-packages (5.8.0)\n",
      "Requirement already satisfied: tenacity>=6.2.0 in c:\\miniconda3\\envs\\da\\lib\\site-packages (from plotly) (8.0.1)\n"
     ]
    }
   ],
   "source": [
    "!pip install plotly"
   ]
  },
  {
   "cell_type": "code",
   "execution_count": 3,
   "metadata": {},
   "outputs": [],
   "source": [
    "import os\n",
    "import pickle\n",
    "import warnings\n",
    "import numpy as np\n",
    "import pandas as pd\n",
    "import plotly.graph_objs as go\n",
    "import plotly.express as px\n",
    "\n",
    "from tqdm import tqdm\n",
    "from datetime import datetime\n",
    "from plotly.subplots import make_subplots as ms"
   ]
  },
  {
   "cell_type": "markdown",
   "metadata": {},
   "source": [
    "## 설정"
   ]
  },
  {
   "cell_type": "code",
   "execution_count": 2,
   "metadata": {},
   "outputs": [],
   "source": [
    "# 데이터 프레임의 모든 column을 볼 수 있도록 설정\n",
    "pd.set_option('display.max_columns', None) \n",
    "# warning 제거\n",
    "warnings.filterwarnings(action='ignore')"
   ]
  },
  {
   "cell_type": "markdown",
   "metadata": {},
   "source": [
    "## 경로"
   ]
  },
  {
   "cell_type": "code",
   "execution_count": 4,
   "metadata": {},
   "outputs": [],
   "source": [
    "DATA_DIR = \"./data\"\n",
    "TRAIN_PATH = os.path.join(DATA_DIR, \"train.csv\")"
   ]
  },
  {
   "cell_type": "markdown",
   "metadata": {},
   "source": [
    "## 데이터 불러오기 function"
   ]
  },
  {
   "cell_type": "code",
   "execution_count": 18,
   "metadata": {},
   "outputs": [],
   "source": [
    "# 월별 도매시장 거래 DATA 불러오는 함수\n",
    "def TSALET_CSV(yearmonth):\n",
    "    return pd.read_csv(os.path.join(DATA_DIR, \"train_AT_TSALET_ALL/AT_TSALET_ALL_{}.csv\".format(yearmonth)), parse_dates = ['SALEDATE'])\n",
    "\n",
    "# 연별 도매시장 DataFrame을 concatenate하는 함수\n",
    "def TSALET_CONCAT_YEAR(year):\n",
    "    dt_index = pd.date_range(start=\"{}0101\".format(str(year)), end=\"{}1231\".format(str(year)), freq = \"M\")\n",
    "    dt_list = dt_index.strftime(\"%Y%m\").tolist()\n",
    "    return pd.concat([TSALET_CSV(int(i)) for i in tqdm(dt_list)])"
   ]
  },
  {
   "cell_type": "markdown",
   "metadata": {},
   "source": [
    "## DATA - 품목별 거래량 합, 단가 평균 (2016-01 ~ 2020-09)"
   ]
  },
  {
   "cell_type": "code",
   "execution_count": 5,
   "metadata": {
    "scrolled": false
   },
   "outputs": [
    {
     "data": {
      "text/html": [
       "<div>\n",
       "<style scoped>\n",
       "    .dataframe tbody tr th:only-of-type {\n",
       "        vertical-align: middle;\n",
       "    }\n",
       "\n",
       "    .dataframe tbody tr th {\n",
       "        vertical-align: top;\n",
       "    }\n",
       "\n",
       "    .dataframe thead th {\n",
       "        text-align: right;\n",
       "    }\n",
       "</style>\n",
       "<table border=\"1\" class=\"dataframe\">\n",
       "  <thead>\n",
       "    <tr style=\"text-align: right;\">\n",
       "      <th></th>\n",
       "      <th>요일</th>\n",
       "      <th>배추_거래량(kg)</th>\n",
       "      <th>배추_가격(원/kg)</th>\n",
       "      <th>무_거래량(kg)</th>\n",
       "      <th>무_가격(원/kg)</th>\n",
       "      <th>양파_거래량(kg)</th>\n",
       "      <th>양파_가격(원/kg)</th>\n",
       "      <th>건고추_거래량(kg)</th>\n",
       "      <th>건고추_가격(원/kg)</th>\n",
       "      <th>마늘_거래량(kg)</th>\n",
       "      <th>마늘_가격(원/kg)</th>\n",
       "      <th>대파_거래량(kg)</th>\n",
       "      <th>대파_가격(원/kg)</th>\n",
       "      <th>얼갈이배추_거래량(kg)</th>\n",
       "      <th>얼갈이배추_가격(원/kg)</th>\n",
       "      <th>양배추_거래량(kg)</th>\n",
       "      <th>양배추_가격(원/kg)</th>\n",
       "      <th>깻잎_거래량(kg)</th>\n",
       "      <th>깻잎_가격(원/kg)</th>\n",
       "      <th>시금치_거래량(kg)</th>\n",
       "      <th>시금치_가격(원/kg)</th>\n",
       "      <th>미나리_거래량(kg)</th>\n",
       "      <th>미나리_가격(원/kg)</th>\n",
       "      <th>당근_거래량(kg)</th>\n",
       "      <th>당근_가격(원/kg)</th>\n",
       "      <th>파프리카_거래량(kg)</th>\n",
       "      <th>파프리카_가격(원/kg)</th>\n",
       "      <th>새송이_거래량(kg)</th>\n",
       "      <th>새송이_가격(원/kg)</th>\n",
       "      <th>팽이버섯_거래량(kg)</th>\n",
       "      <th>팽이버섯_가격(원/kg)</th>\n",
       "      <th>토마토_거래량(kg)</th>\n",
       "      <th>토마토_가격(원/kg)</th>\n",
       "    </tr>\n",
       "    <tr>\n",
       "      <th>date</th>\n",
       "      <th></th>\n",
       "      <th></th>\n",
       "      <th></th>\n",
       "      <th></th>\n",
       "      <th></th>\n",
       "      <th></th>\n",
       "      <th></th>\n",
       "      <th></th>\n",
       "      <th></th>\n",
       "      <th></th>\n",
       "      <th></th>\n",
       "      <th></th>\n",
       "      <th></th>\n",
       "      <th></th>\n",
       "      <th></th>\n",
       "      <th></th>\n",
       "      <th></th>\n",
       "      <th></th>\n",
       "      <th></th>\n",
       "      <th></th>\n",
       "      <th></th>\n",
       "      <th></th>\n",
       "      <th></th>\n",
       "      <th></th>\n",
       "      <th></th>\n",
       "      <th></th>\n",
       "      <th></th>\n",
       "      <th></th>\n",
       "      <th></th>\n",
       "      <th></th>\n",
       "      <th></th>\n",
       "      <th></th>\n",
       "      <th></th>\n",
       "    </tr>\n",
       "  </thead>\n",
       "  <tbody>\n",
       "    <tr>\n",
       "      <th>2016-01-01</th>\n",
       "      <td>금요일</td>\n",
       "      <td>0.0</td>\n",
       "      <td>0.0</td>\n",
       "      <td>0.0</td>\n",
       "      <td>0.0</td>\n",
       "      <td>0.0</td>\n",
       "      <td>0.0</td>\n",
       "      <td>0.0</td>\n",
       "      <td>0.0</td>\n",
       "      <td>0.0</td>\n",
       "      <td>0.0</td>\n",
       "      <td>0.0</td>\n",
       "      <td>0.0</td>\n",
       "      <td>0.0</td>\n",
       "      <td>0.0</td>\n",
       "      <td>0.0</td>\n",
       "      <td>0.0</td>\n",
       "      <td>0.0</td>\n",
       "      <td>0.0</td>\n",
       "      <td>0.0</td>\n",
       "      <td>0.0</td>\n",
       "      <td>0.0</td>\n",
       "      <td>0.0</td>\n",
       "      <td>0.0</td>\n",
       "      <td>0.0</td>\n",
       "      <td>0.0</td>\n",
       "      <td>0.0</td>\n",
       "      <td>0.0</td>\n",
       "      <td>0.0</td>\n",
       "      <td>0.0</td>\n",
       "      <td>0.0</td>\n",
       "      <td>0.0</td>\n",
       "      <td>0.0</td>\n",
       "    </tr>\n",
       "    <tr>\n",
       "      <th>2016-01-02</th>\n",
       "      <td>토요일</td>\n",
       "      <td>80860.0</td>\n",
       "      <td>329.0</td>\n",
       "      <td>80272.0</td>\n",
       "      <td>360.0</td>\n",
       "      <td>122787.5</td>\n",
       "      <td>1281.0</td>\n",
       "      <td>3.0</td>\n",
       "      <td>11000.0</td>\n",
       "      <td>15019.0</td>\n",
       "      <td>5475.0</td>\n",
       "      <td>92334.0</td>\n",
       "      <td>1704.0</td>\n",
       "      <td>6359.0</td>\n",
       "      <td>1331.0</td>\n",
       "      <td>40028.0</td>\n",
       "      <td>348.0</td>\n",
       "      <td>4374.9</td>\n",
       "      <td>13242.0</td>\n",
       "      <td>16550.5</td>\n",
       "      <td>2339.0</td>\n",
       "      <td>10528.0</td>\n",
       "      <td>1729.0</td>\n",
       "      <td>13885.0</td>\n",
       "      <td>804.0</td>\n",
       "      <td>3853.0</td>\n",
       "      <td>3703.0</td>\n",
       "      <td>15797.0</td>\n",
       "      <td>2576.0</td>\n",
       "      <td>14634.0</td>\n",
       "      <td>1474.0</td>\n",
       "      <td>30950.0</td>\n",
       "      <td>1621.0</td>\n",
       "    </tr>\n",
       "    <tr>\n",
       "      <th>2016-01-03</th>\n",
       "      <td>일요일</td>\n",
       "      <td>0.0</td>\n",
       "      <td>0.0</td>\n",
       "      <td>0.0</td>\n",
       "      <td>0.0</td>\n",
       "      <td>0.0</td>\n",
       "      <td>0.0</td>\n",
       "      <td>0.0</td>\n",
       "      <td>0.0</td>\n",
       "      <td>0.0</td>\n",
       "      <td>0.0</td>\n",
       "      <td>0.0</td>\n",
       "      <td>0.0</td>\n",
       "      <td>0.0</td>\n",
       "      <td>0.0</td>\n",
       "      <td>0.0</td>\n",
       "      <td>0.0</td>\n",
       "      <td>0.0</td>\n",
       "      <td>0.0</td>\n",
       "      <td>0.0</td>\n",
       "      <td>0.0</td>\n",
       "      <td>0.0</td>\n",
       "      <td>0.0</td>\n",
       "      <td>0.0</td>\n",
       "      <td>0.0</td>\n",
       "      <td>0.0</td>\n",
       "      <td>0.0</td>\n",
       "      <td>0.0</td>\n",
       "      <td>0.0</td>\n",
       "      <td>0.0</td>\n",
       "      <td>0.0</td>\n",
       "      <td>0.0</td>\n",
       "      <td>0.0</td>\n",
       "    </tr>\n",
       "    <tr>\n",
       "      <th>2016-01-04</th>\n",
       "      <td>월요일</td>\n",
       "      <td>1422742.5</td>\n",
       "      <td>478.0</td>\n",
       "      <td>1699653.7</td>\n",
       "      <td>382.0</td>\n",
       "      <td>2315079.0</td>\n",
       "      <td>1235.0</td>\n",
       "      <td>699.0</td>\n",
       "      <td>4464.0</td>\n",
       "      <td>141638.0</td>\n",
       "      <td>5210.0</td>\n",
       "      <td>994328.1</td>\n",
       "      <td>1716.0</td>\n",
       "      <td>262615.5</td>\n",
       "      <td>1212.0</td>\n",
       "      <td>1074699.1</td>\n",
       "      <td>345.0</td>\n",
       "      <td>122613.5</td>\n",
       "      <td>9923.0</td>\n",
       "      <td>427435.1</td>\n",
       "      <td>2153.0</td>\n",
       "      <td>82113.5</td>\n",
       "      <td>3960.0</td>\n",
       "      <td>558950.2</td>\n",
       "      <td>794.0</td>\n",
       "      <td>104930.3</td>\n",
       "      <td>4871.0</td>\n",
       "      <td>277326.5</td>\n",
       "      <td>2440.0</td>\n",
       "      <td>159800.0</td>\n",
       "      <td>1750.0</td>\n",
       "      <td>291057.0</td>\n",
       "      <td>1834.0</td>\n",
       "    </tr>\n",
       "    <tr>\n",
       "      <th>2016-01-05</th>\n",
       "      <td>화요일</td>\n",
       "      <td>1167241.0</td>\n",
       "      <td>442.0</td>\n",
       "      <td>1423482.3</td>\n",
       "      <td>422.0</td>\n",
       "      <td>2092960.1</td>\n",
       "      <td>1213.0</td>\n",
       "      <td>1112.6</td>\n",
       "      <td>4342.0</td>\n",
       "      <td>126207.8</td>\n",
       "      <td>5387.0</td>\n",
       "      <td>787716.0</td>\n",
       "      <td>1715.0</td>\n",
       "      <td>221850.5</td>\n",
       "      <td>1197.0</td>\n",
       "      <td>825681.9</td>\n",
       "      <td>350.0</td>\n",
       "      <td>79055.9</td>\n",
       "      <td>9529.0</td>\n",
       "      <td>334636.8</td>\n",
       "      <td>2220.0</td>\n",
       "      <td>80144.0</td>\n",
       "      <td>3333.0</td>\n",
       "      <td>444353.7</td>\n",
       "      <td>763.0</td>\n",
       "      <td>100699.5</td>\n",
       "      <td>5129.0</td>\n",
       "      <td>218465.2</td>\n",
       "      <td>2437.0</td>\n",
       "      <td>153084.0</td>\n",
       "      <td>1822.0</td>\n",
       "      <td>194626.5</td>\n",
       "      <td>1833.0</td>\n",
       "    </tr>\n",
       "  </tbody>\n",
       "</table>\n",
       "</div>"
      ],
      "text/plain": [
       "             요일  배추_거래량(kg)  배추_가격(원/kg)  무_거래량(kg)  무_가격(원/kg)  양파_거래량(kg)  \\\n",
       "date                                                                          \n",
       "2016-01-01  금요일         0.0          0.0        0.0         0.0         0.0   \n",
       "2016-01-02  토요일     80860.0        329.0    80272.0       360.0    122787.5   \n",
       "2016-01-03  일요일         0.0          0.0        0.0         0.0         0.0   \n",
       "2016-01-04  월요일   1422742.5        478.0  1699653.7       382.0   2315079.0   \n",
       "2016-01-05  화요일   1167241.0        442.0  1423482.3       422.0   2092960.1   \n",
       "\n",
       "            양파_가격(원/kg)  건고추_거래량(kg)  건고추_가격(원/kg)  마늘_거래량(kg)  마늘_가격(원/kg)  \\\n",
       "date                                                                          \n",
       "2016-01-01          0.0          0.0           0.0         0.0          0.0   \n",
       "2016-01-02       1281.0          3.0       11000.0     15019.0       5475.0   \n",
       "2016-01-03          0.0          0.0           0.0         0.0          0.0   \n",
       "2016-01-04       1235.0        699.0        4464.0    141638.0       5210.0   \n",
       "2016-01-05       1213.0       1112.6        4342.0    126207.8       5387.0   \n",
       "\n",
       "            대파_거래량(kg)  대파_가격(원/kg)  얼갈이배추_거래량(kg)  얼갈이배추_가격(원/kg)  \\\n",
       "date                                                                 \n",
       "2016-01-01         0.0          0.0            0.0             0.0   \n",
       "2016-01-02     92334.0       1704.0         6359.0          1331.0   \n",
       "2016-01-03         0.0          0.0            0.0             0.0   \n",
       "2016-01-04    994328.1       1716.0       262615.5          1212.0   \n",
       "2016-01-05    787716.0       1715.0       221850.5          1197.0   \n",
       "\n",
       "            양배추_거래량(kg)  양배추_가격(원/kg)  깻잎_거래량(kg)  깻잎_가격(원/kg)  시금치_거래량(kg)  \\\n",
       "date                                                                          \n",
       "2016-01-01          0.0           0.0         0.0          0.0          0.0   \n",
       "2016-01-02      40028.0         348.0      4374.9      13242.0      16550.5   \n",
       "2016-01-03          0.0           0.0         0.0          0.0          0.0   \n",
       "2016-01-04    1074699.1         345.0    122613.5       9923.0     427435.1   \n",
       "2016-01-05     825681.9         350.0     79055.9       9529.0     334636.8   \n",
       "\n",
       "            시금치_가격(원/kg)  미나리_거래량(kg)  미나리_가격(원/kg)  당근_거래량(kg)  당근_가격(원/kg)  \\\n",
       "date                                                                           \n",
       "2016-01-01           0.0          0.0           0.0         0.0          0.0   \n",
       "2016-01-02        2339.0      10528.0        1729.0     13885.0        804.0   \n",
       "2016-01-03           0.0          0.0           0.0         0.0          0.0   \n",
       "2016-01-04        2153.0      82113.5        3960.0    558950.2        794.0   \n",
       "2016-01-05        2220.0      80144.0        3333.0    444353.7        763.0   \n",
       "\n",
       "            파프리카_거래량(kg)  파프리카_가격(원/kg)  새송이_거래량(kg)  새송이_가격(원/kg)  \\\n",
       "date                                                                 \n",
       "2016-01-01           0.0            0.0          0.0           0.0   \n",
       "2016-01-02        3853.0         3703.0      15797.0        2576.0   \n",
       "2016-01-03           0.0            0.0          0.0           0.0   \n",
       "2016-01-04      104930.3         4871.0     277326.5        2440.0   \n",
       "2016-01-05      100699.5         5129.0     218465.2        2437.0   \n",
       "\n",
       "            팽이버섯_거래량(kg)  팽이버섯_가격(원/kg)  토마토_거래량(kg)  토마토_가격(원/kg)  \n",
       "date                                                                \n",
       "2016-01-01           0.0            0.0          0.0           0.0  \n",
       "2016-01-02       14634.0         1474.0      30950.0        1621.0  \n",
       "2016-01-03           0.0            0.0          0.0           0.0  \n",
       "2016-01-04      159800.0         1750.0     291057.0        1834.0  \n",
       "2016-01-05      153084.0         1822.0     194626.5        1833.0  "
      ]
     },
     "execution_count": 5,
     "metadata": {},
     "output_type": "execute_result"
    }
   ],
   "source": [
    "df = pd.read_csv(TRAIN_PATH, parse_dates=[\"date\"], index_col = \"date\").iloc[:, 0:33] # 이후 5종은 품목이 아니라 품종이라 제외\n",
    "df.head()"
   ]
  },
  {
   "cell_type": "markdown",
   "metadata": {},
   "source": [
    "## DATA - 전국 도매시장의 월별 거래정보"
   ]
  },
  {
   "cell_type": "code",
   "execution_count": 261,
   "metadata": {},
   "outputs": [
    {
     "data": {
      "text/html": [
       "<div>\n",
       "<style scoped>\n",
       "    .dataframe tbody tr th:only-of-type {\n",
       "        vertical-align: middle;\n",
       "    }\n",
       "\n",
       "    .dataframe tbody tr th {\n",
       "        vertical-align: top;\n",
       "    }\n",
       "\n",
       "    .dataframe thead th {\n",
       "        text-align: right;\n",
       "    }\n",
       "</style>\n",
       "<table border=\"1\" class=\"dataframe\">\n",
       "  <thead>\n",
       "    <tr style=\"text-align: right;\">\n",
       "      <th></th>\n",
       "      <th>SALEDATE</th>\n",
       "      <th>WHSAL_NM</th>\n",
       "      <th>CMP_NM</th>\n",
       "      <th>PUM_NM</th>\n",
       "      <th>KIND_NM</th>\n",
       "      <th>DAN_NM</th>\n",
       "      <th>POJ_NM</th>\n",
       "      <th>SIZE_NM</th>\n",
       "      <th>LV_NM</th>\n",
       "      <th>SAN_NM</th>\n",
       "      <th>DANQ</th>\n",
       "      <th>QTY</th>\n",
       "      <th>COST</th>\n",
       "      <th>TOT_QTY</th>\n",
       "      <th>TOT_AMT</th>\n",
       "    </tr>\n",
       "  </thead>\n",
       "  <tbody>\n",
       "    <tr>\n",
       "      <th>200</th>\n",
       "      <td>2016-01-09</td>\n",
       "      <td>부산엄궁도매</td>\n",
       "      <td>부산청과</td>\n",
       "      <td>우엉</td>\n",
       "      <td>우엉(일반)</td>\n",
       "      <td>kg</td>\n",
       "      <td>단</td>\n",
       "      <td>.</td>\n",
       "      <td>보통</td>\n",
       "      <td>경기도 여주군</td>\n",
       "      <td>1.0</td>\n",
       "      <td>48</td>\n",
       "      <td>1622.0</td>\n",
       "      <td>48.0</td>\n",
       "      <td>77856</td>\n",
       "    </tr>\n",
       "    <tr>\n",
       "      <th>201</th>\n",
       "      <td>2016-01-09</td>\n",
       "      <td>부산엄궁도매</td>\n",
       "      <td>부산청과</td>\n",
       "      <td>우엉</td>\n",
       "      <td>우엉(일반)</td>\n",
       "      <td>kg</td>\n",
       "      <td>단</td>\n",
       "      <td>.</td>\n",
       "      <td>보통</td>\n",
       "      <td>경기도 여주군</td>\n",
       "      <td>1.0</td>\n",
       "      <td>494</td>\n",
       "      <td>1889.0</td>\n",
       "      <td>494.0</td>\n",
       "      <td>933166</td>\n",
       "    </tr>\n",
       "    <tr>\n",
       "      <th>202</th>\n",
       "      <td>2016-01-09</td>\n",
       "      <td>부산엄궁도매</td>\n",
       "      <td>부산청과</td>\n",
       "      <td>우엉</td>\n",
       "      <td>우엉(일반)</td>\n",
       "      <td>kg</td>\n",
       "      <td>단</td>\n",
       "      <td>.</td>\n",
       "      <td>보통</td>\n",
       "      <td>경기도 여주군</td>\n",
       "      <td>1.0</td>\n",
       "      <td>152</td>\n",
       "      <td>1411.0</td>\n",
       "      <td>152.0</td>\n",
       "      <td>214472</td>\n",
       "    </tr>\n",
       "    <tr>\n",
       "      <th>203</th>\n",
       "      <td>2016-01-09</td>\n",
       "      <td>부산엄궁도매</td>\n",
       "      <td>부산청과</td>\n",
       "      <td>우엉</td>\n",
       "      <td>우엉(일반)</td>\n",
       "      <td>kg</td>\n",
       "      <td>단</td>\n",
       "      <td>.</td>\n",
       "      <td>보통</td>\n",
       "      <td>경기도 여주군</td>\n",
       "      <td>1.0</td>\n",
       "      <td>472</td>\n",
       "      <td>1400.0</td>\n",
       "      <td>472.0</td>\n",
       "      <td>660800</td>\n",
       "    </tr>\n",
       "    <tr>\n",
       "      <th>204</th>\n",
       "      <td>2016-01-09</td>\n",
       "      <td>부산엄궁도매</td>\n",
       "      <td>부산청과</td>\n",
       "      <td>사과</td>\n",
       "      <td>미시마</td>\n",
       "      <td>kg</td>\n",
       "      <td>상자</td>\n",
       "      <td>.</td>\n",
       "      <td>보통</td>\n",
       "      <td>경상북도 청송군</td>\n",
       "      <td>10.0</td>\n",
       "      <td>1</td>\n",
       "      <td>41600.0</td>\n",
       "      <td>10.0</td>\n",
       "      <td>41600</td>\n",
       "    </tr>\n",
       "  </tbody>\n",
       "</table>\n",
       "</div>"
      ],
      "text/plain": [
       "      SALEDATE WHSAL_NM CMP_NM PUM_NM KIND_NM DAN_NM POJ_NM SIZE_NM LV_NM  \\\n",
       "200 2016-01-09   부산엄궁도매   부산청과     우엉  우엉(일반)     kg      단       .    보통   \n",
       "201 2016-01-09   부산엄궁도매   부산청과     우엉  우엉(일반)     kg      단       .    보통   \n",
       "202 2016-01-09   부산엄궁도매   부산청과     우엉  우엉(일반)     kg      단       .    보통   \n",
       "203 2016-01-09   부산엄궁도매   부산청과     우엉  우엉(일반)     kg      단       .    보통   \n",
       "204 2016-01-09   부산엄궁도매   부산청과     사과     미시마     kg     상자       .    보통   \n",
       "\n",
       "       SAN_NM  DANQ  QTY     COST  TOT_QTY  TOT_AMT  \n",
       "200   경기도 여주군   1.0   48   1622.0     48.0    77856  \n",
       "201   경기도 여주군   1.0  494   1889.0    494.0   933166  \n",
       "202   경기도 여주군   1.0  152   1411.0    152.0   214472  \n",
       "203   경기도 여주군   1.0  472   1400.0    472.0   660800  \n",
       "204  경상북도 청송군  10.0    1  41600.0     10.0    41600  "
      ]
     },
     "execution_count": 261,
     "metadata": {},
     "output_type": "execute_result"
    }
   ],
   "source": [
    "TSALET_CSV(201601)[200:205]"
   ]
  },
  {
   "cell_type": "markdown",
   "metadata": {},
   "source": [
    "## 가설 1. 김장철이 되면 배추 가격은 상승할 것이다."
   ]
  },
  {
   "cell_type": "markdown",
   "metadata": {},
   "source": [
    "- **코드 수정**\n",
    "    - `drop()`을 최대한 사용하지 않고 코드를 짜는 것이 좋음"
   ]
  },
  {
   "cell_type": "code",
   "execution_count": 16,
   "metadata": {},
   "outputs": [
    {
     "data": {
      "text/html": [
       "<div>\n",
       "<style scoped>\n",
       "    .dataframe tbody tr th:only-of-type {\n",
       "        vertical-align: middle;\n",
       "    }\n",
       "\n",
       "    .dataframe tbody tr th {\n",
       "        vertical-align: top;\n",
       "    }\n",
       "\n",
       "    .dataframe thead th {\n",
       "        text-align: right;\n",
       "    }\n",
       "</style>\n",
       "<table border=\"1\" class=\"dataframe\">\n",
       "  <thead>\n",
       "    <tr style=\"text-align: right;\">\n",
       "      <th></th>\n",
       "      <th>요일</th>\n",
       "      <th>배추_거래량(kg)</th>\n",
       "      <th>배추_가격(원/kg)</th>\n",
       "      <th>무_거래량(kg)</th>\n",
       "      <th>무_가격(원/kg)</th>\n",
       "      <th>양파_거래량(kg)</th>\n",
       "      <th>양파_가격(원/kg)</th>\n",
       "      <th>건고추_거래량(kg)</th>\n",
       "      <th>건고추_가격(원/kg)</th>\n",
       "      <th>마늘_거래량(kg)</th>\n",
       "      <th>마늘_가격(원/kg)</th>\n",
       "      <th>대파_거래량(kg)</th>\n",
       "      <th>대파_가격(원/kg)</th>\n",
       "      <th>얼갈이배추_거래량(kg)</th>\n",
       "      <th>얼갈이배추_가격(원/kg)</th>\n",
       "      <th>양배추_거래량(kg)</th>\n",
       "      <th>양배추_가격(원/kg)</th>\n",
       "      <th>깻잎_거래량(kg)</th>\n",
       "      <th>깻잎_가격(원/kg)</th>\n",
       "      <th>시금치_거래량(kg)</th>\n",
       "      <th>시금치_가격(원/kg)</th>\n",
       "      <th>미나리_거래량(kg)</th>\n",
       "      <th>미나리_가격(원/kg)</th>\n",
       "      <th>당근_거래량(kg)</th>\n",
       "      <th>당근_가격(원/kg)</th>\n",
       "      <th>파프리카_거래량(kg)</th>\n",
       "      <th>파프리카_가격(원/kg)</th>\n",
       "      <th>새송이_거래량(kg)</th>\n",
       "      <th>새송이_가격(원/kg)</th>\n",
       "      <th>팽이버섯_거래량(kg)</th>\n",
       "      <th>팽이버섯_가격(원/kg)</th>\n",
       "      <th>토마토_거래량(kg)</th>\n",
       "      <th>토마토_가격(원/kg)</th>\n",
       "      <th>total_transaction</th>\n",
       "    </tr>\n",
       "    <tr>\n",
       "      <th>date</th>\n",
       "      <th></th>\n",
       "      <th></th>\n",
       "      <th></th>\n",
       "      <th></th>\n",
       "      <th></th>\n",
       "      <th></th>\n",
       "      <th></th>\n",
       "      <th></th>\n",
       "      <th></th>\n",
       "      <th></th>\n",
       "      <th></th>\n",
       "      <th></th>\n",
       "      <th></th>\n",
       "      <th></th>\n",
       "      <th></th>\n",
       "      <th></th>\n",
       "      <th></th>\n",
       "      <th></th>\n",
       "      <th></th>\n",
       "      <th></th>\n",
       "      <th></th>\n",
       "      <th></th>\n",
       "      <th></th>\n",
       "      <th></th>\n",
       "      <th></th>\n",
       "      <th></th>\n",
       "      <th></th>\n",
       "      <th></th>\n",
       "      <th></th>\n",
       "      <th></th>\n",
       "      <th></th>\n",
       "      <th></th>\n",
       "      <th></th>\n",
       "      <th></th>\n",
       "    </tr>\n",
       "  </thead>\n",
       "  <tbody>\n",
       "    <tr>\n",
       "      <th>2016-01-02</th>\n",
       "      <td>토요일</td>\n",
       "      <td>80860.0</td>\n",
       "      <td>329.0</td>\n",
       "      <td>80272.0</td>\n",
       "      <td>360.0</td>\n",
       "      <td>122787.5</td>\n",
       "      <td>1281.0</td>\n",
       "      <td>3.0</td>\n",
       "      <td>11000.0</td>\n",
       "      <td>15019.0</td>\n",
       "      <td>5475.0</td>\n",
       "      <td>92334.0</td>\n",
       "      <td>1704.0</td>\n",
       "      <td>6359.0</td>\n",
       "      <td>1331.0</td>\n",
       "      <td>40028.0</td>\n",
       "      <td>348.0</td>\n",
       "      <td>4374.9</td>\n",
       "      <td>13242.0</td>\n",
       "      <td>16550.5</td>\n",
       "      <td>2339.0</td>\n",
       "      <td>10528.0</td>\n",
       "      <td>1729.0</td>\n",
       "      <td>13885.0</td>\n",
       "      <td>804.0</td>\n",
       "      <td>3853.0</td>\n",
       "      <td>3703.0</td>\n",
       "      <td>15797.0</td>\n",
       "      <td>2576.0</td>\n",
       "      <td>14634.0</td>\n",
       "      <td>1474.0</td>\n",
       "      <td>30950.0</td>\n",
       "      <td>1621.0</td>\n",
       "      <td>2390203.6</td>\n",
       "    </tr>\n",
       "    <tr>\n",
       "      <th>2016-01-04</th>\n",
       "      <td>월요일</td>\n",
       "      <td>1422742.5</td>\n",
       "      <td>478.0</td>\n",
       "      <td>1699653.7</td>\n",
       "      <td>382.0</td>\n",
       "      <td>2315079.0</td>\n",
       "      <td>1235.0</td>\n",
       "      <td>699.0</td>\n",
       "      <td>4464.0</td>\n",
       "      <td>141638.0</td>\n",
       "      <td>5210.0</td>\n",
       "      <td>994328.1</td>\n",
       "      <td>1716.0</td>\n",
       "      <td>262615.5</td>\n",
       "      <td>1212.0</td>\n",
       "      <td>1074699.1</td>\n",
       "      <td>345.0</td>\n",
       "      <td>122613.5</td>\n",
       "      <td>9923.0</td>\n",
       "      <td>427435.1</td>\n",
       "      <td>2153.0</td>\n",
       "      <td>82113.5</td>\n",
       "      <td>3960.0</td>\n",
       "      <td>558950.2</td>\n",
       "      <td>794.0</td>\n",
       "      <td>104930.3</td>\n",
       "      <td>4871.0</td>\n",
       "      <td>277326.5</td>\n",
       "      <td>2440.0</td>\n",
       "      <td>159800.0</td>\n",
       "      <td>1750.0</td>\n",
       "      <td>291057.0</td>\n",
       "      <td>1834.0</td>\n",
       "      <td>39913792.0</td>\n",
       "    </tr>\n",
       "    <tr>\n",
       "      <th>2016-01-05</th>\n",
       "      <td>화요일</td>\n",
       "      <td>1167241.0</td>\n",
       "      <td>442.0</td>\n",
       "      <td>1423482.3</td>\n",
       "      <td>422.0</td>\n",
       "      <td>2092960.1</td>\n",
       "      <td>1213.0</td>\n",
       "      <td>1112.6</td>\n",
       "      <td>4342.0</td>\n",
       "      <td>126207.8</td>\n",
       "      <td>5387.0</td>\n",
       "      <td>787716.0</td>\n",
       "      <td>1715.0</td>\n",
       "      <td>221850.5</td>\n",
       "      <td>1197.0</td>\n",
       "      <td>825681.9</td>\n",
       "      <td>350.0</td>\n",
       "      <td>79055.9</td>\n",
       "      <td>9529.0</td>\n",
       "      <td>334636.8</td>\n",
       "      <td>2220.0</td>\n",
       "      <td>80144.0</td>\n",
       "      <td>3333.0</td>\n",
       "      <td>444353.7</td>\n",
       "      <td>763.0</td>\n",
       "      <td>100699.5</td>\n",
       "      <td>5129.0</td>\n",
       "      <td>218465.2</td>\n",
       "      <td>2437.0</td>\n",
       "      <td>153084.0</td>\n",
       "      <td>1822.0</td>\n",
       "      <td>194626.5</td>\n",
       "      <td>1833.0</td>\n",
       "      <td>33173807.2</td>\n",
       "    </tr>\n",
       "    <tr>\n",
       "      <th>2016-01-06</th>\n",
       "      <td>수요일</td>\n",
       "      <td>1045507.5</td>\n",
       "      <td>442.0</td>\n",
       "      <td>1904372.1</td>\n",
       "      <td>409.0</td>\n",
       "      <td>1860569.0</td>\n",
       "      <td>1263.0</td>\n",
       "      <td>1672.0</td>\n",
       "      <td>7041.0</td>\n",
       "      <td>91531.0</td>\n",
       "      <td>5013.0</td>\n",
       "      <td>793584.9</td>\n",
       "      <td>1620.0</td>\n",
       "      <td>199151.0</td>\n",
       "      <td>1142.0</td>\n",
       "      <td>910812.3</td>\n",
       "      <td>327.0</td>\n",
       "      <td>78532.8</td>\n",
       "      <td>8123.0</td>\n",
       "      <td>357749.8</td>\n",
       "      <td>2219.0</td>\n",
       "      <td>76832.6</td>\n",
       "      <td>3133.0</td>\n",
       "      <td>396170.4</td>\n",
       "      <td>787.0</td>\n",
       "      <td>93051.3</td>\n",
       "      <td>5120.0</td>\n",
       "      <td>187900.4</td>\n",
       "      <td>2343.0</td>\n",
       "      <td>152693.1</td>\n",
       "      <td>1519.0</td>\n",
       "      <td>178811.0</td>\n",
       "      <td>1999.0</td>\n",
       "      <td>33485764.8</td>\n",
       "    </tr>\n",
       "    <tr>\n",
       "      <th>2016-01-07</th>\n",
       "      <td>목요일</td>\n",
       "      <td>1039925.0</td>\n",
       "      <td>448.0</td>\n",
       "      <td>1438990.2</td>\n",
       "      <td>428.0</td>\n",
       "      <td>1868011.7</td>\n",
       "      <td>1241.0</td>\n",
       "      <td>1191.0</td>\n",
       "      <td>3908.0</td>\n",
       "      <td>349913.8</td>\n",
       "      <td>4360.0</td>\n",
       "      <td>733312.0</td>\n",
       "      <td>1545.0</td>\n",
       "      <td>200119.0</td>\n",
       "      <td>992.0</td>\n",
       "      <td>836339.0</td>\n",
       "      <td>315.0</td>\n",
       "      <td>75987.7</td>\n",
       "      <td>6793.0</td>\n",
       "      <td>323944.6</td>\n",
       "      <td>2208.0</td>\n",
       "      <td>49040.9</td>\n",
       "      <td>2259.0</td>\n",
       "      <td>241115.0</td>\n",
       "      <td>770.0</td>\n",
       "      <td>60895.4</td>\n",
       "      <td>5095.0</td>\n",
       "      <td>181058.6</td>\n",
       "      <td>2291.0</td>\n",
       "      <td>148757.3</td>\n",
       "      <td>1365.0</td>\n",
       "      <td>107346.3</td>\n",
       "      <td>1921.0</td>\n",
       "      <td>30767546.0</td>\n",
       "    </tr>\n",
       "  </tbody>\n",
       "</table>\n",
       "</div>"
      ],
      "text/plain": [
       "             요일  배추_거래량(kg)  배추_가격(원/kg)  무_거래량(kg)  무_가격(원/kg)  양파_거래량(kg)  \\\n",
       "date                                                                          \n",
       "2016-01-02  토요일     80860.0        329.0    80272.0       360.0    122787.5   \n",
       "2016-01-04  월요일   1422742.5        478.0  1699653.7       382.0   2315079.0   \n",
       "2016-01-05  화요일   1167241.0        442.0  1423482.3       422.0   2092960.1   \n",
       "2016-01-06  수요일   1045507.5        442.0  1904372.1       409.0   1860569.0   \n",
       "2016-01-07  목요일   1039925.0        448.0  1438990.2       428.0   1868011.7   \n",
       "\n",
       "            양파_가격(원/kg)  건고추_거래량(kg)  건고추_가격(원/kg)  마늘_거래량(kg)  마늘_가격(원/kg)  \\\n",
       "date                                                                          \n",
       "2016-01-02       1281.0          3.0       11000.0     15019.0       5475.0   \n",
       "2016-01-04       1235.0        699.0        4464.0    141638.0       5210.0   \n",
       "2016-01-05       1213.0       1112.6        4342.0    126207.8       5387.0   \n",
       "2016-01-06       1263.0       1672.0        7041.0     91531.0       5013.0   \n",
       "2016-01-07       1241.0       1191.0        3908.0    349913.8       4360.0   \n",
       "\n",
       "            대파_거래량(kg)  대파_가격(원/kg)  얼갈이배추_거래량(kg)  얼갈이배추_가격(원/kg)  \\\n",
       "date                                                                 \n",
       "2016-01-02     92334.0       1704.0         6359.0          1331.0   \n",
       "2016-01-04    994328.1       1716.0       262615.5          1212.0   \n",
       "2016-01-05    787716.0       1715.0       221850.5          1197.0   \n",
       "2016-01-06    793584.9       1620.0       199151.0          1142.0   \n",
       "2016-01-07    733312.0       1545.0       200119.0           992.0   \n",
       "\n",
       "            양배추_거래량(kg)  양배추_가격(원/kg)  깻잎_거래량(kg)  깻잎_가격(원/kg)  시금치_거래량(kg)  \\\n",
       "date                                                                          \n",
       "2016-01-02      40028.0         348.0      4374.9      13242.0      16550.5   \n",
       "2016-01-04    1074699.1         345.0    122613.5       9923.0     427435.1   \n",
       "2016-01-05     825681.9         350.0     79055.9       9529.0     334636.8   \n",
       "2016-01-06     910812.3         327.0     78532.8       8123.0     357749.8   \n",
       "2016-01-07     836339.0         315.0     75987.7       6793.0     323944.6   \n",
       "\n",
       "            시금치_가격(원/kg)  미나리_거래량(kg)  미나리_가격(원/kg)  당근_거래량(kg)  당근_가격(원/kg)  \\\n",
       "date                                                                           \n",
       "2016-01-02        2339.0      10528.0        1729.0     13885.0        804.0   \n",
       "2016-01-04        2153.0      82113.5        3960.0    558950.2        794.0   \n",
       "2016-01-05        2220.0      80144.0        3333.0    444353.7        763.0   \n",
       "2016-01-06        2219.0      76832.6        3133.0    396170.4        787.0   \n",
       "2016-01-07        2208.0      49040.9        2259.0    241115.0        770.0   \n",
       "\n",
       "            파프리카_거래량(kg)  파프리카_가격(원/kg)  새송이_거래량(kg)  새송이_가격(원/kg)  \\\n",
       "date                                                                 \n",
       "2016-01-02        3853.0         3703.0      15797.0        2576.0   \n",
       "2016-01-04      104930.3         4871.0     277326.5        2440.0   \n",
       "2016-01-05      100699.5         5129.0     218465.2        2437.0   \n",
       "2016-01-06       93051.3         5120.0     187900.4        2343.0   \n",
       "2016-01-07       60895.4         5095.0     181058.6        2291.0   \n",
       "\n",
       "            팽이버섯_거래량(kg)  팽이버섯_가격(원/kg)  토마토_거래량(kg)  토마토_가격(원/kg)  \\\n",
       "date                                                                 \n",
       "2016-01-02       14634.0         1474.0      30950.0        1621.0   \n",
       "2016-01-04      159800.0         1750.0     291057.0        1834.0   \n",
       "2016-01-05      153084.0         1822.0     194626.5        1833.0   \n",
       "2016-01-06      152693.1         1519.0     178811.0        1999.0   \n",
       "2016-01-07      148757.3         1365.0     107346.3        1921.0   \n",
       "\n",
       "            total_transaction  \n",
       "date                           \n",
       "2016-01-02          2390203.6  \n",
       "2016-01-04         39913792.0  \n",
       "2016-01-05         33173807.2  \n",
       "2016-01-06         33485764.8  \n",
       "2016-01-07         30767546.0  "
      ]
     },
     "execution_count": 16,
     "metadata": {},
     "output_type": "execute_result"
    }
   ],
   "source": [
    "# 일요일인 것 제외하기\n",
    "df = df[df[\"요일\"] != \"일요일\"]\n",
    "# 행 전체가 0인 행 제외하기\n",
    "df[\"total_transaction\"] = df.sum(axis = 1)\n",
    "df = df[df.total_transaction != 0]\n",
    "df.head()"
   ]
  },
  {
   "cell_type": "code",
   "execution_count": 29,
   "metadata": {
    "scrolled": false
   },
   "outputs": [],
   "source": [
    "# 2016년 ~ 2020년 9월의 배추 거래정보에서 거래가 일어나지 않았거나 일요일의 데이터는 제외\n",
    "df_baechu = df[[\"배추_거래량(kg)\", \"배추_가격(원/kg)\"]].replace(0, np.NaN).dropna(axis = 0)\n",
    "sunday = []\n",
    "for i in range(df_baechu.shape[0]):\n",
    "    if df_baechu.index[i].weekday() == 6:\n",
    "        sunday.append(df_baechu.index[i])\n",
    "        \n",
    "df_baechu = df_baechu.drop(index = sunday, axis = 0)\n",
    "\n",
    "# 2016년 ~ 2020년 9월의 주별 배추 거래량, 가격\n",
    "df_baechu_vol = df_baechu['배추_거래량(kg)'].resample('W').sum()[\"2016\":\"2020\"]\n",
    "df_baechu_price = df_baechu['배추_가격(원/kg)'].resample('W').sum()[\"2016\":\"2020\"]\n",
    "\n",
    "# save pickle\n",
    "with open(\"./pickles/hypo1_baechu_vol_data.pickle\", \"wb\") as fw:\n",
    "    pickle.dump(df_baechu_vol, fw)\n",
    "with open(\"./pickles/hypo1_baechu_price_data.pickle\", \"wb\") as fw:\n",
    "    pickle.dump(df_baechu_price, fw)"
   ]
  },
  {
   "cell_type": "markdown",
   "metadata": {},
   "source": [
    "- **코드 수정**\n",
    "    - 읽는 사람이 편하게 이해할 수 있도록 코드를 짜는 것이 중요함\n",
    "    - shape 설정시 줄바꿈을 하든지 설명을 하든지 해야함"
   ]
  },
  {
   "cell_type": "code",
   "execution_count": 18,
   "metadata": {},
   "outputs": [
    {
     "data": {
      "application/vnd.plotly.v1+json": {
       "config": {
        "plotlyServerURL": "https://plotly.com"
       },
       "data": [
        {
         "hovertemplate": "date=%{x}<br>y=%{y}<extra></extra>",
         "legendgroup": "",
         "line": {
          "color": "#636efa",
          "dash": "solid"
         },
         "marker": {
          "symbol": "circle"
         },
         "mode": "lines",
         "name": "",
         "orientation": "v",
         "showlegend": false,
         "type": "scatter",
         "x": [
          "2016-01-03T00:00:00",
          "2016-01-10T00:00:00",
          "2016-01-17T00:00:00",
          "2016-01-24T00:00:00",
          "2016-01-31T00:00:00",
          "2016-02-07T00:00:00",
          "2016-02-14T00:00:00",
          "2016-02-21T00:00:00",
          "2016-02-28T00:00:00",
          "2016-03-06T00:00:00",
          "2016-03-13T00:00:00",
          "2016-03-20T00:00:00",
          "2016-03-27T00:00:00",
          "2016-04-03T00:00:00",
          "2016-04-10T00:00:00",
          "2016-04-17T00:00:00",
          "2016-04-24T00:00:00",
          "2016-05-01T00:00:00",
          "2016-05-08T00:00:00",
          "2016-05-15T00:00:00",
          "2016-05-22T00:00:00",
          "2016-05-29T00:00:00",
          "2016-06-05T00:00:00",
          "2016-06-12T00:00:00",
          "2016-06-19T00:00:00",
          "2016-06-26T00:00:00",
          "2016-07-03T00:00:00",
          "2016-07-10T00:00:00",
          "2016-07-17T00:00:00",
          "2016-07-24T00:00:00",
          "2016-07-31T00:00:00",
          "2016-08-07T00:00:00",
          "2016-08-14T00:00:00",
          "2016-08-21T00:00:00",
          "2016-08-28T00:00:00",
          "2016-09-04T00:00:00",
          "2016-09-11T00:00:00",
          "2016-09-18T00:00:00",
          "2016-09-25T00:00:00",
          "2016-10-02T00:00:00",
          "2016-10-09T00:00:00",
          "2016-10-16T00:00:00",
          "2016-10-23T00:00:00",
          "2016-10-30T00:00:00",
          "2016-11-06T00:00:00",
          "2016-11-13T00:00:00",
          "2016-11-20T00:00:00",
          "2016-11-27T00:00:00",
          "2016-12-04T00:00:00",
          "2016-12-11T00:00:00",
          "2016-12-18T00:00:00",
          "2016-12-25T00:00:00",
          "2017-01-01T00:00:00",
          "2017-01-08T00:00:00",
          "2017-01-15T00:00:00",
          "2017-01-22T00:00:00",
          "2017-01-29T00:00:00",
          "2017-02-05T00:00:00",
          "2017-02-12T00:00:00",
          "2017-02-19T00:00:00",
          "2017-02-26T00:00:00",
          "2017-03-05T00:00:00",
          "2017-03-12T00:00:00",
          "2017-03-19T00:00:00",
          "2017-03-26T00:00:00",
          "2017-04-02T00:00:00",
          "2017-04-09T00:00:00",
          "2017-04-16T00:00:00",
          "2017-04-23T00:00:00",
          "2017-04-30T00:00:00",
          "2017-05-07T00:00:00",
          "2017-05-14T00:00:00",
          "2017-05-21T00:00:00",
          "2017-05-28T00:00:00",
          "2017-06-04T00:00:00",
          "2017-06-11T00:00:00",
          "2017-06-18T00:00:00",
          "2017-06-25T00:00:00",
          "2017-07-02T00:00:00",
          "2017-07-09T00:00:00",
          "2017-07-16T00:00:00",
          "2017-07-23T00:00:00",
          "2017-07-30T00:00:00",
          "2017-08-06T00:00:00",
          "2017-08-13T00:00:00",
          "2017-08-20T00:00:00",
          "2017-08-27T00:00:00",
          "2017-09-03T00:00:00",
          "2017-09-10T00:00:00",
          "2017-09-17T00:00:00",
          "2017-09-24T00:00:00",
          "2017-10-01T00:00:00",
          "2017-10-08T00:00:00",
          "2017-10-15T00:00:00",
          "2017-10-22T00:00:00",
          "2017-10-29T00:00:00",
          "2017-11-05T00:00:00",
          "2017-11-12T00:00:00",
          "2017-11-19T00:00:00",
          "2017-11-26T00:00:00",
          "2017-12-03T00:00:00",
          "2017-12-10T00:00:00",
          "2017-12-17T00:00:00",
          "2017-12-24T00:00:00",
          "2017-12-31T00:00:00",
          "2018-01-07T00:00:00",
          "2018-01-14T00:00:00",
          "2018-01-21T00:00:00",
          "2018-01-28T00:00:00",
          "2018-02-04T00:00:00",
          "2018-02-11T00:00:00",
          "2018-02-18T00:00:00",
          "2018-02-25T00:00:00",
          "2018-03-04T00:00:00",
          "2018-03-11T00:00:00",
          "2018-03-18T00:00:00",
          "2018-03-25T00:00:00",
          "2018-04-01T00:00:00",
          "2018-04-08T00:00:00",
          "2018-04-15T00:00:00",
          "2018-04-22T00:00:00",
          "2018-04-29T00:00:00",
          "2018-05-06T00:00:00",
          "2018-05-13T00:00:00",
          "2018-05-20T00:00:00",
          "2018-05-27T00:00:00",
          "2018-06-03T00:00:00",
          "2018-06-10T00:00:00",
          "2018-06-17T00:00:00",
          "2018-06-24T00:00:00",
          "2018-07-01T00:00:00",
          "2018-07-08T00:00:00",
          "2018-07-15T00:00:00",
          "2018-07-22T00:00:00",
          "2018-07-29T00:00:00",
          "2018-08-05T00:00:00",
          "2018-08-12T00:00:00",
          "2018-08-19T00:00:00",
          "2018-08-26T00:00:00",
          "2018-09-02T00:00:00",
          "2018-09-09T00:00:00",
          "2018-09-16T00:00:00",
          "2018-09-23T00:00:00",
          "2018-09-30T00:00:00",
          "2018-10-07T00:00:00",
          "2018-10-14T00:00:00",
          "2018-10-21T00:00:00",
          "2018-10-28T00:00:00",
          "2018-11-04T00:00:00",
          "2018-11-11T00:00:00",
          "2018-11-18T00:00:00",
          "2018-11-25T00:00:00",
          "2018-12-02T00:00:00",
          "2018-12-09T00:00:00",
          "2018-12-16T00:00:00",
          "2018-12-23T00:00:00",
          "2018-12-30T00:00:00",
          "2019-01-06T00:00:00",
          "2019-01-13T00:00:00",
          "2019-01-20T00:00:00",
          "2019-01-27T00:00:00",
          "2019-02-03T00:00:00",
          "2019-02-10T00:00:00",
          "2019-02-17T00:00:00",
          "2019-02-24T00:00:00",
          "2019-03-03T00:00:00",
          "2019-03-10T00:00:00",
          "2019-03-17T00:00:00",
          "2019-03-24T00:00:00",
          "2019-03-31T00:00:00",
          "2019-04-07T00:00:00",
          "2019-04-14T00:00:00",
          "2019-04-21T00:00:00",
          "2019-04-28T00:00:00",
          "2019-05-05T00:00:00",
          "2019-05-12T00:00:00",
          "2019-05-19T00:00:00",
          "2019-05-26T00:00:00",
          "2019-06-02T00:00:00",
          "2019-06-09T00:00:00",
          "2019-06-16T00:00:00",
          "2019-06-23T00:00:00",
          "2019-06-30T00:00:00",
          "2019-07-07T00:00:00",
          "2019-07-14T00:00:00",
          "2019-07-21T00:00:00",
          "2019-07-28T00:00:00",
          "2019-08-04T00:00:00",
          "2019-08-11T00:00:00",
          "2019-08-18T00:00:00",
          "2019-08-25T00:00:00",
          "2019-09-01T00:00:00",
          "2019-09-08T00:00:00",
          "2019-09-15T00:00:00",
          "2019-09-22T00:00:00",
          "2019-09-29T00:00:00",
          "2019-10-06T00:00:00",
          "2019-10-13T00:00:00",
          "2019-10-20T00:00:00",
          "2019-10-27T00:00:00",
          "2019-11-03T00:00:00",
          "2019-11-10T00:00:00",
          "2019-11-17T00:00:00",
          "2019-11-24T00:00:00",
          "2019-12-01T00:00:00",
          "2019-12-08T00:00:00",
          "2019-12-15T00:00:00",
          "2019-12-22T00:00:00",
          "2019-12-29T00:00:00",
          "2020-01-05T00:00:00",
          "2020-01-12T00:00:00",
          "2020-01-19T00:00:00",
          "2020-01-26T00:00:00",
          "2020-02-02T00:00:00",
          "2020-02-09T00:00:00",
          "2020-02-16T00:00:00",
          "2020-02-23T00:00:00",
          "2020-03-01T00:00:00",
          "2020-03-08T00:00:00",
          "2020-03-15T00:00:00",
          "2020-03-22T00:00:00",
          "2020-03-29T00:00:00",
          "2020-04-05T00:00:00",
          "2020-04-12T00:00:00",
          "2020-04-19T00:00:00",
          "2020-04-26T00:00:00",
          "2020-05-03T00:00:00",
          "2020-05-10T00:00:00",
          "2020-05-17T00:00:00",
          "2020-05-24T00:00:00",
          "2020-05-31T00:00:00",
          "2020-06-07T00:00:00",
          "2020-06-14T00:00:00",
          "2020-06-21T00:00:00",
          "2020-06-28T00:00:00",
          "2020-07-05T00:00:00",
          "2020-07-12T00:00:00",
          "2020-07-19T00:00:00",
          "2020-07-26T00:00:00",
          "2020-08-02T00:00:00",
          "2020-08-09T00:00:00",
          "2020-08-16T00:00:00",
          "2020-08-23T00:00:00",
          "2020-08-30T00:00:00",
          "2020-09-06T00:00:00",
          "2020-09-13T00:00:00",
          "2020-09-20T00:00:00",
          "2020-09-27T00:00:00",
          "2020-10-04T00:00:00"
         ],
         "xaxis": "x",
         "y": [
          80860,
          6307192,
          4643075.1,
          3912094.7,
          5353729.4,
          6874359.5,
          1961887,
          5909899.2,
          5818690.7,
          5301809.5,
          5387873,
          5721258.5,
          5106134.100000001,
          5129507.3,
          5277816.1,
          5063324.6,
          5147880.7,
          6074857.2,
          6209244.600000001,
          7214320,
          6882348.2,
          7861996.1,
          7653882.1,
          7954594.2,
          8065289.9,
          8512915.4,
          7865418.7,
          6703985.5,
          7657721,
          7961768,
          7559894.5,
          6682690.7,
          7777982.4,
          6732342,
          7598727.3,
          9004186.299999999,
          13322136.7,
          4796252.199999999,
          7843424.7,
          8025956.1,
          9422335.7,
          9679978.7,
          11502672.500000002,
          10082171.3,
          11673384.600000001,
          16291019.600000001,
          22478266.5,
          24774024.7,
          22611043.699999996,
          18468625.2,
          11570387.7,
          8028936.8,
          5565946.9,
          6552197.7,
          6187281.3,
          6086236.8,
          4386769.1,
          3602325.3,
          5319973.9,
          5274099.5,
          5734859.4,
          6406412.100000001,
          6225343.3,
          5847519,
          6457290,
          6071369.3,
          7152238,
          7236942.300000001,
          6661647.8,
          7529428.9,
          6886812.300000001,
          7570542,
          7688107.5,
          7326151.3,
          7878029.5,
          7469707.9,
          8177361.1,
          8214203.8,
          8487638.9,
          7377898.6,
          6673341.7,
          6819422.9,
          6651356.7,
          6307871.5,
          6389835,
          6201438.4,
          7717855.5,
          7658995.1,
          9756049.9,
          10317639.9,
          13160316.700000001,
          15114103.899999999,
          3116313,
          11438681.899999999,
          10272587.8,
          9693371.4,
          9957917.8,
          14690132.100000001,
          23384930,
          25613713.499999996,
          21867088.9,
          12879010.100000001,
          7985670.399999999,
          7663006.300000001,
          5385550,
          4664308.7,
          4393229,
          5695607.4,
          4279979.399999999,
          5289901.100000001,
          7015975.300000001,
          4414485.2,
          5209579.9,
          6145077.8,
          6266064.4,
          6442719.8,
          5906282.7,
          6182765.5,
          6428438.9,
          6439660.2,
          6493805.2,
          6193730.2,
          6721970.100000001,
          6750738.6,
          6733876.9,
          6857826,
          7459191.8,
          8036589.699999999,
          7510198,
          8168124.1,
          8475803.9,
          6740682.1,
          6728781.899999999,
          7176337.800000001,
          6186946,
          5721928.9,
          6326627.3,
          5845559.3,
          5596131.4,
          6554021.699999999,
          10284644.399999999,
          13677715.2,
          15285786.9,
          5818910.8,
          8767243.899999999,
          9861676.8,
          9121123.299999999,
          9311725.7,
          10439055.5,
          12329321.9,
          23459491.6,
          25596037.200000003,
          21517244.8,
          14844610.899999999,
          9023319.8,
          7146515.199999999,
          4718416.7,
          3710336.4000000004,
          5098417.899999999,
          5256287.7,
          5649304.5,
          6410081.9,
          1768360.5,
          5708405.9,
          5085350.000000001,
          5401072.899999999,
          5898380.6,
          5119953.2,
          5472505.2,
          5440428.8,
          5778127.999999999,
          5892085.7,
          6209563.000000001,
          5813313.9,
          5635017.3,
          5776116.1,
          5436779.2,
          5632591.5,
          5474373.4,
          5498312.399999999,
          6559711.3,
          6324050.199999999,
          6274454.899999999,
          6726811.5,
          6151745.399999999,
          7226361.299999999,
          6015513.5,
          6104841.399999999,
          7471974.800000001,
          7272617,
          9001711.7,
          9842449.299999999,
          13046011.1,
          7226067.599999999,
          6667086.2,
          6066493.1,
          6539928.199999999,
          8650730.4,
          8832814.299999999,
          9147194.799999999,
          9324265.7,
          11626029.500000002,
          16607332.8,
          20638785.900000002,
          21029223.099999998,
          14225709.9,
          10915900.3,
          7975223.8,
          4951551.500000001,
          4295336.4,
          5536736.699999999,
          6210033.2,
          3825685.1000000006,
          3320425,
          3940584.5000000005,
          4812939.6,
          4176428.1,
          3630755.0999999996,
          4206351.3,
          3840258.4000000004,
          4467794.2,
          4314502.600000001,
          4710115,
          4869995.6,
          4529290.1,
          4528929.2,
          4747991.899999999,
          4920547.899999999,
          5419755.4,
          5146354.3,
          6049807.699999999,
          7378113.399999999,
          6208507.3,
          6279394,
          6074359.399999999,
          6431751.6,
          6336851.7,
          6155054.8,
          5125544.2,
          5698513.9,
          6563231.000000001,
          6507700.699999999,
          5790755.9,
          5869802.2,
          6563731.5,
          6124858.5,
          8525439.6,
          11209374.6,
          2405051.9
         ],
         "yaxis": "y"
        }
       ],
       "layout": {
        "legend": {
         "tracegroupgap": 0
        },
        "shapes": [
         {
          "fillcolor": "blue",
          "line": {
           "width": 0
          },
          "opacity": 0.1,
          "type": "rect",
          "x0": "2016-08-01",
          "x1": "2016-09-30",
          "xref": "x",
          "y0": 0,
          "y1": 1,
          "yref": "paper"
         },
         {
          "fillcolor": "blue",
          "line": {
           "width": 0
          },
          "opacity": 0.1,
          "type": "rect",
          "x0": "2017-08-01",
          "x1": "2017-09-30",
          "xref": "x",
          "y0": 0,
          "y1": 1,
          "yref": "paper"
         },
         {
          "fillcolor": "blue",
          "line": {
           "width": 0
          },
          "opacity": 0.1,
          "type": "rect",
          "x0": "2018-08-01",
          "x1": "2018-09-30",
          "xref": "x",
          "y0": 0,
          "y1": 1,
          "yref": "paper"
         },
         {
          "fillcolor": "blue",
          "line": {
           "width": 0
          },
          "opacity": 0.1,
          "type": "rect",
          "x0": "2019-08-01",
          "x1": "2019-09-30",
          "xref": "x",
          "y0": 0,
          "y1": 1,
          "yref": "paper"
         },
         {
          "fillcolor": "red",
          "line": {
           "width": 0
          },
          "opacity": 0.1,
          "type": "rect",
          "x0": "2016-11-01",
          "x1": "2016-12-31",
          "xref": "x",
          "y0": 0,
          "y1": 1,
          "yref": "paper"
         },
         {
          "fillcolor": "red",
          "line": {
           "width": 0
          },
          "opacity": 0.1,
          "type": "rect",
          "x0": "2017-11-01",
          "x1": "2017-12-31",
          "xref": "x",
          "y0": 0,
          "y1": 1,
          "yref": "paper"
         },
         {
          "fillcolor": "red",
          "line": {
           "width": 0
          },
          "opacity": 0.1,
          "type": "rect",
          "x0": "2018-11-01",
          "x1": "2018-12-31",
          "xref": "x",
          "y0": 0,
          "y1": 1,
          "yref": "paper"
         },
         {
          "fillcolor": "red",
          "line": {
           "width": 0
          },
          "opacity": 0.1,
          "type": "rect",
          "x0": "2019-11-01",
          "x1": "2019-12-31",
          "xref": "x",
          "y0": 0,
          "y1": 1,
          "yref": "paper"
         }
        ],
        "template": {
         "data": {
          "bar": [
           {
            "error_x": {
             "color": "#2a3f5f"
            },
            "error_y": {
             "color": "#2a3f5f"
            },
            "marker": {
             "line": {
              "color": "#E5ECF6",
              "width": 0.5
             },
             "pattern": {
              "fillmode": "overlay",
              "size": 10,
              "solidity": 0.2
             }
            },
            "type": "bar"
           }
          ],
          "barpolar": [
           {
            "marker": {
             "line": {
              "color": "#E5ECF6",
              "width": 0.5
             },
             "pattern": {
              "fillmode": "overlay",
              "size": 10,
              "solidity": 0.2
             }
            },
            "type": "barpolar"
           }
          ],
          "carpet": [
           {
            "aaxis": {
             "endlinecolor": "#2a3f5f",
             "gridcolor": "white",
             "linecolor": "white",
             "minorgridcolor": "white",
             "startlinecolor": "#2a3f5f"
            },
            "baxis": {
             "endlinecolor": "#2a3f5f",
             "gridcolor": "white",
             "linecolor": "white",
             "minorgridcolor": "white",
             "startlinecolor": "#2a3f5f"
            },
            "type": "carpet"
           }
          ],
          "choropleth": [
           {
            "colorbar": {
             "outlinewidth": 0,
             "ticks": ""
            },
            "type": "choropleth"
           }
          ],
          "contour": [
           {
            "colorbar": {
             "outlinewidth": 0,
             "ticks": ""
            },
            "colorscale": [
             [
              0,
              "#0d0887"
             ],
             [
              0.1111111111111111,
              "#46039f"
             ],
             [
              0.2222222222222222,
              "#7201a8"
             ],
             [
              0.3333333333333333,
              "#9c179e"
             ],
             [
              0.4444444444444444,
              "#bd3786"
             ],
             [
              0.5555555555555556,
              "#d8576b"
             ],
             [
              0.6666666666666666,
              "#ed7953"
             ],
             [
              0.7777777777777778,
              "#fb9f3a"
             ],
             [
              0.8888888888888888,
              "#fdca26"
             ],
             [
              1,
              "#f0f921"
             ]
            ],
            "type": "contour"
           }
          ],
          "contourcarpet": [
           {
            "colorbar": {
             "outlinewidth": 0,
             "ticks": ""
            },
            "type": "contourcarpet"
           }
          ],
          "heatmap": [
           {
            "colorbar": {
             "outlinewidth": 0,
             "ticks": ""
            },
            "colorscale": [
             [
              0,
              "#0d0887"
             ],
             [
              0.1111111111111111,
              "#46039f"
             ],
             [
              0.2222222222222222,
              "#7201a8"
             ],
             [
              0.3333333333333333,
              "#9c179e"
             ],
             [
              0.4444444444444444,
              "#bd3786"
             ],
             [
              0.5555555555555556,
              "#d8576b"
             ],
             [
              0.6666666666666666,
              "#ed7953"
             ],
             [
              0.7777777777777778,
              "#fb9f3a"
             ],
             [
              0.8888888888888888,
              "#fdca26"
             ],
             [
              1,
              "#f0f921"
             ]
            ],
            "type": "heatmap"
           }
          ],
          "heatmapgl": [
           {
            "colorbar": {
             "outlinewidth": 0,
             "ticks": ""
            },
            "colorscale": [
             [
              0,
              "#0d0887"
             ],
             [
              0.1111111111111111,
              "#46039f"
             ],
             [
              0.2222222222222222,
              "#7201a8"
             ],
             [
              0.3333333333333333,
              "#9c179e"
             ],
             [
              0.4444444444444444,
              "#bd3786"
             ],
             [
              0.5555555555555556,
              "#d8576b"
             ],
             [
              0.6666666666666666,
              "#ed7953"
             ],
             [
              0.7777777777777778,
              "#fb9f3a"
             ],
             [
              0.8888888888888888,
              "#fdca26"
             ],
             [
              1,
              "#f0f921"
             ]
            ],
            "type": "heatmapgl"
           }
          ],
          "histogram": [
           {
            "marker": {
             "pattern": {
              "fillmode": "overlay",
              "size": 10,
              "solidity": 0.2
             }
            },
            "type": "histogram"
           }
          ],
          "histogram2d": [
           {
            "colorbar": {
             "outlinewidth": 0,
             "ticks": ""
            },
            "colorscale": [
             [
              0,
              "#0d0887"
             ],
             [
              0.1111111111111111,
              "#46039f"
             ],
             [
              0.2222222222222222,
              "#7201a8"
             ],
             [
              0.3333333333333333,
              "#9c179e"
             ],
             [
              0.4444444444444444,
              "#bd3786"
             ],
             [
              0.5555555555555556,
              "#d8576b"
             ],
             [
              0.6666666666666666,
              "#ed7953"
             ],
             [
              0.7777777777777778,
              "#fb9f3a"
             ],
             [
              0.8888888888888888,
              "#fdca26"
             ],
             [
              1,
              "#f0f921"
             ]
            ],
            "type": "histogram2d"
           }
          ],
          "histogram2dcontour": [
           {
            "colorbar": {
             "outlinewidth": 0,
             "ticks": ""
            },
            "colorscale": [
             [
              0,
              "#0d0887"
             ],
             [
              0.1111111111111111,
              "#46039f"
             ],
             [
              0.2222222222222222,
              "#7201a8"
             ],
             [
              0.3333333333333333,
              "#9c179e"
             ],
             [
              0.4444444444444444,
              "#bd3786"
             ],
             [
              0.5555555555555556,
              "#d8576b"
             ],
             [
              0.6666666666666666,
              "#ed7953"
             ],
             [
              0.7777777777777778,
              "#fb9f3a"
             ],
             [
              0.8888888888888888,
              "#fdca26"
             ],
             [
              1,
              "#f0f921"
             ]
            ],
            "type": "histogram2dcontour"
           }
          ],
          "mesh3d": [
           {
            "colorbar": {
             "outlinewidth": 0,
             "ticks": ""
            },
            "type": "mesh3d"
           }
          ],
          "parcoords": [
           {
            "line": {
             "colorbar": {
              "outlinewidth": 0,
              "ticks": ""
             }
            },
            "type": "parcoords"
           }
          ],
          "pie": [
           {
            "automargin": true,
            "type": "pie"
           }
          ],
          "scatter": [
           {
            "fillpattern": {
             "fillmode": "overlay",
             "size": 10,
             "solidity": 0.2
            },
            "type": "scatter"
           }
          ],
          "scatter3d": [
           {
            "line": {
             "colorbar": {
              "outlinewidth": 0,
              "ticks": ""
             }
            },
            "marker": {
             "colorbar": {
              "outlinewidth": 0,
              "ticks": ""
             }
            },
            "type": "scatter3d"
           }
          ],
          "scattercarpet": [
           {
            "marker": {
             "colorbar": {
              "outlinewidth": 0,
              "ticks": ""
             }
            },
            "type": "scattercarpet"
           }
          ],
          "scattergeo": [
           {
            "marker": {
             "colorbar": {
              "outlinewidth": 0,
              "ticks": ""
             }
            },
            "type": "scattergeo"
           }
          ],
          "scattergl": [
           {
            "marker": {
             "colorbar": {
              "outlinewidth": 0,
              "ticks": ""
             }
            },
            "type": "scattergl"
           }
          ],
          "scattermapbox": [
           {
            "marker": {
             "colorbar": {
              "outlinewidth": 0,
              "ticks": ""
             }
            },
            "type": "scattermapbox"
           }
          ],
          "scatterpolar": [
           {
            "marker": {
             "colorbar": {
              "outlinewidth": 0,
              "ticks": ""
             }
            },
            "type": "scatterpolar"
           }
          ],
          "scatterpolargl": [
           {
            "marker": {
             "colorbar": {
              "outlinewidth": 0,
              "ticks": ""
             }
            },
            "type": "scatterpolargl"
           }
          ],
          "scatterternary": [
           {
            "marker": {
             "colorbar": {
              "outlinewidth": 0,
              "ticks": ""
             }
            },
            "type": "scatterternary"
           }
          ],
          "surface": [
           {
            "colorbar": {
             "outlinewidth": 0,
             "ticks": ""
            },
            "colorscale": [
             [
              0,
              "#0d0887"
             ],
             [
              0.1111111111111111,
              "#46039f"
             ],
             [
              0.2222222222222222,
              "#7201a8"
             ],
             [
              0.3333333333333333,
              "#9c179e"
             ],
             [
              0.4444444444444444,
              "#bd3786"
             ],
             [
              0.5555555555555556,
              "#d8576b"
             ],
             [
              0.6666666666666666,
              "#ed7953"
             ],
             [
              0.7777777777777778,
              "#fb9f3a"
             ],
             [
              0.8888888888888888,
              "#fdca26"
             ],
             [
              1,
              "#f0f921"
             ]
            ],
            "type": "surface"
           }
          ],
          "table": [
           {
            "cells": {
             "fill": {
              "color": "#EBF0F8"
             },
             "line": {
              "color": "white"
             }
            },
            "header": {
             "fill": {
              "color": "#C8D4E3"
             },
             "line": {
              "color": "white"
             }
            },
            "type": "table"
           }
          ]
         },
         "layout": {
          "annotationdefaults": {
           "arrowcolor": "#2a3f5f",
           "arrowhead": 0,
           "arrowwidth": 1
          },
          "autotypenumbers": "strict",
          "coloraxis": {
           "colorbar": {
            "outlinewidth": 0,
            "ticks": ""
           }
          },
          "colorscale": {
           "diverging": [
            [
             0,
             "#8e0152"
            ],
            [
             0.1,
             "#c51b7d"
            ],
            [
             0.2,
             "#de77ae"
            ],
            [
             0.3,
             "#f1b6da"
            ],
            [
             0.4,
             "#fde0ef"
            ],
            [
             0.5,
             "#f7f7f7"
            ],
            [
             0.6,
             "#e6f5d0"
            ],
            [
             0.7,
             "#b8e186"
            ],
            [
             0.8,
             "#7fbc41"
            ],
            [
             0.9,
             "#4d9221"
            ],
            [
             1,
             "#276419"
            ]
           ],
           "sequential": [
            [
             0,
             "#0d0887"
            ],
            [
             0.1111111111111111,
             "#46039f"
            ],
            [
             0.2222222222222222,
             "#7201a8"
            ],
            [
             0.3333333333333333,
             "#9c179e"
            ],
            [
             0.4444444444444444,
             "#bd3786"
            ],
            [
             0.5555555555555556,
             "#d8576b"
            ],
            [
             0.6666666666666666,
             "#ed7953"
            ],
            [
             0.7777777777777778,
             "#fb9f3a"
            ],
            [
             0.8888888888888888,
             "#fdca26"
            ],
            [
             1,
             "#f0f921"
            ]
           ],
           "sequentialminus": [
            [
             0,
             "#0d0887"
            ],
            [
             0.1111111111111111,
             "#46039f"
            ],
            [
             0.2222222222222222,
             "#7201a8"
            ],
            [
             0.3333333333333333,
             "#9c179e"
            ],
            [
             0.4444444444444444,
             "#bd3786"
            ],
            [
             0.5555555555555556,
             "#d8576b"
            ],
            [
             0.6666666666666666,
             "#ed7953"
            ],
            [
             0.7777777777777778,
             "#fb9f3a"
            ],
            [
             0.8888888888888888,
             "#fdca26"
            ],
            [
             1,
             "#f0f921"
            ]
           ]
          },
          "colorway": [
           "#636efa",
           "#EF553B",
           "#00cc96",
           "#ab63fa",
           "#FFA15A",
           "#19d3f3",
           "#FF6692",
           "#B6E880",
           "#FF97FF",
           "#FECB52"
          ],
          "font": {
           "color": "#2a3f5f"
          },
          "geo": {
           "bgcolor": "white",
           "lakecolor": "white",
           "landcolor": "#E5ECF6",
           "showlakes": true,
           "showland": true,
           "subunitcolor": "white"
          },
          "hoverlabel": {
           "align": "left"
          },
          "hovermode": "closest",
          "mapbox": {
           "style": "light"
          },
          "paper_bgcolor": "white",
          "plot_bgcolor": "#E5ECF6",
          "polar": {
           "angularaxis": {
            "gridcolor": "white",
            "linecolor": "white",
            "ticks": ""
           },
           "bgcolor": "#E5ECF6",
           "radialaxis": {
            "gridcolor": "white",
            "linecolor": "white",
            "ticks": ""
           }
          },
          "scene": {
           "xaxis": {
            "backgroundcolor": "#E5ECF6",
            "gridcolor": "white",
            "gridwidth": 2,
            "linecolor": "white",
            "showbackground": true,
            "ticks": "",
            "zerolinecolor": "white"
           },
           "yaxis": {
            "backgroundcolor": "#E5ECF6",
            "gridcolor": "white",
            "gridwidth": 2,
            "linecolor": "white",
            "showbackground": true,
            "ticks": "",
            "zerolinecolor": "white"
           },
           "zaxis": {
            "backgroundcolor": "#E5ECF6",
            "gridcolor": "white",
            "gridwidth": 2,
            "linecolor": "white",
            "showbackground": true,
            "ticks": "",
            "zerolinecolor": "white"
           }
          },
          "shapedefaults": {
           "line": {
            "color": "#2a3f5f"
           }
          },
          "ternary": {
           "aaxis": {
            "gridcolor": "white",
            "linecolor": "white",
            "ticks": ""
           },
           "baxis": {
            "gridcolor": "white",
            "linecolor": "white",
            "ticks": ""
           },
           "bgcolor": "#E5ECF6",
           "caxis": {
            "gridcolor": "white",
            "linecolor": "white",
            "ticks": ""
           }
          },
          "title": {
           "x": 0.05
          },
          "xaxis": {
           "automargin": true,
           "gridcolor": "white",
           "linecolor": "white",
           "ticks": "",
           "title": {
            "standoff": 15
           },
           "zerolinecolor": "white",
           "zerolinewidth": 2
          },
          "yaxis": {
           "automargin": true,
           "gridcolor": "white",
           "linecolor": "white",
           "ticks": "",
           "title": {
            "standoff": 15
           },
           "zerolinecolor": "white",
           "zerolinewidth": 2
          }
         }
        },
        "title": {
         "text": "2016 ~ 2020년 9월의 배추 거래량(kg) 변화"
        },
        "xaxis": {
         "anchor": "y",
         "domain": [
          0,
          1
         ],
         "title": {
          "text": "date"
         }
        },
        "yaxis": {
         "anchor": "x",
         "domain": [
          0,
          1
         ],
         "title": {
          "text": "y"
         }
        }
       }
      }
     },
     "metadata": {},
     "output_type": "display_data"
    },
    {
     "data": {
      "application/vnd.plotly.v1+json": {
       "config": {
        "plotlyServerURL": "https://plotly.com"
       },
       "data": [
        {
         "hovertemplate": "date=%{x}<br>y=%{y}<extra></extra>",
         "legendgroup": "",
         "line": {
          "color": "#636efa",
          "dash": "solid"
         },
         "marker": {
          "symbol": "circle"
         },
         "mode": "lines",
         "name": "",
         "orientation": "v",
         "showlegend": false,
         "type": "scatter",
         "x": [
          "2016-01-03T00:00:00",
          "2016-01-10T00:00:00",
          "2016-01-17T00:00:00",
          "2016-01-24T00:00:00",
          "2016-01-31T00:00:00",
          "2016-02-07T00:00:00",
          "2016-02-14T00:00:00",
          "2016-02-21T00:00:00",
          "2016-02-28T00:00:00",
          "2016-03-06T00:00:00",
          "2016-03-13T00:00:00",
          "2016-03-20T00:00:00",
          "2016-03-27T00:00:00",
          "2016-04-03T00:00:00",
          "2016-04-10T00:00:00",
          "2016-04-17T00:00:00",
          "2016-04-24T00:00:00",
          "2016-05-01T00:00:00",
          "2016-05-08T00:00:00",
          "2016-05-15T00:00:00",
          "2016-05-22T00:00:00",
          "2016-05-29T00:00:00",
          "2016-06-05T00:00:00",
          "2016-06-12T00:00:00",
          "2016-06-19T00:00:00",
          "2016-06-26T00:00:00",
          "2016-07-03T00:00:00",
          "2016-07-10T00:00:00",
          "2016-07-17T00:00:00",
          "2016-07-24T00:00:00",
          "2016-07-31T00:00:00",
          "2016-08-07T00:00:00",
          "2016-08-14T00:00:00",
          "2016-08-21T00:00:00",
          "2016-08-28T00:00:00",
          "2016-09-04T00:00:00",
          "2016-09-11T00:00:00",
          "2016-09-18T00:00:00",
          "2016-09-25T00:00:00",
          "2016-10-02T00:00:00",
          "2016-10-09T00:00:00",
          "2016-10-16T00:00:00",
          "2016-10-23T00:00:00",
          "2016-10-30T00:00:00",
          "2016-11-06T00:00:00",
          "2016-11-13T00:00:00",
          "2016-11-20T00:00:00",
          "2016-11-27T00:00:00",
          "2016-12-04T00:00:00",
          "2016-12-11T00:00:00",
          "2016-12-18T00:00:00",
          "2016-12-25T00:00:00",
          "2017-01-01T00:00:00",
          "2017-01-08T00:00:00",
          "2017-01-15T00:00:00",
          "2017-01-22T00:00:00",
          "2017-01-29T00:00:00",
          "2017-02-05T00:00:00",
          "2017-02-12T00:00:00",
          "2017-02-19T00:00:00",
          "2017-02-26T00:00:00",
          "2017-03-05T00:00:00",
          "2017-03-12T00:00:00",
          "2017-03-19T00:00:00",
          "2017-03-26T00:00:00",
          "2017-04-02T00:00:00",
          "2017-04-09T00:00:00",
          "2017-04-16T00:00:00",
          "2017-04-23T00:00:00",
          "2017-04-30T00:00:00",
          "2017-05-07T00:00:00",
          "2017-05-14T00:00:00",
          "2017-05-21T00:00:00",
          "2017-05-28T00:00:00",
          "2017-06-04T00:00:00",
          "2017-06-11T00:00:00",
          "2017-06-18T00:00:00",
          "2017-06-25T00:00:00",
          "2017-07-02T00:00:00",
          "2017-07-09T00:00:00",
          "2017-07-16T00:00:00",
          "2017-07-23T00:00:00",
          "2017-07-30T00:00:00",
          "2017-08-06T00:00:00",
          "2017-08-13T00:00:00",
          "2017-08-20T00:00:00",
          "2017-08-27T00:00:00",
          "2017-09-03T00:00:00",
          "2017-09-10T00:00:00",
          "2017-09-17T00:00:00",
          "2017-09-24T00:00:00",
          "2017-10-01T00:00:00",
          "2017-10-08T00:00:00",
          "2017-10-15T00:00:00",
          "2017-10-22T00:00:00",
          "2017-10-29T00:00:00",
          "2017-11-05T00:00:00",
          "2017-11-12T00:00:00",
          "2017-11-19T00:00:00",
          "2017-11-26T00:00:00",
          "2017-12-03T00:00:00",
          "2017-12-10T00:00:00",
          "2017-12-17T00:00:00",
          "2017-12-24T00:00:00",
          "2017-12-31T00:00:00",
          "2018-01-07T00:00:00",
          "2018-01-14T00:00:00",
          "2018-01-21T00:00:00",
          "2018-01-28T00:00:00",
          "2018-02-04T00:00:00",
          "2018-02-11T00:00:00",
          "2018-02-18T00:00:00",
          "2018-02-25T00:00:00",
          "2018-03-04T00:00:00",
          "2018-03-11T00:00:00",
          "2018-03-18T00:00:00",
          "2018-03-25T00:00:00",
          "2018-04-01T00:00:00",
          "2018-04-08T00:00:00",
          "2018-04-15T00:00:00",
          "2018-04-22T00:00:00",
          "2018-04-29T00:00:00",
          "2018-05-06T00:00:00",
          "2018-05-13T00:00:00",
          "2018-05-20T00:00:00",
          "2018-05-27T00:00:00",
          "2018-06-03T00:00:00",
          "2018-06-10T00:00:00",
          "2018-06-17T00:00:00",
          "2018-06-24T00:00:00",
          "2018-07-01T00:00:00",
          "2018-07-08T00:00:00",
          "2018-07-15T00:00:00",
          "2018-07-22T00:00:00",
          "2018-07-29T00:00:00",
          "2018-08-05T00:00:00",
          "2018-08-12T00:00:00",
          "2018-08-19T00:00:00",
          "2018-08-26T00:00:00",
          "2018-09-02T00:00:00",
          "2018-09-09T00:00:00",
          "2018-09-16T00:00:00",
          "2018-09-23T00:00:00",
          "2018-09-30T00:00:00",
          "2018-10-07T00:00:00",
          "2018-10-14T00:00:00",
          "2018-10-21T00:00:00",
          "2018-10-28T00:00:00",
          "2018-11-04T00:00:00",
          "2018-11-11T00:00:00",
          "2018-11-18T00:00:00",
          "2018-11-25T00:00:00",
          "2018-12-02T00:00:00",
          "2018-12-09T00:00:00",
          "2018-12-16T00:00:00",
          "2018-12-23T00:00:00",
          "2018-12-30T00:00:00",
          "2019-01-06T00:00:00",
          "2019-01-13T00:00:00",
          "2019-01-20T00:00:00",
          "2019-01-27T00:00:00",
          "2019-02-03T00:00:00",
          "2019-02-10T00:00:00",
          "2019-02-17T00:00:00",
          "2019-02-24T00:00:00",
          "2019-03-03T00:00:00",
          "2019-03-10T00:00:00",
          "2019-03-17T00:00:00",
          "2019-03-24T00:00:00",
          "2019-03-31T00:00:00",
          "2019-04-07T00:00:00",
          "2019-04-14T00:00:00",
          "2019-04-21T00:00:00",
          "2019-04-28T00:00:00",
          "2019-05-05T00:00:00",
          "2019-05-12T00:00:00",
          "2019-05-19T00:00:00",
          "2019-05-26T00:00:00",
          "2019-06-02T00:00:00",
          "2019-06-09T00:00:00",
          "2019-06-16T00:00:00",
          "2019-06-23T00:00:00",
          "2019-06-30T00:00:00",
          "2019-07-07T00:00:00",
          "2019-07-14T00:00:00",
          "2019-07-21T00:00:00",
          "2019-07-28T00:00:00",
          "2019-08-04T00:00:00",
          "2019-08-11T00:00:00",
          "2019-08-18T00:00:00",
          "2019-08-25T00:00:00",
          "2019-09-01T00:00:00",
          "2019-09-08T00:00:00",
          "2019-09-15T00:00:00",
          "2019-09-22T00:00:00",
          "2019-09-29T00:00:00",
          "2019-10-06T00:00:00",
          "2019-10-13T00:00:00",
          "2019-10-20T00:00:00",
          "2019-10-27T00:00:00",
          "2019-11-03T00:00:00",
          "2019-11-10T00:00:00",
          "2019-11-17T00:00:00",
          "2019-11-24T00:00:00",
          "2019-12-01T00:00:00",
          "2019-12-08T00:00:00",
          "2019-12-15T00:00:00",
          "2019-12-22T00:00:00",
          "2019-12-29T00:00:00",
          "2020-01-05T00:00:00",
          "2020-01-12T00:00:00",
          "2020-01-19T00:00:00",
          "2020-01-26T00:00:00",
          "2020-02-02T00:00:00",
          "2020-02-09T00:00:00",
          "2020-02-16T00:00:00",
          "2020-02-23T00:00:00",
          "2020-03-01T00:00:00",
          "2020-03-08T00:00:00",
          "2020-03-15T00:00:00",
          "2020-03-22T00:00:00",
          "2020-03-29T00:00:00",
          "2020-04-05T00:00:00",
          "2020-04-12T00:00:00",
          "2020-04-19T00:00:00",
          "2020-04-26T00:00:00",
          "2020-05-03T00:00:00",
          "2020-05-10T00:00:00",
          "2020-05-17T00:00:00",
          "2020-05-24T00:00:00",
          "2020-05-31T00:00:00",
          "2020-06-07T00:00:00",
          "2020-06-14T00:00:00",
          "2020-06-21T00:00:00",
          "2020-06-28T00:00:00",
          "2020-07-05T00:00:00",
          "2020-07-12T00:00:00",
          "2020-07-19T00:00:00",
          "2020-07-26T00:00:00",
          "2020-08-02T00:00:00",
          "2020-08-09T00:00:00",
          "2020-08-16T00:00:00",
          "2020-08-23T00:00:00",
          "2020-08-30T00:00:00",
          "2020-09-06T00:00:00",
          "2020-09-13T00:00:00",
          "2020-09-20T00:00:00",
          "2020-09-27T00:00:00",
          "2020-10-04T00:00:00"
         ],
         "xaxis": "x",
         "y": [
          329,
          2619,
          2602,
          3311,
          3914,
          3780,
          6915,
          4060,
          4060,
          5036,
          5139,
          5190,
          5430,
          6205,
          6756,
          7161,
          7368,
          6784,
          5450,
          5046,
          5483,
          4081,
          2948,
          2664,
          2530,
          2946,
          2828,
          3269,
          3741,
          3503,
          3826,
          4727,
          4999,
          6713,
          8252,
          9934,
          8960,
          6437,
          7606,
          7946,
          5437,
          4210,
          3437,
          3167,
          3126,
          3623,
          4197,
          4159,
          4164,
          3986,
          4221,
          4533,
          5023,
          4725,
          4487,
          4657,
          4024,
          4048,
          4838,
          4803,
          4746,
          4689,
          4347,
          4204,
          3961,
          3944,
          3408,
          2781,
          2900,
          2856,
          2265,
          2016,
          1845,
          1855,
          1664,
          2279,
          1907,
          1952,
          1999,
          2402,
          3361,
          4585,
          5303,
          5320,
          5893,
          6528,
          6015,
          7413,
          7152,
          6593,
          5955,
          5496,
          3864,
          3040,
          1966,
          1876,
          2111,
          2218,
          2402,
          2664,
          2486,
          2681,
          2996,
          3065,
          3197,
          2524,
          3362,
          3099,
          3416,
          4687,
          4990,
          3023,
          3464,
          3706,
          3727,
          3502,
          3890,
          3826,
          3739,
          3446,
          3514,
          3259,
          3011,
          2845,
          2294,
          2001,
          1986,
          1629,
          1975,
          2086,
          2488,
          2581,
          3618,
          3837,
          4965,
          5428,
          5136,
          7046,
          9031,
          6587,
          5017,
          5061,
          4568,
          1658,
          3221,
          2540,
          2846,
          2606,
          2745,
          2942,
          2754,
          2542,
          2447,
          2476,
          2598,
          2132,
          2027,
          2052,
          1864,
          1903,
          1832,
          1877,
          1563,
          1882,
          1721,
          1701,
          1602,
          1725,
          1716,
          1790,
          1753,
          1794,
          1944,
          1727,
          1730,
          1915,
          1936,
          1909,
          2255,
          2647,
          2782,
          2896,
          3248,
          3016,
          3478,
          2680,
          2855,
          3047,
          3318,
          3170,
          3016,
          3656,
          5190,
          3820,
          6409,
          7524,
          8586,
          6084,
          6354,
          5044,
          4413,
          4094,
          4385,
          4741,
          4433,
          4692,
          4768,
          4721,
          4346,
          4175,
          4722,
          4451,
          3640,
          3910,
          4749,
          4694,
          4939,
          4866,
          4860,
          4640,
          4694,
          4635,
          4506,
          4334,
          4623,
          5149,
          5722,
          5374,
          5006,
          4895,
          4787,
          3261,
          3552,
          3578,
          3969,
          3528,
          4283,
          4744,
          5477,
          5458,
          6050,
          6927,
          7968,
          8928,
          7508,
          10059,
          11632,
          10846,
          1867
         ],
         "yaxis": "y"
        }
       ],
       "layout": {
        "legend": {
         "tracegroupgap": 0
        },
        "shapes": [
         {
          "fillcolor": "blue",
          "line": {
           "width": 0
          },
          "opacity": 0.1,
          "type": "rect",
          "x0": "2016-08-01",
          "x1": "2016-09-30",
          "xref": "x",
          "y0": 0,
          "y1": 1,
          "yref": "paper"
         },
         {
          "fillcolor": "blue",
          "line": {
           "width": 0
          },
          "opacity": 0.1,
          "type": "rect",
          "x0": "2017-08-01",
          "x1": "2017-09-30",
          "xref": "x",
          "y0": 0,
          "y1": 1,
          "yref": "paper"
         },
         {
          "fillcolor": "blue",
          "line": {
           "width": 0
          },
          "opacity": 0.1,
          "type": "rect",
          "x0": "2018-08-01",
          "x1": "2018-09-30",
          "xref": "x",
          "y0": 0,
          "y1": 1,
          "yref": "paper"
         },
         {
          "fillcolor": "blue",
          "line": {
           "width": 0
          },
          "opacity": 0.1,
          "type": "rect",
          "x0": "2019-08-01",
          "x1": "2019-09-30",
          "xref": "x",
          "y0": 0,
          "y1": 1,
          "yref": "paper"
         },
         {
          "fillcolor": "red",
          "line": {
           "width": 0
          },
          "opacity": 0.1,
          "type": "rect",
          "x0": "2016-11-01",
          "x1": "2016-12-31",
          "xref": "x",
          "y0": 0,
          "y1": 1,
          "yref": "paper"
         },
         {
          "fillcolor": "red",
          "line": {
           "width": 0
          },
          "opacity": 0.1,
          "type": "rect",
          "x0": "2017-11-01",
          "x1": "2017-12-31",
          "xref": "x",
          "y0": 0,
          "y1": 1,
          "yref": "paper"
         },
         {
          "fillcolor": "red",
          "line": {
           "width": 0
          },
          "opacity": 0.1,
          "type": "rect",
          "x0": "2018-11-01",
          "x1": "2018-12-31",
          "xref": "x",
          "y0": 0,
          "y1": 1,
          "yref": "paper"
         },
         {
          "fillcolor": "red",
          "line": {
           "width": 0
          },
          "opacity": 0.1,
          "type": "rect",
          "x0": "2019-11-01",
          "x1": "2019-12-31",
          "xref": "x",
          "y0": 0,
          "y1": 1,
          "yref": "paper"
         }
        ],
        "template": {
         "data": {
          "bar": [
           {
            "error_x": {
             "color": "#2a3f5f"
            },
            "error_y": {
             "color": "#2a3f5f"
            },
            "marker": {
             "line": {
              "color": "#E5ECF6",
              "width": 0.5
             },
             "pattern": {
              "fillmode": "overlay",
              "size": 10,
              "solidity": 0.2
             }
            },
            "type": "bar"
           }
          ],
          "barpolar": [
           {
            "marker": {
             "line": {
              "color": "#E5ECF6",
              "width": 0.5
             },
             "pattern": {
              "fillmode": "overlay",
              "size": 10,
              "solidity": 0.2
             }
            },
            "type": "barpolar"
           }
          ],
          "carpet": [
           {
            "aaxis": {
             "endlinecolor": "#2a3f5f",
             "gridcolor": "white",
             "linecolor": "white",
             "minorgridcolor": "white",
             "startlinecolor": "#2a3f5f"
            },
            "baxis": {
             "endlinecolor": "#2a3f5f",
             "gridcolor": "white",
             "linecolor": "white",
             "minorgridcolor": "white",
             "startlinecolor": "#2a3f5f"
            },
            "type": "carpet"
           }
          ],
          "choropleth": [
           {
            "colorbar": {
             "outlinewidth": 0,
             "ticks": ""
            },
            "type": "choropleth"
           }
          ],
          "contour": [
           {
            "colorbar": {
             "outlinewidth": 0,
             "ticks": ""
            },
            "colorscale": [
             [
              0,
              "#0d0887"
             ],
             [
              0.1111111111111111,
              "#46039f"
             ],
             [
              0.2222222222222222,
              "#7201a8"
             ],
             [
              0.3333333333333333,
              "#9c179e"
             ],
             [
              0.4444444444444444,
              "#bd3786"
             ],
             [
              0.5555555555555556,
              "#d8576b"
             ],
             [
              0.6666666666666666,
              "#ed7953"
             ],
             [
              0.7777777777777778,
              "#fb9f3a"
             ],
             [
              0.8888888888888888,
              "#fdca26"
             ],
             [
              1,
              "#f0f921"
             ]
            ],
            "type": "contour"
           }
          ],
          "contourcarpet": [
           {
            "colorbar": {
             "outlinewidth": 0,
             "ticks": ""
            },
            "type": "contourcarpet"
           }
          ],
          "heatmap": [
           {
            "colorbar": {
             "outlinewidth": 0,
             "ticks": ""
            },
            "colorscale": [
             [
              0,
              "#0d0887"
             ],
             [
              0.1111111111111111,
              "#46039f"
             ],
             [
              0.2222222222222222,
              "#7201a8"
             ],
             [
              0.3333333333333333,
              "#9c179e"
             ],
             [
              0.4444444444444444,
              "#bd3786"
             ],
             [
              0.5555555555555556,
              "#d8576b"
             ],
             [
              0.6666666666666666,
              "#ed7953"
             ],
             [
              0.7777777777777778,
              "#fb9f3a"
             ],
             [
              0.8888888888888888,
              "#fdca26"
             ],
             [
              1,
              "#f0f921"
             ]
            ],
            "type": "heatmap"
           }
          ],
          "heatmapgl": [
           {
            "colorbar": {
             "outlinewidth": 0,
             "ticks": ""
            },
            "colorscale": [
             [
              0,
              "#0d0887"
             ],
             [
              0.1111111111111111,
              "#46039f"
             ],
             [
              0.2222222222222222,
              "#7201a8"
             ],
             [
              0.3333333333333333,
              "#9c179e"
             ],
             [
              0.4444444444444444,
              "#bd3786"
             ],
             [
              0.5555555555555556,
              "#d8576b"
             ],
             [
              0.6666666666666666,
              "#ed7953"
             ],
             [
              0.7777777777777778,
              "#fb9f3a"
             ],
             [
              0.8888888888888888,
              "#fdca26"
             ],
             [
              1,
              "#f0f921"
             ]
            ],
            "type": "heatmapgl"
           }
          ],
          "histogram": [
           {
            "marker": {
             "pattern": {
              "fillmode": "overlay",
              "size": 10,
              "solidity": 0.2
             }
            },
            "type": "histogram"
           }
          ],
          "histogram2d": [
           {
            "colorbar": {
             "outlinewidth": 0,
             "ticks": ""
            },
            "colorscale": [
             [
              0,
              "#0d0887"
             ],
             [
              0.1111111111111111,
              "#46039f"
             ],
             [
              0.2222222222222222,
              "#7201a8"
             ],
             [
              0.3333333333333333,
              "#9c179e"
             ],
             [
              0.4444444444444444,
              "#bd3786"
             ],
             [
              0.5555555555555556,
              "#d8576b"
             ],
             [
              0.6666666666666666,
              "#ed7953"
             ],
             [
              0.7777777777777778,
              "#fb9f3a"
             ],
             [
              0.8888888888888888,
              "#fdca26"
             ],
             [
              1,
              "#f0f921"
             ]
            ],
            "type": "histogram2d"
           }
          ],
          "histogram2dcontour": [
           {
            "colorbar": {
             "outlinewidth": 0,
             "ticks": ""
            },
            "colorscale": [
             [
              0,
              "#0d0887"
             ],
             [
              0.1111111111111111,
              "#46039f"
             ],
             [
              0.2222222222222222,
              "#7201a8"
             ],
             [
              0.3333333333333333,
              "#9c179e"
             ],
             [
              0.4444444444444444,
              "#bd3786"
             ],
             [
              0.5555555555555556,
              "#d8576b"
             ],
             [
              0.6666666666666666,
              "#ed7953"
             ],
             [
              0.7777777777777778,
              "#fb9f3a"
             ],
             [
              0.8888888888888888,
              "#fdca26"
             ],
             [
              1,
              "#f0f921"
             ]
            ],
            "type": "histogram2dcontour"
           }
          ],
          "mesh3d": [
           {
            "colorbar": {
             "outlinewidth": 0,
             "ticks": ""
            },
            "type": "mesh3d"
           }
          ],
          "parcoords": [
           {
            "line": {
             "colorbar": {
              "outlinewidth": 0,
              "ticks": ""
             }
            },
            "type": "parcoords"
           }
          ],
          "pie": [
           {
            "automargin": true,
            "type": "pie"
           }
          ],
          "scatter": [
           {
            "fillpattern": {
             "fillmode": "overlay",
             "size": 10,
             "solidity": 0.2
            },
            "type": "scatter"
           }
          ],
          "scatter3d": [
           {
            "line": {
             "colorbar": {
              "outlinewidth": 0,
              "ticks": ""
             }
            },
            "marker": {
             "colorbar": {
              "outlinewidth": 0,
              "ticks": ""
             }
            },
            "type": "scatter3d"
           }
          ],
          "scattercarpet": [
           {
            "marker": {
             "colorbar": {
              "outlinewidth": 0,
              "ticks": ""
             }
            },
            "type": "scattercarpet"
           }
          ],
          "scattergeo": [
           {
            "marker": {
             "colorbar": {
              "outlinewidth": 0,
              "ticks": ""
             }
            },
            "type": "scattergeo"
           }
          ],
          "scattergl": [
           {
            "marker": {
             "colorbar": {
              "outlinewidth": 0,
              "ticks": ""
             }
            },
            "type": "scattergl"
           }
          ],
          "scattermapbox": [
           {
            "marker": {
             "colorbar": {
              "outlinewidth": 0,
              "ticks": ""
             }
            },
            "type": "scattermapbox"
           }
          ],
          "scatterpolar": [
           {
            "marker": {
             "colorbar": {
              "outlinewidth": 0,
              "ticks": ""
             }
            },
            "type": "scatterpolar"
           }
          ],
          "scatterpolargl": [
           {
            "marker": {
             "colorbar": {
              "outlinewidth": 0,
              "ticks": ""
             }
            },
            "type": "scatterpolargl"
           }
          ],
          "scatterternary": [
           {
            "marker": {
             "colorbar": {
              "outlinewidth": 0,
              "ticks": ""
             }
            },
            "type": "scatterternary"
           }
          ],
          "surface": [
           {
            "colorbar": {
             "outlinewidth": 0,
             "ticks": ""
            },
            "colorscale": [
             [
              0,
              "#0d0887"
             ],
             [
              0.1111111111111111,
              "#46039f"
             ],
             [
              0.2222222222222222,
              "#7201a8"
             ],
             [
              0.3333333333333333,
              "#9c179e"
             ],
             [
              0.4444444444444444,
              "#bd3786"
             ],
             [
              0.5555555555555556,
              "#d8576b"
             ],
             [
              0.6666666666666666,
              "#ed7953"
             ],
             [
              0.7777777777777778,
              "#fb9f3a"
             ],
             [
              0.8888888888888888,
              "#fdca26"
             ],
             [
              1,
              "#f0f921"
             ]
            ],
            "type": "surface"
           }
          ],
          "table": [
           {
            "cells": {
             "fill": {
              "color": "#EBF0F8"
             },
             "line": {
              "color": "white"
             }
            },
            "header": {
             "fill": {
              "color": "#C8D4E3"
             },
             "line": {
              "color": "white"
             }
            },
            "type": "table"
           }
          ]
         },
         "layout": {
          "annotationdefaults": {
           "arrowcolor": "#2a3f5f",
           "arrowhead": 0,
           "arrowwidth": 1
          },
          "autotypenumbers": "strict",
          "coloraxis": {
           "colorbar": {
            "outlinewidth": 0,
            "ticks": ""
           }
          },
          "colorscale": {
           "diverging": [
            [
             0,
             "#8e0152"
            ],
            [
             0.1,
             "#c51b7d"
            ],
            [
             0.2,
             "#de77ae"
            ],
            [
             0.3,
             "#f1b6da"
            ],
            [
             0.4,
             "#fde0ef"
            ],
            [
             0.5,
             "#f7f7f7"
            ],
            [
             0.6,
             "#e6f5d0"
            ],
            [
             0.7,
             "#b8e186"
            ],
            [
             0.8,
             "#7fbc41"
            ],
            [
             0.9,
             "#4d9221"
            ],
            [
             1,
             "#276419"
            ]
           ],
           "sequential": [
            [
             0,
             "#0d0887"
            ],
            [
             0.1111111111111111,
             "#46039f"
            ],
            [
             0.2222222222222222,
             "#7201a8"
            ],
            [
             0.3333333333333333,
             "#9c179e"
            ],
            [
             0.4444444444444444,
             "#bd3786"
            ],
            [
             0.5555555555555556,
             "#d8576b"
            ],
            [
             0.6666666666666666,
             "#ed7953"
            ],
            [
             0.7777777777777778,
             "#fb9f3a"
            ],
            [
             0.8888888888888888,
             "#fdca26"
            ],
            [
             1,
             "#f0f921"
            ]
           ],
           "sequentialminus": [
            [
             0,
             "#0d0887"
            ],
            [
             0.1111111111111111,
             "#46039f"
            ],
            [
             0.2222222222222222,
             "#7201a8"
            ],
            [
             0.3333333333333333,
             "#9c179e"
            ],
            [
             0.4444444444444444,
             "#bd3786"
            ],
            [
             0.5555555555555556,
             "#d8576b"
            ],
            [
             0.6666666666666666,
             "#ed7953"
            ],
            [
             0.7777777777777778,
             "#fb9f3a"
            ],
            [
             0.8888888888888888,
             "#fdca26"
            ],
            [
             1,
             "#f0f921"
            ]
           ]
          },
          "colorway": [
           "#636efa",
           "#EF553B",
           "#00cc96",
           "#ab63fa",
           "#FFA15A",
           "#19d3f3",
           "#FF6692",
           "#B6E880",
           "#FF97FF",
           "#FECB52"
          ],
          "font": {
           "color": "#2a3f5f"
          },
          "geo": {
           "bgcolor": "white",
           "lakecolor": "white",
           "landcolor": "#E5ECF6",
           "showlakes": true,
           "showland": true,
           "subunitcolor": "white"
          },
          "hoverlabel": {
           "align": "left"
          },
          "hovermode": "closest",
          "mapbox": {
           "style": "light"
          },
          "paper_bgcolor": "white",
          "plot_bgcolor": "#E5ECF6",
          "polar": {
           "angularaxis": {
            "gridcolor": "white",
            "linecolor": "white",
            "ticks": ""
           },
           "bgcolor": "#E5ECF6",
           "radialaxis": {
            "gridcolor": "white",
            "linecolor": "white",
            "ticks": ""
           }
          },
          "scene": {
           "xaxis": {
            "backgroundcolor": "#E5ECF6",
            "gridcolor": "white",
            "gridwidth": 2,
            "linecolor": "white",
            "showbackground": true,
            "ticks": "",
            "zerolinecolor": "white"
           },
           "yaxis": {
            "backgroundcolor": "#E5ECF6",
            "gridcolor": "white",
            "gridwidth": 2,
            "linecolor": "white",
            "showbackground": true,
            "ticks": "",
            "zerolinecolor": "white"
           },
           "zaxis": {
            "backgroundcolor": "#E5ECF6",
            "gridcolor": "white",
            "gridwidth": 2,
            "linecolor": "white",
            "showbackground": true,
            "ticks": "",
            "zerolinecolor": "white"
           }
          },
          "shapedefaults": {
           "line": {
            "color": "#2a3f5f"
           }
          },
          "ternary": {
           "aaxis": {
            "gridcolor": "white",
            "linecolor": "white",
            "ticks": ""
           },
           "baxis": {
            "gridcolor": "white",
            "linecolor": "white",
            "ticks": ""
           },
           "bgcolor": "#E5ECF6",
           "caxis": {
            "gridcolor": "white",
            "linecolor": "white",
            "ticks": ""
           }
          },
          "title": {
           "x": 0.05
          },
          "xaxis": {
           "automargin": true,
           "gridcolor": "white",
           "linecolor": "white",
           "ticks": "",
           "title": {
            "standoff": 15
           },
           "zerolinecolor": "white",
           "zerolinewidth": 2
          },
          "yaxis": {
           "automargin": true,
           "gridcolor": "white",
           "linecolor": "white",
           "ticks": "",
           "title": {
            "standoff": 15
           },
           "zerolinecolor": "white",
           "zerolinewidth": 2
          }
         }
        },
        "title": {
         "text": "2016 ~ 2020년 9월의 배추 가격(원/kg) 변화"
        },
        "xaxis": {
         "anchor": "y",
         "domain": [
          0,
          1
         ],
         "title": {
          "text": "date"
         }
        },
        "yaxis": {
         "anchor": "x",
         "domain": [
          0,
          1
         ],
         "title": {
          "text": "y"
         }
        }
       }
      }
     },
     "metadata": {},
     "output_type": "display_data"
    }
   ],
   "source": [
    "# load pickle\n",
    "with open(\"./pickles/hypo1_baechu_vol_data.pickle\", \"rb\") as fr:\n",
    "    df_baechu_vol = pickle.load(fr)\n",
    "with open(\"./pickles/hypo1_baechu_price_data.pickle\", \"rb\") as fr:\n",
    "    df_baechu_price = pickle.load(fr)\n",
    "\n",
    "# 8,9,11,12월 세로영역\n",
    "shapes_8_9 = [{'type' : 'rect',\n",
    "               'xref' : 'x',\n",
    "               'yref' : 'paper',\n",
    "               'x0' : '{}-08-01'.format(str(year)),\n",
    "               'y0' : 0,\n",
    "               'x1' : '{}-09-30'.format(str(year)),\n",
    "               'y1' : 1,\n",
    "               'fillcolor' : 'blue',\n",
    "               'opacity' : 0.1,\n",
    "               'line' : {'width' : 0}}\n",
    "                for year in range(2016, 2020)]\n",
    "shapes_11_12 = [{'type' : 'rect',\n",
    "                 'xref' : 'x',\n",
    "                 'yref' : 'paper',\n",
    "                 'x0' : '{}-11-01'.format(str(year)),\n",
    "                 'y0' : 0,\n",
    "                 'x1' : '{}-12-31'.format(str(year)),\n",
    "                 'y1' : 1,\n",
    "                 'fillcolor' : 'red',\n",
    "                 'opacity' : 0.1,\n",
    "                 'line' : {'width' : 0}}\n",
    "                 for year in range(2016, 2020)]\n",
    "\n",
    "# 시각화\n",
    "fig1 = px.line(df_baechu_vol, x = df_baechu_vol.index, y = df_baechu_vol.values, \n",
    "       title = '2016 ~ 2020년 9월의 배추 거래량(kg) 변화')\n",
    "fig1.update_layout(shapes = shapes_8_9 + shapes_11_12)\n",
    "fig1.show()\n",
    "\n",
    "fig2 = px.line(df_baechu_price, x = df_baechu_price.index, y = df_baechu_price.values, \n",
    "       title = '2016 ~ 2020년 9월의 배추 가격(원/kg) 변화')\n",
    "fig2.update_layout(shapes = shapes_8_9 + shapes_11_12)\n",
    "fig2.show()"
   ]
  },
  {
   "cell_type": "markdown",
   "metadata": {},
   "source": [
    "* 위의 그래프를 통해서,\n",
    "  * 배추의 거래량은 11, 12월에 급증한다. 또한 그보다 3개월 이전인 8, 9월에도 급증하는 추세를 보인다.\n",
    "  * 배추의 가격은 11, 12월에는 낮은 반면, 오히려 그보다 3개월 이전인 8, 9월에 급증하는 추세를 보인다.\n",
    "* 그래서 배추의 품종별로 연간 거래량과 가격이 어떻게 변화하는지 확인해보자. (2016년을 예시로 함)"
   ]
  },
  {
   "cell_type": "markdown",
   "metadata": {},
   "source": [
    "* ***여기서 2016년을 예시로 든 이유는,***\n",
    "  * 본인이 프로젝트를 진행하면서 많은 양의 데이터를 한 번에 처리하는데 어려움을 겪었는데, 그에 대한 나름대로의 해결 방안이 전체 데이터 중 1개 년의 데이터로만 확인해보는 것이었다.\n",
    "  * 많은 양의 데이터를 처리하는 여러 방식에 대해서는 프로젝트 진행 도중에 알게 되었는데, 시간 부족으로 인해 수정하지 못했다.\n",
    "  * 추후에 이와 비슷한 일을 겪는다면, 좀 더 매끄러운 데이터 처리를 할 수 있도록 해야겠다."
   ]
  },
  {
   "cell_type": "code",
   "execution_count": 19,
   "metadata": {},
   "outputs": [
    {
     "name": "stderr",
     "output_type": "stream",
     "text": [
      "100%|██████████| 12/12 [01:34<00:00,  7.86s/it]\n"
     ]
    }
   ],
   "source": [
    "# 2016년 도매시장 데이터\n",
    "df_2016 = TSALET_CONCAT_YEAR(2016)"
   ]
  },
  {
   "cell_type": "code",
   "execution_count": 40,
   "metadata": {},
   "outputs": [],
   "source": [
    "# 2016년 배추 거래 정보에서 COST, QTY, DANQ가 0 이하이거나 빈 칸이 있는 행은 제거\n",
    "# 도매시장에서 낱개 거래가 이루어져 단가의 이상치가 된다고 판단되는 행은 제거\n",
    "df_2016_baechu = df_2016[df_2016[\"PUM_NM\"]==\"배추\"].replace('', np.NaN).dropna()\n",
    "df_2016_baechu = df_2016_baechu.drop(df_2016_baechu[(df_2016_baechu[\"COST\"] <= 0) | (df_2016_baechu[\"QTY\"] <= 0) | (df_2016_baechu[\"DANQ\"] <= 0)].index, axis = 0)\n",
    "# df_2016_baechu = df_2016_baechu.drop(2976757, axis = 0)\n",
    "df_2016_baechu = df_2016_baechu.drop(df_2016_baechu[df_2016_baechu[\"POJ_NM\"]==\"상자\"].index, axis = 0)\n",
    "df_2016_baechu = df_2016_baechu.drop(df_2016_baechu[df_2016_baechu[\"QTY\"]==1].index, axis = 0)\n",
    "\n",
    "# 배추의 품종별로 단가의 평균을 계산해 column을 추가\n",
    "df_2016_baechu[\"COST_PER_DANQ\"] = df_2016_baechu[\"TOT_AMT\"] / df_2016_baechu[\"TOT_QTY\"]\n",
    "grouped_df_2016_baechu_DANQ = df_2016_baechu.groupby([\"KIND_NM\"])[\"COST_PER_DANQ\"].mean().sort_values(ascending = False)\n",
    "\n",
    "# 2016년의 배추 품종별 거래량의 합\n",
    "grouped_2016_baechu_kind_TOT_QTY = pd.DataFrame(df_2016_baechu.groupby([\"KIND_NM\", \"SALEDATE\"])[\"TOT_QTY\"].sum()).reset_index()\n",
    "df_2016_baechu_kind_TOT_QTY = pd.DataFrame(columns = [\"TOT_QTY\", \"KIND_NM\"])\n",
    "\n",
    "for kind in grouped_2016_baechu_kind_TOT_QTY[\"KIND_NM\"].unique():\n",
    "    df_temp = grouped_2016_baechu_kind_TOT_QTY[grouped_2016_baechu_kind_TOT_QTY[\"KIND_NM\"]==kind].drop([\"KIND_NM\"],\n",
    "                                                                                             axis = 1).set_index('SALEDATE')\n",
    "    df_temp = pd.DataFrame(df_temp[\"TOT_QTY\"].resample(\"W\").sum()).replace(0, np.NaN).dropna()\n",
    "    df_temp[\"KIND_NM\"] = [kind for i in range(df_temp.shape[0])]\n",
    "    df_2016_baechu_kind_TOT_QTY = pd.concat([df_2016_baechu_kind_TOT_QTY, df_temp])\n",
    "\n",
    "df_2016_baechu_kind_TOT_QTY = df_2016_baechu_kind_TOT_QTY.reset_index().rename(columns = {\"index\":\"SALEDATE\"})\n",
    "\n",
    "# 2016년 배추 품종별 단가의 평균\n",
    "grouped_2016_baechu_kind_DANQ = pd.DataFrame(df_2016_baechu.groupby([\"KIND_NM\", \"SALEDATE\"])[\"COST_PER_DANQ\"].mean()).reset_index()\n",
    "df_2016_baechu_kind_DANQ = pd.DataFrame(columns = [\"COST_PER_DANQ\", \"KIND_NM\"])\n",
    "\n",
    "for kind in grouped_2016_baechu_kind_DANQ[\"KIND_NM\"].unique():\n",
    "    df_temp = grouped_2016_baechu_kind_DANQ[grouped_2016_baechu_kind_DANQ[\"KIND_NM\"]==kind].drop([\"KIND_NM\"],\n",
    "                                                                                             axis = 1).set_index('SALEDATE')\n",
    "    df_temp = pd.DataFrame(df_temp[\"COST_PER_DANQ\"].resample(\"W\").mean()).replace(0, np.NaN).dropna()\n",
    "    df_temp[\"KIND_NM\"] = [kind for i in range(df_temp.shape[0])]\n",
    "    df_2016_baechu_kind_DANQ = pd.concat([df_2016_baechu_kind_DANQ, df_temp])\n",
    "    \n",
    "df_2016_baechu_kind_DANQ = df_2016_baechu_kind_DANQ.reset_index().rename(columns = {\"index\":\"SALEDATE\"})\n",
    "\n",
    "# save pickle\n",
    "with open(\"./pickles/hypo1_baechu_kind_TOT_QTY_data.pickle\", \"wb\") as fw:\n",
    "    pickle.dump(df_2016_baechu_kind_TOT_QTY, fw)\n",
    "with open(\"./pickles/hypo1_baechu_kind_DANQ_data.pickle\", \"wb\") as fw:\n",
    "    pickle.dump(df_2016_baechu_kind_DANQ, fw)"
   ]
  },
  {
   "cell_type": "code",
   "execution_count": 11,
   "metadata": {},
   "outputs": [
    {
     "data": {
      "application/vnd.plotly.v1+json": {
       "config": {
        "plotlyServerURL": "https://plotly.com"
       },
       "data": [
        {
         "hovertemplate": "KIND_NM=고냉지배추<br>SALEDATE=%{x}<br>TOT_QTY=%{y}<extra></extra>",
         "legendgroup": "고냉지배추",
         "line": {
          "color": "#636efa",
          "dash": "solid"
         },
         "marker": {
          "symbol": "circle"
         },
         "mode": "lines",
         "name": "고냉지배추",
         "orientation": "v",
         "showlegend": true,
         "type": "scatter",
         "x": [
          "2016-01-10T00:00:00",
          "2016-02-07T00:00:00",
          "2016-02-28T00:00:00",
          "2016-03-06T00:00:00",
          "2016-05-29T00:00:00",
          "2016-07-03T00:00:00",
          "2016-07-17T00:00:00",
          "2016-07-24T00:00:00",
          "2016-07-31T00:00:00",
          "2016-08-07T00:00:00",
          "2016-08-14T00:00:00",
          "2016-08-21T00:00:00",
          "2016-08-28T00:00:00",
          "2016-09-04T00:00:00",
          "2016-09-11T00:00:00",
          "2016-09-18T00:00:00",
          "2016-09-25T00:00:00",
          "2016-10-02T00:00:00",
          "2016-10-09T00:00:00",
          "2016-10-16T00:00:00",
          "2016-10-23T00:00:00",
          "2016-10-30T00:00:00",
          "2016-11-06T00:00:00",
          "2016-11-13T00:00:00",
          "2016-11-20T00:00:00",
          "2016-11-27T00:00:00",
          "2016-12-04T00:00:00"
         ],
         "xaxis": "x",
         "y": [
          19820,
          650,
          9750,
          1180,
          800,
          18500,
          70216,
          99748,
          239048,
          2100168,
          2729027,
          2640520,
          3380898,
          4082016,
          6026424,
          1958095,
          3453972,
          3442396,
          499041,
          284390,
          132320,
          78024,
          45708,
          36664,
          43325,
          131401,
          40769
         ],
         "yaxis": "y"
        },
        {
         "hovertemplate": "KIND_NM=기타배추<br>SALEDATE=%{x}<br>TOT_QTY=%{y}<extra></extra>",
         "legendgroup": "기타배추",
         "line": {
          "color": "#EF553B",
          "dash": "solid"
         },
         "marker": {
          "symbol": "circle"
         },
         "mode": "lines",
         "name": "기타배추",
         "orientation": "v",
         "showlegend": true,
         "type": "scatter",
         "x": [
          "2016-01-03T00:00:00",
          "2016-01-10T00:00:00",
          "2016-01-17T00:00:00",
          "2016-01-24T00:00:00",
          "2016-01-31T00:00:00",
          "2016-02-07T00:00:00",
          "2016-02-14T00:00:00",
          "2016-02-21T00:00:00",
          "2016-02-28T00:00:00",
          "2016-03-06T00:00:00",
          "2016-03-13T00:00:00",
          "2016-03-20T00:00:00",
          "2016-03-27T00:00:00",
          "2016-04-03T00:00:00",
          "2016-04-10T00:00:00",
          "2016-04-17T00:00:00",
          "2016-04-24T00:00:00",
          "2016-05-01T00:00:00",
          "2016-05-08T00:00:00",
          "2016-05-15T00:00:00",
          "2016-05-22T00:00:00",
          "2016-05-29T00:00:00",
          "2016-06-05T00:00:00",
          "2016-06-12T00:00:00",
          "2016-06-19T00:00:00",
          "2016-06-26T00:00:00",
          "2016-07-03T00:00:00",
          "2016-07-10T00:00:00",
          "2016-07-17T00:00:00",
          "2016-07-24T00:00:00",
          "2016-07-31T00:00:00",
          "2016-08-07T00:00:00",
          "2016-08-14T00:00:00",
          "2016-08-21T00:00:00",
          "2016-08-28T00:00:00",
          "2016-09-04T00:00:00",
          "2016-09-11T00:00:00",
          "2016-09-18T00:00:00",
          "2016-09-25T00:00:00",
          "2016-10-02T00:00:00",
          "2016-10-09T00:00:00",
          "2016-10-16T00:00:00",
          "2016-10-23T00:00:00",
          "2016-10-30T00:00:00",
          "2016-11-06T00:00:00",
          "2016-11-13T00:00:00",
          "2016-11-20T00:00:00",
          "2016-11-27T00:00:00",
          "2016-12-04T00:00:00",
          "2016-12-11T00:00:00",
          "2016-12-18T00:00:00",
          "2016-12-25T00:00:00",
          "2017-01-01T00:00:00"
         ],
         "xaxis": "x",
         "y": [
          32518,
          1463027,
          1096609,
          860766.5,
          1514971.5,
          1645856,
          465386.5,
          1447744.5,
          1402288.5,
          1342818.5,
          1319468,
          1211050,
          974302,
          1137899.5,
          1186199.6,
          1117757.6,
          1040004.8,
          1008588.4,
          890782.5,
          1102480.5,
          1181898.6,
          1510656.5,
          1540630.6,
          1611318.1,
          1713347,
          2044584.1,
          1741489.7999999998,
          1300395,
          1547109,
          1577285,
          1566950,
          1441077,
          1791488,
          1497123,
          1447903,
          1557893,
          2138912,
          914621,
          1361578,
          1314324,
          1988152,
          2196512,
          2539396.5,
          2134988,
          2973174,
          4186409,
          5497878,
          5527758,
          4688920,
          3970391,
          2386905,
          1596039,
          1041259
         ],
         "yaxis": "y"
        },
        {
         "hovertemplate": "KIND_NM=김장(가을)배추<br>SALEDATE=%{x}<br>TOT_QTY=%{y}<extra></extra>",
         "legendgroup": "김장(가을)배추",
         "line": {
          "color": "#00cc96",
          "dash": "solid"
         },
         "marker": {
          "symbol": "circle"
         },
         "mode": "lines",
         "name": "김장(가을)배추",
         "orientation": "v",
         "showlegend": true,
         "type": "scatter",
         "x": [
          "2016-01-10T00:00:00",
          "2016-01-17T00:00:00",
          "2016-01-24T00:00:00",
          "2016-01-31T00:00:00",
          "2016-02-07T00:00:00",
          "2016-02-14T00:00:00",
          "2016-02-21T00:00:00",
          "2016-02-28T00:00:00",
          "2016-03-06T00:00:00",
          "2016-03-13T00:00:00",
          "2016-03-20T00:00:00",
          "2016-03-27T00:00:00",
          "2016-04-03T00:00:00",
          "2016-04-10T00:00:00",
          "2016-04-17T00:00:00",
          "2016-04-24T00:00:00",
          "2016-05-01T00:00:00",
          "2016-05-08T00:00:00",
          "2016-05-15T00:00:00",
          "2016-05-22T00:00:00",
          "2016-05-29T00:00:00",
          "2016-06-05T00:00:00",
          "2016-06-12T00:00:00",
          "2016-06-19T00:00:00",
          "2016-06-26T00:00:00",
          "2016-07-03T00:00:00",
          "2016-07-10T00:00:00",
          "2016-07-17T00:00:00",
          "2016-07-24T00:00:00",
          "2016-07-31T00:00:00",
          "2016-08-07T00:00:00",
          "2016-08-14T00:00:00",
          "2016-08-21T00:00:00",
          "2016-08-28T00:00:00",
          "2016-09-04T00:00:00",
          "2016-09-11T00:00:00",
          "2016-09-18T00:00:00",
          "2016-09-25T00:00:00",
          "2016-10-02T00:00:00",
          "2016-10-09T00:00:00",
          "2016-10-16T00:00:00",
          "2016-10-23T00:00:00",
          "2016-10-30T00:00:00",
          "2016-11-06T00:00:00",
          "2016-11-13T00:00:00",
          "2016-11-20T00:00:00",
          "2016-11-27T00:00:00",
          "2016-12-04T00:00:00",
          "2016-12-11T00:00:00",
          "2016-12-18T00:00:00",
          "2016-12-25T00:00:00",
          "2017-01-01T00:00:00"
         ],
         "xaxis": "x",
         "y": [
          640762,
          230224,
          229998,
          373780,
          313700,
          131320,
          252038,
          243900,
          276468,
          262160,
          205030,
          212690,
          199960,
          238260,
          257690,
          248670,
          281060,
          354418,
          420596,
          270080,
          422222,
          277430,
          487382,
          422938,
          548614,
          519774,
          316520,
          153600,
          103330,
          108410,
          185300,
          165730,
          168200,
          194883,
          199780,
          291790,
          73930,
          181808,
          678000,
          3776066,
          3759714,
          4809692,
          4554090,
          5054902,
          7257208,
          10058540,
          10670118,
          9477039,
          7438144,
          5024312,
          3911118,
          2585210
         ],
         "yaxis": "y"
        },
        {
         "hovertemplate": "KIND_NM=배추<br>SALEDATE=%{x}<br>TOT_QTY=%{y}<extra></extra>",
         "legendgroup": "배추",
         "line": {
          "color": "#ab63fa",
          "dash": "solid"
         },
         "marker": {
          "symbol": "circle"
         },
         "mode": "lines",
         "name": "배추",
         "orientation": "v",
         "showlegend": true,
         "type": "scatter",
         "x": [
          "2016-01-03T00:00:00",
          "2016-01-10T00:00:00",
          "2016-01-17T00:00:00",
          "2016-01-24T00:00:00",
          "2016-01-31T00:00:00",
          "2016-02-07T00:00:00",
          "2016-02-14T00:00:00",
          "2016-02-21T00:00:00",
          "2016-02-28T00:00:00",
          "2016-03-06T00:00:00",
          "2016-03-13T00:00:00",
          "2016-03-20T00:00:00",
          "2016-03-27T00:00:00",
          "2016-04-03T00:00:00",
          "2016-04-10T00:00:00",
          "2016-04-17T00:00:00",
          "2016-04-24T00:00:00",
          "2016-05-01T00:00:00",
          "2016-05-08T00:00:00",
          "2016-05-15T00:00:00",
          "2016-05-22T00:00:00",
          "2016-05-29T00:00:00",
          "2016-06-05T00:00:00",
          "2016-06-12T00:00:00",
          "2016-06-19T00:00:00",
          "2016-06-26T00:00:00",
          "2016-07-03T00:00:00",
          "2016-07-10T00:00:00",
          "2016-07-17T00:00:00",
          "2016-07-24T00:00:00",
          "2016-07-31T00:00:00",
          "2016-08-07T00:00:00",
          "2016-08-14T00:00:00",
          "2016-08-21T00:00:00",
          "2016-08-28T00:00:00",
          "2016-09-04T00:00:00",
          "2016-09-11T00:00:00",
          "2016-09-18T00:00:00",
          "2016-09-25T00:00:00",
          "2016-10-02T00:00:00",
          "2016-10-09T00:00:00",
          "2016-10-16T00:00:00",
          "2016-10-23T00:00:00",
          "2016-10-30T00:00:00",
          "2016-11-06T00:00:00",
          "2016-11-13T00:00:00",
          "2016-11-20T00:00:00",
          "2016-11-27T00:00:00",
          "2016-12-04T00:00:00",
          "2016-12-11T00:00:00",
          "2016-12-18T00:00:00",
          "2016-12-25T00:00:00",
          "2017-01-01T00:00:00"
         ],
         "xaxis": "x",
         "y": [
          9418,
          115814,
          89051,
          68381,
          71714,
          143872,
          39910,
          117513,
          94623,
          102974,
          66472,
          80319,
          71640,
          115786,
          113206,
          68760,
          87154,
          74222,
          114157,
          150881,
          110879,
          115774,
          158620,
          104445,
          129692,
          128240,
          140904,
          88142,
          119739,
          161221,
          168814,
          95646,
          132404,
          122444,
          125604,
          152134,
          287291,
          132685.5,
          155431,
          135377,
          172117,
          192279,
          272278.8,
          233505,
          283673,
          285632,
          370119.5,
          524985.5,
          820129.8,
          765979,
          491786,
          186771.4,
          164582
         ],
         "yaxis": "y"
        },
        {
         "hovertemplate": "KIND_NM=배추뿌리<br>SALEDATE=%{x}<br>TOT_QTY=%{y}<extra></extra>",
         "legendgroup": "배추뿌리",
         "line": {
          "color": "#FFA15A",
          "dash": "solid"
         },
         "marker": {
          "symbol": "circle"
         },
         "mode": "lines",
         "name": "배추뿌리",
         "orientation": "v",
         "showlegend": true,
         "type": "scatter",
         "x": [
          "2016-01-10T00:00:00",
          "2016-01-17T00:00:00",
          "2016-01-24T00:00:00",
          "2016-01-31T00:00:00",
          "2016-02-07T00:00:00",
          "2016-02-14T00:00:00",
          "2016-02-21T00:00:00",
          "2016-02-28T00:00:00",
          "2016-03-06T00:00:00",
          "2016-03-13T00:00:00",
          "2016-03-20T00:00:00",
          "2016-03-27T00:00:00",
          "2016-04-03T00:00:00",
          "2016-04-10T00:00:00",
          "2016-04-17T00:00:00",
          "2016-04-24T00:00:00",
          "2016-05-01T00:00:00",
          "2016-05-08T00:00:00",
          "2016-05-15T00:00:00",
          "2016-05-22T00:00:00",
          "2016-05-29T00:00:00",
          "2016-06-05T00:00:00",
          "2016-06-12T00:00:00",
          "2016-06-19T00:00:00",
          "2016-06-26T00:00:00",
          "2016-07-03T00:00:00",
          "2016-07-10T00:00:00",
          "2016-07-17T00:00:00",
          "2016-07-24T00:00:00",
          "2016-07-31T00:00:00",
          "2016-08-07T00:00:00",
          "2016-08-14T00:00:00",
          "2016-08-21T00:00:00",
          "2016-08-28T00:00:00",
          "2016-09-04T00:00:00",
          "2016-09-11T00:00:00",
          "2016-09-18T00:00:00",
          "2016-09-25T00:00:00",
          "2016-10-02T00:00:00",
          "2016-10-09T00:00:00",
          "2016-10-16T00:00:00",
          "2016-10-23T00:00:00",
          "2016-10-30T00:00:00",
          "2016-11-06T00:00:00",
          "2016-11-13T00:00:00",
          "2016-11-20T00:00:00",
          "2016-11-27T00:00:00",
          "2016-12-04T00:00:00",
          "2016-12-11T00:00:00",
          "2016-12-18T00:00:00",
          "2016-12-25T00:00:00",
          "2017-01-01T00:00:00"
         ],
         "xaxis": "x",
         "y": [
          3082,
          1676,
          2336,
          900,
          5748,
          1176,
          2770,
          3312,
          1482,
          1448,
          908,
          680,
          1272,
          2096,
          1392,
          1856,
          2596,
          1952,
          1896,
          2536,
          2664,
          2600,
          1432,
          2224,
          1978,
          2496,
          1592,
          1896,
          3112,
          1548,
          784,
          736,
          688,
          664,
          480,
          2058,
          1172,
          1216,
          1930,
          1096,
          2656,
          1624,
          2368,
          2472,
          1688,
          3376,
          1936,
          5958,
          2784,
          2508,
          1742,
          4272
         ],
         "yaxis": "y"
        },
        {
         "hovertemplate": "KIND_NM=봄배추<br>SALEDATE=%{x}<br>TOT_QTY=%{y}<extra></extra>",
         "legendgroup": "봄배추",
         "line": {
          "color": "#19d3f3",
          "dash": "solid"
         },
         "marker": {
          "symbol": "circle"
         },
         "mode": "lines",
         "name": "봄배추",
         "orientation": "v",
         "showlegend": true,
         "type": "scatter",
         "x": [
          "2016-01-03T00:00:00",
          "2016-01-10T00:00:00",
          "2016-01-17T00:00:00",
          "2016-01-24T00:00:00",
          "2016-01-31T00:00:00",
          "2016-02-07T00:00:00",
          "2016-02-14T00:00:00",
          "2016-02-21T00:00:00",
          "2016-02-28T00:00:00",
          "2016-03-06T00:00:00",
          "2016-03-13T00:00:00",
          "2016-03-20T00:00:00",
          "2016-03-27T00:00:00",
          "2016-04-03T00:00:00",
          "2016-04-10T00:00:00",
          "2016-04-17T00:00:00",
          "2016-04-24T00:00:00",
          "2016-05-01T00:00:00",
          "2016-05-08T00:00:00",
          "2016-05-15T00:00:00",
          "2016-05-22T00:00:00",
          "2016-05-29T00:00:00",
          "2016-06-05T00:00:00",
          "2016-06-12T00:00:00",
          "2016-06-19T00:00:00",
          "2016-06-26T00:00:00",
          "2016-07-03T00:00:00",
          "2016-07-10T00:00:00",
          "2016-07-17T00:00:00",
          "2016-07-24T00:00:00",
          "2016-07-31T00:00:00",
          "2016-08-07T00:00:00",
          "2016-08-14T00:00:00",
          "2016-08-21T00:00:00",
          "2016-08-28T00:00:00",
          "2016-09-04T00:00:00",
          "2016-09-11T00:00:00",
          "2016-09-18T00:00:00",
          "2016-09-25T00:00:00",
          "2016-10-02T00:00:00",
          "2016-10-09T00:00:00",
          "2016-10-16T00:00:00",
          "2016-10-23T00:00:00",
          "2016-10-30T00:00:00",
          "2016-11-06T00:00:00",
          "2016-11-13T00:00:00",
          "2016-11-20T00:00:00",
          "2016-11-27T00:00:00",
          "2016-12-04T00:00:00",
          "2016-12-11T00:00:00",
          "2016-12-18T00:00:00",
          "2016-12-25T00:00:00",
          "2017-01-01T00:00:00"
         ],
         "xaxis": "x",
         "y": [
          10691,
          237101,
          172553,
          164544,
          226783,
          277997,
          101319,
          276911,
          280527,
          252183,
          214790,
          246500,
          197081,
          189074,
          261535,
          353011,
          911645,
          2665783,
          3047086,
          3846333,
          3769448,
          4399661,
          3858285,
          3990368,
          4087601,
          4239640,
          3108329,
          533558,
          473172,
          508086.5,
          499895.5,
          387933,
          424344,
          302021,
          377227,
          414353,
          567423,
          167701,
          402385,
          347062,
          437306.5,
          435141,
          529363,
          454909,
          475852,
          780016,
          903338,
          983413,
          969070,
          796802,
          412641,
          306599,
          233682
         ],
         "yaxis": "y"
        },
        {
         "hovertemplate": "KIND_NM=생채용 배추<br>SALEDATE=%{x}<br>TOT_QTY=%{y}<extra></extra>",
         "legendgroup": "생채용 배추",
         "line": {
          "color": "#FF6692",
          "dash": "solid"
         },
         "marker": {
          "symbol": "circle"
         },
         "mode": "lines",
         "name": "생채용 배추",
         "orientation": "v",
         "showlegend": true,
         "type": "scatter",
         "x": [
          "2016-01-10T00:00:00",
          "2016-01-17T00:00:00",
          "2016-01-24T00:00:00",
          "2016-01-31T00:00:00",
          "2016-02-07T00:00:00",
          "2016-02-21T00:00:00",
          "2016-03-06T00:00:00",
          "2016-03-13T00:00:00",
          "2016-03-20T00:00:00",
          "2016-03-27T00:00:00",
          "2016-04-03T00:00:00",
          "2016-04-10T00:00:00",
          "2016-04-17T00:00:00",
          "2016-04-24T00:00:00",
          "2016-05-01T00:00:00",
          "2016-05-08T00:00:00",
          "2016-05-15T00:00:00",
          "2016-05-22T00:00:00",
          "2016-05-29T00:00:00",
          "2016-06-05T00:00:00",
          "2016-06-12T00:00:00",
          "2016-06-19T00:00:00",
          "2016-06-26T00:00:00",
          "2016-07-03T00:00:00",
          "2016-07-10T00:00:00",
          "2016-07-17T00:00:00",
          "2016-07-24T00:00:00",
          "2016-07-31T00:00:00",
          "2016-08-07T00:00:00",
          "2016-08-14T00:00:00",
          "2016-08-21T00:00:00",
          "2016-08-28T00:00:00",
          "2016-09-04T00:00:00",
          "2016-09-11T00:00:00",
          "2016-09-18T00:00:00",
          "2016-09-25T00:00:00",
          "2016-10-02T00:00:00",
          "2016-10-09T00:00:00",
          "2016-10-16T00:00:00",
          "2016-10-23T00:00:00",
          "2016-10-30T00:00:00",
          "2016-11-06T00:00:00",
          "2016-11-13T00:00:00",
          "2016-11-20T00:00:00",
          "2016-11-27T00:00:00",
          "2016-12-04T00:00:00",
          "2016-12-11T00:00:00",
          "2016-12-18T00:00:00",
          "2016-12-25T00:00:00",
          "2017-01-01T00:00:00"
         ],
         "xaxis": "x",
         "y": [
          1150,
          400,
          500,
          500,
          600,
          400,
          520,
          700,
          800,
          800,
          900,
          1300,
          1600,
          1500,
          1400,
          1600,
          2300,
          2000,
          1800,
          1100,
          1950,
          2000,
          3600,
          5780,
          3820,
          2870,
          3460,
          2890,
          3160,
          4350,
          3710,
          3590,
          3500,
          2690,
          850,
          3340,
          4270,
          3720,
          4520,
          4800,
          4270,
          4170,
          3290,
          3950,
          3930,
          4630,
          3960,
          4120,
          3200,
          2550
         ],
         "yaxis": "y"
        },
        {
         "hovertemplate": "KIND_NM=쌈배추<br>SALEDATE=%{x}<br>TOT_QTY=%{y}<extra></extra>",
         "legendgroup": "쌈배추",
         "line": {
          "color": "#B6E880",
          "dash": "solid"
         },
         "marker": {
          "symbol": "circle"
         },
         "mode": "lines",
         "name": "쌈배추",
         "orientation": "v",
         "showlegend": true,
         "type": "scatter",
         "x": [
          "2016-01-03T00:00:00",
          "2016-01-10T00:00:00",
          "2016-01-17T00:00:00",
          "2016-01-24T00:00:00",
          "2016-01-31T00:00:00",
          "2016-02-07T00:00:00",
          "2016-02-14T00:00:00",
          "2016-02-21T00:00:00",
          "2016-02-28T00:00:00",
          "2016-03-06T00:00:00",
          "2016-03-13T00:00:00",
          "2016-03-20T00:00:00",
          "2016-03-27T00:00:00",
          "2016-04-03T00:00:00",
          "2016-04-10T00:00:00",
          "2016-04-17T00:00:00",
          "2016-04-24T00:00:00",
          "2016-05-01T00:00:00",
          "2016-05-08T00:00:00",
          "2016-05-15T00:00:00",
          "2016-05-22T00:00:00",
          "2016-05-29T00:00:00",
          "2016-06-05T00:00:00",
          "2016-06-12T00:00:00",
          "2016-06-19T00:00:00",
          "2016-06-26T00:00:00",
          "2016-07-03T00:00:00",
          "2016-07-10T00:00:00",
          "2016-07-17T00:00:00",
          "2016-07-24T00:00:00",
          "2016-07-31T00:00:00",
          "2016-08-07T00:00:00",
          "2016-08-14T00:00:00",
          "2016-08-21T00:00:00",
          "2016-08-28T00:00:00",
          "2016-09-04T00:00:00",
          "2016-09-11T00:00:00",
          "2016-09-18T00:00:00",
          "2016-09-25T00:00:00",
          "2016-10-02T00:00:00",
          "2016-10-09T00:00:00",
          "2016-10-16T00:00:00",
          "2016-10-23T00:00:00",
          "2016-10-30T00:00:00",
          "2016-11-06T00:00:00",
          "2016-11-13T00:00:00",
          "2016-11-20T00:00:00",
          "2016-11-27T00:00:00",
          "2016-12-04T00:00:00",
          "2016-12-11T00:00:00",
          "2016-12-18T00:00:00",
          "2016-12-25T00:00:00",
          "2017-01-01T00:00:00"
         ],
         "xaxis": "x",
         "y": [
          1182,
          39664,
          38430,
          38508,
          31286,
          20997,
          9972.4,
          53875.6,
          38815,
          55640,
          46810,
          83079,
          84501,
          96304,
          96056,
          95532,
          79939,
          65375.5,
          51916,
          59672,
          53022,
          64333,
          71911.8,
          46496.2,
          44279,
          46612,
          51687,
          63989,
          106155,
          76130,
          64247,
          67745,
          50842,
          37795.5,
          48442,
          42628,
          78625,
          17183,
          53448,
          38654.5,
          39207,
          68329,
          55120,
          46342,
          29271.5,
          18570,
          26661,
          19448,
          27744,
          32888.1,
          30071,
          25095,
          34062
         ],
         "yaxis": "y"
        },
        {
         "hovertemplate": "KIND_NM=여름배추<br>SALEDATE=%{x}<br>TOT_QTY=%{y}<extra></extra>",
         "legendgroup": "여름배추",
         "line": {
          "color": "#FF97FF",
          "dash": "solid"
         },
         "marker": {
          "symbol": "circle"
         },
         "mode": "lines",
         "name": "여름배추",
         "orientation": "v",
         "showlegend": true,
         "type": "scatter",
         "x": [
          "2016-05-22T00:00:00",
          "2016-06-12T00:00:00",
          "2016-06-19T00:00:00",
          "2016-06-26T00:00:00",
          "2016-07-03T00:00:00",
          "2016-07-10T00:00:00",
          "2016-07-17T00:00:00",
          "2016-07-24T00:00:00",
          "2016-07-31T00:00:00",
          "2016-08-07T00:00:00",
          "2016-08-14T00:00:00",
          "2016-08-21T00:00:00",
          "2016-08-28T00:00:00",
          "2016-09-04T00:00:00",
          "2016-09-11T00:00:00",
          "2016-09-18T00:00:00",
          "2016-09-25T00:00:00",
          "2016-10-02T00:00:00",
          "2016-10-09T00:00:00",
          "2016-10-16T00:00:00",
          "2016-10-23T00:00:00",
          "2016-10-30T00:00:00",
          "2016-11-06T00:00:00"
         ],
         "xaxis": "x",
         "y": [
          1000,
          4100,
          13650,
          28500,
          768722,
          3042700,
          3354003,
          3800469,
          3695859,
          824757,
          656824,
          571294,
          648687,
          653752,
          1032721,
          377270,
          539172,
          454176,
          464410,
          572114,
          536838,
          279960,
          79080
         ],
         "yaxis": "y"
        },
        {
         "hovertemplate": "KIND_NM=우거지<br>SALEDATE=%{x}<br>TOT_QTY=%{y}<extra></extra>",
         "legendgroup": "우거지",
         "line": {
          "color": "#FECB52",
          "dash": "solid"
         },
         "marker": {
          "symbol": "circle"
         },
         "mode": "lines",
         "name": "우거지",
         "orientation": "v",
         "showlegend": true,
         "type": "scatter",
         "x": [
          "2016-01-10T00:00:00",
          "2016-01-17T00:00:00",
          "2016-01-24T00:00:00",
          "2016-01-31T00:00:00",
          "2016-02-07T00:00:00",
          "2016-02-14T00:00:00",
          "2016-02-21T00:00:00",
          "2016-02-28T00:00:00",
          "2016-03-06T00:00:00",
          "2016-03-13T00:00:00",
          "2016-03-20T00:00:00",
          "2016-03-27T00:00:00",
          "2016-04-03T00:00:00",
          "2016-04-10T00:00:00",
          "2016-04-17T00:00:00",
          "2016-04-24T00:00:00",
          "2016-05-01T00:00:00",
          "2016-05-08T00:00:00",
          "2016-05-15T00:00:00",
          "2016-05-22T00:00:00",
          "2016-05-29T00:00:00",
          "2016-06-05T00:00:00",
          "2016-06-12T00:00:00",
          "2016-06-19T00:00:00",
          "2016-06-26T00:00:00",
          "2016-07-03T00:00:00",
          "2016-07-10T00:00:00",
          "2016-07-17T00:00:00",
          "2016-07-24T00:00:00",
          "2016-07-31T00:00:00",
          "2016-08-07T00:00:00",
          "2016-08-14T00:00:00",
          "2016-08-21T00:00:00",
          "2016-08-28T00:00:00",
          "2016-09-04T00:00:00",
          "2016-09-11T00:00:00",
          "2016-09-18T00:00:00",
          "2016-09-25T00:00:00",
          "2016-10-02T00:00:00",
          "2016-10-09T00:00:00",
          "2016-10-16T00:00:00",
          "2016-10-23T00:00:00",
          "2016-10-30T00:00:00",
          "2016-11-06T00:00:00",
          "2016-11-13T00:00:00",
          "2016-11-20T00:00:00",
          "2016-11-27T00:00:00",
          "2016-12-04T00:00:00",
          "2016-12-11T00:00:00",
          "2016-12-18T00:00:00",
          "2016-12-25T00:00:00",
          "2017-01-01T00:00:00"
         ],
         "xaxis": "x",
         "y": [
          1849,
          7513,
          6397,
          1884,
          5556,
          67,
          584,
          154,
          212,
          875.5,
          693,
          1290,
          1353,
          391,
          1628,
          1733,
          303,
          520,
          330,
          150,
          65,
          78,
          106,
          8,
          77,
          190,
          133,
          28,
          196,
          106,
          8,
          55,
          82,
          48,
          38,
          240,
          24,
          78,
          32,
          3,
          454,
          204,
          52,
          253,
          1090,
          2820,
          851,
          1118,
          1080,
          272,
          1504,
          1248.05
         ],
         "yaxis": "y"
        },
        {
         "hovertemplate": "KIND_NM=월동배추<br>SALEDATE=%{x}<br>TOT_QTY=%{y}<extra></extra>",
         "legendgroup": "월동배추",
         "line": {
          "color": "#636efa",
          "dash": "solid"
         },
         "marker": {
          "symbol": "circle"
         },
         "mode": "lines",
         "name": "월동배추",
         "orientation": "v",
         "showlegend": true,
         "type": "scatter",
         "x": [
          "2016-01-03T00:00:00",
          "2016-01-10T00:00:00",
          "2016-01-17T00:00:00",
          "2016-01-24T00:00:00",
          "2016-01-31T00:00:00",
          "2016-02-07T00:00:00",
          "2016-02-14T00:00:00",
          "2016-02-21T00:00:00",
          "2016-02-28T00:00:00",
          "2016-03-06T00:00:00",
          "2016-03-13T00:00:00",
          "2016-03-20T00:00:00",
          "2016-03-27T00:00:00",
          "2016-04-03T00:00:00",
          "2016-04-10T00:00:00",
          "2016-04-17T00:00:00",
          "2016-04-24T00:00:00",
          "2016-05-01T00:00:00",
          "2016-05-08T00:00:00",
          "2016-05-15T00:00:00",
          "2016-05-22T00:00:00",
          "2016-05-29T00:00:00",
          "2016-06-05T00:00:00",
          "2016-06-12T00:00:00",
          "2016-06-19T00:00:00",
          "2016-06-26T00:00:00",
          "2016-07-03T00:00:00",
          "2016-07-10T00:00:00",
          "2016-07-17T00:00:00",
          "2016-07-24T00:00:00",
          "2016-07-31T00:00:00",
          "2016-08-07T00:00:00",
          "2016-08-14T00:00:00",
          "2016-08-21T00:00:00",
          "2016-08-28T00:00:00",
          "2016-09-04T00:00:00",
          "2016-09-11T00:00:00",
          "2016-09-18T00:00:00",
          "2016-09-25T00:00:00",
          "2016-10-02T00:00:00",
          "2016-10-09T00:00:00",
          "2016-10-16T00:00:00",
          "2016-10-23T00:00:00",
          "2016-10-30T00:00:00",
          "2016-11-06T00:00:00",
          "2016-11-13T00:00:00",
          "2016-11-20T00:00:00",
          "2016-11-27T00:00:00",
          "2016-12-04T00:00:00",
          "2016-12-11T00:00:00",
          "2016-12-18T00:00:00",
          "2016-12-25T00:00:00",
          "2017-01-01T00:00:00"
         ],
         "xaxis": "x",
         "y": [
          2775,
          2431820,
          1899470,
          1675164,
          2346847,
          2997945,
          838269,
          2737441,
          2796454,
          2366017,
          2639172,
          908092,
          676396,
          614578,
          431558,
          294283,
          291276,
          363080,
          356830,
          288819,
          326732,
          382910,
          401996,
          410495,
          412111,
          359318,
          380699,
          258627,
          427225,
          454787,
          378771,
          271160,
          435078,
          393118,
          429121,
          512850,
          856122,
          224498,
          464926,
          362991,
          350816,
          454072,
          575246,
          524339,
          662798,
          1012219,
          1414740,
          1555644,
          1378817,
          958976,
          521307,
          307312,
          276781
         ],
         "yaxis": "y"
        },
        {
         "hovertemplate": "KIND_NM=저장배추<br>SALEDATE=%{x}<br>TOT_QTY=%{y}<extra></extra>",
         "legendgroup": "저장배추",
         "line": {
          "color": "#EF553B",
          "dash": "solid"
         },
         "marker": {
          "symbol": "circle"
         },
         "mode": "lines",
         "name": "저장배추",
         "orientation": "v",
         "showlegend": true,
         "type": "scatter",
         "x": [
          "2016-01-10T00:00:00",
          "2016-01-17T00:00:00",
          "2016-01-24T00:00:00",
          "2016-01-31T00:00:00",
          "2016-02-07T00:00:00",
          "2016-02-14T00:00:00",
          "2016-02-21T00:00:00",
          "2016-02-28T00:00:00",
          "2016-03-06T00:00:00",
          "2016-03-13T00:00:00",
          "2016-03-20T00:00:00",
          "2016-03-27T00:00:00",
          "2016-04-03T00:00:00",
          "2016-04-10T00:00:00",
          "2016-04-17T00:00:00",
          "2016-04-24T00:00:00",
          "2016-05-01T00:00:00",
          "2016-05-08T00:00:00",
          "2016-05-15T00:00:00",
          "2016-05-22T00:00:00",
          "2016-05-29T00:00:00",
          "2016-06-05T00:00:00",
          "2016-06-12T00:00:00",
          "2016-06-19T00:00:00",
          "2016-06-26T00:00:00",
          "2016-07-03T00:00:00",
          "2016-07-10T00:00:00",
          "2016-07-17T00:00:00",
          "2016-07-24T00:00:00",
          "2016-07-31T00:00:00",
          "2016-08-07T00:00:00",
          "2016-08-14T00:00:00",
          "2016-08-21T00:00:00",
          "2016-08-28T00:00:00",
          "2016-09-04T00:00:00",
          "2016-09-11T00:00:00",
          "2016-09-18T00:00:00",
          "2016-09-25T00:00:00",
          "2016-10-02T00:00:00",
          "2016-10-09T00:00:00",
          "2016-10-16T00:00:00",
          "2016-10-23T00:00:00",
          "2016-10-30T00:00:00",
          "2016-11-06T00:00:00",
          "2016-11-13T00:00:00",
          "2016-11-20T00:00:00",
          "2016-11-27T00:00:00",
          "2016-12-04T00:00:00",
          "2016-12-11T00:00:00",
          "2016-12-18T00:00:00",
          "2016-12-25T00:00:00",
          "2017-01-01T00:00:00"
         ],
         "xaxis": "x",
         "y": [
          40168,
          68478,
          21598,
          86732,
          93566,
          13728,
          42288,
          47742,
          39640,
          23770,
          1944912,
          2046280,
          1981702,
          1822692,
          1874736,
          1543530,
          640908,
          223586,
          69004,
          48428,
          54096,
          61584,
          49970,
          43312,
          36996,
          50048,
          33114,
          57912,
          41496,
          34884,
          54840,
          47580,
          58752,
          59700,
          67761,
          153576,
          42600,
          53142,
          57530,
          55280,
          60508,
          63656,
          56448,
          58800,
          85848,
          94552,
          157852,
          188904,
          243580,
          141224,
          96168,
          58660
         ],
         "yaxis": "y"
        },
        {
         "hovertemplate": "KIND_NM=절임배추<br>SALEDATE=%{x}<br>TOT_QTY=%{y}<extra></extra>",
         "legendgroup": "절임배추",
         "line": {
          "color": "#00cc96",
          "dash": "solid"
         },
         "marker": {
          "symbol": "circle"
         },
         "mode": "lines",
         "name": "절임배추",
         "orientation": "v",
         "showlegend": true,
         "type": "scatter",
         "x": [
          "2016-01-10T00:00:00",
          "2016-01-17T00:00:00",
          "2016-02-07T00:00:00",
          "2016-08-21T00:00:00",
          "2016-10-16T00:00:00",
          "2016-11-13T00:00:00",
          "2016-11-20T00:00:00",
          "2016-11-27T00:00:00",
          "2016-12-04T00:00:00",
          "2016-12-11T00:00:00",
          "2016-12-18T00:00:00",
          "2016-12-25T00:00:00",
          "2017-01-01T00:00:00"
         ],
         "xaxis": "x",
         "y": [
          120,
          1000,
          1220,
          240,
          550,
          9060,
          31000,
          84180,
          148372,
          207290,
          77240,
          65860,
          9440
         ],
         "yaxis": "y"
        }
       ],
       "layout": {
        "height": 600,
        "legend": {
         "title": {
          "text": "KIND_NM"
         },
         "tracegroupgap": 0
        },
        "shapes": [
         {
          "fillcolor": "blue",
          "line": {
           "width": 0
          },
          "opacity": 0.1,
          "type": "rect",
          "x0": "2016-08-01",
          "x1": "2016-09-30",
          "xref": "x",
          "y0": 0,
          "y1": 1,
          "yref": "paper"
         },
         {
          "fillcolor": "red",
          "line": {
           "width": 0
          },
          "opacity": 0.1,
          "type": "rect",
          "x0": "2016-11-01",
          "x1": "2016-12-31",
          "xref": "x",
          "y0": 0,
          "y1": 1,
          "yref": "paper"
         }
        ],
        "template": {
         "data": {
          "bar": [
           {
            "error_x": {
             "color": "#2a3f5f"
            },
            "error_y": {
             "color": "#2a3f5f"
            },
            "marker": {
             "line": {
              "color": "#E5ECF6",
              "width": 0.5
             },
             "pattern": {
              "fillmode": "overlay",
              "size": 10,
              "solidity": 0.2
             }
            },
            "type": "bar"
           }
          ],
          "barpolar": [
           {
            "marker": {
             "line": {
              "color": "#E5ECF6",
              "width": 0.5
             },
             "pattern": {
              "fillmode": "overlay",
              "size": 10,
              "solidity": 0.2
             }
            },
            "type": "barpolar"
           }
          ],
          "carpet": [
           {
            "aaxis": {
             "endlinecolor": "#2a3f5f",
             "gridcolor": "white",
             "linecolor": "white",
             "minorgridcolor": "white",
             "startlinecolor": "#2a3f5f"
            },
            "baxis": {
             "endlinecolor": "#2a3f5f",
             "gridcolor": "white",
             "linecolor": "white",
             "minorgridcolor": "white",
             "startlinecolor": "#2a3f5f"
            },
            "type": "carpet"
           }
          ],
          "choropleth": [
           {
            "colorbar": {
             "outlinewidth": 0,
             "ticks": ""
            },
            "type": "choropleth"
           }
          ],
          "contour": [
           {
            "colorbar": {
             "outlinewidth": 0,
             "ticks": ""
            },
            "colorscale": [
             [
              0,
              "#0d0887"
             ],
             [
              0.1111111111111111,
              "#46039f"
             ],
             [
              0.2222222222222222,
              "#7201a8"
             ],
             [
              0.3333333333333333,
              "#9c179e"
             ],
             [
              0.4444444444444444,
              "#bd3786"
             ],
             [
              0.5555555555555556,
              "#d8576b"
             ],
             [
              0.6666666666666666,
              "#ed7953"
             ],
             [
              0.7777777777777778,
              "#fb9f3a"
             ],
             [
              0.8888888888888888,
              "#fdca26"
             ],
             [
              1,
              "#f0f921"
             ]
            ],
            "type": "contour"
           }
          ],
          "contourcarpet": [
           {
            "colorbar": {
             "outlinewidth": 0,
             "ticks": ""
            },
            "type": "contourcarpet"
           }
          ],
          "heatmap": [
           {
            "colorbar": {
             "outlinewidth": 0,
             "ticks": ""
            },
            "colorscale": [
             [
              0,
              "#0d0887"
             ],
             [
              0.1111111111111111,
              "#46039f"
             ],
             [
              0.2222222222222222,
              "#7201a8"
             ],
             [
              0.3333333333333333,
              "#9c179e"
             ],
             [
              0.4444444444444444,
              "#bd3786"
             ],
             [
              0.5555555555555556,
              "#d8576b"
             ],
             [
              0.6666666666666666,
              "#ed7953"
             ],
             [
              0.7777777777777778,
              "#fb9f3a"
             ],
             [
              0.8888888888888888,
              "#fdca26"
             ],
             [
              1,
              "#f0f921"
             ]
            ],
            "type": "heatmap"
           }
          ],
          "heatmapgl": [
           {
            "colorbar": {
             "outlinewidth": 0,
             "ticks": ""
            },
            "colorscale": [
             [
              0,
              "#0d0887"
             ],
             [
              0.1111111111111111,
              "#46039f"
             ],
             [
              0.2222222222222222,
              "#7201a8"
             ],
             [
              0.3333333333333333,
              "#9c179e"
             ],
             [
              0.4444444444444444,
              "#bd3786"
             ],
             [
              0.5555555555555556,
              "#d8576b"
             ],
             [
              0.6666666666666666,
              "#ed7953"
             ],
             [
              0.7777777777777778,
              "#fb9f3a"
             ],
             [
              0.8888888888888888,
              "#fdca26"
             ],
             [
              1,
              "#f0f921"
             ]
            ],
            "type": "heatmapgl"
           }
          ],
          "histogram": [
           {
            "marker": {
             "pattern": {
              "fillmode": "overlay",
              "size": 10,
              "solidity": 0.2
             }
            },
            "type": "histogram"
           }
          ],
          "histogram2d": [
           {
            "colorbar": {
             "outlinewidth": 0,
             "ticks": ""
            },
            "colorscale": [
             [
              0,
              "#0d0887"
             ],
             [
              0.1111111111111111,
              "#46039f"
             ],
             [
              0.2222222222222222,
              "#7201a8"
             ],
             [
              0.3333333333333333,
              "#9c179e"
             ],
             [
              0.4444444444444444,
              "#bd3786"
             ],
             [
              0.5555555555555556,
              "#d8576b"
             ],
             [
              0.6666666666666666,
              "#ed7953"
             ],
             [
              0.7777777777777778,
              "#fb9f3a"
             ],
             [
              0.8888888888888888,
              "#fdca26"
             ],
             [
              1,
              "#f0f921"
             ]
            ],
            "type": "histogram2d"
           }
          ],
          "histogram2dcontour": [
           {
            "colorbar": {
             "outlinewidth": 0,
             "ticks": ""
            },
            "colorscale": [
             [
              0,
              "#0d0887"
             ],
             [
              0.1111111111111111,
              "#46039f"
             ],
             [
              0.2222222222222222,
              "#7201a8"
             ],
             [
              0.3333333333333333,
              "#9c179e"
             ],
             [
              0.4444444444444444,
              "#bd3786"
             ],
             [
              0.5555555555555556,
              "#d8576b"
             ],
             [
              0.6666666666666666,
              "#ed7953"
             ],
             [
              0.7777777777777778,
              "#fb9f3a"
             ],
             [
              0.8888888888888888,
              "#fdca26"
             ],
             [
              1,
              "#f0f921"
             ]
            ],
            "type": "histogram2dcontour"
           }
          ],
          "mesh3d": [
           {
            "colorbar": {
             "outlinewidth": 0,
             "ticks": ""
            },
            "type": "mesh3d"
           }
          ],
          "parcoords": [
           {
            "line": {
             "colorbar": {
              "outlinewidth": 0,
              "ticks": ""
             }
            },
            "type": "parcoords"
           }
          ],
          "pie": [
           {
            "automargin": true,
            "type": "pie"
           }
          ],
          "scatter": [
           {
            "fillpattern": {
             "fillmode": "overlay",
             "size": 10,
             "solidity": 0.2
            },
            "type": "scatter"
           }
          ],
          "scatter3d": [
           {
            "line": {
             "colorbar": {
              "outlinewidth": 0,
              "ticks": ""
             }
            },
            "marker": {
             "colorbar": {
              "outlinewidth": 0,
              "ticks": ""
             }
            },
            "type": "scatter3d"
           }
          ],
          "scattercarpet": [
           {
            "marker": {
             "colorbar": {
              "outlinewidth": 0,
              "ticks": ""
             }
            },
            "type": "scattercarpet"
           }
          ],
          "scattergeo": [
           {
            "marker": {
             "colorbar": {
              "outlinewidth": 0,
              "ticks": ""
             }
            },
            "type": "scattergeo"
           }
          ],
          "scattergl": [
           {
            "marker": {
             "colorbar": {
              "outlinewidth": 0,
              "ticks": ""
             }
            },
            "type": "scattergl"
           }
          ],
          "scattermapbox": [
           {
            "marker": {
             "colorbar": {
              "outlinewidth": 0,
              "ticks": ""
             }
            },
            "type": "scattermapbox"
           }
          ],
          "scatterpolar": [
           {
            "marker": {
             "colorbar": {
              "outlinewidth": 0,
              "ticks": ""
             }
            },
            "type": "scatterpolar"
           }
          ],
          "scatterpolargl": [
           {
            "marker": {
             "colorbar": {
              "outlinewidth": 0,
              "ticks": ""
             }
            },
            "type": "scatterpolargl"
           }
          ],
          "scatterternary": [
           {
            "marker": {
             "colorbar": {
              "outlinewidth": 0,
              "ticks": ""
             }
            },
            "type": "scatterternary"
           }
          ],
          "surface": [
           {
            "colorbar": {
             "outlinewidth": 0,
             "ticks": ""
            },
            "colorscale": [
             [
              0,
              "#0d0887"
             ],
             [
              0.1111111111111111,
              "#46039f"
             ],
             [
              0.2222222222222222,
              "#7201a8"
             ],
             [
              0.3333333333333333,
              "#9c179e"
             ],
             [
              0.4444444444444444,
              "#bd3786"
             ],
             [
              0.5555555555555556,
              "#d8576b"
             ],
             [
              0.6666666666666666,
              "#ed7953"
             ],
             [
              0.7777777777777778,
              "#fb9f3a"
             ],
             [
              0.8888888888888888,
              "#fdca26"
             ],
             [
              1,
              "#f0f921"
             ]
            ],
            "type": "surface"
           }
          ],
          "table": [
           {
            "cells": {
             "fill": {
              "color": "#EBF0F8"
             },
             "line": {
              "color": "white"
             }
            },
            "header": {
             "fill": {
              "color": "#C8D4E3"
             },
             "line": {
              "color": "white"
             }
            },
            "type": "table"
           }
          ]
         },
         "layout": {
          "annotationdefaults": {
           "arrowcolor": "#2a3f5f",
           "arrowhead": 0,
           "arrowwidth": 1
          },
          "autotypenumbers": "strict",
          "coloraxis": {
           "colorbar": {
            "outlinewidth": 0,
            "ticks": ""
           }
          },
          "colorscale": {
           "diverging": [
            [
             0,
             "#8e0152"
            ],
            [
             0.1,
             "#c51b7d"
            ],
            [
             0.2,
             "#de77ae"
            ],
            [
             0.3,
             "#f1b6da"
            ],
            [
             0.4,
             "#fde0ef"
            ],
            [
             0.5,
             "#f7f7f7"
            ],
            [
             0.6,
             "#e6f5d0"
            ],
            [
             0.7,
             "#b8e186"
            ],
            [
             0.8,
             "#7fbc41"
            ],
            [
             0.9,
             "#4d9221"
            ],
            [
             1,
             "#276419"
            ]
           ],
           "sequential": [
            [
             0,
             "#0d0887"
            ],
            [
             0.1111111111111111,
             "#46039f"
            ],
            [
             0.2222222222222222,
             "#7201a8"
            ],
            [
             0.3333333333333333,
             "#9c179e"
            ],
            [
             0.4444444444444444,
             "#bd3786"
            ],
            [
             0.5555555555555556,
             "#d8576b"
            ],
            [
             0.6666666666666666,
             "#ed7953"
            ],
            [
             0.7777777777777778,
             "#fb9f3a"
            ],
            [
             0.8888888888888888,
             "#fdca26"
            ],
            [
             1,
             "#f0f921"
            ]
           ],
           "sequentialminus": [
            [
             0,
             "#0d0887"
            ],
            [
             0.1111111111111111,
             "#46039f"
            ],
            [
             0.2222222222222222,
             "#7201a8"
            ],
            [
             0.3333333333333333,
             "#9c179e"
            ],
            [
             0.4444444444444444,
             "#bd3786"
            ],
            [
             0.5555555555555556,
             "#d8576b"
            ],
            [
             0.6666666666666666,
             "#ed7953"
            ],
            [
             0.7777777777777778,
             "#fb9f3a"
            ],
            [
             0.8888888888888888,
             "#fdca26"
            ],
            [
             1,
             "#f0f921"
            ]
           ]
          },
          "colorway": [
           "#636efa",
           "#EF553B",
           "#00cc96",
           "#ab63fa",
           "#FFA15A",
           "#19d3f3",
           "#FF6692",
           "#B6E880",
           "#FF97FF",
           "#FECB52"
          ],
          "font": {
           "color": "#2a3f5f"
          },
          "geo": {
           "bgcolor": "white",
           "lakecolor": "white",
           "landcolor": "#E5ECF6",
           "showlakes": true,
           "showland": true,
           "subunitcolor": "white"
          },
          "hoverlabel": {
           "align": "left"
          },
          "hovermode": "closest",
          "mapbox": {
           "style": "light"
          },
          "paper_bgcolor": "white",
          "plot_bgcolor": "#E5ECF6",
          "polar": {
           "angularaxis": {
            "gridcolor": "white",
            "linecolor": "white",
            "ticks": ""
           },
           "bgcolor": "#E5ECF6",
           "radialaxis": {
            "gridcolor": "white",
            "linecolor": "white",
            "ticks": ""
           }
          },
          "scene": {
           "xaxis": {
            "backgroundcolor": "#E5ECF6",
            "gridcolor": "white",
            "gridwidth": 2,
            "linecolor": "white",
            "showbackground": true,
            "ticks": "",
            "zerolinecolor": "white"
           },
           "yaxis": {
            "backgroundcolor": "#E5ECF6",
            "gridcolor": "white",
            "gridwidth": 2,
            "linecolor": "white",
            "showbackground": true,
            "ticks": "",
            "zerolinecolor": "white"
           },
           "zaxis": {
            "backgroundcolor": "#E5ECF6",
            "gridcolor": "white",
            "gridwidth": 2,
            "linecolor": "white",
            "showbackground": true,
            "ticks": "",
            "zerolinecolor": "white"
           }
          },
          "shapedefaults": {
           "line": {
            "color": "#2a3f5f"
           }
          },
          "ternary": {
           "aaxis": {
            "gridcolor": "white",
            "linecolor": "white",
            "ticks": ""
           },
           "baxis": {
            "gridcolor": "white",
            "linecolor": "white",
            "ticks": ""
           },
           "bgcolor": "#E5ECF6",
           "caxis": {
            "gridcolor": "white",
            "linecolor": "white",
            "ticks": ""
           }
          },
          "title": {
           "x": 0.05
          },
          "xaxis": {
           "automargin": true,
           "gridcolor": "white",
           "linecolor": "white",
           "ticks": "",
           "title": {
            "standoff": 15
           },
           "zerolinecolor": "white",
           "zerolinewidth": 2
          },
          "yaxis": {
           "automargin": true,
           "gridcolor": "white",
           "linecolor": "white",
           "ticks": "",
           "title": {
            "standoff": 15
           },
           "zerolinecolor": "white",
           "zerolinewidth": 2
          }
         }
        },
        "title": {
         "text": "2016년 배추 품종별 거래량(kg) 변화"
        },
        "width": 1000,
        "xaxis": {
         "anchor": "y",
         "domain": [
          0,
          1
         ],
         "title": {
          "text": "SALEDATE"
         }
        },
        "yaxis": {
         "anchor": "x",
         "domain": [
          0,
          1
         ],
         "title": {
          "text": "TOT_QTY"
         }
        }
       }
      }
     },
     "metadata": {},
     "output_type": "display_data"
    },
    {
     "data": {
      "application/vnd.plotly.v1+json": {
       "config": {
        "plotlyServerURL": "https://plotly.com"
       },
       "data": [
        {
         "hovertemplate": "KIND_NM=고냉지배추<br>SALEDATE=%{x}<br>COST_PER_DANQ=%{y}<extra></extra>",
         "legendgroup": "고냉지배추",
         "line": {
          "color": "#636efa",
          "dash": "solid"
         },
         "marker": {
          "symbol": "circle"
         },
         "mode": "lines",
         "name": "고냉지배추",
         "orientation": "v",
         "showlegend": true,
         "type": "scatter",
         "x": [
          "2016-01-10T00:00:00",
          "2016-02-07T00:00:00",
          "2016-02-28T00:00:00",
          "2016-03-06T00:00:00",
          "2016-05-29T00:00:00",
          "2016-07-03T00:00:00",
          "2016-07-17T00:00:00",
          "2016-07-24T00:00:00",
          "2016-07-31T00:00:00",
          "2016-08-07T00:00:00",
          "2016-08-14T00:00:00",
          "2016-08-21T00:00:00",
          "2016-08-28T00:00:00",
          "2016-09-04T00:00:00",
          "2016-09-11T00:00:00",
          "2016-09-18T00:00:00",
          "2016-09-25T00:00:00",
          "2016-10-02T00:00:00",
          "2016-10-09T00:00:00",
          "2016-10-16T00:00:00",
          "2016-10-23T00:00:00",
          "2016-10-30T00:00:00",
          "2016-11-06T00:00:00",
          "2016-11-13T00:00:00",
          "2016-11-20T00:00:00",
          "2016-11-27T00:00:00",
          "2016-12-04T00:00:00"
         ],
         "xaxis": "x",
         "y": [
          350.5357142857143,
          325,
          671.4285714285714,
          1050,
          872,
          412,
          648.0783730158729,
          580.2014640179341,
          661.509670704305,
          683.8349734451871,
          816.2067525820553,
          1068.0372850487654,
          1319.8850448397832,
          1530.192334378723,
          1324.586955873857,
          1286.7415929368815,
          1195.18792782826,
          1332.1082852222798,
          867.4266830291095,
          614.5677058667973,
          401.0105684176017,
          473.74688805745353,
          413.3311854811855,
          446.2346218596219,
          496.51443926443926,
          469.3974962425114,
          433.3502492877494
         ],
         "yaxis": "y"
        },
        {
         "hovertemplate": "KIND_NM=기타배추<br>SALEDATE=%{x}<br>COST_PER_DANQ=%{y}<extra></extra>",
         "legendgroup": "기타배추",
         "line": {
          "color": "#EF553B",
          "dash": "solid"
         },
         "marker": {
          "symbol": "circle"
         },
         "mode": "lines",
         "name": "기타배추",
         "orientation": "v",
         "showlegend": true,
         "type": "scatter",
         "x": [
          "2016-01-03T00:00:00",
          "2016-01-10T00:00:00",
          "2016-01-17T00:00:00",
          "2016-01-24T00:00:00",
          "2016-01-31T00:00:00",
          "2016-02-07T00:00:00",
          "2016-02-14T00:00:00",
          "2016-02-21T00:00:00",
          "2016-02-28T00:00:00",
          "2016-03-06T00:00:00",
          "2016-03-13T00:00:00",
          "2016-03-20T00:00:00",
          "2016-03-27T00:00:00",
          "2016-04-03T00:00:00",
          "2016-04-10T00:00:00",
          "2016-04-17T00:00:00",
          "2016-04-24T00:00:00",
          "2016-05-01T00:00:00",
          "2016-05-08T00:00:00",
          "2016-05-15T00:00:00",
          "2016-05-22T00:00:00",
          "2016-05-29T00:00:00",
          "2016-06-05T00:00:00",
          "2016-06-12T00:00:00",
          "2016-06-19T00:00:00",
          "2016-06-26T00:00:00",
          "2016-07-03T00:00:00",
          "2016-07-10T00:00:00",
          "2016-07-17T00:00:00",
          "2016-07-24T00:00:00",
          "2016-07-31T00:00:00",
          "2016-08-07T00:00:00",
          "2016-08-14T00:00:00",
          "2016-08-21T00:00:00",
          "2016-08-28T00:00:00",
          "2016-09-04T00:00:00",
          "2016-09-11T00:00:00",
          "2016-09-18T00:00:00",
          "2016-09-25T00:00:00",
          "2016-10-02T00:00:00",
          "2016-10-09T00:00:00",
          "2016-10-16T00:00:00",
          "2016-10-23T00:00:00",
          "2016-10-30T00:00:00",
          "2016-11-06T00:00:00",
          "2016-11-13T00:00:00",
          "2016-11-20T00:00:00",
          "2016-11-27T00:00:00",
          "2016-12-04T00:00:00",
          "2016-12-11T00:00:00",
          "2016-12-18T00:00:00",
          "2016-12-25T00:00:00",
          "2017-01-01T00:00:00"
         ],
         "xaxis": "x",
         "y": [
          291.3961038961039,
          398.17299817229326,
          467.0050360223602,
          635.7431549212166,
          682.7456452340099,
          619.0301431225456,
          673.6107611067067,
          928.9166115722455,
          740.7344291291961,
          974.9870211674753,
          1000.09173305256,
          1071.8332785770542,
          1191.7320244423702,
          1150.9376399057069,
          1245.2289416428105,
          1511.9673147012652,
          1487.409468197952,
          1315.9833279395505,
          900.6565689759306,
          758.7273614943102,
          895.9066709339528,
          746.1117384299495,
          636.9226463442783,
          829.4653817379085,
          1129.0975794330618,
          1840.5042887884956,
          507.23345222399576,
          506.0965765251695,
          568.014661025728,
          605.5220497031409,
          567.9351518315389,
          849.0719338648014,
          709.108240399018,
          914.7191401245078,
          1215.371602505531,
          1501.5328736078475,
          1397.3672643017835,
          1316.6810860330381,
          1143.6099666974796,
          1298.1042345326425,
          932.3059952902653,
          678.1367183221136,
          532.9099685786032,
          496.25979414130893,
          523.367074291615,
          550.9486325424751,
          585.4958326921196,
          598.8983919948979,
          625.4482994591036,
          591.3020385837464,
          589.1236453890702,
          605.445473239588,
          647.8927828296332
         ],
         "yaxis": "y"
        },
        {
         "hovertemplate": "KIND_NM=김장(가을)배추<br>SALEDATE=%{x}<br>COST_PER_DANQ=%{y}<extra></extra>",
         "legendgroup": "김장(가을)배추",
         "line": {
          "color": "#00cc96",
          "dash": "solid"
         },
         "marker": {
          "symbol": "circle"
         },
         "mode": "lines",
         "name": "김장(가을)배추",
         "orientation": "v",
         "showlegend": true,
         "type": "scatter",
         "x": [
          "2016-01-10T00:00:00",
          "2016-01-17T00:00:00",
          "2016-01-24T00:00:00",
          "2016-01-31T00:00:00",
          "2016-02-07T00:00:00",
          "2016-02-14T00:00:00",
          "2016-02-21T00:00:00",
          "2016-02-28T00:00:00",
          "2016-03-06T00:00:00",
          "2016-03-13T00:00:00",
          "2016-03-20T00:00:00",
          "2016-03-27T00:00:00",
          "2016-04-03T00:00:00",
          "2016-04-10T00:00:00",
          "2016-04-17T00:00:00",
          "2016-04-24T00:00:00",
          "2016-05-01T00:00:00",
          "2016-05-08T00:00:00",
          "2016-05-15T00:00:00",
          "2016-05-22T00:00:00",
          "2016-05-29T00:00:00",
          "2016-06-05T00:00:00",
          "2016-06-12T00:00:00",
          "2016-06-19T00:00:00",
          "2016-06-26T00:00:00",
          "2016-07-03T00:00:00",
          "2016-07-10T00:00:00",
          "2016-07-17T00:00:00",
          "2016-07-24T00:00:00",
          "2016-07-31T00:00:00",
          "2016-08-07T00:00:00",
          "2016-08-14T00:00:00",
          "2016-08-21T00:00:00",
          "2016-08-28T00:00:00",
          "2016-09-04T00:00:00",
          "2016-09-11T00:00:00",
          "2016-09-18T00:00:00",
          "2016-09-25T00:00:00",
          "2016-10-02T00:00:00",
          "2016-10-09T00:00:00",
          "2016-10-16T00:00:00",
          "2016-10-23T00:00:00",
          "2016-10-30T00:00:00",
          "2016-11-06T00:00:00",
          "2016-11-13T00:00:00",
          "2016-11-20T00:00:00",
          "2016-11-27T00:00:00",
          "2016-12-04T00:00:00",
          "2016-12-11T00:00:00",
          "2016-12-18T00:00:00",
          "2016-12-25T00:00:00",
          "2017-01-01T00:00:00"
         ],
         "xaxis": "x",
         "y": [
          324.02395351776926,
          345.0493853427896,
          431.3864149542341,
          510.3315826910748,
          440.3721932951808,
          508.6481481481481,
          573.7909752284753,
          601.048085016835,
          607.2906134760302,
          712.9338183421518,
          631.2240622032289,
          604.9305555555555,
          747.5385802469136,
          866.6037037037037,
          919.825687429854,
          901.9131313131313,
          714.80057578587,
          604.8873117623117,
          554.8834498834498,
          540.5824915824916,
          488.13797699214365,
          374.4607668566002,
          324.349067112225,
          285.5980975723623,
          316.5392391173641,
          343.52490321569275,
          382.20138888888886,
          368.85714285714283,
          384.16666666666663,
          366.875,
          411.93650793650795,
          447.34375,
          526.8395691609977,
          582.9960317460317,
          875.3571428571428,
          1096.797385620915,
          958.3333333333334,
          993.6458333333334,
          1015.763888888889,
          715.9897038214905,
          562.0711538369462,
          466.27892883285875,
          404.3278726809019,
          420.0918052414633,
          517.0195094472327,
          617.380807487552,
          605.9109056504966,
          597.3693353673432,
          556.8444997301307,
          582.1495695450498,
          612.3675129109344,
          645.5879733610969
         ],
         "yaxis": "y"
        },
        {
         "hovertemplate": "KIND_NM=배추<br>SALEDATE=%{x}<br>COST_PER_DANQ=%{y}<extra></extra>",
         "legendgroup": "배추",
         "line": {
          "color": "#ab63fa",
          "dash": "solid"
         },
         "marker": {
          "symbol": "circle"
         },
         "mode": "lines",
         "name": "배추",
         "orientation": "v",
         "showlegend": true,
         "type": "scatter",
         "x": [
          "2016-01-03T00:00:00",
          "2016-01-10T00:00:00",
          "2016-01-17T00:00:00",
          "2016-01-24T00:00:00",
          "2016-01-31T00:00:00",
          "2016-02-07T00:00:00",
          "2016-02-14T00:00:00",
          "2016-02-21T00:00:00",
          "2016-02-28T00:00:00",
          "2016-03-06T00:00:00",
          "2016-03-13T00:00:00",
          "2016-03-20T00:00:00",
          "2016-03-27T00:00:00",
          "2016-04-03T00:00:00",
          "2016-04-10T00:00:00",
          "2016-04-17T00:00:00",
          "2016-04-24T00:00:00",
          "2016-05-01T00:00:00",
          "2016-05-08T00:00:00",
          "2016-05-15T00:00:00",
          "2016-05-22T00:00:00",
          "2016-05-29T00:00:00",
          "2016-06-05T00:00:00",
          "2016-06-12T00:00:00",
          "2016-06-19T00:00:00",
          "2016-06-26T00:00:00",
          "2016-07-03T00:00:00",
          "2016-07-10T00:00:00",
          "2016-07-17T00:00:00",
          "2016-07-24T00:00:00",
          "2016-07-31T00:00:00",
          "2016-08-07T00:00:00",
          "2016-08-14T00:00:00",
          "2016-08-21T00:00:00",
          "2016-08-28T00:00:00",
          "2016-09-04T00:00:00",
          "2016-09-11T00:00:00",
          "2016-09-18T00:00:00",
          "2016-09-25T00:00:00",
          "2016-10-02T00:00:00",
          "2016-10-09T00:00:00",
          "2016-10-16T00:00:00",
          "2016-10-23T00:00:00",
          "2016-10-30T00:00:00",
          "2016-11-06T00:00:00",
          "2016-11-13T00:00:00",
          "2016-11-20T00:00:00",
          "2016-11-27T00:00:00",
          "2016-12-04T00:00:00",
          "2016-12-11T00:00:00",
          "2016-12-18T00:00:00",
          "2016-12-25T00:00:00",
          "2017-01-01T00:00:00"
         ],
         "xaxis": "x",
         "y": [
          185,
          318.72625570633613,
          355.7280562030562,
          322.0959595959596,
          442.30194805194805,
          426.85186764057147,
          495.5889724310777,
          609.5547308442045,
          599.1573917226091,
          749.0750693750693,
          691.2897673314341,
          713.5383597883598,
          705.0820707070707,
          1022.8618113912231,
          1089.4384531590415,
          1211.8458316374983,
          899.3962029256148,
          817.4181286549707,
          646.0028439153439,
          677.2894519974708,
          749.4755009406366,
          501.8860752632683,
          322.61530830280833,
          355.31873495012036,
          387.8089177328307,
          433.8111281587158,
          418.67405833092107,
          479.93767035433694,
          486.69648869648864,
          488.6575197463356,
          502.4715081282109,
          600.5172759339426,
          727.1122095437953,
          873.3843285799168,
          845.6374643874642,
          1395.137332499425,
          1269.4793710835377,
          1258.9930555555557,
          1070.7911200687813,
          975.5043475723622,
          701.9115697642968,
          581.7267572423597,
          456.71624600362867,
          401.51202912314017,
          451.7043358977346,
          502.19817129367794,
          589.254784653193,
          592.438952583088,
          584.32264118829,
          563.2263098198551,
          530.843356685804,
          570.419610645324,
          593.5874621845016
         ],
         "yaxis": "y"
        },
        {
         "hovertemplate": "KIND_NM=배추뿌리<br>SALEDATE=%{x}<br>COST_PER_DANQ=%{y}<extra></extra>",
         "legendgroup": "배추뿌리",
         "line": {
          "color": "#FFA15A",
          "dash": "solid"
         },
         "marker": {
          "symbol": "circle"
         },
         "mode": "lines",
         "name": "배추뿌리",
         "orientation": "v",
         "showlegend": true,
         "type": "scatter",
         "x": [
          "2016-01-10T00:00:00",
          "2016-01-17T00:00:00",
          "2016-01-24T00:00:00",
          "2016-01-31T00:00:00",
          "2016-02-07T00:00:00",
          "2016-02-14T00:00:00",
          "2016-02-21T00:00:00",
          "2016-02-28T00:00:00",
          "2016-03-06T00:00:00",
          "2016-03-13T00:00:00",
          "2016-03-20T00:00:00",
          "2016-03-27T00:00:00",
          "2016-04-03T00:00:00",
          "2016-04-10T00:00:00",
          "2016-04-17T00:00:00",
          "2016-04-24T00:00:00",
          "2016-05-01T00:00:00",
          "2016-05-08T00:00:00",
          "2016-05-15T00:00:00",
          "2016-05-22T00:00:00",
          "2016-05-29T00:00:00",
          "2016-06-05T00:00:00",
          "2016-06-12T00:00:00",
          "2016-06-19T00:00:00",
          "2016-06-26T00:00:00",
          "2016-07-03T00:00:00",
          "2016-07-10T00:00:00",
          "2016-07-17T00:00:00",
          "2016-07-24T00:00:00",
          "2016-07-31T00:00:00",
          "2016-08-07T00:00:00",
          "2016-08-14T00:00:00",
          "2016-08-21T00:00:00",
          "2016-08-28T00:00:00",
          "2016-09-04T00:00:00",
          "2016-09-11T00:00:00",
          "2016-09-18T00:00:00",
          "2016-09-25T00:00:00",
          "2016-10-02T00:00:00",
          "2016-10-09T00:00:00",
          "2016-10-16T00:00:00",
          "2016-10-23T00:00:00",
          "2016-10-30T00:00:00",
          "2016-11-06T00:00:00",
          "2016-11-13T00:00:00",
          "2016-11-20T00:00:00",
          "2016-11-27T00:00:00",
          "2016-12-04T00:00:00",
          "2016-12-11T00:00:00",
          "2016-12-18T00:00:00",
          "2016-12-25T00:00:00",
          "2017-01-01T00:00:00"
         ],
         "xaxis": "x",
         "y": [
          1058.74925999926,
          1523.7442129629628,
          1690.3476355820105,
          2819.7821969696975,
          2174.456374643875,
          2040.2878787878788,
          2249.775641025641,
          1843.8917824074072,
          3140.1620370370365,
          3613.84375,
          3526.96875,
          3913.7625,
          3526.837962962963,
          2985.868529040404,
          2323.5925099206347,
          2118.5627104377104,
          1799.0728782043118,
          2026.4618055555557,
          2166.807133838384,
          2226.6092096560847,
          2124.0578703703704,
          1394.809027777778,
          1777.726851851852,
          1486.8956679894181,
          1752.0428090428093,
          1440.2637235449736,
          2466.5980113636365,
          2655.355902777778,
          2111.130291005291,
          2444.5052083333335,
          3613.951388888889,
          3301.0486111111113,
          4007.100694444445,
          5249.174107142857,
          6322.395833333333,
          4691.613095238095,
          5799.077380952381,
          3686.165674603175,
          2906.573908730159,
          3160.3125,
          2201.513888888889,
          2144.188988095238,
          1920.4050925925924,
          1350.3174603174605,
          1819.6329365079366,
          1609.9484126984128,
          2097.9282407407404,
          1461.6743827160492,
          1231.5335648148148,
          2389.529761904762,
          2393.2916666666665,
          2126.157986111111
         ],
         "yaxis": "y"
        },
        {
         "hovertemplate": "KIND_NM=봄배추<br>SALEDATE=%{x}<br>COST_PER_DANQ=%{y}<extra></extra>",
         "legendgroup": "봄배추",
         "line": {
          "color": "#19d3f3",
          "dash": "solid"
         },
         "marker": {
          "symbol": "circle"
         },
         "mode": "lines",
         "name": "봄배추",
         "orientation": "v",
         "showlegend": true,
         "type": "scatter",
         "x": [
          "2016-01-03T00:00:00",
          "2016-01-10T00:00:00",
          "2016-01-17T00:00:00",
          "2016-01-24T00:00:00",
          "2016-01-31T00:00:00",
          "2016-02-07T00:00:00",
          "2016-02-14T00:00:00",
          "2016-02-21T00:00:00",
          "2016-02-28T00:00:00",
          "2016-03-06T00:00:00",
          "2016-03-13T00:00:00",
          "2016-03-20T00:00:00",
          "2016-03-27T00:00:00",
          "2016-04-03T00:00:00",
          "2016-04-10T00:00:00",
          "2016-04-17T00:00:00",
          "2016-04-24T00:00:00",
          "2016-05-01T00:00:00",
          "2016-05-08T00:00:00",
          "2016-05-15T00:00:00",
          "2016-05-22T00:00:00",
          "2016-05-29T00:00:00",
          "2016-06-05T00:00:00",
          "2016-06-12T00:00:00",
          "2016-06-19T00:00:00",
          "2016-06-26T00:00:00",
          "2016-07-03T00:00:00",
          "2016-07-10T00:00:00",
          "2016-07-17T00:00:00",
          "2016-07-24T00:00:00",
          "2016-07-31T00:00:00",
          "2016-08-07T00:00:00",
          "2016-08-14T00:00:00",
          "2016-08-21T00:00:00",
          "2016-08-28T00:00:00",
          "2016-09-04T00:00:00",
          "2016-09-11T00:00:00",
          "2016-09-18T00:00:00",
          "2016-09-25T00:00:00",
          "2016-10-02T00:00:00",
          "2016-10-09T00:00:00",
          "2016-10-16T00:00:00",
          "2016-10-23T00:00:00",
          "2016-10-30T00:00:00",
          "2016-11-06T00:00:00",
          "2016-11-13T00:00:00",
          "2016-11-20T00:00:00",
          "2016-11-27T00:00:00",
          "2016-12-04T00:00:00",
          "2016-12-11T00:00:00",
          "2016-12-18T00:00:00",
          "2016-12-25T00:00:00",
          "2017-01-01T00:00:00"
         ],
         "xaxis": "x",
         "y": [
          309.7402597402597,
          803.231148429334,
          684.4357963332964,
          934.6886157508549,
          927.8644369341426,
          779.3870348655691,
          866.3530107636501,
          867.8501392703741,
          735.4983767169339,
          895.7887278504345,
          1008.8064904528759,
          1041.9020384955,
          1079.1053432157248,
          1099.7575029523775,
          1090.617810800148,
          968.0048283692536,
          986.3060450099118,
          901.3833854513624,
          788.6963668261877,
          746.5042456720475,
          833.3230211852548,
          622.5081346029955,
          442.08411117051105,
          408.3920352055682,
          401.60737802030076,
          512.055317880846,
          480.6608157414817,
          720.967090756711,
          915.3948231282243,
          724.3005269603603,
          801.4018670741817,
          979.9111205855514,
          969.9505216380077,
          1157.7862490137659,
          1536.5979102072242,
          1902.7846878953771,
          1695.7460347813678,
          1743.5721617092586,
          1163.943121310908,
          1142.1946691817773,
          845.4929759136835,
          760.0010271326672,
          665.9441457491321,
          570.499164192896,
          572.12688572287,
          601.4708540176299,
          671.4980390536243,
          706.4003969290212,
          727.6486063750216,
          665.2700344367827,
          743.0580689367852,
          724.8704668155129,
          781.916017779656
         ],
         "yaxis": "y"
        },
        {
         "hovertemplate": "KIND_NM=생채용 배추<br>SALEDATE=%{x}<br>COST_PER_DANQ=%{y}<extra></extra>",
         "legendgroup": "생채용 배추",
         "line": {
          "color": "#FF6692",
          "dash": "solid"
         },
         "marker": {
          "symbol": "circle"
         },
         "mode": "lines",
         "name": "생채용 배추",
         "orientation": "v",
         "showlegend": true,
         "type": "scatter",
         "x": [
          "2016-01-10T00:00:00",
          "2016-01-17T00:00:00",
          "2016-01-24T00:00:00",
          "2016-01-31T00:00:00",
          "2016-02-07T00:00:00",
          "2016-02-21T00:00:00",
          "2016-03-06T00:00:00",
          "2016-03-13T00:00:00",
          "2016-03-20T00:00:00",
          "2016-03-27T00:00:00",
          "2016-04-03T00:00:00",
          "2016-04-10T00:00:00",
          "2016-04-17T00:00:00",
          "2016-04-24T00:00:00",
          "2016-05-01T00:00:00",
          "2016-05-08T00:00:00",
          "2016-05-15T00:00:00",
          "2016-05-22T00:00:00",
          "2016-05-29T00:00:00",
          "2016-06-05T00:00:00",
          "2016-06-12T00:00:00",
          "2016-06-19T00:00:00",
          "2016-06-26T00:00:00",
          "2016-07-03T00:00:00",
          "2016-07-10T00:00:00",
          "2016-07-17T00:00:00",
          "2016-07-24T00:00:00",
          "2016-07-31T00:00:00",
          "2016-08-07T00:00:00",
          "2016-08-14T00:00:00",
          "2016-08-21T00:00:00",
          "2016-08-28T00:00:00",
          "2016-09-04T00:00:00",
          "2016-09-11T00:00:00",
          "2016-09-18T00:00:00",
          "2016-09-25T00:00:00",
          "2016-10-02T00:00:00",
          "2016-10-09T00:00:00",
          "2016-10-16T00:00:00",
          "2016-10-23T00:00:00",
          "2016-10-30T00:00:00",
          "2016-11-06T00:00:00",
          "2016-11-13T00:00:00",
          "2016-11-20T00:00:00",
          "2016-11-27T00:00:00",
          "2016-12-04T00:00:00",
          "2016-12-11T00:00:00",
          "2016-12-18T00:00:00",
          "2016-12-25T00:00:00",
          "2017-01-01T00:00:00"
         ],
         "xaxis": "x",
         "y": [
          1100,
          550,
          766.6666666666666,
          633.3333333333334,
          1000,
          900,
          720,
          620,
          500,
          500,
          500,
          475,
          566.6666666666666,
          575,
          687.5,
          566.6666666666666,
          683.3333333333334,
          600,
          608.3333333333334,
          510,
          400,
          400,
          333.3333333333333,
          300,
          325,
          325,
          300,
          340,
          300,
          350,
          425,
          660,
          820,
          700,
          1150,
          660,
          658.3333333333334,
          444.4444444444444,
          550,
          552.7777777777777,
          397.22222222222223,
          316.6666666666667,
          483.3333333333333,
          533.3333333333334,
          383.33333333333337,
          443.0555555555555,
          395,
          361.11111111111114,
          383.3333333333333,
          400
         ],
         "yaxis": "y"
        },
        {
         "hovertemplate": "KIND_NM=쌈배추<br>SALEDATE=%{x}<br>COST_PER_DANQ=%{y}<extra></extra>",
         "legendgroup": "쌈배추",
         "line": {
          "color": "#B6E880",
          "dash": "solid"
         },
         "marker": {
          "symbol": "circle"
         },
         "mode": "lines",
         "name": "쌈배추",
         "orientation": "v",
         "showlegend": true,
         "type": "scatter",
         "x": [
          "2016-01-03T00:00:00",
          "2016-01-10T00:00:00",
          "2016-01-17T00:00:00",
          "2016-01-24T00:00:00",
          "2016-01-31T00:00:00",
          "2016-02-07T00:00:00",
          "2016-02-14T00:00:00",
          "2016-02-21T00:00:00",
          "2016-02-28T00:00:00",
          "2016-03-06T00:00:00",
          "2016-03-13T00:00:00",
          "2016-03-20T00:00:00",
          "2016-03-27T00:00:00",
          "2016-04-03T00:00:00",
          "2016-04-10T00:00:00",
          "2016-04-17T00:00:00",
          "2016-04-24T00:00:00",
          "2016-05-01T00:00:00",
          "2016-05-08T00:00:00",
          "2016-05-15T00:00:00",
          "2016-05-22T00:00:00",
          "2016-05-29T00:00:00",
          "2016-06-05T00:00:00",
          "2016-06-12T00:00:00",
          "2016-06-19T00:00:00",
          "2016-06-26T00:00:00",
          "2016-07-03T00:00:00",
          "2016-07-10T00:00:00",
          "2016-07-17T00:00:00",
          "2016-07-24T00:00:00",
          "2016-07-31T00:00:00",
          "2016-08-07T00:00:00",
          "2016-08-14T00:00:00",
          "2016-08-21T00:00:00",
          "2016-08-28T00:00:00",
          "2016-09-04T00:00:00",
          "2016-09-11T00:00:00",
          "2016-09-18T00:00:00",
          "2016-09-25T00:00:00",
          "2016-10-02T00:00:00",
          "2016-10-09T00:00:00",
          "2016-10-16T00:00:00",
          "2016-10-23T00:00:00",
          "2016-10-30T00:00:00",
          "2016-11-06T00:00:00",
          "2016-11-13T00:00:00",
          "2016-11-20T00:00:00",
          "2016-11-27T00:00:00",
          "2016-12-04T00:00:00",
          "2016-12-11T00:00:00",
          "2016-12-18T00:00:00",
          "2016-12-25T00:00:00",
          "2017-01-01T00:00:00"
         ],
         "xaxis": "x",
         "y": [
          531.25,
          711.6035526803629,
          652.1853415346374,
          853.6990726868258,
          1045.6205364050577,
          1079.883377425044,
          938.7618559968791,
          888.6552326841743,
          920.4916030728531,
          1053.0070045695047,
          940.2906750121884,
          971.3032096556753,
          918.2597340787333,
          1162.7913969447193,
          1060.1594999247138,
          1050.9184726974386,
          854.4464350645253,
          871.2120309377575,
          968.5156330794989,
          1027.3576016891227,
          918.1865117486414,
          1010.7822657638579,
          773.9477491786665,
          878.1614323739323,
          823.4829136528446,
          1300.2672601411325,
          870.8220622646721,
          914.4739050633813,
          1028.3724839448935,
          1130.350917501868,
          1116.282954226032,
          1444.953240592343,
          1264.523396481601,
          1607.2650338871179,
          1694.4474494982426,
          2158.760328068752,
          1972.8656870380707,
          2328.777173675133,
          1652.077852804332,
          1402.4135066451988,
          1647.017920001021,
          1533.7907730570478,
          1275.6679211363924,
          1134.5876160622365,
          1187.3309084188213,
          1070.8786980841717,
          889.5465047334865,
          708.9646905058321,
          892.64246583443,
          710.7529409807636,
          645.5235460558008,
          1061.860067574308,
          979.914630152336
         ],
         "yaxis": "y"
        },
        {
         "hovertemplate": "KIND_NM=여름배추<br>SALEDATE=%{x}<br>COST_PER_DANQ=%{y}<extra></extra>",
         "legendgroup": "여름배추",
         "line": {
          "color": "#FF97FF",
          "dash": "solid"
         },
         "marker": {
          "symbol": "circle"
         },
         "mode": "lines",
         "name": "여름배추",
         "orientation": "v",
         "showlegend": true,
         "type": "scatter",
         "x": [
          "2016-05-22T00:00:00",
          "2016-06-12T00:00:00",
          "2016-06-19T00:00:00",
          "2016-06-26T00:00:00",
          "2016-07-03T00:00:00",
          "2016-07-10T00:00:00",
          "2016-07-17T00:00:00",
          "2016-07-24T00:00:00",
          "2016-07-31T00:00:00",
          "2016-08-07T00:00:00",
          "2016-08-14T00:00:00",
          "2016-08-21T00:00:00",
          "2016-08-28T00:00:00",
          "2016-09-04T00:00:00",
          "2016-09-11T00:00:00",
          "2016-09-18T00:00:00",
          "2016-09-25T00:00:00",
          "2016-10-02T00:00:00",
          "2016-10-09T00:00:00",
          "2016-10-16T00:00:00",
          "2016-10-23T00:00:00",
          "2016-10-30T00:00:00",
          "2016-11-06T00:00:00"
         ],
         "xaxis": "x",
         "y": [
          1344,
          560.3333333333334,
          509.26666666666665,
          583.8,
          483.0273480083858,
          442.61468969906514,
          509.3074844953125,
          451.08085587984425,
          521.2546432799917,
          594.6158716189971,
          633.0017449739537,
          871.2448749636773,
          1110.8360689231888,
          1317.8894651252397,
          1238.0008205260262,
          948.5015063430088,
          1025.195744929678,
          1060.7391132048626,
          782.7006583533885,
          525.7755115431479,
          453.5931517042629,
          328.23412698412693,
          397.3611111111111
         ],
         "yaxis": "y"
        },
        {
         "hovertemplate": "KIND_NM=우거지<br>SALEDATE=%{x}<br>COST_PER_DANQ=%{y}<extra></extra>",
         "legendgroup": "우거지",
         "line": {
          "color": "#FECB52",
          "dash": "solid"
         },
         "marker": {
          "symbol": "circle"
         },
         "mode": "lines",
         "name": "우거지",
         "orientation": "v",
         "showlegend": true,
         "type": "scatter",
         "x": [
          "2016-01-10T00:00:00",
          "2016-01-17T00:00:00",
          "2016-01-24T00:00:00",
          "2016-01-31T00:00:00",
          "2016-02-07T00:00:00",
          "2016-02-14T00:00:00",
          "2016-02-21T00:00:00",
          "2016-02-28T00:00:00",
          "2016-03-06T00:00:00",
          "2016-03-13T00:00:00",
          "2016-03-20T00:00:00",
          "2016-03-27T00:00:00",
          "2016-04-03T00:00:00",
          "2016-04-10T00:00:00",
          "2016-04-17T00:00:00",
          "2016-04-24T00:00:00",
          "2016-05-01T00:00:00",
          "2016-05-08T00:00:00",
          "2016-05-15T00:00:00",
          "2016-05-22T00:00:00",
          "2016-05-29T00:00:00",
          "2016-06-05T00:00:00",
          "2016-06-12T00:00:00",
          "2016-06-19T00:00:00",
          "2016-06-26T00:00:00",
          "2016-07-03T00:00:00",
          "2016-07-10T00:00:00",
          "2016-07-17T00:00:00",
          "2016-07-24T00:00:00",
          "2016-07-31T00:00:00",
          "2016-08-07T00:00:00",
          "2016-08-14T00:00:00",
          "2016-08-21T00:00:00",
          "2016-08-28T00:00:00",
          "2016-09-04T00:00:00",
          "2016-09-11T00:00:00",
          "2016-09-18T00:00:00",
          "2016-09-25T00:00:00",
          "2016-10-02T00:00:00",
          "2016-10-09T00:00:00",
          "2016-10-16T00:00:00",
          "2016-10-23T00:00:00",
          "2016-10-30T00:00:00",
          "2016-11-06T00:00:00",
          "2016-11-13T00:00:00",
          "2016-11-20T00:00:00",
          "2016-11-27T00:00:00",
          "2016-12-04T00:00:00",
          "2016-12-11T00:00:00",
          "2016-12-18T00:00:00",
          "2016-12-25T00:00:00",
          "2017-01-01T00:00:00"
         ],
         "xaxis": "x",
         "y": [
          483.75,
          550.4333333333333,
          684.1062091503268,
          1248.0902777777778,
          469.10317460317464,
          1246.875,
          1710.173611111111,
          509.16666666666663,
          729.5833333333334,
          1950.2083333333333,
          2548.333333333333,
          504.7222222222222,
          973.2947530864197,
          836.111111111111,
          556.3333333333333,
          733.7499999999999,
          836.3888888888888,
          260,
          897.6851851851851,
          735.4166666666667,
          1616.6666666666667,
          4720.833333333333,
          1745.5555555555557,
          3750,
          2261.111111111111,
          1915.4166666666665,
          5847.916666666667,
          3125,
          1137.9166666666667,
          1300.8333333333333,
          3750,
          2577.916666666667,
          952.5,
          3353.3333333333335,
          4448.333333333333,
          3729.1666666666665,
          3750,
          6243,
          4085,
          1810,
          1530.625,
          3212.8,
          4562.5,
          872.1666666666666,
          1027.8125,
          513.0952380952381,
          242.25,
          1976.2962962962965,
          1386.8055555555554,
          2534.375,
          341.3455988455989,
          20319.35606060606
         ],
         "yaxis": "y"
        },
        {
         "hovertemplate": "KIND_NM=월동배추<br>SALEDATE=%{x}<br>COST_PER_DANQ=%{y}<extra></extra>",
         "legendgroup": "월동배추",
         "line": {
          "color": "#636efa",
          "dash": "solid"
         },
         "marker": {
          "symbol": "circle"
         },
         "mode": "lines",
         "name": "월동배추",
         "orientation": "v",
         "showlegend": true,
         "type": "scatter",
         "x": [
          "2016-01-03T00:00:00",
          "2016-01-10T00:00:00",
          "2016-01-17T00:00:00",
          "2016-01-24T00:00:00",
          "2016-01-31T00:00:00",
          "2016-02-07T00:00:00",
          "2016-02-14T00:00:00",
          "2016-02-21T00:00:00",
          "2016-02-28T00:00:00",
          "2016-03-06T00:00:00",
          "2016-03-13T00:00:00",
          "2016-03-20T00:00:00",
          "2016-03-27T00:00:00",
          "2016-04-03T00:00:00",
          "2016-04-10T00:00:00",
          "2016-04-17T00:00:00",
          "2016-04-24T00:00:00",
          "2016-05-01T00:00:00",
          "2016-05-08T00:00:00",
          "2016-05-15T00:00:00",
          "2016-05-22T00:00:00",
          "2016-05-29T00:00:00",
          "2016-06-05T00:00:00",
          "2016-06-12T00:00:00",
          "2016-06-19T00:00:00",
          "2016-06-26T00:00:00",
          "2016-07-03T00:00:00",
          "2016-07-10T00:00:00",
          "2016-07-17T00:00:00",
          "2016-07-24T00:00:00",
          "2016-07-31T00:00:00",
          "2016-08-07T00:00:00",
          "2016-08-14T00:00:00",
          "2016-08-21T00:00:00",
          "2016-08-28T00:00:00",
          "2016-09-04T00:00:00",
          "2016-09-11T00:00:00",
          "2016-09-18T00:00:00",
          "2016-09-25T00:00:00",
          "2016-10-02T00:00:00",
          "2016-10-09T00:00:00",
          "2016-10-16T00:00:00",
          "2016-10-23T00:00:00",
          "2016-10-30T00:00:00",
          "2016-11-06T00:00:00",
          "2016-11-13T00:00:00",
          "2016-11-20T00:00:00",
          "2016-11-27T00:00:00",
          "2016-12-04T00:00:00",
          "2016-12-11T00:00:00",
          "2016-12-18T00:00:00",
          "2016-12-25T00:00:00",
          "2017-01-01T00:00:00"
         ],
         "xaxis": "x",
         "y": [
          272.22222222222223,
          330.7016178359237,
          327.72728412194107,
          417.5437383025708,
          536.9702756280931,
          422.583496937514,
          528.715897973683,
          593.8187697433108,
          589.7759004757954,
          737.8435368198753,
          742.6690036145743,
          821.3168287869861,
          858.8486464310458,
          975.5787040298255,
          1119.7593921082882,
          1171.0503285495176,
          1214.4522113558958,
          1020.0324819882958,
          805.4321665074768,
          730.5519840504734,
          736.2190879402784,
          591.0660718684477,
          416.1319169933572,
          419.2638753974475,
          371.4111939911939,
          440.40101844996815,
          393.413511710299,
          495.6874452793708,
          517.3966155988502,
          515.8915943524422,
          529.0511060977722,
          667.6216971421356,
          782.8218575310025,
          965.8933137066333,
          1184.7570064673632,
          1400.4248377491597,
          1329.175941940662,
          1511.312748015873,
          1192.3026111649283,
          1229.1957366760112,
          864.0831625577971,
          633.2461902118425,
          484.81225384422197,
          403.9492620354303,
          412.05853908918766,
          492.6831437554627,
          555.7463686383425,
          533.3628124818157,
          571.829887578616,
          553.1743356038409,
          540.2444446921069,
          629.3413541055506,
          629.0622993320428
         ],
         "yaxis": "y"
        },
        {
         "hovertemplate": "KIND_NM=저장배추<br>SALEDATE=%{x}<br>COST_PER_DANQ=%{y}<extra></extra>",
         "legendgroup": "저장배추",
         "line": {
          "color": "#EF553B",
          "dash": "solid"
         },
         "marker": {
          "symbol": "circle"
         },
         "mode": "lines",
         "name": "저장배추",
         "orientation": "v",
         "showlegend": true,
         "type": "scatter",
         "x": [
          "2016-01-10T00:00:00",
          "2016-01-17T00:00:00",
          "2016-01-24T00:00:00",
          "2016-01-31T00:00:00",
          "2016-02-07T00:00:00",
          "2016-02-14T00:00:00",
          "2016-02-21T00:00:00",
          "2016-02-28T00:00:00",
          "2016-03-06T00:00:00",
          "2016-03-13T00:00:00",
          "2016-03-20T00:00:00",
          "2016-03-27T00:00:00",
          "2016-04-03T00:00:00",
          "2016-04-10T00:00:00",
          "2016-04-17T00:00:00",
          "2016-04-24T00:00:00",
          "2016-05-01T00:00:00",
          "2016-05-08T00:00:00",
          "2016-05-15T00:00:00",
          "2016-05-22T00:00:00",
          "2016-05-29T00:00:00",
          "2016-06-05T00:00:00",
          "2016-06-12T00:00:00",
          "2016-06-19T00:00:00",
          "2016-06-26T00:00:00",
          "2016-07-03T00:00:00",
          "2016-07-10T00:00:00",
          "2016-07-17T00:00:00",
          "2016-07-24T00:00:00",
          "2016-07-31T00:00:00",
          "2016-08-07T00:00:00",
          "2016-08-14T00:00:00",
          "2016-08-21T00:00:00",
          "2016-08-28T00:00:00",
          "2016-09-04T00:00:00",
          "2016-09-11T00:00:00",
          "2016-09-18T00:00:00",
          "2016-09-25T00:00:00",
          "2016-10-02T00:00:00",
          "2016-10-09T00:00:00",
          "2016-10-16T00:00:00",
          "2016-10-23T00:00:00",
          "2016-10-30T00:00:00",
          "2016-11-06T00:00:00",
          "2016-11-13T00:00:00",
          "2016-11-20T00:00:00",
          "2016-11-27T00:00:00",
          "2016-12-04T00:00:00",
          "2016-12-11T00:00:00",
          "2016-12-18T00:00:00",
          "2016-12-25T00:00:00",
          "2017-01-01T00:00:00"
         ],
         "xaxis": "x",
         "y": [
          209.64713064713064,
          226.20408950617283,
          197.35863095238096,
          469.9823288690476,
          363.11781004489336,
          205.95238095238093,
          287.22395197395196,
          489.93799410466085,
          481.55573593073586,
          404.7762345679012,
          697.083678368084,
          723.134887800704,
          857.5712748742466,
          936.1825639438944,
          1068.8260069022515,
          1173.4616205426703,
          1383.16993840547,
          1141.674358974359,
          724.1269841269843,
          566.7876984126984,
          383.3648989898989,
          288.81944444444446,
          335.9953703703704,
          391.66666666666674,
          388.1369047619047,
          351.94841269841265,
          373.1481481481481,
          391.29464285714283,
          361.3888888888889,
          343.11507936507934,
          464.67777777777775,
          735.7222222222223,
          892.3253968253969,
          825.875,
          1340.3522588522587,
          1397.3603017353016,
          1300.0000000000002,
          930.0764790764791,
          849.3981481481482,
          597.417328042328,
          426.50793650793656,
          423.93298059964735,
          378.8888888888889,
          507.11111111111114,
          531.3327567494234,
          497.83323158323157,
          437.18377165681085,
          452.408219623132,
          403.8958101206365,
          462.54810532222814,
          518.0098104056437,
          480.7855743793244
         ],
         "yaxis": "y"
        },
        {
         "hovertemplate": "KIND_NM=절임배추<br>SALEDATE=%{x}<br>COST_PER_DANQ=%{y}<extra></extra>",
         "legendgroup": "절임배추",
         "line": {
          "color": "#00cc96",
          "dash": "solid"
         },
         "marker": {
          "symbol": "circle"
         },
         "mode": "lines",
         "name": "절임배추",
         "orientation": "v",
         "showlegend": true,
         "type": "scatter",
         "x": [
          "2016-01-10T00:00:00",
          "2016-01-17T00:00:00",
          "2016-02-07T00:00:00",
          "2016-08-21T00:00:00",
          "2016-10-16T00:00:00",
          "2016-11-13T00:00:00",
          "2016-11-20T00:00:00",
          "2016-11-27T00:00:00",
          "2016-12-04T00:00:00",
          "2016-12-11T00:00:00",
          "2016-12-18T00:00:00",
          "2016-12-25T00:00:00",
          "2017-01-01T00:00:00"
         ],
         "xaxis": "x",
         "y": [
          1000,
          850,
          650,
          2800,
          3800,
          1166.6666666666667,
          1194.1666666666665,
          1365.109126984127,
          1490.4831932773106,
          1326.5716021451315,
          1335.7515432098764,
          1325.6845238095239,
          1325
         ],
         "yaxis": "y"
        }
       ],
       "layout": {
        "height": 600,
        "legend": {
         "title": {
          "text": "KIND_NM"
         },
         "tracegroupgap": 0
        },
        "shapes": [
         {
          "fillcolor": "blue",
          "line": {
           "width": 0
          },
          "opacity": 0.1,
          "type": "rect",
          "x0": "2016-08-01",
          "x1": "2016-09-30",
          "xref": "x",
          "y0": 0,
          "y1": 1,
          "yref": "paper"
         },
         {
          "fillcolor": "red",
          "line": {
           "width": 0
          },
          "opacity": 0.1,
          "type": "rect",
          "x0": "2016-11-01",
          "x1": "2016-12-31",
          "xref": "x",
          "y0": 0,
          "y1": 1,
          "yref": "paper"
         }
        ],
        "template": {
         "data": {
          "bar": [
           {
            "error_x": {
             "color": "#2a3f5f"
            },
            "error_y": {
             "color": "#2a3f5f"
            },
            "marker": {
             "line": {
              "color": "#E5ECF6",
              "width": 0.5
             },
             "pattern": {
              "fillmode": "overlay",
              "size": 10,
              "solidity": 0.2
             }
            },
            "type": "bar"
           }
          ],
          "barpolar": [
           {
            "marker": {
             "line": {
              "color": "#E5ECF6",
              "width": 0.5
             },
             "pattern": {
              "fillmode": "overlay",
              "size": 10,
              "solidity": 0.2
             }
            },
            "type": "barpolar"
           }
          ],
          "carpet": [
           {
            "aaxis": {
             "endlinecolor": "#2a3f5f",
             "gridcolor": "white",
             "linecolor": "white",
             "minorgridcolor": "white",
             "startlinecolor": "#2a3f5f"
            },
            "baxis": {
             "endlinecolor": "#2a3f5f",
             "gridcolor": "white",
             "linecolor": "white",
             "minorgridcolor": "white",
             "startlinecolor": "#2a3f5f"
            },
            "type": "carpet"
           }
          ],
          "choropleth": [
           {
            "colorbar": {
             "outlinewidth": 0,
             "ticks": ""
            },
            "type": "choropleth"
           }
          ],
          "contour": [
           {
            "colorbar": {
             "outlinewidth": 0,
             "ticks": ""
            },
            "colorscale": [
             [
              0,
              "#0d0887"
             ],
             [
              0.1111111111111111,
              "#46039f"
             ],
             [
              0.2222222222222222,
              "#7201a8"
             ],
             [
              0.3333333333333333,
              "#9c179e"
             ],
             [
              0.4444444444444444,
              "#bd3786"
             ],
             [
              0.5555555555555556,
              "#d8576b"
             ],
             [
              0.6666666666666666,
              "#ed7953"
             ],
             [
              0.7777777777777778,
              "#fb9f3a"
             ],
             [
              0.8888888888888888,
              "#fdca26"
             ],
             [
              1,
              "#f0f921"
             ]
            ],
            "type": "contour"
           }
          ],
          "contourcarpet": [
           {
            "colorbar": {
             "outlinewidth": 0,
             "ticks": ""
            },
            "type": "contourcarpet"
           }
          ],
          "heatmap": [
           {
            "colorbar": {
             "outlinewidth": 0,
             "ticks": ""
            },
            "colorscale": [
             [
              0,
              "#0d0887"
             ],
             [
              0.1111111111111111,
              "#46039f"
             ],
             [
              0.2222222222222222,
              "#7201a8"
             ],
             [
              0.3333333333333333,
              "#9c179e"
             ],
             [
              0.4444444444444444,
              "#bd3786"
             ],
             [
              0.5555555555555556,
              "#d8576b"
             ],
             [
              0.6666666666666666,
              "#ed7953"
             ],
             [
              0.7777777777777778,
              "#fb9f3a"
             ],
             [
              0.8888888888888888,
              "#fdca26"
             ],
             [
              1,
              "#f0f921"
             ]
            ],
            "type": "heatmap"
           }
          ],
          "heatmapgl": [
           {
            "colorbar": {
             "outlinewidth": 0,
             "ticks": ""
            },
            "colorscale": [
             [
              0,
              "#0d0887"
             ],
             [
              0.1111111111111111,
              "#46039f"
             ],
             [
              0.2222222222222222,
              "#7201a8"
             ],
             [
              0.3333333333333333,
              "#9c179e"
             ],
             [
              0.4444444444444444,
              "#bd3786"
             ],
             [
              0.5555555555555556,
              "#d8576b"
             ],
             [
              0.6666666666666666,
              "#ed7953"
             ],
             [
              0.7777777777777778,
              "#fb9f3a"
             ],
             [
              0.8888888888888888,
              "#fdca26"
             ],
             [
              1,
              "#f0f921"
             ]
            ],
            "type": "heatmapgl"
           }
          ],
          "histogram": [
           {
            "marker": {
             "pattern": {
              "fillmode": "overlay",
              "size": 10,
              "solidity": 0.2
             }
            },
            "type": "histogram"
           }
          ],
          "histogram2d": [
           {
            "colorbar": {
             "outlinewidth": 0,
             "ticks": ""
            },
            "colorscale": [
             [
              0,
              "#0d0887"
             ],
             [
              0.1111111111111111,
              "#46039f"
             ],
             [
              0.2222222222222222,
              "#7201a8"
             ],
             [
              0.3333333333333333,
              "#9c179e"
             ],
             [
              0.4444444444444444,
              "#bd3786"
             ],
             [
              0.5555555555555556,
              "#d8576b"
             ],
             [
              0.6666666666666666,
              "#ed7953"
             ],
             [
              0.7777777777777778,
              "#fb9f3a"
             ],
             [
              0.8888888888888888,
              "#fdca26"
             ],
             [
              1,
              "#f0f921"
             ]
            ],
            "type": "histogram2d"
           }
          ],
          "histogram2dcontour": [
           {
            "colorbar": {
             "outlinewidth": 0,
             "ticks": ""
            },
            "colorscale": [
             [
              0,
              "#0d0887"
             ],
             [
              0.1111111111111111,
              "#46039f"
             ],
             [
              0.2222222222222222,
              "#7201a8"
             ],
             [
              0.3333333333333333,
              "#9c179e"
             ],
             [
              0.4444444444444444,
              "#bd3786"
             ],
             [
              0.5555555555555556,
              "#d8576b"
             ],
             [
              0.6666666666666666,
              "#ed7953"
             ],
             [
              0.7777777777777778,
              "#fb9f3a"
             ],
             [
              0.8888888888888888,
              "#fdca26"
             ],
             [
              1,
              "#f0f921"
             ]
            ],
            "type": "histogram2dcontour"
           }
          ],
          "mesh3d": [
           {
            "colorbar": {
             "outlinewidth": 0,
             "ticks": ""
            },
            "type": "mesh3d"
           }
          ],
          "parcoords": [
           {
            "line": {
             "colorbar": {
              "outlinewidth": 0,
              "ticks": ""
             }
            },
            "type": "parcoords"
           }
          ],
          "pie": [
           {
            "automargin": true,
            "type": "pie"
           }
          ],
          "scatter": [
           {
            "fillpattern": {
             "fillmode": "overlay",
             "size": 10,
             "solidity": 0.2
            },
            "type": "scatter"
           }
          ],
          "scatter3d": [
           {
            "line": {
             "colorbar": {
              "outlinewidth": 0,
              "ticks": ""
             }
            },
            "marker": {
             "colorbar": {
              "outlinewidth": 0,
              "ticks": ""
             }
            },
            "type": "scatter3d"
           }
          ],
          "scattercarpet": [
           {
            "marker": {
             "colorbar": {
              "outlinewidth": 0,
              "ticks": ""
             }
            },
            "type": "scattercarpet"
           }
          ],
          "scattergeo": [
           {
            "marker": {
             "colorbar": {
              "outlinewidth": 0,
              "ticks": ""
             }
            },
            "type": "scattergeo"
           }
          ],
          "scattergl": [
           {
            "marker": {
             "colorbar": {
              "outlinewidth": 0,
              "ticks": ""
             }
            },
            "type": "scattergl"
           }
          ],
          "scattermapbox": [
           {
            "marker": {
             "colorbar": {
              "outlinewidth": 0,
              "ticks": ""
             }
            },
            "type": "scattermapbox"
           }
          ],
          "scatterpolar": [
           {
            "marker": {
             "colorbar": {
              "outlinewidth": 0,
              "ticks": ""
             }
            },
            "type": "scatterpolar"
           }
          ],
          "scatterpolargl": [
           {
            "marker": {
             "colorbar": {
              "outlinewidth": 0,
              "ticks": ""
             }
            },
            "type": "scatterpolargl"
           }
          ],
          "scatterternary": [
           {
            "marker": {
             "colorbar": {
              "outlinewidth": 0,
              "ticks": ""
             }
            },
            "type": "scatterternary"
           }
          ],
          "surface": [
           {
            "colorbar": {
             "outlinewidth": 0,
             "ticks": ""
            },
            "colorscale": [
             [
              0,
              "#0d0887"
             ],
             [
              0.1111111111111111,
              "#46039f"
             ],
             [
              0.2222222222222222,
              "#7201a8"
             ],
             [
              0.3333333333333333,
              "#9c179e"
             ],
             [
              0.4444444444444444,
              "#bd3786"
             ],
             [
              0.5555555555555556,
              "#d8576b"
             ],
             [
              0.6666666666666666,
              "#ed7953"
             ],
             [
              0.7777777777777778,
              "#fb9f3a"
             ],
             [
              0.8888888888888888,
              "#fdca26"
             ],
             [
              1,
              "#f0f921"
             ]
            ],
            "type": "surface"
           }
          ],
          "table": [
           {
            "cells": {
             "fill": {
              "color": "#EBF0F8"
             },
             "line": {
              "color": "white"
             }
            },
            "header": {
             "fill": {
              "color": "#C8D4E3"
             },
             "line": {
              "color": "white"
             }
            },
            "type": "table"
           }
          ]
         },
         "layout": {
          "annotationdefaults": {
           "arrowcolor": "#2a3f5f",
           "arrowhead": 0,
           "arrowwidth": 1
          },
          "autotypenumbers": "strict",
          "coloraxis": {
           "colorbar": {
            "outlinewidth": 0,
            "ticks": ""
           }
          },
          "colorscale": {
           "diverging": [
            [
             0,
             "#8e0152"
            ],
            [
             0.1,
             "#c51b7d"
            ],
            [
             0.2,
             "#de77ae"
            ],
            [
             0.3,
             "#f1b6da"
            ],
            [
             0.4,
             "#fde0ef"
            ],
            [
             0.5,
             "#f7f7f7"
            ],
            [
             0.6,
             "#e6f5d0"
            ],
            [
             0.7,
             "#b8e186"
            ],
            [
             0.8,
             "#7fbc41"
            ],
            [
             0.9,
             "#4d9221"
            ],
            [
             1,
             "#276419"
            ]
           ],
           "sequential": [
            [
             0,
             "#0d0887"
            ],
            [
             0.1111111111111111,
             "#46039f"
            ],
            [
             0.2222222222222222,
             "#7201a8"
            ],
            [
             0.3333333333333333,
             "#9c179e"
            ],
            [
             0.4444444444444444,
             "#bd3786"
            ],
            [
             0.5555555555555556,
             "#d8576b"
            ],
            [
             0.6666666666666666,
             "#ed7953"
            ],
            [
             0.7777777777777778,
             "#fb9f3a"
            ],
            [
             0.8888888888888888,
             "#fdca26"
            ],
            [
             1,
             "#f0f921"
            ]
           ],
           "sequentialminus": [
            [
             0,
             "#0d0887"
            ],
            [
             0.1111111111111111,
             "#46039f"
            ],
            [
             0.2222222222222222,
             "#7201a8"
            ],
            [
             0.3333333333333333,
             "#9c179e"
            ],
            [
             0.4444444444444444,
             "#bd3786"
            ],
            [
             0.5555555555555556,
             "#d8576b"
            ],
            [
             0.6666666666666666,
             "#ed7953"
            ],
            [
             0.7777777777777778,
             "#fb9f3a"
            ],
            [
             0.8888888888888888,
             "#fdca26"
            ],
            [
             1,
             "#f0f921"
            ]
           ]
          },
          "colorway": [
           "#636efa",
           "#EF553B",
           "#00cc96",
           "#ab63fa",
           "#FFA15A",
           "#19d3f3",
           "#FF6692",
           "#B6E880",
           "#FF97FF",
           "#FECB52"
          ],
          "font": {
           "color": "#2a3f5f"
          },
          "geo": {
           "bgcolor": "white",
           "lakecolor": "white",
           "landcolor": "#E5ECF6",
           "showlakes": true,
           "showland": true,
           "subunitcolor": "white"
          },
          "hoverlabel": {
           "align": "left"
          },
          "hovermode": "closest",
          "mapbox": {
           "style": "light"
          },
          "paper_bgcolor": "white",
          "plot_bgcolor": "#E5ECF6",
          "polar": {
           "angularaxis": {
            "gridcolor": "white",
            "linecolor": "white",
            "ticks": ""
           },
           "bgcolor": "#E5ECF6",
           "radialaxis": {
            "gridcolor": "white",
            "linecolor": "white",
            "ticks": ""
           }
          },
          "scene": {
           "xaxis": {
            "backgroundcolor": "#E5ECF6",
            "gridcolor": "white",
            "gridwidth": 2,
            "linecolor": "white",
            "showbackground": true,
            "ticks": "",
            "zerolinecolor": "white"
           },
           "yaxis": {
            "backgroundcolor": "#E5ECF6",
            "gridcolor": "white",
            "gridwidth": 2,
            "linecolor": "white",
            "showbackground": true,
            "ticks": "",
            "zerolinecolor": "white"
           },
           "zaxis": {
            "backgroundcolor": "#E5ECF6",
            "gridcolor": "white",
            "gridwidth": 2,
            "linecolor": "white",
            "showbackground": true,
            "ticks": "",
            "zerolinecolor": "white"
           }
          },
          "shapedefaults": {
           "line": {
            "color": "#2a3f5f"
           }
          },
          "ternary": {
           "aaxis": {
            "gridcolor": "white",
            "linecolor": "white",
            "ticks": ""
           },
           "baxis": {
            "gridcolor": "white",
            "linecolor": "white",
            "ticks": ""
           },
           "bgcolor": "#E5ECF6",
           "caxis": {
            "gridcolor": "white",
            "linecolor": "white",
            "ticks": ""
           }
          },
          "title": {
           "x": 0.05
          },
          "xaxis": {
           "automargin": true,
           "gridcolor": "white",
           "linecolor": "white",
           "ticks": "",
           "title": {
            "standoff": 15
           },
           "zerolinecolor": "white",
           "zerolinewidth": 2
          },
          "yaxis": {
           "automargin": true,
           "gridcolor": "white",
           "linecolor": "white",
           "ticks": "",
           "title": {
            "standoff": 15
           },
           "zerolinecolor": "white",
           "zerolinewidth": 2
          }
         }
        },
        "title": {
         "text": "2016년 배추 품종별 가격(원/kg) 변화"
        },
        "width": 1000,
        "xaxis": {
         "anchor": "y",
         "domain": [
          0,
          1
         ],
         "title": {
          "text": "SALEDATE"
         }
        },
        "yaxis": {
         "anchor": "x",
         "domain": [
          0,
          1
         ],
         "title": {
          "text": "COST_PER_DANQ"
         }
        }
       }
      }
     },
     "metadata": {},
     "output_type": "display_data"
    }
   ],
   "source": [
    "# load pickle\n",
    "with open(\"./pickles/hypo1_baechu_kind_TOT_QTY_data.pickle\", \"rb\") as fr:\n",
    "    df_2016_baechu_kind_TOT_QTY = pickle.load(fr)\n",
    "with open(\"./pickles/hypo1_baechu_kind_DANQ_data.pickle\", \"rb\") as fr:\n",
    "    df_2016_baechu_kind_DANQ = pickle.load(fr)\n",
    "\n",
    "# 시각화\n",
    "fig1 = px.line(df_2016_baechu_kind_TOT_QTY, x = 'SALEDATE', y = 'TOT_QTY', color = \"KIND_NM\",\n",
    "              title = \"2016년 배추 품종별 거래량(kg) 변화\")\n",
    "fig1.update_layout(\n",
    "    shapes = [{'type' : 'rect','xref' : 'x','yref' : 'paper','x0' : '2016-08-01','y0' : 0,'x1' : '2016-09-30',\n",
    "                'y1' : 1,'fillcolor' : 'blue','opacity' : 0.1,'line' : {'width' : 0}},\n",
    "              {'type' : 'rect','xref' : 'x','yref' : 'paper','x0' : '2016-11-01','y0' : 0,'x1' : '2016-12-31',\n",
    "                'y1' : 1,'fillcolor' : 'red','opacity' : 0.1,'line' : {'width' : 0}}],\n",
    "      width = 1000, height = 600)\n",
    "fig1.show()\n",
    "\n",
    "fig2 = px.line(df_2016_baechu_kind_DANQ, x = 'SALEDATE', y = 'COST_PER_DANQ', color = \"KIND_NM\",\n",
    "              title = \"2016년 배추 품종별 가격(원/kg) 변화\")\n",
    "fig2.update_layout(\n",
    "    shapes = [{'type' : 'rect','xref' : 'x','yref' : 'paper','x0' : '2016-08-01','y0' : 0,'x1' : '2016-09-30',\n",
    "                'y1' : 1,'fillcolor' : 'blue','opacity' : 0.1,'line' : {'width' : 0}},\n",
    "              {'type' : 'rect','xref' : 'x','yref' : 'paper','x0' : '2016-11-01','y0' : 0,'x1' : '2016-12-31',\n",
    "                'y1' : 1,'fillcolor' : 'red','opacity' : 0.1,'line' : {'width' : 0}}],\n",
    "    width = 1000, height = 600)\n",
    "fig2.show()"
   ]
  },
  {
   "cell_type": "markdown",
   "metadata": {},
   "source": [
    "* **위 두 그래프에서,**\n",
    "  * 거래량은 8, 9월에 고냉지배추가 증가했고, 11, 12월에는 김장(가을)배추가 크게 증가하는 추세를 보인다.\n",
    "  * 가격은 우거지와 절임배추를 제외하면, 대부분 품종의 배추들이 8,9월에 증가하는 추세를 보인다.\n",
    "* 김장철인 11, 12월에 김장배추의 거래량이 증가한다는 사실은 알 수 있지만,\n",
    "* 가격은 전체적으로 8, 9월을 중심으로 증가하며, 김장철에는 크게 영향을 받지 않는다는 사실을 알 수 있다."
   ]
  },
  {
   "cell_type": "markdown",
   "metadata": {},
   "source": [
    "## 가설 2-1. 귤의 주 생산지는 제주도일 것이다."
   ]
  },
  {
   "cell_type": "code",
   "execution_count": null,
   "metadata": {},
   "outputs": [],
   "source": [
    "# 2016년 도매시장 데이터\n",
    "df_2016 = TSALET_CONCAT_YEAR(2016)"
   ]
  },
  {
   "cell_type": "code",
   "execution_count": 256,
   "metadata": {
    "scrolled": true
   },
   "outputs": [],
   "source": [
    "# 데이터 전처리\n",
    "df_2016_gamgul = df_2016[df_2016[\"PUM_NM\"]==\"감귤\"]\n",
    "df_2016_gamgul[\"SAN_NM\"].replace('', np.NaN, inplace = True)\n",
    "df_2016_gamgul = df_2016_gamgul.dropna(subset = [\"SAN_NM\"], axis = 0)\n",
    "df_2016_gamgul = df_2016_gamgul.drop((df_2016_gamgul[df_2016_gamgul['COST'] <= 0]).index, axis=0)\n",
    "df_2016_gamgul = df_2016_gamgul.drop((df_2016_gamgul[df_2016_gamgul['QTY'] <= 0]).index, axis=0)\n",
    "df_2016_gamgul = df_2016_gamgul.drop((df_2016_gamgul[df_2016_gamgul['DANQ'] <= 0]).index, axis=0)\n",
    "df_2016_gamgul = df_2016_gamgul.replace(\"제주 서귀포시\", \"제주도 서귀포시\")\n",
    "df_2016_gamgul = df_2016_gamgul.replace(\"제주 제주시\", \"제주도 제주시\")\n",
    "\n",
    "# 2016년도 전국 감귤 생산지별 거래량 합\n",
    "df_2016_gamgul_san = df_2016_gamgul.groupby([\"SAN_NM\"])[\"TOT_QTY\"].sum().sort_values(ascending = False)\n",
    "\n",
    "# 제주도를 제외한 생산지는 기타로 묶음\n",
    "df_2016_gamgul_san_etc_name = '기타(150여 개 지역)'\n",
    "df_2016_gamgul_san_etc_value = df_2016_gamgul_san[5:].sum()\n",
    "\n",
    "# 2016년도 전국 감귤 생산지별 거래량 합에 제주도를 제외한 생산지는 모두 묶어 기타 row로 처리\n",
    "df_2016_gamgul_san = df_2016_gamgul_san[0:5]\n",
    "df_2016_gamgul_san.loc[df_2016_gamgul_san_etc_name] = df_2016_gamgul_san_etc_value\n",
    "\n",
    "# save pickle\n",
    "with open(\"./pickles/hypo2_2016_gamgul_san_data.pickle\", \"wb\") as fw:\n",
    "    pickle.dump(df_2016_gamgul_san, fw)"
   ]
  },
  {
   "cell_type": "code",
   "execution_count": 20,
   "metadata": {},
   "outputs": [
    {
     "data": {
      "application/vnd.plotly.v1+json": {
       "config": {
        "plotlyServerURL": "https://plotly.com"
       },
       "data": [
        {
         "marker": {
          "color": [
           "orange",
           "orange",
           "orange",
           "orange",
           "orange",
           "lightslategray"
          ]
         },
         "type": "bar",
         "x": [
          "제주도 서귀포시",
          "제주도 제주시",
          "제주도",
          "제주 남제주군",
          "제주 북제주군",
          "기타(150여 개 지역)"
         ],
         "y": [
          121954680.70000006,
          65644559.92000001,
          15639993.6,
          13252976.899999999,
          7247645.5,
          17921852.1
         ]
        }
       ],
       "layout": {
        "height": 600,
        "template": {
         "data": {
          "bar": [
           {
            "error_x": {
             "color": "#2a3f5f"
            },
            "error_y": {
             "color": "#2a3f5f"
            },
            "marker": {
             "line": {
              "color": "#E5ECF6",
              "width": 0.5
             },
             "pattern": {
              "fillmode": "overlay",
              "size": 10,
              "solidity": 0.2
             }
            },
            "type": "bar"
           }
          ],
          "barpolar": [
           {
            "marker": {
             "line": {
              "color": "#E5ECF6",
              "width": 0.5
             },
             "pattern": {
              "fillmode": "overlay",
              "size": 10,
              "solidity": 0.2
             }
            },
            "type": "barpolar"
           }
          ],
          "carpet": [
           {
            "aaxis": {
             "endlinecolor": "#2a3f5f",
             "gridcolor": "white",
             "linecolor": "white",
             "minorgridcolor": "white",
             "startlinecolor": "#2a3f5f"
            },
            "baxis": {
             "endlinecolor": "#2a3f5f",
             "gridcolor": "white",
             "linecolor": "white",
             "minorgridcolor": "white",
             "startlinecolor": "#2a3f5f"
            },
            "type": "carpet"
           }
          ],
          "choropleth": [
           {
            "colorbar": {
             "outlinewidth": 0,
             "ticks": ""
            },
            "type": "choropleth"
           }
          ],
          "contour": [
           {
            "colorbar": {
             "outlinewidth": 0,
             "ticks": ""
            },
            "colorscale": [
             [
              0,
              "#0d0887"
             ],
             [
              0.1111111111111111,
              "#46039f"
             ],
             [
              0.2222222222222222,
              "#7201a8"
             ],
             [
              0.3333333333333333,
              "#9c179e"
             ],
             [
              0.4444444444444444,
              "#bd3786"
             ],
             [
              0.5555555555555556,
              "#d8576b"
             ],
             [
              0.6666666666666666,
              "#ed7953"
             ],
             [
              0.7777777777777778,
              "#fb9f3a"
             ],
             [
              0.8888888888888888,
              "#fdca26"
             ],
             [
              1,
              "#f0f921"
             ]
            ],
            "type": "contour"
           }
          ],
          "contourcarpet": [
           {
            "colorbar": {
             "outlinewidth": 0,
             "ticks": ""
            },
            "type": "contourcarpet"
           }
          ],
          "heatmap": [
           {
            "colorbar": {
             "outlinewidth": 0,
             "ticks": ""
            },
            "colorscale": [
             [
              0,
              "#0d0887"
             ],
             [
              0.1111111111111111,
              "#46039f"
             ],
             [
              0.2222222222222222,
              "#7201a8"
             ],
             [
              0.3333333333333333,
              "#9c179e"
             ],
             [
              0.4444444444444444,
              "#bd3786"
             ],
             [
              0.5555555555555556,
              "#d8576b"
             ],
             [
              0.6666666666666666,
              "#ed7953"
             ],
             [
              0.7777777777777778,
              "#fb9f3a"
             ],
             [
              0.8888888888888888,
              "#fdca26"
             ],
             [
              1,
              "#f0f921"
             ]
            ],
            "type": "heatmap"
           }
          ],
          "heatmapgl": [
           {
            "colorbar": {
             "outlinewidth": 0,
             "ticks": ""
            },
            "colorscale": [
             [
              0,
              "#0d0887"
             ],
             [
              0.1111111111111111,
              "#46039f"
             ],
             [
              0.2222222222222222,
              "#7201a8"
             ],
             [
              0.3333333333333333,
              "#9c179e"
             ],
             [
              0.4444444444444444,
              "#bd3786"
             ],
             [
              0.5555555555555556,
              "#d8576b"
             ],
             [
              0.6666666666666666,
              "#ed7953"
             ],
             [
              0.7777777777777778,
              "#fb9f3a"
             ],
             [
              0.8888888888888888,
              "#fdca26"
             ],
             [
              1,
              "#f0f921"
             ]
            ],
            "type": "heatmapgl"
           }
          ],
          "histogram": [
           {
            "marker": {
             "pattern": {
              "fillmode": "overlay",
              "size": 10,
              "solidity": 0.2
             }
            },
            "type": "histogram"
           }
          ],
          "histogram2d": [
           {
            "colorbar": {
             "outlinewidth": 0,
             "ticks": ""
            },
            "colorscale": [
             [
              0,
              "#0d0887"
             ],
             [
              0.1111111111111111,
              "#46039f"
             ],
             [
              0.2222222222222222,
              "#7201a8"
             ],
             [
              0.3333333333333333,
              "#9c179e"
             ],
             [
              0.4444444444444444,
              "#bd3786"
             ],
             [
              0.5555555555555556,
              "#d8576b"
             ],
             [
              0.6666666666666666,
              "#ed7953"
             ],
             [
              0.7777777777777778,
              "#fb9f3a"
             ],
             [
              0.8888888888888888,
              "#fdca26"
             ],
             [
              1,
              "#f0f921"
             ]
            ],
            "type": "histogram2d"
           }
          ],
          "histogram2dcontour": [
           {
            "colorbar": {
             "outlinewidth": 0,
             "ticks": ""
            },
            "colorscale": [
             [
              0,
              "#0d0887"
             ],
             [
              0.1111111111111111,
              "#46039f"
             ],
             [
              0.2222222222222222,
              "#7201a8"
             ],
             [
              0.3333333333333333,
              "#9c179e"
             ],
             [
              0.4444444444444444,
              "#bd3786"
             ],
             [
              0.5555555555555556,
              "#d8576b"
             ],
             [
              0.6666666666666666,
              "#ed7953"
             ],
             [
              0.7777777777777778,
              "#fb9f3a"
             ],
             [
              0.8888888888888888,
              "#fdca26"
             ],
             [
              1,
              "#f0f921"
             ]
            ],
            "type": "histogram2dcontour"
           }
          ],
          "mesh3d": [
           {
            "colorbar": {
             "outlinewidth": 0,
             "ticks": ""
            },
            "type": "mesh3d"
           }
          ],
          "parcoords": [
           {
            "line": {
             "colorbar": {
              "outlinewidth": 0,
              "ticks": ""
             }
            },
            "type": "parcoords"
           }
          ],
          "pie": [
           {
            "automargin": true,
            "type": "pie"
           }
          ],
          "scatter": [
           {
            "fillpattern": {
             "fillmode": "overlay",
             "size": 10,
             "solidity": 0.2
            },
            "type": "scatter"
           }
          ],
          "scatter3d": [
           {
            "line": {
             "colorbar": {
              "outlinewidth": 0,
              "ticks": ""
             }
            },
            "marker": {
             "colorbar": {
              "outlinewidth": 0,
              "ticks": ""
             }
            },
            "type": "scatter3d"
           }
          ],
          "scattercarpet": [
           {
            "marker": {
             "colorbar": {
              "outlinewidth": 0,
              "ticks": ""
             }
            },
            "type": "scattercarpet"
           }
          ],
          "scattergeo": [
           {
            "marker": {
             "colorbar": {
              "outlinewidth": 0,
              "ticks": ""
             }
            },
            "type": "scattergeo"
           }
          ],
          "scattergl": [
           {
            "marker": {
             "colorbar": {
              "outlinewidth": 0,
              "ticks": ""
             }
            },
            "type": "scattergl"
           }
          ],
          "scattermapbox": [
           {
            "marker": {
             "colorbar": {
              "outlinewidth": 0,
              "ticks": ""
             }
            },
            "type": "scattermapbox"
           }
          ],
          "scatterpolar": [
           {
            "marker": {
             "colorbar": {
              "outlinewidth": 0,
              "ticks": ""
             }
            },
            "type": "scatterpolar"
           }
          ],
          "scatterpolargl": [
           {
            "marker": {
             "colorbar": {
              "outlinewidth": 0,
              "ticks": ""
             }
            },
            "type": "scatterpolargl"
           }
          ],
          "scatterternary": [
           {
            "marker": {
             "colorbar": {
              "outlinewidth": 0,
              "ticks": ""
             }
            },
            "type": "scatterternary"
           }
          ],
          "surface": [
           {
            "colorbar": {
             "outlinewidth": 0,
             "ticks": ""
            },
            "colorscale": [
             [
              0,
              "#0d0887"
             ],
             [
              0.1111111111111111,
              "#46039f"
             ],
             [
              0.2222222222222222,
              "#7201a8"
             ],
             [
              0.3333333333333333,
              "#9c179e"
             ],
             [
              0.4444444444444444,
              "#bd3786"
             ],
             [
              0.5555555555555556,
              "#d8576b"
             ],
             [
              0.6666666666666666,
              "#ed7953"
             ],
             [
              0.7777777777777778,
              "#fb9f3a"
             ],
             [
              0.8888888888888888,
              "#fdca26"
             ],
             [
              1,
              "#f0f921"
             ]
            ],
            "type": "surface"
           }
          ],
          "table": [
           {
            "cells": {
             "fill": {
              "color": "#EBF0F8"
             },
             "line": {
              "color": "white"
             }
            },
            "header": {
             "fill": {
              "color": "#C8D4E3"
             },
             "line": {
              "color": "white"
             }
            },
            "type": "table"
           }
          ]
         },
         "layout": {
          "annotationdefaults": {
           "arrowcolor": "#2a3f5f",
           "arrowhead": 0,
           "arrowwidth": 1
          },
          "autotypenumbers": "strict",
          "coloraxis": {
           "colorbar": {
            "outlinewidth": 0,
            "ticks": ""
           }
          },
          "colorscale": {
           "diverging": [
            [
             0,
             "#8e0152"
            ],
            [
             0.1,
             "#c51b7d"
            ],
            [
             0.2,
             "#de77ae"
            ],
            [
             0.3,
             "#f1b6da"
            ],
            [
             0.4,
             "#fde0ef"
            ],
            [
             0.5,
             "#f7f7f7"
            ],
            [
             0.6,
             "#e6f5d0"
            ],
            [
             0.7,
             "#b8e186"
            ],
            [
             0.8,
             "#7fbc41"
            ],
            [
             0.9,
             "#4d9221"
            ],
            [
             1,
             "#276419"
            ]
           ],
           "sequential": [
            [
             0,
             "#0d0887"
            ],
            [
             0.1111111111111111,
             "#46039f"
            ],
            [
             0.2222222222222222,
             "#7201a8"
            ],
            [
             0.3333333333333333,
             "#9c179e"
            ],
            [
             0.4444444444444444,
             "#bd3786"
            ],
            [
             0.5555555555555556,
             "#d8576b"
            ],
            [
             0.6666666666666666,
             "#ed7953"
            ],
            [
             0.7777777777777778,
             "#fb9f3a"
            ],
            [
             0.8888888888888888,
             "#fdca26"
            ],
            [
             1,
             "#f0f921"
            ]
           ],
           "sequentialminus": [
            [
             0,
             "#0d0887"
            ],
            [
             0.1111111111111111,
             "#46039f"
            ],
            [
             0.2222222222222222,
             "#7201a8"
            ],
            [
             0.3333333333333333,
             "#9c179e"
            ],
            [
             0.4444444444444444,
             "#bd3786"
            ],
            [
             0.5555555555555556,
             "#d8576b"
            ],
            [
             0.6666666666666666,
             "#ed7953"
            ],
            [
             0.7777777777777778,
             "#fb9f3a"
            ],
            [
             0.8888888888888888,
             "#fdca26"
            ],
            [
             1,
             "#f0f921"
            ]
           ]
          },
          "colorway": [
           "#636efa",
           "#EF553B",
           "#00cc96",
           "#ab63fa",
           "#FFA15A",
           "#19d3f3",
           "#FF6692",
           "#B6E880",
           "#FF97FF",
           "#FECB52"
          ],
          "font": {
           "color": "#2a3f5f"
          },
          "geo": {
           "bgcolor": "white",
           "lakecolor": "white",
           "landcolor": "#E5ECF6",
           "showlakes": true,
           "showland": true,
           "subunitcolor": "white"
          },
          "hoverlabel": {
           "align": "left"
          },
          "hovermode": "closest",
          "mapbox": {
           "style": "light"
          },
          "paper_bgcolor": "white",
          "plot_bgcolor": "#E5ECF6",
          "polar": {
           "angularaxis": {
            "gridcolor": "white",
            "linecolor": "white",
            "ticks": ""
           },
           "bgcolor": "#E5ECF6",
           "radialaxis": {
            "gridcolor": "white",
            "linecolor": "white",
            "ticks": ""
           }
          },
          "scene": {
           "xaxis": {
            "backgroundcolor": "#E5ECF6",
            "gridcolor": "white",
            "gridwidth": 2,
            "linecolor": "white",
            "showbackground": true,
            "ticks": "",
            "zerolinecolor": "white"
           },
           "yaxis": {
            "backgroundcolor": "#E5ECF6",
            "gridcolor": "white",
            "gridwidth": 2,
            "linecolor": "white",
            "showbackground": true,
            "ticks": "",
            "zerolinecolor": "white"
           },
           "zaxis": {
            "backgroundcolor": "#E5ECF6",
            "gridcolor": "white",
            "gridwidth": 2,
            "linecolor": "white",
            "showbackground": true,
            "ticks": "",
            "zerolinecolor": "white"
           }
          },
          "shapedefaults": {
           "line": {
            "color": "#2a3f5f"
           }
          },
          "ternary": {
           "aaxis": {
            "gridcolor": "white",
            "linecolor": "white",
            "ticks": ""
           },
           "baxis": {
            "gridcolor": "white",
            "linecolor": "white",
            "ticks": ""
           },
           "bgcolor": "#E5ECF6",
           "caxis": {
            "gridcolor": "white",
            "linecolor": "white",
            "ticks": ""
           }
          },
          "title": {
           "x": 0.05
          },
          "xaxis": {
           "automargin": true,
           "gridcolor": "white",
           "linecolor": "white",
           "ticks": "",
           "title": {
            "standoff": 15
           },
           "zerolinecolor": "white",
           "zerolinewidth": 2
          },
          "yaxis": {
           "automargin": true,
           "gridcolor": "white",
           "linecolor": "white",
           "ticks": "",
           "title": {
            "standoff": 15
           },
           "zerolinecolor": "white",
           "zerolinewidth": 2
          }
         }
        },
        "title": {
         "text": "2016년도 전국 감귤 생산지별 거래량 합(kg)"
        },
        "width": 1000
       }
      }
     },
     "metadata": {},
     "output_type": "display_data"
    }
   ],
   "source": [
    "# load pickle\n",
    "with open(\"./pickles/hypo2_2016_gamgul_san_data.pickle\", \"rb\") as fr:\n",
    "    df_2016_gamgul_san = pickle.load(fr)\n",
    "    \n",
    "# 시각화 - 2016년도 전국 감귤 생산지별 거래량 합\n",
    "colors = [\"orange\",] * 6\n",
    "colors[5] = 'lightslategray'\n",
    "\n",
    "fig = go.Figure(data = [go.Bar(x = df_2016_gamgul_san.index, y = df_2016_gamgul_san.values,\n",
    "                               marker_color = colors)])\n",
    "fig.update_layout(title_text = '2016년도 전국 감귤 생산지별 거래량 합(kg)', width = 1000, height = 600)\n",
    "\n",
    "fig.show()"
   ]
  },
  {
   "cell_type": "markdown",
   "metadata": {},
   "source": [
    "* **위 그래프에서,**\n",
    "  * 감귤 생산량에 있어 전국의 기타 150여 개 지역이 차지하는 양에 비해 제주도가 차지하는 양이 압도적으로 많았다.\n",
    "* 따라서, 감귤의 최대 생산지는 제주도라고 할 수 있다."
   ]
  },
  {
   "cell_type": "markdown",
   "metadata": {},
   "source": [
    "## 가설 2-2. 제주도에서는 다른 농산물보다 귤을 가장 많이 생산할 것이다."
   ]
  },
  {
   "cell_type": "code",
   "execution_count": 212,
   "metadata": {
    "scrolled": false
   },
   "outputs": [],
   "source": [
    "# 데이터 전처리\n",
    "df_2016[\"SAN_NM\"].replace('', np.NaN, inplace = True)\n",
    "df_2016 = df_2016.dropna(subset = [\"SAN_NM\"], axis = 0)\n",
    "\n",
    "# 2016년 제주도산 농산물의 품목별 전체 거래중량\n",
    "df_2016_san_jeju = df_2016[df_2016[\"SAN_NM\"].isin([i for i in df_2016[\"SAN_NM\"].unique() if \"제주\" in i])]\n",
    "grouped_san_jeju = df_2016_san_jeju.groupby([\"PUM_NM\"])[\"TOT_QTY\"].sum().sort_values()\n",
    "grouped_san_jeju = pd.DataFrame(data = grouped_san_jeju)\n",
    "\n",
    "# 합이 1이 되도록 정규화\n",
    "grouped_san_jeju[\"TOT_QTY\"] /= grouped_san_jeju[\"TOT_QTY\"].sum()\n",
    "\n",
    "# save pickle\n",
    "with open(\"./pickles/hypo2_piechart_data.pickle\", \"wb\") as fw:\n",
    "    pickle.dump(grouped_san_jeju, fw)\n",
    "\n",
    "## 가설 3 : 제주도에서 멀리 있는 지역의 도매시장에서 일어난 거래일수록 거래 가격이 비쌀 것이다."
   ]
  },
  {
   "cell_type": "code",
   "execution_count": 22,
   "metadata": {},
   "outputs": [
    {
     "data": {
      "application/vnd.plotly.v1+json": {
       "config": {
        "plotlyServerURL": "https://plotly.com"
       },
       "data": [
        {
         "domain": {
          "x": [
           0,
           1
          ],
          "y": [
           0,
           1
          ]
         },
         "hovertemplate": "PUM_NM=%{label}<br>TOT_QTY=%{value}<extra></extra>",
         "labels": [
          "감귤",
          "무",
          "양배추",
          "양파",
          "당근",
          "만감",
          "감자",
          "브로코리(녹색꽃양배추)",
          "콜라비(순무양배추)",
          "적채"
         ],
         "legendgroup": "",
         "name": "",
         "showlegend": true,
         "textinfo": "percent+label",
         "textposition": "inside",
         "type": "pie",
         "values": [
          0.4086555248840773,
          0.29942825232401743,
          0.10536224778401486,
          0.046747696868931786,
          0.03469530322429459,
          0.022675200232350992,
          0.01833236107291772,
          0.015154448806383175,
          0.0078049284223728,
          0.005564404065757958
         ]
        }
       ],
       "layout": {
        "height": 800,
        "legend": {
         "tracegroupgap": 0
        },
        "piecolorway": [
         "rgb(103,0,31)",
         "rgb(178,24,43)",
         "rgb(214,96,77)",
         "rgb(244,165,130)",
         "rgb(253,219,199)",
         "rgb(247,247,247)",
         "rgb(209,229,240)",
         "rgb(146,197,222)",
         "rgb(67,147,195)",
         "rgb(33,102,172)",
         "rgb(5,48,97)"
        ],
        "template": {
         "data": {
          "bar": [
           {
            "error_x": {
             "color": "#2a3f5f"
            },
            "error_y": {
             "color": "#2a3f5f"
            },
            "marker": {
             "line": {
              "color": "#E5ECF6",
              "width": 0.5
             },
             "pattern": {
              "fillmode": "overlay",
              "size": 10,
              "solidity": 0.2
             }
            },
            "type": "bar"
           }
          ],
          "barpolar": [
           {
            "marker": {
             "line": {
              "color": "#E5ECF6",
              "width": 0.5
             },
             "pattern": {
              "fillmode": "overlay",
              "size": 10,
              "solidity": 0.2
             }
            },
            "type": "barpolar"
           }
          ],
          "carpet": [
           {
            "aaxis": {
             "endlinecolor": "#2a3f5f",
             "gridcolor": "white",
             "linecolor": "white",
             "minorgridcolor": "white",
             "startlinecolor": "#2a3f5f"
            },
            "baxis": {
             "endlinecolor": "#2a3f5f",
             "gridcolor": "white",
             "linecolor": "white",
             "minorgridcolor": "white",
             "startlinecolor": "#2a3f5f"
            },
            "type": "carpet"
           }
          ],
          "choropleth": [
           {
            "colorbar": {
             "outlinewidth": 0,
             "ticks": ""
            },
            "type": "choropleth"
           }
          ],
          "contour": [
           {
            "colorbar": {
             "outlinewidth": 0,
             "ticks": ""
            },
            "colorscale": [
             [
              0,
              "#0d0887"
             ],
             [
              0.1111111111111111,
              "#46039f"
             ],
             [
              0.2222222222222222,
              "#7201a8"
             ],
             [
              0.3333333333333333,
              "#9c179e"
             ],
             [
              0.4444444444444444,
              "#bd3786"
             ],
             [
              0.5555555555555556,
              "#d8576b"
             ],
             [
              0.6666666666666666,
              "#ed7953"
             ],
             [
              0.7777777777777778,
              "#fb9f3a"
             ],
             [
              0.8888888888888888,
              "#fdca26"
             ],
             [
              1,
              "#f0f921"
             ]
            ],
            "type": "contour"
           }
          ],
          "contourcarpet": [
           {
            "colorbar": {
             "outlinewidth": 0,
             "ticks": ""
            },
            "type": "contourcarpet"
           }
          ],
          "heatmap": [
           {
            "colorbar": {
             "outlinewidth": 0,
             "ticks": ""
            },
            "colorscale": [
             [
              0,
              "#0d0887"
             ],
             [
              0.1111111111111111,
              "#46039f"
             ],
             [
              0.2222222222222222,
              "#7201a8"
             ],
             [
              0.3333333333333333,
              "#9c179e"
             ],
             [
              0.4444444444444444,
              "#bd3786"
             ],
             [
              0.5555555555555556,
              "#d8576b"
             ],
             [
              0.6666666666666666,
              "#ed7953"
             ],
             [
              0.7777777777777778,
              "#fb9f3a"
             ],
             [
              0.8888888888888888,
              "#fdca26"
             ],
             [
              1,
              "#f0f921"
             ]
            ],
            "type": "heatmap"
           }
          ],
          "heatmapgl": [
           {
            "colorbar": {
             "outlinewidth": 0,
             "ticks": ""
            },
            "colorscale": [
             [
              0,
              "#0d0887"
             ],
             [
              0.1111111111111111,
              "#46039f"
             ],
             [
              0.2222222222222222,
              "#7201a8"
             ],
             [
              0.3333333333333333,
              "#9c179e"
             ],
             [
              0.4444444444444444,
              "#bd3786"
             ],
             [
              0.5555555555555556,
              "#d8576b"
             ],
             [
              0.6666666666666666,
              "#ed7953"
             ],
             [
              0.7777777777777778,
              "#fb9f3a"
             ],
             [
              0.8888888888888888,
              "#fdca26"
             ],
             [
              1,
              "#f0f921"
             ]
            ],
            "type": "heatmapgl"
           }
          ],
          "histogram": [
           {
            "marker": {
             "pattern": {
              "fillmode": "overlay",
              "size": 10,
              "solidity": 0.2
             }
            },
            "type": "histogram"
           }
          ],
          "histogram2d": [
           {
            "colorbar": {
             "outlinewidth": 0,
             "ticks": ""
            },
            "colorscale": [
             [
              0,
              "#0d0887"
             ],
             [
              0.1111111111111111,
              "#46039f"
             ],
             [
              0.2222222222222222,
              "#7201a8"
             ],
             [
              0.3333333333333333,
              "#9c179e"
             ],
             [
              0.4444444444444444,
              "#bd3786"
             ],
             [
              0.5555555555555556,
              "#d8576b"
             ],
             [
              0.6666666666666666,
              "#ed7953"
             ],
             [
              0.7777777777777778,
              "#fb9f3a"
             ],
             [
              0.8888888888888888,
              "#fdca26"
             ],
             [
              1,
              "#f0f921"
             ]
            ],
            "type": "histogram2d"
           }
          ],
          "histogram2dcontour": [
           {
            "colorbar": {
             "outlinewidth": 0,
             "ticks": ""
            },
            "colorscale": [
             [
              0,
              "#0d0887"
             ],
             [
              0.1111111111111111,
              "#46039f"
             ],
             [
              0.2222222222222222,
              "#7201a8"
             ],
             [
              0.3333333333333333,
              "#9c179e"
             ],
             [
              0.4444444444444444,
              "#bd3786"
             ],
             [
              0.5555555555555556,
              "#d8576b"
             ],
             [
              0.6666666666666666,
              "#ed7953"
             ],
             [
              0.7777777777777778,
              "#fb9f3a"
             ],
             [
              0.8888888888888888,
              "#fdca26"
             ],
             [
              1,
              "#f0f921"
             ]
            ],
            "type": "histogram2dcontour"
           }
          ],
          "mesh3d": [
           {
            "colorbar": {
             "outlinewidth": 0,
             "ticks": ""
            },
            "type": "mesh3d"
           }
          ],
          "parcoords": [
           {
            "line": {
             "colorbar": {
              "outlinewidth": 0,
              "ticks": ""
             }
            },
            "type": "parcoords"
           }
          ],
          "pie": [
           {
            "automargin": true,
            "type": "pie"
           }
          ],
          "scatter": [
           {
            "fillpattern": {
             "fillmode": "overlay",
             "size": 10,
             "solidity": 0.2
            },
            "type": "scatter"
           }
          ],
          "scatter3d": [
           {
            "line": {
             "colorbar": {
              "outlinewidth": 0,
              "ticks": ""
             }
            },
            "marker": {
             "colorbar": {
              "outlinewidth": 0,
              "ticks": ""
             }
            },
            "type": "scatter3d"
           }
          ],
          "scattercarpet": [
           {
            "marker": {
             "colorbar": {
              "outlinewidth": 0,
              "ticks": ""
             }
            },
            "type": "scattercarpet"
           }
          ],
          "scattergeo": [
           {
            "marker": {
             "colorbar": {
              "outlinewidth": 0,
              "ticks": ""
             }
            },
            "type": "scattergeo"
           }
          ],
          "scattergl": [
           {
            "marker": {
             "colorbar": {
              "outlinewidth": 0,
              "ticks": ""
             }
            },
            "type": "scattergl"
           }
          ],
          "scattermapbox": [
           {
            "marker": {
             "colorbar": {
              "outlinewidth": 0,
              "ticks": ""
             }
            },
            "type": "scattermapbox"
           }
          ],
          "scatterpolar": [
           {
            "marker": {
             "colorbar": {
              "outlinewidth": 0,
              "ticks": ""
             }
            },
            "type": "scatterpolar"
           }
          ],
          "scatterpolargl": [
           {
            "marker": {
             "colorbar": {
              "outlinewidth": 0,
              "ticks": ""
             }
            },
            "type": "scatterpolargl"
           }
          ],
          "scatterternary": [
           {
            "marker": {
             "colorbar": {
              "outlinewidth": 0,
              "ticks": ""
             }
            },
            "type": "scatterternary"
           }
          ],
          "surface": [
           {
            "colorbar": {
             "outlinewidth": 0,
             "ticks": ""
            },
            "colorscale": [
             [
              0,
              "#0d0887"
             ],
             [
              0.1111111111111111,
              "#46039f"
             ],
             [
              0.2222222222222222,
              "#7201a8"
             ],
             [
              0.3333333333333333,
              "#9c179e"
             ],
             [
              0.4444444444444444,
              "#bd3786"
             ],
             [
              0.5555555555555556,
              "#d8576b"
             ],
             [
              0.6666666666666666,
              "#ed7953"
             ],
             [
              0.7777777777777778,
              "#fb9f3a"
             ],
             [
              0.8888888888888888,
              "#fdca26"
             ],
             [
              1,
              "#f0f921"
             ]
            ],
            "type": "surface"
           }
          ],
          "table": [
           {
            "cells": {
             "fill": {
              "color": "#EBF0F8"
             },
             "line": {
              "color": "white"
             }
            },
            "header": {
             "fill": {
              "color": "#C8D4E3"
             },
             "line": {
              "color": "white"
             }
            },
            "type": "table"
           }
          ]
         },
         "layout": {
          "annotationdefaults": {
           "arrowcolor": "#2a3f5f",
           "arrowhead": 0,
           "arrowwidth": 1
          },
          "autotypenumbers": "strict",
          "coloraxis": {
           "colorbar": {
            "outlinewidth": 0,
            "ticks": ""
           }
          },
          "colorscale": {
           "diverging": [
            [
             0,
             "#8e0152"
            ],
            [
             0.1,
             "#c51b7d"
            ],
            [
             0.2,
             "#de77ae"
            ],
            [
             0.3,
             "#f1b6da"
            ],
            [
             0.4,
             "#fde0ef"
            ],
            [
             0.5,
             "#f7f7f7"
            ],
            [
             0.6,
             "#e6f5d0"
            ],
            [
             0.7,
             "#b8e186"
            ],
            [
             0.8,
             "#7fbc41"
            ],
            [
             0.9,
             "#4d9221"
            ],
            [
             1,
             "#276419"
            ]
           ],
           "sequential": [
            [
             0,
             "#0d0887"
            ],
            [
             0.1111111111111111,
             "#46039f"
            ],
            [
             0.2222222222222222,
             "#7201a8"
            ],
            [
             0.3333333333333333,
             "#9c179e"
            ],
            [
             0.4444444444444444,
             "#bd3786"
            ],
            [
             0.5555555555555556,
             "#d8576b"
            ],
            [
             0.6666666666666666,
             "#ed7953"
            ],
            [
             0.7777777777777778,
             "#fb9f3a"
            ],
            [
             0.8888888888888888,
             "#fdca26"
            ],
            [
             1,
             "#f0f921"
            ]
           ],
           "sequentialminus": [
            [
             0,
             "#0d0887"
            ],
            [
             0.1111111111111111,
             "#46039f"
            ],
            [
             0.2222222222222222,
             "#7201a8"
            ],
            [
             0.3333333333333333,
             "#9c179e"
            ],
            [
             0.4444444444444444,
             "#bd3786"
            ],
            [
             0.5555555555555556,
             "#d8576b"
            ],
            [
             0.6666666666666666,
             "#ed7953"
            ],
            [
             0.7777777777777778,
             "#fb9f3a"
            ],
            [
             0.8888888888888888,
             "#fdca26"
            ],
            [
             1,
             "#f0f921"
            ]
           ]
          },
          "colorway": [
           "#636efa",
           "#EF553B",
           "#00cc96",
           "#ab63fa",
           "#FFA15A",
           "#19d3f3",
           "#FF6692",
           "#B6E880",
           "#FF97FF",
           "#FECB52"
          ],
          "font": {
           "color": "#2a3f5f"
          },
          "geo": {
           "bgcolor": "white",
           "lakecolor": "white",
           "landcolor": "#E5ECF6",
           "showlakes": true,
           "showland": true,
           "subunitcolor": "white"
          },
          "hoverlabel": {
           "align": "left"
          },
          "hovermode": "closest",
          "mapbox": {
           "style": "light"
          },
          "paper_bgcolor": "white",
          "plot_bgcolor": "#E5ECF6",
          "polar": {
           "angularaxis": {
            "gridcolor": "white",
            "linecolor": "white",
            "ticks": ""
           },
           "bgcolor": "#E5ECF6",
           "radialaxis": {
            "gridcolor": "white",
            "linecolor": "white",
            "ticks": ""
           }
          },
          "scene": {
           "xaxis": {
            "backgroundcolor": "#E5ECF6",
            "gridcolor": "white",
            "gridwidth": 2,
            "linecolor": "white",
            "showbackground": true,
            "ticks": "",
            "zerolinecolor": "white"
           },
           "yaxis": {
            "backgroundcolor": "#E5ECF6",
            "gridcolor": "white",
            "gridwidth": 2,
            "linecolor": "white",
            "showbackground": true,
            "ticks": "",
            "zerolinecolor": "white"
           },
           "zaxis": {
            "backgroundcolor": "#E5ECF6",
            "gridcolor": "white",
            "gridwidth": 2,
            "linecolor": "white",
            "showbackground": true,
            "ticks": "",
            "zerolinecolor": "white"
           }
          },
          "shapedefaults": {
           "line": {
            "color": "#2a3f5f"
           }
          },
          "ternary": {
           "aaxis": {
            "gridcolor": "white",
            "linecolor": "white",
            "ticks": ""
           },
           "baxis": {
            "gridcolor": "white",
            "linecolor": "white",
            "ticks": ""
           },
           "bgcolor": "#E5ECF6",
           "caxis": {
            "gridcolor": "white",
            "linecolor": "white",
            "ticks": ""
           }
          },
          "title": {
           "x": 0.05
          },
          "xaxis": {
           "automargin": true,
           "gridcolor": "white",
           "linecolor": "white",
           "ticks": "",
           "title": {
            "standoff": 15
           },
           "zerolinecolor": "white",
           "zerolinewidth": 2
          },
          "yaxis": {
           "automargin": true,
           "gridcolor": "white",
           "linecolor": "white",
           "ticks": "",
           "title": {
            "standoff": 15
           },
           "zerolinecolor": "white",
           "zerolinewidth": 2
          }
         }
        },
        "title": {
         "text": "2016년도 제주도산 농산물 품목 비율(%) - 상위 10개 품목"
        },
        "width": 800
       }
      }
     },
     "metadata": {},
     "output_type": "display_data"
    }
   ],
   "source": [
    "# load pickle\n",
    "with open(\"./pickles/hypo2_piechart_data.pickle\", \"rb\") as fr:\n",
    "    grouped_san_jeju = pickle.load(fr)\n",
    "\n",
    "grouped_san_jeju = grouped_san_jeju.sort_values(by = \"TOT_QTY\", ascending = False).head(10)\n",
    "\n",
    "# 시각화 - 제주도가 주로 생산하는 농산물에 대한 비율\n",
    "fig = px.pie(grouped_san_jeju, values = grouped_san_jeju[\"TOT_QTY\"], names = grouped_san_jeju.index,\n",
    "              color_discrete_sequence=px.colors.sequential.RdBu, title = \"2016년도 제주도산 농산물 품목 비율(%) - 상위 10개 품목\")\n",
    "fig.update_traces(textposition='inside', textinfo='percent+label')\n",
    "fig.update_layout(width = 800, height = 800)\n",
    "\n",
    "fig.show()"
   ]
  },
  {
   "cell_type": "markdown",
   "metadata": {},
   "source": [
    "* 2016년도의 제주도산 농산물 중 가장 많은 비율을 차지하는 품목은 40.9%로 감귤이었다. \n",
    "* 감귤, 무, 양배추가 2016년 제주도산 농산물 중 약 80%를 차지한다.\n",
    "  * 따라서 이후 가설 3에서 감귤, 무, 양배추에 대해서 거래지역별 거래 가격의 차이에 대해서 알아보기로 한다."
   ]
  },
  {
   "cell_type": "markdown",
   "metadata": {},
   "source": [
    "## 가설 3 : 제주도에서 멀리 있는 지역의 도매시장에서 일어난 거래일수록 거래 가격이 비쌀 것이다."
   ]
  },
  {
   "cell_type": "code",
   "execution_count": 214,
   "metadata": {
    "scrolled": false
   },
   "outputs": [],
   "source": [
    "# 2016년 제주도산 감귤 중 DAMQ, COST, QTY가 0이거나 음수인 행 제거\n",
    "df_2016_san_jeju_gamgul = df_2016_san_jeju[df_2016_san_jeju[\"PUM_NM\"]==\"감귤\"]\n",
    "df_2016_san_jeju_gamgul = df_2016_san_jeju_gamgul.drop((df_2016_san_jeju_gamgul[df_2016_san_jeju_gamgul['COST'] <= 0]).index, axis=0)\n",
    "df_2016_san_jeju_gamgul = df_2016_san_jeju_gamgul.drop((df_2016_san_jeju_gamgul[df_2016_san_jeju_gamgul['QTY'] <= 0]).index, axis=0)\n",
    "df_2016_san_jeju_gamgul = df_2016_san_jeju_gamgul.drop((df_2016_san_jeju_gamgul[df_2016_san_jeju_gamgul['DANQ'] <= 0]).index, axis=0)\n",
    "\n",
    "\n",
    "# 2016년 제주도산 감귤의 단위가격 평균 \n",
    "df_2016_san_jeju_gamgul['COST_PER_DANQ'] = df_2016_san_jeju_gamgul[\"TOT_AMT\"] / df_2016_san_jeju_gamgul[\"TOT_QTY\"]\n",
    "grouped_2016_san_jeju_gamgul_WHSAL = pd.DataFrame(df_2016_san_jeju_gamgul.groupby([\"WHSAL_NM\"])[\"COST_PER_DANQ\"].mean()).reset_index()\n",
    "\n",
    "# 도매시장의 좌표\n",
    "latitude = [37.73613, 35.18385, 35.11620, 37.61263, 36.15712, 35.90339, 36.36528, 36.35779, 35.21407, 35.12858,\n",
    "            37.49403, 37.55287, 37.25562, 34.91683, 36.58981, 37.30957, 37.38298, 35.53989, 37.35449, 35.91878, \n",
    "            37.44229, 37.52219, 35.86807, 35.58939, 35.21068, 35.25519, 35.22901, 36.86107, 36.64783, 37.91020, \n",
    "            37.00551, 36.08150]\n",
    "longitude = [128.91824, 126.93501, 126.85632, 127.14465, 128.35023, 128.54235, 127.32074, 127.40658, 129.12180, 128.96510,\n",
    "             127.11482, 126.82083, 127.03111, 127.53796, 128.60896, 126.85733, 126.97009, 129.34266, 127.92328, 126.91714,\n",
    "             126.70494, 126.74920, 127.11701, 126.84576, 128.12295, 128.51132, 128.63746, 127.14993, 127.46439, 127.72691,\n",
    "             127.92131, 129.33650]\n",
    "\n",
    "# 도매시장의 좌표와 제주도와의 거리 column 추가\n",
    "jeju = [33.52088, 126.53885]\n",
    "\n",
    "grouped_2016_san_jeju_gamgul_WHSAL = grouped_2016_san_jeju_gamgul_WHSAL.assign(latitude = latitude, longitude = longitude)\n",
    "grouped_2016_san_jeju_gamgul_WHSAL = grouped_2016_san_jeju_gamgul_WHSAL.assign(\n",
    "    distance = [((grouped_2016_san_jeju_gamgul_WHSAL.iloc[i, 2] - jeju[0])**2 + \n",
    "                 (grouped_2016_san_jeju_gamgul_WHSAL.iloc[i, 3] - jeju[1])**2)**0.5 for i in range(0, 32)])\n",
    "\n",
    "######################################################################\n",
    "\n",
    "# 2016년 제주도산 무 중 DAMQ, COST, QTY가 0이거나 음수인 행 제거\n",
    "df_2016_san_jeju_radish = df_2016_san_jeju[df_2016_san_jeju[\"PUM_NM\"]==\"무\"]\n",
    "df_2016_san_jeju_radish = df_2016_san_jeju_radish.drop((df_2016_san_jeju_radish[df_2016_san_jeju_radish['COST'] <= 0]).index, axis=0)\n",
    "df_2016_san_jeju_radish = df_2016_san_jeju_radish.drop((df_2016_san_jeju_radish[df_2016_san_jeju_radish['QTY'] <= 0]).index, axis=0)\n",
    "df_2016_san_jeju_radish = df_2016_san_jeju_radish.drop((df_2016_san_jeju_radish[df_2016_san_jeju_radish['DANQ'] <= 0]).index, axis=0)\n",
    "\n",
    "\n",
    "# 2016년 제주도산 무의 단위가격 평균 확인\n",
    "df_2016_san_jeju_radish['COST_PER_DANQ'] = df_2016_san_jeju_radish[\"TOT_AMT\"] / df_2016_san_jeju_radish[\"TOT_QTY\"]\n",
    "grouped_2016_san_jeju_radish_WHSAL = pd.DataFrame(df_2016_san_jeju_radish.groupby([\"WHSAL_NM\"])[\"COST_PER_DANQ\"].mean()).reset_index()\n",
    "\n",
    "# 도매시장의 좌표와 제주도와의 거리 column 추가\n",
    "latitude2 = latitude[0:14] + latitude[15:29] + latitude[30:]\n",
    "longitude2 = longitude[0:14] + longitude[15:29] + longitude[30:]\n",
    "grouped_2016_san_jeju_radish_WHSAL = grouped_2016_san_jeju_radish_WHSAL.assign(latitude = latitude2,longitude = longitude2)\n",
    "grouped_2016_san_jeju_radish_WHSAL = grouped_2016_san_jeju_radish_WHSAL.assign(\n",
    "    distance = [((grouped_2016_san_jeju_radish_WHSAL.iloc[i, 2] - jeju[0])**2 + \n",
    "                 (grouped_2016_san_jeju_radish_WHSAL.iloc[i, 3] - jeju[1])**2)**0.5 for i in range(0, 30)])\n",
    "\n",
    "######################################################################\n",
    "\n",
    "# 2016년 제주도산 양배추 중 DAMQ, COST, QTY가 0이거나 음수인 행 제거\n",
    "df_2016_san_jeju_cabbage = df_2016_san_jeju[df_2016_san_jeju[\"PUM_NM\"]==\"양배추\"]\n",
    "df_2016_san_jeju_cabbage = df_2016_san_jeju_cabbage.drop((df_2016_san_jeju_cabbage[df_2016_san_jeju_cabbage['COST'] <= 0]).index, axis=0)\n",
    "df_2016_san_jeju_cabbage = df_2016_san_jeju_cabbage.drop((df_2016_san_jeju_cabbage[df_2016_san_jeju_cabbage['QTY'] <= 0]).index, axis=0)\n",
    "df_2016_san_jeju_cabbage = df_2016_san_jeju_cabbage.drop((df_2016_san_jeju_cabbage[df_2016_san_jeju_cabbage['DANQ'] <= 0]).index, axis=0)\n",
    "\n",
    "\n",
    "# 2016년 제주도산 양배추의 단위가격 평균 \n",
    "df_2016_san_jeju_cabbage['COST_PER_DANQ'] = df_2016_san_jeju_cabbage[\"TOT_AMT\"] / df_2016_san_jeju_cabbage[\"TOT_QTY\"]\n",
    "grouped_2016_san_jeju_cabbage_WHSAL = pd.DataFrame(df_2016_san_jeju_cabbage.groupby([\"WHSAL_NM\"])[\"COST_PER_DANQ\"].mean()).reset_index()\n",
    "\n",
    "\n",
    "# 도매시장의 좌표와 제주도와의 거리 column 추가\n",
    "grouped_2016_san_jeju_cabbage_WHSAL = grouped_2016_san_jeju_cabbage_WHSAL.assign(latitude = latitude2,longitude = longitude2)\n",
    "grouped_2016_san_jeju_cabbage_WHSAL = grouped_2016_san_jeju_cabbage_WHSAL.assign(\n",
    "    distance = [((grouped_2016_san_jeju_cabbage_WHSAL.iloc[i, 2] - jeju[0])**2 + \n",
    "                 (grouped_2016_san_jeju_cabbage_WHSAL.iloc[i, 3] - jeju[1])**2)**0.5 for i in range(0, 30)])\n",
    "\n",
    "# save pickle\n",
    "with open(\"./pickles/hypo3_map_gamgul_data.pickle\", \"wb\") as fw:\n",
    "    pickle.dump(grouped_2016_san_jeju_gamgul_WHSAL, fw)\n",
    "with open(\"./pickles/hypo3_map_radish_data.pickle\", \"wb\") as fw:\n",
    "    pickle.dump(grouped_2016_san_jeju_radish_WHSAL, fw)\n",
    "with open(\"./pickles/hypo3_map_cabbage_data.pickle\", \"wb\") as fw:\n",
    "    pickle.dump(grouped_2016_san_jeju_cabbage_WHSAL, fw)"
   ]
  },
  {
   "cell_type": "code",
   "execution_count": 24,
   "metadata": {},
   "outputs": [
    {
     "data": {
      "application/vnd.plotly.v1+json": {
       "config": {
        "plotlyServerURL": "https://plotly.com"
       },
       "data": [
        {
         "hovertemplate": "<b>%{hovertext}</b><br><br>distance=%{marker.size}<br>latitude=%{lat}<br>longitude=%{lon}<br>COST_PER_DANQ=%{marker.color}<extra></extra>",
         "hovertext": [
          "강릉도매시장",
          "광주각화도매",
          "광주서부도매",
          "구리도매시장",
          "구미도매시장",
          "대구북부도매",
          "대전노은도매",
          "대전오정도매",
          "부산반여도매",
          "부산엄궁도매",
          "서울가락도매",
          "서울강서도매",
          "수원도매시장",
          "순천도매시장",
          "안동도매시장",
          "안산도매시장",
          "안양도매시장",
          "울산도매시장",
          "원주도매시장",
          "익산도매시장",
          "인천구월도매",
          "인천삼산도매",
          "전주도매시장",
          "정읍도매시장",
          "진주도매시장",
          "창원내서도매시장",
          "창원팔용도매시장",
          "천안도매시장",
          "청주도매시장",
          "춘천도매시장",
          "충주도매시장",
          "포항도매시장"
         ],
         "lat": [
          37.73613,
          35.18385,
          35.1162,
          37.61263,
          36.15712,
          35.90339,
          36.36528,
          36.35779,
          35.21407,
          35.12858,
          37.49403,
          37.55287,
          37.25562,
          34.91683,
          36.58981,
          37.30957,
          37.38298,
          35.53989,
          37.35449,
          35.91878,
          37.44229,
          37.52219,
          35.86807,
          35.58939,
          35.21068,
          35.25519,
          35.22901,
          36.86107,
          36.64783,
          37.9102,
          37.00551,
          36.0815
         ],
         "legendgroup": "",
         "lon": [
          128.91824,
          126.93501,
          126.85632,
          127.14465,
          128.35023,
          128.54235,
          127.32074,
          127.40658,
          129.1218,
          128.9651,
          127.11482,
          126.82083,
          127.03111,
          127.53796,
          128.60896,
          126.85733,
          126.97009,
          129.34266,
          127.92328,
          126.91714,
          126.70494,
          126.7492,
          127.11701,
          126.84576,
          128.12295,
          128.51132,
          128.63746,
          127.14993,
          127.46439,
          127.72691,
          127.92131,
          129.3365
         ],
         "marker": {
          "color": [
           1798.8938673908142,
           1903.9790828062166,
           2031.3263504085587,
           1987.6066057259295,
           1605.361955241459,
           2050.5713251584184,
           2078.97051293184,
           1856.405037860675,
           2050.409362942019,
           2115.9231031583395,
           2104.3075820690256,
           1814.6208354952144,
           1993.2085773352644,
           2037.183436655542,
           1211.411185020941,
           1913.2253310886651,
           2250.693275971956,
           1957.5075245306457,
           1898.668385685261,
           1882.5333422842807,
           1703.902971929027,
           1828.0545909781808,
           1932.9921328204261,
           1783.9830944505718,
           2183.5441278707713,
           2383.4321907132426,
           2037.5800262533373,
           1514.1020754890242,
           1833.6084414513807,
           1674.0954077593026,
           1609.689824205546,
           2347.423264837753
          ],
          "coloraxis": "coloraxis",
          "size": [
           4.840436895012685,
           1.70950635169923,
           1.6266017039521394,
           4.136352463523877,
           3.198571375161113,
           3.112935294878457,
           2.949909037936595,
           2.966650249186788,
           3.0884499475627027,
           2.9105649541798675,
           4.014680854488938,
           4.041838205631196,
           3.767041647659343,
           1.716652904520888,
           3.7018490997067954,
           3.8020522650931596,
           3.8861014330045536,
           3.4551051932177113,
           4.075930820929132,
           2.4275559178111643,
           3.9249257669668114,
           4.006835264719531,
           2.4173476956573743,
           2.0911545538768803,
           2.3162031106964776,
           2.626493684934358,
           2.7058957904915792,
           3.3956277773778445,
           3.261049002100398,
           4.547264741138354,
           3.7488454073887927,
           3.7925743640566925
          ],
          "sizemode": "area",
          "sizeref": 0.012101092237531712
         },
         "mode": "markers",
         "name": "",
         "showlegend": false,
         "subplot": "mapbox",
         "type": "scattermapbox"
        },
        {
         "lat": [
          33.52088
         ],
         "lon": [
          126.53885
         ],
         "marker": {
          "color": "yellow",
          "size": 15
         },
         "mode": "markers",
         "name": "제주",
         "type": "scattermapbox"
        }
       ],
       "layout": {
        "coloraxis": {
         "colorbar": {
          "title": {
           "text": "COST_PER_DANQ"
          }
         },
         "colorscale": [
          [
           0,
           "rgb(255,245,235)"
          ],
          [
           0.125,
           "rgb(254,230,206)"
          ],
          [
           0.25,
           "rgb(253,208,162)"
          ],
          [
           0.375,
           "rgb(253,174,107)"
          ],
          [
           0.5,
           "rgb(253,141,60)"
          ],
          [
           0.625,
           "rgb(241,105,19)"
          ],
          [
           0.75,
           "rgb(217,72,1)"
          ],
          [
           0.875,
           "rgb(166,54,3)"
          ],
          [
           1,
           "rgb(127,39,4)"
          ]
         ]
        },
        "height": 750,
        "legend": {
         "itemsizing": "constant",
         "tracegroupgap": 0
        },
        "mapbox": {
         "accesstoken": "'sk.eyJ1IjoieW9uZ2Nob29vb24iLCJhIjoiY2xlbWdkcHl3MTRwYzNwcjBwa2M2ajl4ciJ9.Ehkyqd5GGR24Sk5DiV4FMA'",
         "center": {
          "lat": 35.8,
          "lon": 127.5
         },
         "domain": {
          "x": [
           0,
           1
          ],
          "y": [
           0,
           1
          ]
         },
         "style": "carto-darkmatter",
         "zoom": 6
        },
        "margin": {
         "t": 60
        },
        "showlegend": false,
        "template": {
         "data": {
          "bar": [
           {
            "error_x": {
             "color": "#2a3f5f"
            },
            "error_y": {
             "color": "#2a3f5f"
            },
            "marker": {
             "line": {
              "color": "#E5ECF6",
              "width": 0.5
             },
             "pattern": {
              "fillmode": "overlay",
              "size": 10,
              "solidity": 0.2
             }
            },
            "type": "bar"
           }
          ],
          "barpolar": [
           {
            "marker": {
             "line": {
              "color": "#E5ECF6",
              "width": 0.5
             },
             "pattern": {
              "fillmode": "overlay",
              "size": 10,
              "solidity": 0.2
             }
            },
            "type": "barpolar"
           }
          ],
          "carpet": [
           {
            "aaxis": {
             "endlinecolor": "#2a3f5f",
             "gridcolor": "white",
             "linecolor": "white",
             "minorgridcolor": "white",
             "startlinecolor": "#2a3f5f"
            },
            "baxis": {
             "endlinecolor": "#2a3f5f",
             "gridcolor": "white",
             "linecolor": "white",
             "minorgridcolor": "white",
             "startlinecolor": "#2a3f5f"
            },
            "type": "carpet"
           }
          ],
          "choropleth": [
           {
            "colorbar": {
             "outlinewidth": 0,
             "ticks": ""
            },
            "type": "choropleth"
           }
          ],
          "contour": [
           {
            "colorbar": {
             "outlinewidth": 0,
             "ticks": ""
            },
            "colorscale": [
             [
              0,
              "#0d0887"
             ],
             [
              0.1111111111111111,
              "#46039f"
             ],
             [
              0.2222222222222222,
              "#7201a8"
             ],
             [
              0.3333333333333333,
              "#9c179e"
             ],
             [
              0.4444444444444444,
              "#bd3786"
             ],
             [
              0.5555555555555556,
              "#d8576b"
             ],
             [
              0.6666666666666666,
              "#ed7953"
             ],
             [
              0.7777777777777778,
              "#fb9f3a"
             ],
             [
              0.8888888888888888,
              "#fdca26"
             ],
             [
              1,
              "#f0f921"
             ]
            ],
            "type": "contour"
           }
          ],
          "contourcarpet": [
           {
            "colorbar": {
             "outlinewidth": 0,
             "ticks": ""
            },
            "type": "contourcarpet"
           }
          ],
          "heatmap": [
           {
            "colorbar": {
             "outlinewidth": 0,
             "ticks": ""
            },
            "colorscale": [
             [
              0,
              "#0d0887"
             ],
             [
              0.1111111111111111,
              "#46039f"
             ],
             [
              0.2222222222222222,
              "#7201a8"
             ],
             [
              0.3333333333333333,
              "#9c179e"
             ],
             [
              0.4444444444444444,
              "#bd3786"
             ],
             [
              0.5555555555555556,
              "#d8576b"
             ],
             [
              0.6666666666666666,
              "#ed7953"
             ],
             [
              0.7777777777777778,
              "#fb9f3a"
             ],
             [
              0.8888888888888888,
              "#fdca26"
             ],
             [
              1,
              "#f0f921"
             ]
            ],
            "type": "heatmap"
           }
          ],
          "heatmapgl": [
           {
            "colorbar": {
             "outlinewidth": 0,
             "ticks": ""
            },
            "colorscale": [
             [
              0,
              "#0d0887"
             ],
             [
              0.1111111111111111,
              "#46039f"
             ],
             [
              0.2222222222222222,
              "#7201a8"
             ],
             [
              0.3333333333333333,
              "#9c179e"
             ],
             [
              0.4444444444444444,
              "#bd3786"
             ],
             [
              0.5555555555555556,
              "#d8576b"
             ],
             [
              0.6666666666666666,
              "#ed7953"
             ],
             [
              0.7777777777777778,
              "#fb9f3a"
             ],
             [
              0.8888888888888888,
              "#fdca26"
             ],
             [
              1,
              "#f0f921"
             ]
            ],
            "type": "heatmapgl"
           }
          ],
          "histogram": [
           {
            "marker": {
             "pattern": {
              "fillmode": "overlay",
              "size": 10,
              "solidity": 0.2
             }
            },
            "type": "histogram"
           }
          ],
          "histogram2d": [
           {
            "colorbar": {
             "outlinewidth": 0,
             "ticks": ""
            },
            "colorscale": [
             [
              0,
              "#0d0887"
             ],
             [
              0.1111111111111111,
              "#46039f"
             ],
             [
              0.2222222222222222,
              "#7201a8"
             ],
             [
              0.3333333333333333,
              "#9c179e"
             ],
             [
              0.4444444444444444,
              "#bd3786"
             ],
             [
              0.5555555555555556,
              "#d8576b"
             ],
             [
              0.6666666666666666,
              "#ed7953"
             ],
             [
              0.7777777777777778,
              "#fb9f3a"
             ],
             [
              0.8888888888888888,
              "#fdca26"
             ],
             [
              1,
              "#f0f921"
             ]
            ],
            "type": "histogram2d"
           }
          ],
          "histogram2dcontour": [
           {
            "colorbar": {
             "outlinewidth": 0,
             "ticks": ""
            },
            "colorscale": [
             [
              0,
              "#0d0887"
             ],
             [
              0.1111111111111111,
              "#46039f"
             ],
             [
              0.2222222222222222,
              "#7201a8"
             ],
             [
              0.3333333333333333,
              "#9c179e"
             ],
             [
              0.4444444444444444,
              "#bd3786"
             ],
             [
              0.5555555555555556,
              "#d8576b"
             ],
             [
              0.6666666666666666,
              "#ed7953"
             ],
             [
              0.7777777777777778,
              "#fb9f3a"
             ],
             [
              0.8888888888888888,
              "#fdca26"
             ],
             [
              1,
              "#f0f921"
             ]
            ],
            "type": "histogram2dcontour"
           }
          ],
          "mesh3d": [
           {
            "colorbar": {
             "outlinewidth": 0,
             "ticks": ""
            },
            "type": "mesh3d"
           }
          ],
          "parcoords": [
           {
            "line": {
             "colorbar": {
              "outlinewidth": 0,
              "ticks": ""
             }
            },
            "type": "parcoords"
           }
          ],
          "pie": [
           {
            "automargin": true,
            "type": "pie"
           }
          ],
          "scatter": [
           {
            "fillpattern": {
             "fillmode": "overlay",
             "size": 10,
             "solidity": 0.2
            },
            "type": "scatter"
           }
          ],
          "scatter3d": [
           {
            "line": {
             "colorbar": {
              "outlinewidth": 0,
              "ticks": ""
             }
            },
            "marker": {
             "colorbar": {
              "outlinewidth": 0,
              "ticks": ""
             }
            },
            "type": "scatter3d"
           }
          ],
          "scattercarpet": [
           {
            "marker": {
             "colorbar": {
              "outlinewidth": 0,
              "ticks": ""
             }
            },
            "type": "scattercarpet"
           }
          ],
          "scattergeo": [
           {
            "marker": {
             "colorbar": {
              "outlinewidth": 0,
              "ticks": ""
             }
            },
            "type": "scattergeo"
           }
          ],
          "scattergl": [
           {
            "marker": {
             "colorbar": {
              "outlinewidth": 0,
              "ticks": ""
             }
            },
            "type": "scattergl"
           }
          ],
          "scattermapbox": [
           {
            "marker": {
             "colorbar": {
              "outlinewidth": 0,
              "ticks": ""
             }
            },
            "type": "scattermapbox"
           }
          ],
          "scatterpolar": [
           {
            "marker": {
             "colorbar": {
              "outlinewidth": 0,
              "ticks": ""
             }
            },
            "type": "scatterpolar"
           }
          ],
          "scatterpolargl": [
           {
            "marker": {
             "colorbar": {
              "outlinewidth": 0,
              "ticks": ""
             }
            },
            "type": "scatterpolargl"
           }
          ],
          "scatterternary": [
           {
            "marker": {
             "colorbar": {
              "outlinewidth": 0,
              "ticks": ""
             }
            },
            "type": "scatterternary"
           }
          ],
          "surface": [
           {
            "colorbar": {
             "outlinewidth": 0,
             "ticks": ""
            },
            "colorscale": [
             [
              0,
              "#0d0887"
             ],
             [
              0.1111111111111111,
              "#46039f"
             ],
             [
              0.2222222222222222,
              "#7201a8"
             ],
             [
              0.3333333333333333,
              "#9c179e"
             ],
             [
              0.4444444444444444,
              "#bd3786"
             ],
             [
              0.5555555555555556,
              "#d8576b"
             ],
             [
              0.6666666666666666,
              "#ed7953"
             ],
             [
              0.7777777777777778,
              "#fb9f3a"
             ],
             [
              0.8888888888888888,
              "#fdca26"
             ],
             [
              1,
              "#f0f921"
             ]
            ],
            "type": "surface"
           }
          ],
          "table": [
           {
            "cells": {
             "fill": {
              "color": "#EBF0F8"
             },
             "line": {
              "color": "white"
             }
            },
            "header": {
             "fill": {
              "color": "#C8D4E3"
             },
             "line": {
              "color": "white"
             }
            },
            "type": "table"
           }
          ]
         },
         "layout": {
          "annotationdefaults": {
           "arrowcolor": "#2a3f5f",
           "arrowhead": 0,
           "arrowwidth": 1
          },
          "autotypenumbers": "strict",
          "coloraxis": {
           "colorbar": {
            "outlinewidth": 0,
            "ticks": ""
           }
          },
          "colorscale": {
           "diverging": [
            [
             0,
             "#8e0152"
            ],
            [
             0.1,
             "#c51b7d"
            ],
            [
             0.2,
             "#de77ae"
            ],
            [
             0.3,
             "#f1b6da"
            ],
            [
             0.4,
             "#fde0ef"
            ],
            [
             0.5,
             "#f7f7f7"
            ],
            [
             0.6,
             "#e6f5d0"
            ],
            [
             0.7,
             "#b8e186"
            ],
            [
             0.8,
             "#7fbc41"
            ],
            [
             0.9,
             "#4d9221"
            ],
            [
             1,
             "#276419"
            ]
           ],
           "sequential": [
            [
             0,
             "#0d0887"
            ],
            [
             0.1111111111111111,
             "#46039f"
            ],
            [
             0.2222222222222222,
             "#7201a8"
            ],
            [
             0.3333333333333333,
             "#9c179e"
            ],
            [
             0.4444444444444444,
             "#bd3786"
            ],
            [
             0.5555555555555556,
             "#d8576b"
            ],
            [
             0.6666666666666666,
             "#ed7953"
            ],
            [
             0.7777777777777778,
             "#fb9f3a"
            ],
            [
             0.8888888888888888,
             "#fdca26"
            ],
            [
             1,
             "#f0f921"
            ]
           ],
           "sequentialminus": [
            [
             0,
             "#0d0887"
            ],
            [
             0.1111111111111111,
             "#46039f"
            ],
            [
             0.2222222222222222,
             "#7201a8"
            ],
            [
             0.3333333333333333,
             "#9c179e"
            ],
            [
             0.4444444444444444,
             "#bd3786"
            ],
            [
             0.5555555555555556,
             "#d8576b"
            ],
            [
             0.6666666666666666,
             "#ed7953"
            ],
            [
             0.7777777777777778,
             "#fb9f3a"
            ],
            [
             0.8888888888888888,
             "#fdca26"
            ],
            [
             1,
             "#f0f921"
            ]
           ]
          },
          "colorway": [
           "#636efa",
           "#EF553B",
           "#00cc96",
           "#ab63fa",
           "#FFA15A",
           "#19d3f3",
           "#FF6692",
           "#B6E880",
           "#FF97FF",
           "#FECB52"
          ],
          "font": {
           "color": "#2a3f5f"
          },
          "geo": {
           "bgcolor": "white",
           "lakecolor": "white",
           "landcolor": "#E5ECF6",
           "showlakes": true,
           "showland": true,
           "subunitcolor": "white"
          },
          "hoverlabel": {
           "align": "left"
          },
          "hovermode": "closest",
          "mapbox": {
           "style": "light"
          },
          "paper_bgcolor": "white",
          "plot_bgcolor": "#E5ECF6",
          "polar": {
           "angularaxis": {
            "gridcolor": "white",
            "linecolor": "white",
            "ticks": ""
           },
           "bgcolor": "#E5ECF6",
           "radialaxis": {
            "gridcolor": "white",
            "linecolor": "white",
            "ticks": ""
           }
          },
          "scene": {
           "xaxis": {
            "backgroundcolor": "#E5ECF6",
            "gridcolor": "white",
            "gridwidth": 2,
            "linecolor": "white",
            "showbackground": true,
            "ticks": "",
            "zerolinecolor": "white"
           },
           "yaxis": {
            "backgroundcolor": "#E5ECF6",
            "gridcolor": "white",
            "gridwidth": 2,
            "linecolor": "white",
            "showbackground": true,
            "ticks": "",
            "zerolinecolor": "white"
           },
           "zaxis": {
            "backgroundcolor": "#E5ECF6",
            "gridcolor": "white",
            "gridwidth": 2,
            "linecolor": "white",
            "showbackground": true,
            "ticks": "",
            "zerolinecolor": "white"
           }
          },
          "shapedefaults": {
           "line": {
            "color": "#2a3f5f"
           }
          },
          "ternary": {
           "aaxis": {
            "gridcolor": "white",
            "linecolor": "white",
            "ticks": ""
           },
           "baxis": {
            "gridcolor": "white",
            "linecolor": "white",
            "ticks": ""
           },
           "bgcolor": "#E5ECF6",
           "caxis": {
            "gridcolor": "white",
            "linecolor": "white",
            "ticks": ""
           }
          },
          "title": {
           "x": 0.05
          },
          "xaxis": {
           "automargin": true,
           "gridcolor": "white",
           "linecolor": "white",
           "ticks": "",
           "title": {
            "standoff": 15
           },
           "zerolinecolor": "white",
           "zerolinewidth": 2
          },
          "yaxis": {
           "automargin": true,
           "gridcolor": "white",
           "linecolor": "white",
           "ticks": "",
           "title": {
            "standoff": 15
           },
           "zerolinecolor": "white",
           "zerolinewidth": 2
          }
         }
        },
        "title": {
         "text": "2016년 제주도산 감귤의 거래지역별 단가(원/kg)",
         "x": 0.5
        },
        "width": 1000
       }
      }
     },
     "metadata": {},
     "output_type": "display_data"
    },
    {
     "data": {
      "application/vnd.plotly.v1+json": {
       "config": {
        "plotlyServerURL": "https://plotly.com"
       },
       "data": [
        {
         "hovertemplate": "<b>%{hovertext}</b><br><br>distance=%{marker.size}<br>latitude=%{lat}<br>longitude=%{lon}<br>COST_PER_DANQ=%{marker.color}<extra></extra>",
         "hovertext": [
          "강릉도매시장",
          "광주각화도매",
          "광주서부도매",
          "구리도매시장",
          "구미도매시장",
          "대구북부도매",
          "대전노은도매",
          "대전오정도매",
          "부산반여도매",
          "부산엄궁도매",
          "서울가락도매",
          "서울강서도매",
          "수원도매시장",
          "순천도매시장",
          "안산도매시장",
          "안양도매시장",
          "울산도매시장",
          "원주도매시장",
          "익산도매시장",
          "인천구월도매",
          "인천삼산도매",
          "전주도매시장",
          "정읍도매시장",
          "진주도매시장",
          "창원내서도매시장",
          "창원팔용도매시장",
          "천안도매시장",
          "청주도매시장",
          "충주도매시장",
          "포항도매시장"
         ],
         "lat": [
          37.73613,
          35.18385,
          35.1162,
          37.61263,
          36.15712,
          35.90339,
          36.36528,
          36.35779,
          35.21407,
          35.12858,
          37.49403,
          37.55287,
          37.25562,
          34.91683,
          37.30957,
          37.38298,
          35.53989,
          37.35449,
          35.91878,
          37.44229,
          37.52219,
          35.86807,
          35.58939,
          35.21068,
          35.25519,
          35.22901,
          36.86107,
          36.64783,
          37.00551,
          36.0815
         ],
         "legendgroup": "",
         "lon": [
          128.91824,
          126.93501,
          126.85632,
          127.14465,
          128.35023,
          128.54235,
          127.32074,
          127.40658,
          129.1218,
          128.9651,
          127.11482,
          126.82083,
          127.03111,
          127.53796,
          126.85733,
          126.97009,
          129.34266,
          127.92328,
          126.91714,
          126.70494,
          126.7492,
          127.11701,
          126.84576,
          128.12295,
          128.51132,
          128.63746,
          127.14993,
          127.46439,
          127.92131,
          129.3365
         ],
         "marker": {
          "color": [
           973.1806011926484,
           626.5161172583371,
           604.636354067993,
           649.4778901143782,
           568.125,
           607.3619987982082,
           573.0965990282938,
           906.1004126547456,
           520.3498288497362,
           533.4405458089668,
           698.0491707317095,
           556.4309653916212,
           601.5283699663969,
           565.2673796791444,
           714.2248498498496,
           654.315834767642,
           595.4765570139904,
           603.596618357488,
           721.2121212121212,
           593.3736016765123,
           616.560644081974,
           701.5039281705949,
           512.7797833935018,
           651.2239732889642,
           695.499306518724,
           540.166343460461,
           633.7748935585771,
           631.8652791764574,
           692.8155405405405,
           578.0316455696203
          ],
          "coloraxis": "coloraxis",
          "size": [
           4.840436895012685,
           1.70950635169923,
           1.6266017039521394,
           4.136352463523877,
           3.198571375161113,
           3.112935294878457,
           2.949909037936595,
           2.966650249186788,
           3.0884499475627027,
           2.9105649541798675,
           4.014680854488938,
           4.041838205631196,
           3.767041647659343,
           1.716652904520888,
           3.8020522650931596,
           3.8861014330045536,
           3.4551051932177113,
           4.075930820929132,
           2.4275559178111643,
           3.9249257669668114,
           4.006835264719531,
           2.4173476956573743,
           2.0911545538768803,
           2.3162031106964776,
           2.626493684934358,
           2.7058957904915792,
           3.3956277773778445,
           3.261049002100398,
           3.7488454073887927,
           3.7925743640566925
          ],
          "sizemode": "area",
          "sizeref": 0.012101092237531712
         },
         "mode": "markers",
         "name": "",
         "showlegend": false,
         "subplot": "mapbox",
         "type": "scattermapbox"
        },
        {
         "lat": [
          33.52088
         ],
         "lon": [
          126.53885
         ],
         "marker": {
          "color": "yellow",
          "size": 15
         },
         "mode": "markers",
         "name": "제주",
         "type": "scattermapbox"
        }
       ],
       "layout": {
        "coloraxis": {
         "colorbar": {
          "title": {
           "text": "COST_PER_DANQ"
          }
         },
         "colorscale": [
          [
           0,
           "rgb(255,245,240)"
          ],
          [
           0.125,
           "rgb(254,224,210)"
          ],
          [
           0.25,
           "rgb(252,187,161)"
          ],
          [
           0.375,
           "rgb(252,146,114)"
          ],
          [
           0.5,
           "rgb(251,106,74)"
          ],
          [
           0.625,
           "rgb(239,59,44)"
          ],
          [
           0.75,
           "rgb(203,24,29)"
          ],
          [
           0.875,
           "rgb(165,15,21)"
          ],
          [
           1,
           "rgb(103,0,13)"
          ]
         ]
        },
        "height": 750,
        "legend": {
         "itemsizing": "constant",
         "tracegroupgap": 0
        },
        "mapbox": {
         "accesstoken": "'sk.eyJ1IjoieW9uZ2Nob29vb24iLCJhIjoiY2xlbWdkcHl3MTRwYzNwcjBwa2M2ajl4ciJ9.Ehkyqd5GGR24Sk5DiV4FMA'",
         "center": {
          "lat": 35.8,
          "lon": 127.5
         },
         "domain": {
          "x": [
           0,
           1
          ],
          "y": [
           0,
           1
          ]
         },
         "style": "carto-darkmatter",
         "zoom": 6
        },
        "margin": {
         "t": 60
        },
        "showlegend": false,
        "template": {
         "data": {
          "bar": [
           {
            "error_x": {
             "color": "#2a3f5f"
            },
            "error_y": {
             "color": "#2a3f5f"
            },
            "marker": {
             "line": {
              "color": "#E5ECF6",
              "width": 0.5
             },
             "pattern": {
              "fillmode": "overlay",
              "size": 10,
              "solidity": 0.2
             }
            },
            "type": "bar"
           }
          ],
          "barpolar": [
           {
            "marker": {
             "line": {
              "color": "#E5ECF6",
              "width": 0.5
             },
             "pattern": {
              "fillmode": "overlay",
              "size": 10,
              "solidity": 0.2
             }
            },
            "type": "barpolar"
           }
          ],
          "carpet": [
           {
            "aaxis": {
             "endlinecolor": "#2a3f5f",
             "gridcolor": "white",
             "linecolor": "white",
             "minorgridcolor": "white",
             "startlinecolor": "#2a3f5f"
            },
            "baxis": {
             "endlinecolor": "#2a3f5f",
             "gridcolor": "white",
             "linecolor": "white",
             "minorgridcolor": "white",
             "startlinecolor": "#2a3f5f"
            },
            "type": "carpet"
           }
          ],
          "choropleth": [
           {
            "colorbar": {
             "outlinewidth": 0,
             "ticks": ""
            },
            "type": "choropleth"
           }
          ],
          "contour": [
           {
            "colorbar": {
             "outlinewidth": 0,
             "ticks": ""
            },
            "colorscale": [
             [
              0,
              "#0d0887"
             ],
             [
              0.1111111111111111,
              "#46039f"
             ],
             [
              0.2222222222222222,
              "#7201a8"
             ],
             [
              0.3333333333333333,
              "#9c179e"
             ],
             [
              0.4444444444444444,
              "#bd3786"
             ],
             [
              0.5555555555555556,
              "#d8576b"
             ],
             [
              0.6666666666666666,
              "#ed7953"
             ],
             [
              0.7777777777777778,
              "#fb9f3a"
             ],
             [
              0.8888888888888888,
              "#fdca26"
             ],
             [
              1,
              "#f0f921"
             ]
            ],
            "type": "contour"
           }
          ],
          "contourcarpet": [
           {
            "colorbar": {
             "outlinewidth": 0,
             "ticks": ""
            },
            "type": "contourcarpet"
           }
          ],
          "heatmap": [
           {
            "colorbar": {
             "outlinewidth": 0,
             "ticks": ""
            },
            "colorscale": [
             [
              0,
              "#0d0887"
             ],
             [
              0.1111111111111111,
              "#46039f"
             ],
             [
              0.2222222222222222,
              "#7201a8"
             ],
             [
              0.3333333333333333,
              "#9c179e"
             ],
             [
              0.4444444444444444,
              "#bd3786"
             ],
             [
              0.5555555555555556,
              "#d8576b"
             ],
             [
              0.6666666666666666,
              "#ed7953"
             ],
             [
              0.7777777777777778,
              "#fb9f3a"
             ],
             [
              0.8888888888888888,
              "#fdca26"
             ],
             [
              1,
              "#f0f921"
             ]
            ],
            "type": "heatmap"
           }
          ],
          "heatmapgl": [
           {
            "colorbar": {
             "outlinewidth": 0,
             "ticks": ""
            },
            "colorscale": [
             [
              0,
              "#0d0887"
             ],
             [
              0.1111111111111111,
              "#46039f"
             ],
             [
              0.2222222222222222,
              "#7201a8"
             ],
             [
              0.3333333333333333,
              "#9c179e"
             ],
             [
              0.4444444444444444,
              "#bd3786"
             ],
             [
              0.5555555555555556,
              "#d8576b"
             ],
             [
              0.6666666666666666,
              "#ed7953"
             ],
             [
              0.7777777777777778,
              "#fb9f3a"
             ],
             [
              0.8888888888888888,
              "#fdca26"
             ],
             [
              1,
              "#f0f921"
             ]
            ],
            "type": "heatmapgl"
           }
          ],
          "histogram": [
           {
            "marker": {
             "pattern": {
              "fillmode": "overlay",
              "size": 10,
              "solidity": 0.2
             }
            },
            "type": "histogram"
           }
          ],
          "histogram2d": [
           {
            "colorbar": {
             "outlinewidth": 0,
             "ticks": ""
            },
            "colorscale": [
             [
              0,
              "#0d0887"
             ],
             [
              0.1111111111111111,
              "#46039f"
             ],
             [
              0.2222222222222222,
              "#7201a8"
             ],
             [
              0.3333333333333333,
              "#9c179e"
             ],
             [
              0.4444444444444444,
              "#bd3786"
             ],
             [
              0.5555555555555556,
              "#d8576b"
             ],
             [
              0.6666666666666666,
              "#ed7953"
             ],
             [
              0.7777777777777778,
              "#fb9f3a"
             ],
             [
              0.8888888888888888,
              "#fdca26"
             ],
             [
              1,
              "#f0f921"
             ]
            ],
            "type": "histogram2d"
           }
          ],
          "histogram2dcontour": [
           {
            "colorbar": {
             "outlinewidth": 0,
             "ticks": ""
            },
            "colorscale": [
             [
              0,
              "#0d0887"
             ],
             [
              0.1111111111111111,
              "#46039f"
             ],
             [
              0.2222222222222222,
              "#7201a8"
             ],
             [
              0.3333333333333333,
              "#9c179e"
             ],
             [
              0.4444444444444444,
              "#bd3786"
             ],
             [
              0.5555555555555556,
              "#d8576b"
             ],
             [
              0.6666666666666666,
              "#ed7953"
             ],
             [
              0.7777777777777778,
              "#fb9f3a"
             ],
             [
              0.8888888888888888,
              "#fdca26"
             ],
             [
              1,
              "#f0f921"
             ]
            ],
            "type": "histogram2dcontour"
           }
          ],
          "mesh3d": [
           {
            "colorbar": {
             "outlinewidth": 0,
             "ticks": ""
            },
            "type": "mesh3d"
           }
          ],
          "parcoords": [
           {
            "line": {
             "colorbar": {
              "outlinewidth": 0,
              "ticks": ""
             }
            },
            "type": "parcoords"
           }
          ],
          "pie": [
           {
            "automargin": true,
            "type": "pie"
           }
          ],
          "scatter": [
           {
            "fillpattern": {
             "fillmode": "overlay",
             "size": 10,
             "solidity": 0.2
            },
            "type": "scatter"
           }
          ],
          "scatter3d": [
           {
            "line": {
             "colorbar": {
              "outlinewidth": 0,
              "ticks": ""
             }
            },
            "marker": {
             "colorbar": {
              "outlinewidth": 0,
              "ticks": ""
             }
            },
            "type": "scatter3d"
           }
          ],
          "scattercarpet": [
           {
            "marker": {
             "colorbar": {
              "outlinewidth": 0,
              "ticks": ""
             }
            },
            "type": "scattercarpet"
           }
          ],
          "scattergeo": [
           {
            "marker": {
             "colorbar": {
              "outlinewidth": 0,
              "ticks": ""
             }
            },
            "type": "scattergeo"
           }
          ],
          "scattergl": [
           {
            "marker": {
             "colorbar": {
              "outlinewidth": 0,
              "ticks": ""
             }
            },
            "type": "scattergl"
           }
          ],
          "scattermapbox": [
           {
            "marker": {
             "colorbar": {
              "outlinewidth": 0,
              "ticks": ""
             }
            },
            "type": "scattermapbox"
           }
          ],
          "scatterpolar": [
           {
            "marker": {
             "colorbar": {
              "outlinewidth": 0,
              "ticks": ""
             }
            },
            "type": "scatterpolar"
           }
          ],
          "scatterpolargl": [
           {
            "marker": {
             "colorbar": {
              "outlinewidth": 0,
              "ticks": ""
             }
            },
            "type": "scatterpolargl"
           }
          ],
          "scatterternary": [
           {
            "marker": {
             "colorbar": {
              "outlinewidth": 0,
              "ticks": ""
             }
            },
            "type": "scatterternary"
           }
          ],
          "surface": [
           {
            "colorbar": {
             "outlinewidth": 0,
             "ticks": ""
            },
            "colorscale": [
             [
              0,
              "#0d0887"
             ],
             [
              0.1111111111111111,
              "#46039f"
             ],
             [
              0.2222222222222222,
              "#7201a8"
             ],
             [
              0.3333333333333333,
              "#9c179e"
             ],
             [
              0.4444444444444444,
              "#bd3786"
             ],
             [
              0.5555555555555556,
              "#d8576b"
             ],
             [
              0.6666666666666666,
              "#ed7953"
             ],
             [
              0.7777777777777778,
              "#fb9f3a"
             ],
             [
              0.8888888888888888,
              "#fdca26"
             ],
             [
              1,
              "#f0f921"
             ]
            ],
            "type": "surface"
           }
          ],
          "table": [
           {
            "cells": {
             "fill": {
              "color": "#EBF0F8"
             },
             "line": {
              "color": "white"
             }
            },
            "header": {
             "fill": {
              "color": "#C8D4E3"
             },
             "line": {
              "color": "white"
             }
            },
            "type": "table"
           }
          ]
         },
         "layout": {
          "annotationdefaults": {
           "arrowcolor": "#2a3f5f",
           "arrowhead": 0,
           "arrowwidth": 1
          },
          "autotypenumbers": "strict",
          "coloraxis": {
           "colorbar": {
            "outlinewidth": 0,
            "ticks": ""
           }
          },
          "colorscale": {
           "diverging": [
            [
             0,
             "#8e0152"
            ],
            [
             0.1,
             "#c51b7d"
            ],
            [
             0.2,
             "#de77ae"
            ],
            [
             0.3,
             "#f1b6da"
            ],
            [
             0.4,
             "#fde0ef"
            ],
            [
             0.5,
             "#f7f7f7"
            ],
            [
             0.6,
             "#e6f5d0"
            ],
            [
             0.7,
             "#b8e186"
            ],
            [
             0.8,
             "#7fbc41"
            ],
            [
             0.9,
             "#4d9221"
            ],
            [
             1,
             "#276419"
            ]
           ],
           "sequential": [
            [
             0,
             "#0d0887"
            ],
            [
             0.1111111111111111,
             "#46039f"
            ],
            [
             0.2222222222222222,
             "#7201a8"
            ],
            [
             0.3333333333333333,
             "#9c179e"
            ],
            [
             0.4444444444444444,
             "#bd3786"
            ],
            [
             0.5555555555555556,
             "#d8576b"
            ],
            [
             0.6666666666666666,
             "#ed7953"
            ],
            [
             0.7777777777777778,
             "#fb9f3a"
            ],
            [
             0.8888888888888888,
             "#fdca26"
            ],
            [
             1,
             "#f0f921"
            ]
           ],
           "sequentialminus": [
            [
             0,
             "#0d0887"
            ],
            [
             0.1111111111111111,
             "#46039f"
            ],
            [
             0.2222222222222222,
             "#7201a8"
            ],
            [
             0.3333333333333333,
             "#9c179e"
            ],
            [
             0.4444444444444444,
             "#bd3786"
            ],
            [
             0.5555555555555556,
             "#d8576b"
            ],
            [
             0.6666666666666666,
             "#ed7953"
            ],
            [
             0.7777777777777778,
             "#fb9f3a"
            ],
            [
             0.8888888888888888,
             "#fdca26"
            ],
            [
             1,
             "#f0f921"
            ]
           ]
          },
          "colorway": [
           "#636efa",
           "#EF553B",
           "#00cc96",
           "#ab63fa",
           "#FFA15A",
           "#19d3f3",
           "#FF6692",
           "#B6E880",
           "#FF97FF",
           "#FECB52"
          ],
          "font": {
           "color": "#2a3f5f"
          },
          "geo": {
           "bgcolor": "white",
           "lakecolor": "white",
           "landcolor": "#E5ECF6",
           "showlakes": true,
           "showland": true,
           "subunitcolor": "white"
          },
          "hoverlabel": {
           "align": "left"
          },
          "hovermode": "closest",
          "mapbox": {
           "style": "light"
          },
          "paper_bgcolor": "white",
          "plot_bgcolor": "#E5ECF6",
          "polar": {
           "angularaxis": {
            "gridcolor": "white",
            "linecolor": "white",
            "ticks": ""
           },
           "bgcolor": "#E5ECF6",
           "radialaxis": {
            "gridcolor": "white",
            "linecolor": "white",
            "ticks": ""
           }
          },
          "scene": {
           "xaxis": {
            "backgroundcolor": "#E5ECF6",
            "gridcolor": "white",
            "gridwidth": 2,
            "linecolor": "white",
            "showbackground": true,
            "ticks": "",
            "zerolinecolor": "white"
           },
           "yaxis": {
            "backgroundcolor": "#E5ECF6",
            "gridcolor": "white",
            "gridwidth": 2,
            "linecolor": "white",
            "showbackground": true,
            "ticks": "",
            "zerolinecolor": "white"
           },
           "zaxis": {
            "backgroundcolor": "#E5ECF6",
            "gridcolor": "white",
            "gridwidth": 2,
            "linecolor": "white",
            "showbackground": true,
            "ticks": "",
            "zerolinecolor": "white"
           }
          },
          "shapedefaults": {
           "line": {
            "color": "#2a3f5f"
           }
          },
          "ternary": {
           "aaxis": {
            "gridcolor": "white",
            "linecolor": "white",
            "ticks": ""
           },
           "baxis": {
            "gridcolor": "white",
            "linecolor": "white",
            "ticks": ""
           },
           "bgcolor": "#E5ECF6",
           "caxis": {
            "gridcolor": "white",
            "linecolor": "white",
            "ticks": ""
           }
          },
          "title": {
           "x": 0.05
          },
          "xaxis": {
           "automargin": true,
           "gridcolor": "white",
           "linecolor": "white",
           "ticks": "",
           "title": {
            "standoff": 15
           },
           "zerolinecolor": "white",
           "zerolinewidth": 2
          },
          "yaxis": {
           "automargin": true,
           "gridcolor": "white",
           "linecolor": "white",
           "ticks": "",
           "title": {
            "standoff": 15
           },
           "zerolinecolor": "white",
           "zerolinewidth": 2
          }
         }
        },
        "title": {
         "text": "2016년 제주도산 무의 거래지역별 단가(원/kg)",
         "x": 0.5
        },
        "width": 1000
       }
      }
     },
     "metadata": {},
     "output_type": "display_data"
    },
    {
     "data": {
      "application/vnd.plotly.v1+json": {
       "config": {
        "plotlyServerURL": "https://plotly.com"
       },
       "data": [
        {
         "hovertemplate": "<b>%{hovertext}</b><br><br>distance=%{marker.size}<br>latitude=%{lat}<br>longitude=%{lon}<br>COST_PER_DANQ=%{marker.color}<extra></extra>",
         "hovertext": [
          "강릉도매시장",
          "광주각화도매",
          "광주서부도매",
          "구리도매시장",
          "구미도매시장",
          "대구북부도매",
          "대전노은도매",
          "대전오정도매",
          "부산반여도매",
          "부산엄궁도매",
          "서울가락도매",
          "서울강서도매",
          "수원도매시장",
          "순천도매시장",
          "안산도매시장",
          "안양도매시장",
          "울산도매시장",
          "원주도매시장",
          "익산도매시장",
          "인천구월도매",
          "인천삼산도매",
          "전주도매시장",
          "정읍도매시장",
          "진주도매시장",
          "창원내서도매시장",
          "창원팔용도매시장",
          "천안도매시장",
          "청주도매시장",
          "충주도매시장",
          "포항도매시장"
         ],
         "lat": [
          37.73613,
          35.18385,
          35.1162,
          37.61263,
          36.15712,
          35.90339,
          36.36528,
          36.35779,
          35.21407,
          35.12858,
          37.49403,
          37.55287,
          37.25562,
          34.91683,
          37.30957,
          37.38298,
          35.53989,
          37.35449,
          35.91878,
          37.44229,
          37.52219,
          35.86807,
          35.58939,
          35.21068,
          35.25519,
          35.22901,
          36.86107,
          36.64783,
          37.00551,
          36.0815
         ],
         "legendgroup": "",
         "lon": [
          128.91824,
          126.93501,
          126.85632,
          127.14465,
          128.35023,
          128.54235,
          127.32074,
          127.40658,
          129.1218,
          128.9651,
          127.11482,
          126.82083,
          127.03111,
          127.53796,
          126.85733,
          126.97009,
          129.34266,
          127.92328,
          126.91714,
          126.70494,
          126.7492,
          127.11701,
          126.84576,
          128.12295,
          128.51132,
          128.63746,
          127.14993,
          127.46439,
          127.92131,
          129.3365
         ],
         "marker": {
          "color": [
           584.8214285714286,
           544.1554997208265,
           489.8203203203202,
           382.00846323413634,
           493.23732272217126,
           1371.690517225205,
           946.1406899029524,
           893.1422287390029,
           1581.945646096003,
           4118.488188244048,
           636.5605025297538,
           798.2970718546569,
           647.6060191518468,
           595.2772466539197,
           964.9458015859169,
           760.2697262479871,
           688.4255630598694,
           590.0902777777776,
           600.6072874493927,
           1085.2142724054406,
           816.5951167158572,
           580.9629629629629,
           430.1470588235294,
           738.9210448685028,
           587.5798693402011,
           412.01736111111103,
           548.9014869888476,
           1908.3898305084747,
           705.5230769230769,
           418.4555229716512
          ],
          "coloraxis": "coloraxis",
          "size": [
           4.840436895012685,
           1.70950635169923,
           1.6266017039521394,
           4.136352463523877,
           3.198571375161113,
           3.112935294878457,
           2.949909037936595,
           2.966650249186788,
           3.0884499475627027,
           2.9105649541798675,
           4.014680854488938,
           4.041838205631196,
           3.767041647659343,
           1.716652904520888,
           3.8020522650931596,
           3.8861014330045536,
           3.4551051932177113,
           4.075930820929132,
           2.4275559178111643,
           3.9249257669668114,
           4.006835264719531,
           2.4173476956573743,
           2.0911545538768803,
           2.3162031106964776,
           2.626493684934358,
           2.7058957904915792,
           3.3956277773778445,
           3.261049002100398,
           3.7488454073887927,
           3.7925743640566925
          ],
          "sizemode": "area",
          "sizeref": 0.012101092237531712
         },
         "mode": "markers",
         "name": "",
         "showlegend": false,
         "subplot": "mapbox",
         "type": "scattermapbox"
        },
        {
         "lat": [
          33.52088
         ],
         "lon": [
          126.53885
         ],
         "marker": {
          "color": "yellow",
          "size": 15
         },
         "mode": "markers",
         "name": "제주",
         "type": "scattermapbox"
        }
       ],
       "layout": {
        "coloraxis": {
         "colorbar": {
          "title": {
           "text": "COST_PER_DANQ"
          }
         },
         "colorscale": [
          [
           0,
           "rgb(247,252,245)"
          ],
          [
           0.125,
           "rgb(229,245,224)"
          ],
          [
           0.25,
           "rgb(199,233,192)"
          ],
          [
           0.375,
           "rgb(161,217,155)"
          ],
          [
           0.5,
           "rgb(116,196,118)"
          ],
          [
           0.625,
           "rgb(65,171,93)"
          ],
          [
           0.75,
           "rgb(35,139,69)"
          ],
          [
           0.875,
           "rgb(0,109,44)"
          ],
          [
           1,
           "rgb(0,68,27)"
          ]
         ]
        },
        "height": 750,
        "legend": {
         "itemsizing": "constant",
         "tracegroupgap": 0
        },
        "mapbox": {
         "accesstoken": "'sk.eyJ1IjoieW9uZ2Nob29vb24iLCJhIjoiY2xlbWdkcHl3MTRwYzNwcjBwa2M2ajl4ciJ9.Ehkyqd5GGR24Sk5DiV4FMA'",
         "center": {
          "lat": 35.8,
          "lon": 127.5
         },
         "domain": {
          "x": [
           0,
           1
          ],
          "y": [
           0,
           1
          ]
         },
         "style": "carto-darkmatter",
         "zoom": 6
        },
        "margin": {
         "t": 60
        },
        "showlegend": false,
        "template": {
         "data": {
          "bar": [
           {
            "error_x": {
             "color": "#2a3f5f"
            },
            "error_y": {
             "color": "#2a3f5f"
            },
            "marker": {
             "line": {
              "color": "#E5ECF6",
              "width": 0.5
             },
             "pattern": {
              "fillmode": "overlay",
              "size": 10,
              "solidity": 0.2
             }
            },
            "type": "bar"
           }
          ],
          "barpolar": [
           {
            "marker": {
             "line": {
              "color": "#E5ECF6",
              "width": 0.5
             },
             "pattern": {
              "fillmode": "overlay",
              "size": 10,
              "solidity": 0.2
             }
            },
            "type": "barpolar"
           }
          ],
          "carpet": [
           {
            "aaxis": {
             "endlinecolor": "#2a3f5f",
             "gridcolor": "white",
             "linecolor": "white",
             "minorgridcolor": "white",
             "startlinecolor": "#2a3f5f"
            },
            "baxis": {
             "endlinecolor": "#2a3f5f",
             "gridcolor": "white",
             "linecolor": "white",
             "minorgridcolor": "white",
             "startlinecolor": "#2a3f5f"
            },
            "type": "carpet"
           }
          ],
          "choropleth": [
           {
            "colorbar": {
             "outlinewidth": 0,
             "ticks": ""
            },
            "type": "choropleth"
           }
          ],
          "contour": [
           {
            "colorbar": {
             "outlinewidth": 0,
             "ticks": ""
            },
            "colorscale": [
             [
              0,
              "#0d0887"
             ],
             [
              0.1111111111111111,
              "#46039f"
             ],
             [
              0.2222222222222222,
              "#7201a8"
             ],
             [
              0.3333333333333333,
              "#9c179e"
             ],
             [
              0.4444444444444444,
              "#bd3786"
             ],
             [
              0.5555555555555556,
              "#d8576b"
             ],
             [
              0.6666666666666666,
              "#ed7953"
             ],
             [
              0.7777777777777778,
              "#fb9f3a"
             ],
             [
              0.8888888888888888,
              "#fdca26"
             ],
             [
              1,
              "#f0f921"
             ]
            ],
            "type": "contour"
           }
          ],
          "contourcarpet": [
           {
            "colorbar": {
             "outlinewidth": 0,
             "ticks": ""
            },
            "type": "contourcarpet"
           }
          ],
          "heatmap": [
           {
            "colorbar": {
             "outlinewidth": 0,
             "ticks": ""
            },
            "colorscale": [
             [
              0,
              "#0d0887"
             ],
             [
              0.1111111111111111,
              "#46039f"
             ],
             [
              0.2222222222222222,
              "#7201a8"
             ],
             [
              0.3333333333333333,
              "#9c179e"
             ],
             [
              0.4444444444444444,
              "#bd3786"
             ],
             [
              0.5555555555555556,
              "#d8576b"
             ],
             [
              0.6666666666666666,
              "#ed7953"
             ],
             [
              0.7777777777777778,
              "#fb9f3a"
             ],
             [
              0.8888888888888888,
              "#fdca26"
             ],
             [
              1,
              "#f0f921"
             ]
            ],
            "type": "heatmap"
           }
          ],
          "heatmapgl": [
           {
            "colorbar": {
             "outlinewidth": 0,
             "ticks": ""
            },
            "colorscale": [
             [
              0,
              "#0d0887"
             ],
             [
              0.1111111111111111,
              "#46039f"
             ],
             [
              0.2222222222222222,
              "#7201a8"
             ],
             [
              0.3333333333333333,
              "#9c179e"
             ],
             [
              0.4444444444444444,
              "#bd3786"
             ],
             [
              0.5555555555555556,
              "#d8576b"
             ],
             [
              0.6666666666666666,
              "#ed7953"
             ],
             [
              0.7777777777777778,
              "#fb9f3a"
             ],
             [
              0.8888888888888888,
              "#fdca26"
             ],
             [
              1,
              "#f0f921"
             ]
            ],
            "type": "heatmapgl"
           }
          ],
          "histogram": [
           {
            "marker": {
             "pattern": {
              "fillmode": "overlay",
              "size": 10,
              "solidity": 0.2
             }
            },
            "type": "histogram"
           }
          ],
          "histogram2d": [
           {
            "colorbar": {
             "outlinewidth": 0,
             "ticks": ""
            },
            "colorscale": [
             [
              0,
              "#0d0887"
             ],
             [
              0.1111111111111111,
              "#46039f"
             ],
             [
              0.2222222222222222,
              "#7201a8"
             ],
             [
              0.3333333333333333,
              "#9c179e"
             ],
             [
              0.4444444444444444,
              "#bd3786"
             ],
             [
              0.5555555555555556,
              "#d8576b"
             ],
             [
              0.6666666666666666,
              "#ed7953"
             ],
             [
              0.7777777777777778,
              "#fb9f3a"
             ],
             [
              0.8888888888888888,
              "#fdca26"
             ],
             [
              1,
              "#f0f921"
             ]
            ],
            "type": "histogram2d"
           }
          ],
          "histogram2dcontour": [
           {
            "colorbar": {
             "outlinewidth": 0,
             "ticks": ""
            },
            "colorscale": [
             [
              0,
              "#0d0887"
             ],
             [
              0.1111111111111111,
              "#46039f"
             ],
             [
              0.2222222222222222,
              "#7201a8"
             ],
             [
              0.3333333333333333,
              "#9c179e"
             ],
             [
              0.4444444444444444,
              "#bd3786"
             ],
             [
              0.5555555555555556,
              "#d8576b"
             ],
             [
              0.6666666666666666,
              "#ed7953"
             ],
             [
              0.7777777777777778,
              "#fb9f3a"
             ],
             [
              0.8888888888888888,
              "#fdca26"
             ],
             [
              1,
              "#f0f921"
             ]
            ],
            "type": "histogram2dcontour"
           }
          ],
          "mesh3d": [
           {
            "colorbar": {
             "outlinewidth": 0,
             "ticks": ""
            },
            "type": "mesh3d"
           }
          ],
          "parcoords": [
           {
            "line": {
             "colorbar": {
              "outlinewidth": 0,
              "ticks": ""
             }
            },
            "type": "parcoords"
           }
          ],
          "pie": [
           {
            "automargin": true,
            "type": "pie"
           }
          ],
          "scatter": [
           {
            "fillpattern": {
             "fillmode": "overlay",
             "size": 10,
             "solidity": 0.2
            },
            "type": "scatter"
           }
          ],
          "scatter3d": [
           {
            "line": {
             "colorbar": {
              "outlinewidth": 0,
              "ticks": ""
             }
            },
            "marker": {
             "colorbar": {
              "outlinewidth": 0,
              "ticks": ""
             }
            },
            "type": "scatter3d"
           }
          ],
          "scattercarpet": [
           {
            "marker": {
             "colorbar": {
              "outlinewidth": 0,
              "ticks": ""
             }
            },
            "type": "scattercarpet"
           }
          ],
          "scattergeo": [
           {
            "marker": {
             "colorbar": {
              "outlinewidth": 0,
              "ticks": ""
             }
            },
            "type": "scattergeo"
           }
          ],
          "scattergl": [
           {
            "marker": {
             "colorbar": {
              "outlinewidth": 0,
              "ticks": ""
             }
            },
            "type": "scattergl"
           }
          ],
          "scattermapbox": [
           {
            "marker": {
             "colorbar": {
              "outlinewidth": 0,
              "ticks": ""
             }
            },
            "type": "scattermapbox"
           }
          ],
          "scatterpolar": [
           {
            "marker": {
             "colorbar": {
              "outlinewidth": 0,
              "ticks": ""
             }
            },
            "type": "scatterpolar"
           }
          ],
          "scatterpolargl": [
           {
            "marker": {
             "colorbar": {
              "outlinewidth": 0,
              "ticks": ""
             }
            },
            "type": "scatterpolargl"
           }
          ],
          "scatterternary": [
           {
            "marker": {
             "colorbar": {
              "outlinewidth": 0,
              "ticks": ""
             }
            },
            "type": "scatterternary"
           }
          ],
          "surface": [
           {
            "colorbar": {
             "outlinewidth": 0,
             "ticks": ""
            },
            "colorscale": [
             [
              0,
              "#0d0887"
             ],
             [
              0.1111111111111111,
              "#46039f"
             ],
             [
              0.2222222222222222,
              "#7201a8"
             ],
             [
              0.3333333333333333,
              "#9c179e"
             ],
             [
              0.4444444444444444,
              "#bd3786"
             ],
             [
              0.5555555555555556,
              "#d8576b"
             ],
             [
              0.6666666666666666,
              "#ed7953"
             ],
             [
              0.7777777777777778,
              "#fb9f3a"
             ],
             [
              0.8888888888888888,
              "#fdca26"
             ],
             [
              1,
              "#f0f921"
             ]
            ],
            "type": "surface"
           }
          ],
          "table": [
           {
            "cells": {
             "fill": {
              "color": "#EBF0F8"
             },
             "line": {
              "color": "white"
             }
            },
            "header": {
             "fill": {
              "color": "#C8D4E3"
             },
             "line": {
              "color": "white"
             }
            },
            "type": "table"
           }
          ]
         },
         "layout": {
          "annotationdefaults": {
           "arrowcolor": "#2a3f5f",
           "arrowhead": 0,
           "arrowwidth": 1
          },
          "autotypenumbers": "strict",
          "coloraxis": {
           "colorbar": {
            "outlinewidth": 0,
            "ticks": ""
           }
          },
          "colorscale": {
           "diverging": [
            [
             0,
             "#8e0152"
            ],
            [
             0.1,
             "#c51b7d"
            ],
            [
             0.2,
             "#de77ae"
            ],
            [
             0.3,
             "#f1b6da"
            ],
            [
             0.4,
             "#fde0ef"
            ],
            [
             0.5,
             "#f7f7f7"
            ],
            [
             0.6,
             "#e6f5d0"
            ],
            [
             0.7,
             "#b8e186"
            ],
            [
             0.8,
             "#7fbc41"
            ],
            [
             0.9,
             "#4d9221"
            ],
            [
             1,
             "#276419"
            ]
           ],
           "sequential": [
            [
             0,
             "#0d0887"
            ],
            [
             0.1111111111111111,
             "#46039f"
            ],
            [
             0.2222222222222222,
             "#7201a8"
            ],
            [
             0.3333333333333333,
             "#9c179e"
            ],
            [
             0.4444444444444444,
             "#bd3786"
            ],
            [
             0.5555555555555556,
             "#d8576b"
            ],
            [
             0.6666666666666666,
             "#ed7953"
            ],
            [
             0.7777777777777778,
             "#fb9f3a"
            ],
            [
             0.8888888888888888,
             "#fdca26"
            ],
            [
             1,
             "#f0f921"
            ]
           ],
           "sequentialminus": [
            [
             0,
             "#0d0887"
            ],
            [
             0.1111111111111111,
             "#46039f"
            ],
            [
             0.2222222222222222,
             "#7201a8"
            ],
            [
             0.3333333333333333,
             "#9c179e"
            ],
            [
             0.4444444444444444,
             "#bd3786"
            ],
            [
             0.5555555555555556,
             "#d8576b"
            ],
            [
             0.6666666666666666,
             "#ed7953"
            ],
            [
             0.7777777777777778,
             "#fb9f3a"
            ],
            [
             0.8888888888888888,
             "#fdca26"
            ],
            [
             1,
             "#f0f921"
            ]
           ]
          },
          "colorway": [
           "#636efa",
           "#EF553B",
           "#00cc96",
           "#ab63fa",
           "#FFA15A",
           "#19d3f3",
           "#FF6692",
           "#B6E880",
           "#FF97FF",
           "#FECB52"
          ],
          "font": {
           "color": "#2a3f5f"
          },
          "geo": {
           "bgcolor": "white",
           "lakecolor": "white",
           "landcolor": "#E5ECF6",
           "showlakes": true,
           "showland": true,
           "subunitcolor": "white"
          },
          "hoverlabel": {
           "align": "left"
          },
          "hovermode": "closest",
          "mapbox": {
           "style": "light"
          },
          "paper_bgcolor": "white",
          "plot_bgcolor": "#E5ECF6",
          "polar": {
           "angularaxis": {
            "gridcolor": "white",
            "linecolor": "white",
            "ticks": ""
           },
           "bgcolor": "#E5ECF6",
           "radialaxis": {
            "gridcolor": "white",
            "linecolor": "white",
            "ticks": ""
           }
          },
          "scene": {
           "xaxis": {
            "backgroundcolor": "#E5ECF6",
            "gridcolor": "white",
            "gridwidth": 2,
            "linecolor": "white",
            "showbackground": true,
            "ticks": "",
            "zerolinecolor": "white"
           },
           "yaxis": {
            "backgroundcolor": "#E5ECF6",
            "gridcolor": "white",
            "gridwidth": 2,
            "linecolor": "white",
            "showbackground": true,
            "ticks": "",
            "zerolinecolor": "white"
           },
           "zaxis": {
            "backgroundcolor": "#E5ECF6",
            "gridcolor": "white",
            "gridwidth": 2,
            "linecolor": "white",
            "showbackground": true,
            "ticks": "",
            "zerolinecolor": "white"
           }
          },
          "shapedefaults": {
           "line": {
            "color": "#2a3f5f"
           }
          },
          "ternary": {
           "aaxis": {
            "gridcolor": "white",
            "linecolor": "white",
            "ticks": ""
           },
           "baxis": {
            "gridcolor": "white",
            "linecolor": "white",
            "ticks": ""
           },
           "bgcolor": "#E5ECF6",
           "caxis": {
            "gridcolor": "white",
            "linecolor": "white",
            "ticks": ""
           }
          },
          "title": {
           "x": 0.05
          },
          "xaxis": {
           "automargin": true,
           "gridcolor": "white",
           "linecolor": "white",
           "ticks": "",
           "title": {
            "standoff": 15
           },
           "zerolinecolor": "white",
           "zerolinewidth": 2
          },
          "yaxis": {
           "automargin": true,
           "gridcolor": "white",
           "linecolor": "white",
           "ticks": "",
           "title": {
            "standoff": 15
           },
           "zerolinecolor": "white",
           "zerolinewidth": 2
          }
         }
        },
        "title": {
         "text": "2016년 제주도산 양배추의 거래지역별 단가(원/kg)",
         "x": 0.5
        },
        "width": 1000
       }
      }
     },
     "metadata": {},
     "output_type": "display_data"
    }
   ],
   "source": [
    "# load pickle\n",
    "with open(\"./pickles/hypo3_map_gamgul_data.pickle\", \"rb\") as fr:\n",
    "    grouped_2016_san_jeju_gamgul_WHSAL = pickle.load(fr)\n",
    "with open(\"./pickles/hypo3_map_radish_data.pickle\", \"rb\") as fr:\n",
    "    grouped_2016_san_jeju_radish_WHSAL = pickle.load(fr)\n",
    "with open(\"./pickles/hypo3_map_cabbage_data.pickle\", \"rb\") as fr:\n",
    "    grouped_2016_san_jeju_cabbage_WHSAL = pickle.load(fr)\n",
    "    \n",
    "# 지도 시각화\n",
    "px.set_mapbox_access_token(open(\"mapbox_token.py\").read())\n",
    "\n",
    "# 감귤\n",
    "fig1 = px.scatter_mapbox(grouped_2016_san_jeju_gamgul_WHSAL, lat = 'latitude', lon = 'longitude', size = 'distance',\n",
    "                        color = 'COST_PER_DANQ', hover_name = 'WHSAL_NM',\n",
    "                        color_continuous_scale = px.colors.sequential.Oranges)\n",
    "fig1.add_trace(go.Scattermapbox(\n",
    "    mode = \"markers\",\n",
    "    name = \"제주\",\n",
    "    lon = [126.53885],\n",
    "    lat = [33.52088],\n",
    "    marker = {'size': 15, 'color': \"yellow\"}))\n",
    "fig1.update_layout(mapbox_style='carto-darkmatter', mapbox_zoom=6, showlegend = False, \n",
    "                  title_text = \"2016년 제주도산 감귤의 거래지역별 단가(원/kg)\", title_x=0.5, width = 1000, height = 750, mapbox_center = {\"lat\": 35.8, \"lon\": 127.5})\n",
    "\n",
    "# 무\n",
    "fig2 = px.scatter_mapbox(grouped_2016_san_jeju_radish_WHSAL, lat = 'latitude', lon = 'longitude', size = 'distance',\n",
    "                        color = 'COST_PER_DANQ', hover_name = 'WHSAL_NM',\n",
    "                        color_continuous_scale = px.colors.sequential.Reds)\n",
    "fig2.add_trace(go.Scattermapbox(\n",
    "    mode = \"markers\",\n",
    "    name = \"제주\",\n",
    "    lon = [126.53885],\n",
    "    lat = [33.52088],\n",
    "    marker = {'size': 15, 'color': \"yellow\"}))\n",
    "fig2.update_layout(mapbox_style='carto-darkmatter', mapbox_zoom=6, showlegend = False, \n",
    "                  title_text = \"2016년 제주도산 무의 거래지역별 단가(원/kg)\", title_x=0.5, width = 1000, height = 750, mapbox_center = {\"lat\": 35.8, \"lon\": 127.5})\n",
    "\n",
    "# 양배추\n",
    "fig3 = px.scatter_mapbox(grouped_2016_san_jeju_cabbage_WHSAL, lat = 'latitude', lon = 'longitude', size = 'distance',\n",
    "                        color = 'COST_PER_DANQ', hover_name = 'WHSAL_NM',\n",
    "                        color_continuous_scale = px.colors.sequential.Greens)\n",
    "fig3.add_trace(go.Scattermapbox(\n",
    "    mode = \"markers\",\n",
    "    name = \"제주\",\n",
    "    lon = [126.53885],\n",
    "    lat = [33.52088],\n",
    "    marker = {'size': 15, 'color': \"yellow\"}))\n",
    "fig3.update_layout(mapbox_style='carto-darkmatter', mapbox_zoom=6, showlegend = False, \n",
    "                  title_text = \"2016년 제주도산 양배추의 거래지역별 단가(원/kg)\", title_x=0.5, width = 1000, height = 750, mapbox_center = {\"lat\": 35.8, \"lon\": 127.5})\n",
    "\n",
    "fig1.show()\n",
    "fig2.show()\n",
    "fig3.show()"
   ]
  },
  {
   "cell_type": "markdown",
   "metadata": {},
   "source": [
    "* 위 지도에서 원의 크기는 제주도와의 거리를, 색은 단가를 의미한다.\n",
    "* 제주도산 감귤, 무, 양배추의 거래지역별 단가에 대해서 알아봤는데,\n",
    "  * **제주도와의 거리와 단가 사이에는 눈에 띄는 관계가 발견되지는 않았다.**"
   ]
  },
  {
   "cell_type": "markdown",
   "metadata": {},
   "source": [
    "* **시각화를 해 본 후**\n",
    "  * 분석 시 지도상 일직선 거리를 이용해 알아보고자 했기 때문에 뚜렷한 관계가 나타나지 않은 것 같다.\n",
    "  * 제주도와의 거리보다는 지역별로 존재하는 구매방식이나 유통구조의 차이와 같은 다른 요인에 의해 단가의 차이가 나타날 수도 있을 것 같다는 생각을 했다.\n",
    "  * 거래지역별로 단가가 차이가 나는 이유에 대해서 제대로 알아보고자 한다면, 추가적인 정보가 필요할 것 같다."
   ]
  },
  {
   "cell_type": "code",
   "execution_count": null,
   "metadata": {},
   "outputs": [],
   "source": [
    "# 2016년도 제주산 감귤의 가격에 대한 상관관계분석\n",
    "grouped_2016_san_jeju_gamgul_WHSAL = pd.DataFrame(df_2016_san_jeju_gamgul.groupby([\"WHSAL_NM\"])[\"COST_PER_DANQ\", \"TOT_QTY\"].mean()).reset_index()\n",
    "grouped_2016_san_jeju_gamgul_WHSAL = grouped_2016_san_jeju_gamgul_WHSAL.assign(latitude = latitude, longitude = longitude)\n",
    "grouped_2016_san_jeju_gamgul_WHSAL = grouped_2016_san_jeju_gamgul_WHSAL.assign(\n",
    "    distance = [((grouped_2016_san_jeju_gamgul_WHSAL.iloc[i, 3] - jeju[0])**2 + \n",
    "                 (grouped_2016_san_jeju_gamgul_WHSAL.iloc[i, 4] - jeju[1])**2)**0.5 for i in range(0, 32)])\n",
    "corr_gamgul = grouped_2016_san_jeju_gamgul_WHSAL[[\"COST_PER_DANQ\", \"TOT_QTY\", \"distance\"]].corr()\n",
    "\n",
    "# 2016년도 제주산 무의 가격에 대한 상관관계분석\n",
    "grouped_2016_san_jeju_radish_WHSAL = pd.DataFrame(df_2016_san_jeju_radish.groupby([\"WHSAL_NM\"])[\"COST_PER_DANQ\", \"TOT_QTY\"].mean()).reset_index()\n",
    "grouped_2016_san_jeju_radish_WHSAL = grouped_2016_san_jeju_radish_WHSAL.assign(latitude = latitude2, longitude = longitude2)\n",
    "grouped_2016_san_jeju_radish_WHSAL = grouped_2016_san_jeju_radish_WHSAL.assign(\n",
    "    distance = [((grouped_2016_san_jeju_radish_WHSAL.iloc[i, 3] - jeju[0])**2 + \n",
    "                 (grouped_2016_san_jeju_radish_WHSAL.iloc[i, 4] - jeju[1])**2)**0.5 for i in range(0, 30)])\n",
    "corr_radish = grouped_2016_san_jeju_radish_WHSAL[[\"COST_PER_DANQ\", \"TOT_QTY\", \"distance\"]].corr()\n",
    "\n",
    "# 2016년도 제주산 양배추의 가격에 대한 상관관계분석\n",
    "grouped_2016_san_jeju_cabbage_WHSAL = pd.DataFrame(df_2016_san_jeju_cabbage.groupby([\"WHSAL_NM\"])[\"COST_PER_DANQ\", \"TOT_QTY\"].mean()).reset_index()\n",
    "grouped_2016_san_jeju_cabbage_WHSAL = grouped_2016_san_jeju_cabbage_WHSAL.assign(latitude = latitude2, longitude = longitude2)\n",
    "grouped_2016_san_jeju_cabbage_WHSAL = grouped_2016_san_jeju_cabbage_WHSAL.assign(\n",
    "    distance = [((grouped_2016_san_jeju_cabbage_WHSAL.iloc[i, 3] - jeju[0])**2 + \n",
    "                 (grouped_2016_san_jeju_cabbage_WHSAL.iloc[i, 4] - jeju[1])**2)**0.5 for i in range(0, 30)])\n",
    "corr_cabbage = grouped_2016_san_jeju_cabbage_WHSAL[[\"COST_PER_DANQ\", \"TOT_QTY\", \"distance\"]].corr()\n",
    "\n",
    "\n",
    "# save pickle\n",
    "with open(\"./pickles/hypo3_map_gamgul_corr_data.pickle\", \"wb\") as fw:\n",
    "    pickle.dump(corr_gamgul, fw)\n",
    "with open(\"./pickles/hypo3_map_radish_corr_data.pickle\", \"wb\") as fw:\n",
    "    pickle.dump(corr_radish, fw)\n",
    "with open(\"./pickles/hypo3_map_cabbage_corr_data.pickle\", \"wb\") as fw:\n",
    "    pickle.dump(corr_cabbage, fw)"
   ]
  },
  {
   "cell_type": "code",
   "execution_count": 31,
   "metadata": {
    "scrolled": false
   },
   "outputs": [
    {
     "data": {
      "application/vnd.plotly.v1+json": {
       "config": {
        "plotlyServerURL": "https://plotly.com"
       },
       "data": [
        {
         "coloraxis": "coloraxis",
         "hovertemplate": "x: %{x}<br>y: %{y}<br>color: %{z}<extra></extra>",
         "name": "0",
         "texttemplate": "%{z}",
         "type": "heatmap",
         "x": [
          "COST_PER_DANQ",
          "TOT_QTY",
          "distance"
         ],
         "xaxis": "x",
         "y": [
          "COST_PER_DANQ",
          "TOT_QTY",
          "distance"
         ],
         "yaxis": "y",
         "z": [
          [
           1,
           -0.2846265351331836,
           -0.2491476591388263
          ],
          [
           -0.2846265351331836,
           1,
           0.231559631956192
          ],
          [
           -0.2491476591388263,
           0.231559631956192,
           1
          ]
         ]
        }
       ],
       "layout": {
        "coloraxis": {
         "cmid": 0,
         "colorscale": [
          [
           0,
           "rgb(103,0,31)"
          ],
          [
           0.1,
           "rgb(178,24,43)"
          ],
          [
           0.2,
           "rgb(214,96,77)"
          ],
          [
           0.3,
           "rgb(244,165,130)"
          ],
          [
           0.4,
           "rgb(253,219,199)"
          ],
          [
           0.5,
           "rgb(247,247,247)"
          ],
          [
           0.6,
           "rgb(209,229,240)"
          ],
          [
           0.7,
           "rgb(146,197,222)"
          ],
          [
           0.8,
           "rgb(67,147,195)"
          ],
          [
           0.9,
           "rgb(33,102,172)"
          ],
          [
           1,
           "rgb(5,48,97)"
          ]
         ]
        },
        "height": 500,
        "template": {
         "data": {
          "bar": [
           {
            "error_x": {
             "color": "#2a3f5f"
            },
            "error_y": {
             "color": "#2a3f5f"
            },
            "marker": {
             "line": {
              "color": "#E5ECF6",
              "width": 0.5
             },
             "pattern": {
              "fillmode": "overlay",
              "size": 10,
              "solidity": 0.2
             }
            },
            "type": "bar"
           }
          ],
          "barpolar": [
           {
            "marker": {
             "line": {
              "color": "#E5ECF6",
              "width": 0.5
             },
             "pattern": {
              "fillmode": "overlay",
              "size": 10,
              "solidity": 0.2
             }
            },
            "type": "barpolar"
           }
          ],
          "carpet": [
           {
            "aaxis": {
             "endlinecolor": "#2a3f5f",
             "gridcolor": "white",
             "linecolor": "white",
             "minorgridcolor": "white",
             "startlinecolor": "#2a3f5f"
            },
            "baxis": {
             "endlinecolor": "#2a3f5f",
             "gridcolor": "white",
             "linecolor": "white",
             "minorgridcolor": "white",
             "startlinecolor": "#2a3f5f"
            },
            "type": "carpet"
           }
          ],
          "choropleth": [
           {
            "colorbar": {
             "outlinewidth": 0,
             "ticks": ""
            },
            "type": "choropleth"
           }
          ],
          "contour": [
           {
            "colorbar": {
             "outlinewidth": 0,
             "ticks": ""
            },
            "colorscale": [
             [
              0,
              "#0d0887"
             ],
             [
              0.1111111111111111,
              "#46039f"
             ],
             [
              0.2222222222222222,
              "#7201a8"
             ],
             [
              0.3333333333333333,
              "#9c179e"
             ],
             [
              0.4444444444444444,
              "#bd3786"
             ],
             [
              0.5555555555555556,
              "#d8576b"
             ],
             [
              0.6666666666666666,
              "#ed7953"
             ],
             [
              0.7777777777777778,
              "#fb9f3a"
             ],
             [
              0.8888888888888888,
              "#fdca26"
             ],
             [
              1,
              "#f0f921"
             ]
            ],
            "type": "contour"
           }
          ],
          "contourcarpet": [
           {
            "colorbar": {
             "outlinewidth": 0,
             "ticks": ""
            },
            "type": "contourcarpet"
           }
          ],
          "heatmap": [
           {
            "colorbar": {
             "outlinewidth": 0,
             "ticks": ""
            },
            "colorscale": [
             [
              0,
              "#0d0887"
             ],
             [
              0.1111111111111111,
              "#46039f"
             ],
             [
              0.2222222222222222,
              "#7201a8"
             ],
             [
              0.3333333333333333,
              "#9c179e"
             ],
             [
              0.4444444444444444,
              "#bd3786"
             ],
             [
              0.5555555555555556,
              "#d8576b"
             ],
             [
              0.6666666666666666,
              "#ed7953"
             ],
             [
              0.7777777777777778,
              "#fb9f3a"
             ],
             [
              0.8888888888888888,
              "#fdca26"
             ],
             [
              1,
              "#f0f921"
             ]
            ],
            "type": "heatmap"
           }
          ],
          "heatmapgl": [
           {
            "colorbar": {
             "outlinewidth": 0,
             "ticks": ""
            },
            "colorscale": [
             [
              0,
              "#0d0887"
             ],
             [
              0.1111111111111111,
              "#46039f"
             ],
             [
              0.2222222222222222,
              "#7201a8"
             ],
             [
              0.3333333333333333,
              "#9c179e"
             ],
             [
              0.4444444444444444,
              "#bd3786"
             ],
             [
              0.5555555555555556,
              "#d8576b"
             ],
             [
              0.6666666666666666,
              "#ed7953"
             ],
             [
              0.7777777777777778,
              "#fb9f3a"
             ],
             [
              0.8888888888888888,
              "#fdca26"
             ],
             [
              1,
              "#f0f921"
             ]
            ],
            "type": "heatmapgl"
           }
          ],
          "histogram": [
           {
            "marker": {
             "pattern": {
              "fillmode": "overlay",
              "size": 10,
              "solidity": 0.2
             }
            },
            "type": "histogram"
           }
          ],
          "histogram2d": [
           {
            "colorbar": {
             "outlinewidth": 0,
             "ticks": ""
            },
            "colorscale": [
             [
              0,
              "#0d0887"
             ],
             [
              0.1111111111111111,
              "#46039f"
             ],
             [
              0.2222222222222222,
              "#7201a8"
             ],
             [
              0.3333333333333333,
              "#9c179e"
             ],
             [
              0.4444444444444444,
              "#bd3786"
             ],
             [
              0.5555555555555556,
              "#d8576b"
             ],
             [
              0.6666666666666666,
              "#ed7953"
             ],
             [
              0.7777777777777778,
              "#fb9f3a"
             ],
             [
              0.8888888888888888,
              "#fdca26"
             ],
             [
              1,
              "#f0f921"
             ]
            ],
            "type": "histogram2d"
           }
          ],
          "histogram2dcontour": [
           {
            "colorbar": {
             "outlinewidth": 0,
             "ticks": ""
            },
            "colorscale": [
             [
              0,
              "#0d0887"
             ],
             [
              0.1111111111111111,
              "#46039f"
             ],
             [
              0.2222222222222222,
              "#7201a8"
             ],
             [
              0.3333333333333333,
              "#9c179e"
             ],
             [
              0.4444444444444444,
              "#bd3786"
             ],
             [
              0.5555555555555556,
              "#d8576b"
             ],
             [
              0.6666666666666666,
              "#ed7953"
             ],
             [
              0.7777777777777778,
              "#fb9f3a"
             ],
             [
              0.8888888888888888,
              "#fdca26"
             ],
             [
              1,
              "#f0f921"
             ]
            ],
            "type": "histogram2dcontour"
           }
          ],
          "mesh3d": [
           {
            "colorbar": {
             "outlinewidth": 0,
             "ticks": ""
            },
            "type": "mesh3d"
           }
          ],
          "parcoords": [
           {
            "line": {
             "colorbar": {
              "outlinewidth": 0,
              "ticks": ""
             }
            },
            "type": "parcoords"
           }
          ],
          "pie": [
           {
            "automargin": true,
            "type": "pie"
           }
          ],
          "scatter": [
           {
            "fillpattern": {
             "fillmode": "overlay",
             "size": 10,
             "solidity": 0.2
            },
            "type": "scatter"
           }
          ],
          "scatter3d": [
           {
            "line": {
             "colorbar": {
              "outlinewidth": 0,
              "ticks": ""
             }
            },
            "marker": {
             "colorbar": {
              "outlinewidth": 0,
              "ticks": ""
             }
            },
            "type": "scatter3d"
           }
          ],
          "scattercarpet": [
           {
            "marker": {
             "colorbar": {
              "outlinewidth": 0,
              "ticks": ""
             }
            },
            "type": "scattercarpet"
           }
          ],
          "scattergeo": [
           {
            "marker": {
             "colorbar": {
              "outlinewidth": 0,
              "ticks": ""
             }
            },
            "type": "scattergeo"
           }
          ],
          "scattergl": [
           {
            "marker": {
             "colorbar": {
              "outlinewidth": 0,
              "ticks": ""
             }
            },
            "type": "scattergl"
           }
          ],
          "scattermapbox": [
           {
            "marker": {
             "colorbar": {
              "outlinewidth": 0,
              "ticks": ""
             }
            },
            "type": "scattermapbox"
           }
          ],
          "scatterpolar": [
           {
            "marker": {
             "colorbar": {
              "outlinewidth": 0,
              "ticks": ""
             }
            },
            "type": "scatterpolar"
           }
          ],
          "scatterpolargl": [
           {
            "marker": {
             "colorbar": {
              "outlinewidth": 0,
              "ticks": ""
             }
            },
            "type": "scatterpolargl"
           }
          ],
          "scatterternary": [
           {
            "marker": {
             "colorbar": {
              "outlinewidth": 0,
              "ticks": ""
             }
            },
            "type": "scatterternary"
           }
          ],
          "surface": [
           {
            "colorbar": {
             "outlinewidth": 0,
             "ticks": ""
            },
            "colorscale": [
             [
              0,
              "#0d0887"
             ],
             [
              0.1111111111111111,
              "#46039f"
             ],
             [
              0.2222222222222222,
              "#7201a8"
             ],
             [
              0.3333333333333333,
              "#9c179e"
             ],
             [
              0.4444444444444444,
              "#bd3786"
             ],
             [
              0.5555555555555556,
              "#d8576b"
             ],
             [
              0.6666666666666666,
              "#ed7953"
             ],
             [
              0.7777777777777778,
              "#fb9f3a"
             ],
             [
              0.8888888888888888,
              "#fdca26"
             ],
             [
              1,
              "#f0f921"
             ]
            ],
            "type": "surface"
           }
          ],
          "table": [
           {
            "cells": {
             "fill": {
              "color": "#EBF0F8"
             },
             "line": {
              "color": "white"
             }
            },
            "header": {
             "fill": {
              "color": "#C8D4E3"
             },
             "line": {
              "color": "white"
             }
            },
            "type": "table"
           }
          ]
         },
         "layout": {
          "annotationdefaults": {
           "arrowcolor": "#2a3f5f",
           "arrowhead": 0,
           "arrowwidth": 1
          },
          "autotypenumbers": "strict",
          "coloraxis": {
           "colorbar": {
            "outlinewidth": 0,
            "ticks": ""
           }
          },
          "colorscale": {
           "diverging": [
            [
             0,
             "#8e0152"
            ],
            [
             0.1,
             "#c51b7d"
            ],
            [
             0.2,
             "#de77ae"
            ],
            [
             0.3,
             "#f1b6da"
            ],
            [
             0.4,
             "#fde0ef"
            ],
            [
             0.5,
             "#f7f7f7"
            ],
            [
             0.6,
             "#e6f5d0"
            ],
            [
             0.7,
             "#b8e186"
            ],
            [
             0.8,
             "#7fbc41"
            ],
            [
             0.9,
             "#4d9221"
            ],
            [
             1,
             "#276419"
            ]
           ],
           "sequential": [
            [
             0,
             "#0d0887"
            ],
            [
             0.1111111111111111,
             "#46039f"
            ],
            [
             0.2222222222222222,
             "#7201a8"
            ],
            [
             0.3333333333333333,
             "#9c179e"
            ],
            [
             0.4444444444444444,
             "#bd3786"
            ],
            [
             0.5555555555555556,
             "#d8576b"
            ],
            [
             0.6666666666666666,
             "#ed7953"
            ],
            [
             0.7777777777777778,
             "#fb9f3a"
            ],
            [
             0.8888888888888888,
             "#fdca26"
            ],
            [
             1,
             "#f0f921"
            ]
           ],
           "sequentialminus": [
            [
             0,
             "#0d0887"
            ],
            [
             0.1111111111111111,
             "#46039f"
            ],
            [
             0.2222222222222222,
             "#7201a8"
            ],
            [
             0.3333333333333333,
             "#9c179e"
            ],
            [
             0.4444444444444444,
             "#bd3786"
            ],
            [
             0.5555555555555556,
             "#d8576b"
            ],
            [
             0.6666666666666666,
             "#ed7953"
            ],
            [
             0.7777777777777778,
             "#fb9f3a"
            ],
            [
             0.8888888888888888,
             "#fdca26"
            ],
            [
             1,
             "#f0f921"
            ]
           ]
          },
          "colorway": [
           "#636efa",
           "#EF553B",
           "#00cc96",
           "#ab63fa",
           "#FFA15A",
           "#19d3f3",
           "#FF6692",
           "#B6E880",
           "#FF97FF",
           "#FECB52"
          ],
          "font": {
           "color": "#2a3f5f"
          },
          "geo": {
           "bgcolor": "white",
           "lakecolor": "white",
           "landcolor": "#E5ECF6",
           "showlakes": true,
           "showland": true,
           "subunitcolor": "white"
          },
          "hoverlabel": {
           "align": "left"
          },
          "hovermode": "closest",
          "mapbox": {
           "style": "light"
          },
          "paper_bgcolor": "white",
          "plot_bgcolor": "#E5ECF6",
          "polar": {
           "angularaxis": {
            "gridcolor": "white",
            "linecolor": "white",
            "ticks": ""
           },
           "bgcolor": "#E5ECF6",
           "radialaxis": {
            "gridcolor": "white",
            "linecolor": "white",
            "ticks": ""
           }
          },
          "scene": {
           "xaxis": {
            "backgroundcolor": "#E5ECF6",
            "gridcolor": "white",
            "gridwidth": 2,
            "linecolor": "white",
            "showbackground": true,
            "ticks": "",
            "zerolinecolor": "white"
           },
           "yaxis": {
            "backgroundcolor": "#E5ECF6",
            "gridcolor": "white",
            "gridwidth": 2,
            "linecolor": "white",
            "showbackground": true,
            "ticks": "",
            "zerolinecolor": "white"
           },
           "zaxis": {
            "backgroundcolor": "#E5ECF6",
            "gridcolor": "white",
            "gridwidth": 2,
            "linecolor": "white",
            "showbackground": true,
            "ticks": "",
            "zerolinecolor": "white"
           }
          },
          "shapedefaults": {
           "line": {
            "color": "#2a3f5f"
           }
          },
          "ternary": {
           "aaxis": {
            "gridcolor": "white",
            "linecolor": "white",
            "ticks": ""
           },
           "baxis": {
            "gridcolor": "white",
            "linecolor": "white",
            "ticks": ""
           },
           "bgcolor": "#E5ECF6",
           "caxis": {
            "gridcolor": "white",
            "linecolor": "white",
            "ticks": ""
           }
          },
          "title": {
           "x": 0.05
          },
          "xaxis": {
           "automargin": true,
           "gridcolor": "white",
           "linecolor": "white",
           "ticks": "",
           "title": {
            "standoff": 15
           },
           "zerolinecolor": "white",
           "zerolinewidth": 2
          },
          "yaxis": {
           "automargin": true,
           "gridcolor": "white",
           "linecolor": "white",
           "ticks": "",
           "title": {
            "standoff": 15
           },
           "zerolinecolor": "white",
           "zerolinewidth": 2
          }
         }
        },
        "title": {
         "text": "2016년도 제주산 감귤의 가격에 대한 상관관계분석"
        },
        "width": 500,
        "xaxis": {
         "anchor": "y",
         "constrain": "domain",
         "domain": [
          0,
          1
         ],
         "scaleanchor": "y"
        },
        "yaxis": {
         "anchor": "x",
         "autorange": "reversed",
         "constrain": "domain",
         "domain": [
          0,
          1
         ]
        }
       }
      }
     },
     "metadata": {},
     "output_type": "display_data"
    },
    {
     "data": {
      "application/vnd.plotly.v1+json": {
       "config": {
        "plotlyServerURL": "https://plotly.com"
       },
       "data": [
        {
         "coloraxis": "coloraxis",
         "hovertemplate": "x: %{x}<br>y: %{y}<br>color: %{z}<extra></extra>",
         "name": "0",
         "texttemplate": "%{z}",
         "type": "heatmap",
         "x": [
          "COST_PER_DANQ",
          "TOT_QTY",
          "distance"
         ],
         "xaxis": "x",
         "y": [
          "COST_PER_DANQ",
          "TOT_QTY",
          "distance"
         ],
         "yaxis": "y",
         "z": [
          [
           1,
           -0.09402455812516766,
           0.28436527203427375
          ],
          [
           -0.09402455812516766,
           1,
           0.2117565922307259
          ],
          [
           0.28436527203427375,
           0.2117565922307259,
           1
          ]
         ]
        }
       ],
       "layout": {
        "coloraxis": {
         "cmid": 0,
         "colorscale": [
          [
           0,
           "rgb(103,0,31)"
          ],
          [
           0.1,
           "rgb(178,24,43)"
          ],
          [
           0.2,
           "rgb(214,96,77)"
          ],
          [
           0.3,
           "rgb(244,165,130)"
          ],
          [
           0.4,
           "rgb(253,219,199)"
          ],
          [
           0.5,
           "rgb(247,247,247)"
          ],
          [
           0.6,
           "rgb(209,229,240)"
          ],
          [
           0.7,
           "rgb(146,197,222)"
          ],
          [
           0.8,
           "rgb(67,147,195)"
          ],
          [
           0.9,
           "rgb(33,102,172)"
          ],
          [
           1,
           "rgb(5,48,97)"
          ]
         ]
        },
        "height": 500,
        "template": {
         "data": {
          "bar": [
           {
            "error_x": {
             "color": "#2a3f5f"
            },
            "error_y": {
             "color": "#2a3f5f"
            },
            "marker": {
             "line": {
              "color": "#E5ECF6",
              "width": 0.5
             },
             "pattern": {
              "fillmode": "overlay",
              "size": 10,
              "solidity": 0.2
             }
            },
            "type": "bar"
           }
          ],
          "barpolar": [
           {
            "marker": {
             "line": {
              "color": "#E5ECF6",
              "width": 0.5
             },
             "pattern": {
              "fillmode": "overlay",
              "size": 10,
              "solidity": 0.2
             }
            },
            "type": "barpolar"
           }
          ],
          "carpet": [
           {
            "aaxis": {
             "endlinecolor": "#2a3f5f",
             "gridcolor": "white",
             "linecolor": "white",
             "minorgridcolor": "white",
             "startlinecolor": "#2a3f5f"
            },
            "baxis": {
             "endlinecolor": "#2a3f5f",
             "gridcolor": "white",
             "linecolor": "white",
             "minorgridcolor": "white",
             "startlinecolor": "#2a3f5f"
            },
            "type": "carpet"
           }
          ],
          "choropleth": [
           {
            "colorbar": {
             "outlinewidth": 0,
             "ticks": ""
            },
            "type": "choropleth"
           }
          ],
          "contour": [
           {
            "colorbar": {
             "outlinewidth": 0,
             "ticks": ""
            },
            "colorscale": [
             [
              0,
              "#0d0887"
             ],
             [
              0.1111111111111111,
              "#46039f"
             ],
             [
              0.2222222222222222,
              "#7201a8"
             ],
             [
              0.3333333333333333,
              "#9c179e"
             ],
             [
              0.4444444444444444,
              "#bd3786"
             ],
             [
              0.5555555555555556,
              "#d8576b"
             ],
             [
              0.6666666666666666,
              "#ed7953"
             ],
             [
              0.7777777777777778,
              "#fb9f3a"
             ],
             [
              0.8888888888888888,
              "#fdca26"
             ],
             [
              1,
              "#f0f921"
             ]
            ],
            "type": "contour"
           }
          ],
          "contourcarpet": [
           {
            "colorbar": {
             "outlinewidth": 0,
             "ticks": ""
            },
            "type": "contourcarpet"
           }
          ],
          "heatmap": [
           {
            "colorbar": {
             "outlinewidth": 0,
             "ticks": ""
            },
            "colorscale": [
             [
              0,
              "#0d0887"
             ],
             [
              0.1111111111111111,
              "#46039f"
             ],
             [
              0.2222222222222222,
              "#7201a8"
             ],
             [
              0.3333333333333333,
              "#9c179e"
             ],
             [
              0.4444444444444444,
              "#bd3786"
             ],
             [
              0.5555555555555556,
              "#d8576b"
             ],
             [
              0.6666666666666666,
              "#ed7953"
             ],
             [
              0.7777777777777778,
              "#fb9f3a"
             ],
             [
              0.8888888888888888,
              "#fdca26"
             ],
             [
              1,
              "#f0f921"
             ]
            ],
            "type": "heatmap"
           }
          ],
          "heatmapgl": [
           {
            "colorbar": {
             "outlinewidth": 0,
             "ticks": ""
            },
            "colorscale": [
             [
              0,
              "#0d0887"
             ],
             [
              0.1111111111111111,
              "#46039f"
             ],
             [
              0.2222222222222222,
              "#7201a8"
             ],
             [
              0.3333333333333333,
              "#9c179e"
             ],
             [
              0.4444444444444444,
              "#bd3786"
             ],
             [
              0.5555555555555556,
              "#d8576b"
             ],
             [
              0.6666666666666666,
              "#ed7953"
             ],
             [
              0.7777777777777778,
              "#fb9f3a"
             ],
             [
              0.8888888888888888,
              "#fdca26"
             ],
             [
              1,
              "#f0f921"
             ]
            ],
            "type": "heatmapgl"
           }
          ],
          "histogram": [
           {
            "marker": {
             "pattern": {
              "fillmode": "overlay",
              "size": 10,
              "solidity": 0.2
             }
            },
            "type": "histogram"
           }
          ],
          "histogram2d": [
           {
            "colorbar": {
             "outlinewidth": 0,
             "ticks": ""
            },
            "colorscale": [
             [
              0,
              "#0d0887"
             ],
             [
              0.1111111111111111,
              "#46039f"
             ],
             [
              0.2222222222222222,
              "#7201a8"
             ],
             [
              0.3333333333333333,
              "#9c179e"
             ],
             [
              0.4444444444444444,
              "#bd3786"
             ],
             [
              0.5555555555555556,
              "#d8576b"
             ],
             [
              0.6666666666666666,
              "#ed7953"
             ],
             [
              0.7777777777777778,
              "#fb9f3a"
             ],
             [
              0.8888888888888888,
              "#fdca26"
             ],
             [
              1,
              "#f0f921"
             ]
            ],
            "type": "histogram2d"
           }
          ],
          "histogram2dcontour": [
           {
            "colorbar": {
             "outlinewidth": 0,
             "ticks": ""
            },
            "colorscale": [
             [
              0,
              "#0d0887"
             ],
             [
              0.1111111111111111,
              "#46039f"
             ],
             [
              0.2222222222222222,
              "#7201a8"
             ],
             [
              0.3333333333333333,
              "#9c179e"
             ],
             [
              0.4444444444444444,
              "#bd3786"
             ],
             [
              0.5555555555555556,
              "#d8576b"
             ],
             [
              0.6666666666666666,
              "#ed7953"
             ],
             [
              0.7777777777777778,
              "#fb9f3a"
             ],
             [
              0.8888888888888888,
              "#fdca26"
             ],
             [
              1,
              "#f0f921"
             ]
            ],
            "type": "histogram2dcontour"
           }
          ],
          "mesh3d": [
           {
            "colorbar": {
             "outlinewidth": 0,
             "ticks": ""
            },
            "type": "mesh3d"
           }
          ],
          "parcoords": [
           {
            "line": {
             "colorbar": {
              "outlinewidth": 0,
              "ticks": ""
             }
            },
            "type": "parcoords"
           }
          ],
          "pie": [
           {
            "automargin": true,
            "type": "pie"
           }
          ],
          "scatter": [
           {
            "fillpattern": {
             "fillmode": "overlay",
             "size": 10,
             "solidity": 0.2
            },
            "type": "scatter"
           }
          ],
          "scatter3d": [
           {
            "line": {
             "colorbar": {
              "outlinewidth": 0,
              "ticks": ""
             }
            },
            "marker": {
             "colorbar": {
              "outlinewidth": 0,
              "ticks": ""
             }
            },
            "type": "scatter3d"
           }
          ],
          "scattercarpet": [
           {
            "marker": {
             "colorbar": {
              "outlinewidth": 0,
              "ticks": ""
             }
            },
            "type": "scattercarpet"
           }
          ],
          "scattergeo": [
           {
            "marker": {
             "colorbar": {
              "outlinewidth": 0,
              "ticks": ""
             }
            },
            "type": "scattergeo"
           }
          ],
          "scattergl": [
           {
            "marker": {
             "colorbar": {
              "outlinewidth": 0,
              "ticks": ""
             }
            },
            "type": "scattergl"
           }
          ],
          "scattermapbox": [
           {
            "marker": {
             "colorbar": {
              "outlinewidth": 0,
              "ticks": ""
             }
            },
            "type": "scattermapbox"
           }
          ],
          "scatterpolar": [
           {
            "marker": {
             "colorbar": {
              "outlinewidth": 0,
              "ticks": ""
             }
            },
            "type": "scatterpolar"
           }
          ],
          "scatterpolargl": [
           {
            "marker": {
             "colorbar": {
              "outlinewidth": 0,
              "ticks": ""
             }
            },
            "type": "scatterpolargl"
           }
          ],
          "scatterternary": [
           {
            "marker": {
             "colorbar": {
              "outlinewidth": 0,
              "ticks": ""
             }
            },
            "type": "scatterternary"
           }
          ],
          "surface": [
           {
            "colorbar": {
             "outlinewidth": 0,
             "ticks": ""
            },
            "colorscale": [
             [
              0,
              "#0d0887"
             ],
             [
              0.1111111111111111,
              "#46039f"
             ],
             [
              0.2222222222222222,
              "#7201a8"
             ],
             [
              0.3333333333333333,
              "#9c179e"
             ],
             [
              0.4444444444444444,
              "#bd3786"
             ],
             [
              0.5555555555555556,
              "#d8576b"
             ],
             [
              0.6666666666666666,
              "#ed7953"
             ],
             [
              0.7777777777777778,
              "#fb9f3a"
             ],
             [
              0.8888888888888888,
              "#fdca26"
             ],
             [
              1,
              "#f0f921"
             ]
            ],
            "type": "surface"
           }
          ],
          "table": [
           {
            "cells": {
             "fill": {
              "color": "#EBF0F8"
             },
             "line": {
              "color": "white"
             }
            },
            "header": {
             "fill": {
              "color": "#C8D4E3"
             },
             "line": {
              "color": "white"
             }
            },
            "type": "table"
           }
          ]
         },
         "layout": {
          "annotationdefaults": {
           "arrowcolor": "#2a3f5f",
           "arrowhead": 0,
           "arrowwidth": 1
          },
          "autotypenumbers": "strict",
          "coloraxis": {
           "colorbar": {
            "outlinewidth": 0,
            "ticks": ""
           }
          },
          "colorscale": {
           "diverging": [
            [
             0,
             "#8e0152"
            ],
            [
             0.1,
             "#c51b7d"
            ],
            [
             0.2,
             "#de77ae"
            ],
            [
             0.3,
             "#f1b6da"
            ],
            [
             0.4,
             "#fde0ef"
            ],
            [
             0.5,
             "#f7f7f7"
            ],
            [
             0.6,
             "#e6f5d0"
            ],
            [
             0.7,
             "#b8e186"
            ],
            [
             0.8,
             "#7fbc41"
            ],
            [
             0.9,
             "#4d9221"
            ],
            [
             1,
             "#276419"
            ]
           ],
           "sequential": [
            [
             0,
             "#0d0887"
            ],
            [
             0.1111111111111111,
             "#46039f"
            ],
            [
             0.2222222222222222,
             "#7201a8"
            ],
            [
             0.3333333333333333,
             "#9c179e"
            ],
            [
             0.4444444444444444,
             "#bd3786"
            ],
            [
             0.5555555555555556,
             "#d8576b"
            ],
            [
             0.6666666666666666,
             "#ed7953"
            ],
            [
             0.7777777777777778,
             "#fb9f3a"
            ],
            [
             0.8888888888888888,
             "#fdca26"
            ],
            [
             1,
             "#f0f921"
            ]
           ],
           "sequentialminus": [
            [
             0,
             "#0d0887"
            ],
            [
             0.1111111111111111,
             "#46039f"
            ],
            [
             0.2222222222222222,
             "#7201a8"
            ],
            [
             0.3333333333333333,
             "#9c179e"
            ],
            [
             0.4444444444444444,
             "#bd3786"
            ],
            [
             0.5555555555555556,
             "#d8576b"
            ],
            [
             0.6666666666666666,
             "#ed7953"
            ],
            [
             0.7777777777777778,
             "#fb9f3a"
            ],
            [
             0.8888888888888888,
             "#fdca26"
            ],
            [
             1,
             "#f0f921"
            ]
           ]
          },
          "colorway": [
           "#636efa",
           "#EF553B",
           "#00cc96",
           "#ab63fa",
           "#FFA15A",
           "#19d3f3",
           "#FF6692",
           "#B6E880",
           "#FF97FF",
           "#FECB52"
          ],
          "font": {
           "color": "#2a3f5f"
          },
          "geo": {
           "bgcolor": "white",
           "lakecolor": "white",
           "landcolor": "#E5ECF6",
           "showlakes": true,
           "showland": true,
           "subunitcolor": "white"
          },
          "hoverlabel": {
           "align": "left"
          },
          "hovermode": "closest",
          "mapbox": {
           "style": "light"
          },
          "paper_bgcolor": "white",
          "plot_bgcolor": "#E5ECF6",
          "polar": {
           "angularaxis": {
            "gridcolor": "white",
            "linecolor": "white",
            "ticks": ""
           },
           "bgcolor": "#E5ECF6",
           "radialaxis": {
            "gridcolor": "white",
            "linecolor": "white",
            "ticks": ""
           }
          },
          "scene": {
           "xaxis": {
            "backgroundcolor": "#E5ECF6",
            "gridcolor": "white",
            "gridwidth": 2,
            "linecolor": "white",
            "showbackground": true,
            "ticks": "",
            "zerolinecolor": "white"
           },
           "yaxis": {
            "backgroundcolor": "#E5ECF6",
            "gridcolor": "white",
            "gridwidth": 2,
            "linecolor": "white",
            "showbackground": true,
            "ticks": "",
            "zerolinecolor": "white"
           },
           "zaxis": {
            "backgroundcolor": "#E5ECF6",
            "gridcolor": "white",
            "gridwidth": 2,
            "linecolor": "white",
            "showbackground": true,
            "ticks": "",
            "zerolinecolor": "white"
           }
          },
          "shapedefaults": {
           "line": {
            "color": "#2a3f5f"
           }
          },
          "ternary": {
           "aaxis": {
            "gridcolor": "white",
            "linecolor": "white",
            "ticks": ""
           },
           "baxis": {
            "gridcolor": "white",
            "linecolor": "white",
            "ticks": ""
           },
           "bgcolor": "#E5ECF6",
           "caxis": {
            "gridcolor": "white",
            "linecolor": "white",
            "ticks": ""
           }
          },
          "title": {
           "x": 0.05
          },
          "xaxis": {
           "automargin": true,
           "gridcolor": "white",
           "linecolor": "white",
           "ticks": "",
           "title": {
            "standoff": 15
           },
           "zerolinecolor": "white",
           "zerolinewidth": 2
          },
          "yaxis": {
           "automargin": true,
           "gridcolor": "white",
           "linecolor": "white",
           "ticks": "",
           "title": {
            "standoff": 15
           },
           "zerolinecolor": "white",
           "zerolinewidth": 2
          }
         }
        },
        "title": {
         "text": "2016년도 제주산 무의 가격에 대한 상관관계분석"
        },
        "width": 500,
        "xaxis": {
         "anchor": "y",
         "constrain": "domain",
         "domain": [
          0,
          1
         ],
         "scaleanchor": "y"
        },
        "yaxis": {
         "anchor": "x",
         "autorange": "reversed",
         "constrain": "domain",
         "domain": [
          0,
          1
         ]
        }
       }
      }
     },
     "metadata": {},
     "output_type": "display_data"
    },
    {
     "data": {
      "application/vnd.plotly.v1+json": {
       "config": {
        "plotlyServerURL": "https://plotly.com"
       },
       "data": [
        {
         "coloraxis": "coloraxis",
         "hovertemplate": "x: %{x}<br>y: %{y}<br>color: %{z}<extra></extra>",
         "name": "0",
         "texttemplate": "%{z}",
         "type": "heatmap",
         "x": [
          "COST_PER_DANQ",
          "TOT_QTY",
          "distance"
         ],
         "xaxis": "x",
         "y": [
          "COST_PER_DANQ",
          "TOT_QTY",
          "distance"
         ],
         "yaxis": "y",
         "z": [
          [
           1,
           -0.11110323110390657,
           -0.0014816241032860572
          ],
          [
           -0.11110323110390657,
           1,
           -0.2299413423228768
          ],
          [
           -0.0014816241032860572,
           -0.2299413423228768,
           1
          ]
         ]
        }
       ],
       "layout": {
        "coloraxis": {
         "cmid": 0,
         "colorscale": [
          [
           0,
           "rgb(103,0,31)"
          ],
          [
           0.1,
           "rgb(178,24,43)"
          ],
          [
           0.2,
           "rgb(214,96,77)"
          ],
          [
           0.3,
           "rgb(244,165,130)"
          ],
          [
           0.4,
           "rgb(253,219,199)"
          ],
          [
           0.5,
           "rgb(247,247,247)"
          ],
          [
           0.6,
           "rgb(209,229,240)"
          ],
          [
           0.7,
           "rgb(146,197,222)"
          ],
          [
           0.8,
           "rgb(67,147,195)"
          ],
          [
           0.9,
           "rgb(33,102,172)"
          ],
          [
           1,
           "rgb(5,48,97)"
          ]
         ]
        },
        "height": 500,
        "template": {
         "data": {
          "bar": [
           {
            "error_x": {
             "color": "#2a3f5f"
            },
            "error_y": {
             "color": "#2a3f5f"
            },
            "marker": {
             "line": {
              "color": "#E5ECF6",
              "width": 0.5
             },
             "pattern": {
              "fillmode": "overlay",
              "size": 10,
              "solidity": 0.2
             }
            },
            "type": "bar"
           }
          ],
          "barpolar": [
           {
            "marker": {
             "line": {
              "color": "#E5ECF6",
              "width": 0.5
             },
             "pattern": {
              "fillmode": "overlay",
              "size": 10,
              "solidity": 0.2
             }
            },
            "type": "barpolar"
           }
          ],
          "carpet": [
           {
            "aaxis": {
             "endlinecolor": "#2a3f5f",
             "gridcolor": "white",
             "linecolor": "white",
             "minorgridcolor": "white",
             "startlinecolor": "#2a3f5f"
            },
            "baxis": {
             "endlinecolor": "#2a3f5f",
             "gridcolor": "white",
             "linecolor": "white",
             "minorgridcolor": "white",
             "startlinecolor": "#2a3f5f"
            },
            "type": "carpet"
           }
          ],
          "choropleth": [
           {
            "colorbar": {
             "outlinewidth": 0,
             "ticks": ""
            },
            "type": "choropleth"
           }
          ],
          "contour": [
           {
            "colorbar": {
             "outlinewidth": 0,
             "ticks": ""
            },
            "colorscale": [
             [
              0,
              "#0d0887"
             ],
             [
              0.1111111111111111,
              "#46039f"
             ],
             [
              0.2222222222222222,
              "#7201a8"
             ],
             [
              0.3333333333333333,
              "#9c179e"
             ],
             [
              0.4444444444444444,
              "#bd3786"
             ],
             [
              0.5555555555555556,
              "#d8576b"
             ],
             [
              0.6666666666666666,
              "#ed7953"
             ],
             [
              0.7777777777777778,
              "#fb9f3a"
             ],
             [
              0.8888888888888888,
              "#fdca26"
             ],
             [
              1,
              "#f0f921"
             ]
            ],
            "type": "contour"
           }
          ],
          "contourcarpet": [
           {
            "colorbar": {
             "outlinewidth": 0,
             "ticks": ""
            },
            "type": "contourcarpet"
           }
          ],
          "heatmap": [
           {
            "colorbar": {
             "outlinewidth": 0,
             "ticks": ""
            },
            "colorscale": [
             [
              0,
              "#0d0887"
             ],
             [
              0.1111111111111111,
              "#46039f"
             ],
             [
              0.2222222222222222,
              "#7201a8"
             ],
             [
              0.3333333333333333,
              "#9c179e"
             ],
             [
              0.4444444444444444,
              "#bd3786"
             ],
             [
              0.5555555555555556,
              "#d8576b"
             ],
             [
              0.6666666666666666,
              "#ed7953"
             ],
             [
              0.7777777777777778,
              "#fb9f3a"
             ],
             [
              0.8888888888888888,
              "#fdca26"
             ],
             [
              1,
              "#f0f921"
             ]
            ],
            "type": "heatmap"
           }
          ],
          "heatmapgl": [
           {
            "colorbar": {
             "outlinewidth": 0,
             "ticks": ""
            },
            "colorscale": [
             [
              0,
              "#0d0887"
             ],
             [
              0.1111111111111111,
              "#46039f"
             ],
             [
              0.2222222222222222,
              "#7201a8"
             ],
             [
              0.3333333333333333,
              "#9c179e"
             ],
             [
              0.4444444444444444,
              "#bd3786"
             ],
             [
              0.5555555555555556,
              "#d8576b"
             ],
             [
              0.6666666666666666,
              "#ed7953"
             ],
             [
              0.7777777777777778,
              "#fb9f3a"
             ],
             [
              0.8888888888888888,
              "#fdca26"
             ],
             [
              1,
              "#f0f921"
             ]
            ],
            "type": "heatmapgl"
           }
          ],
          "histogram": [
           {
            "marker": {
             "pattern": {
              "fillmode": "overlay",
              "size": 10,
              "solidity": 0.2
             }
            },
            "type": "histogram"
           }
          ],
          "histogram2d": [
           {
            "colorbar": {
             "outlinewidth": 0,
             "ticks": ""
            },
            "colorscale": [
             [
              0,
              "#0d0887"
             ],
             [
              0.1111111111111111,
              "#46039f"
             ],
             [
              0.2222222222222222,
              "#7201a8"
             ],
             [
              0.3333333333333333,
              "#9c179e"
             ],
             [
              0.4444444444444444,
              "#bd3786"
             ],
             [
              0.5555555555555556,
              "#d8576b"
             ],
             [
              0.6666666666666666,
              "#ed7953"
             ],
             [
              0.7777777777777778,
              "#fb9f3a"
             ],
             [
              0.8888888888888888,
              "#fdca26"
             ],
             [
              1,
              "#f0f921"
             ]
            ],
            "type": "histogram2d"
           }
          ],
          "histogram2dcontour": [
           {
            "colorbar": {
             "outlinewidth": 0,
             "ticks": ""
            },
            "colorscale": [
             [
              0,
              "#0d0887"
             ],
             [
              0.1111111111111111,
              "#46039f"
             ],
             [
              0.2222222222222222,
              "#7201a8"
             ],
             [
              0.3333333333333333,
              "#9c179e"
             ],
             [
              0.4444444444444444,
              "#bd3786"
             ],
             [
              0.5555555555555556,
              "#d8576b"
             ],
             [
              0.6666666666666666,
              "#ed7953"
             ],
             [
              0.7777777777777778,
              "#fb9f3a"
             ],
             [
              0.8888888888888888,
              "#fdca26"
             ],
             [
              1,
              "#f0f921"
             ]
            ],
            "type": "histogram2dcontour"
           }
          ],
          "mesh3d": [
           {
            "colorbar": {
             "outlinewidth": 0,
             "ticks": ""
            },
            "type": "mesh3d"
           }
          ],
          "parcoords": [
           {
            "line": {
             "colorbar": {
              "outlinewidth": 0,
              "ticks": ""
             }
            },
            "type": "parcoords"
           }
          ],
          "pie": [
           {
            "automargin": true,
            "type": "pie"
           }
          ],
          "scatter": [
           {
            "fillpattern": {
             "fillmode": "overlay",
             "size": 10,
             "solidity": 0.2
            },
            "type": "scatter"
           }
          ],
          "scatter3d": [
           {
            "line": {
             "colorbar": {
              "outlinewidth": 0,
              "ticks": ""
             }
            },
            "marker": {
             "colorbar": {
              "outlinewidth": 0,
              "ticks": ""
             }
            },
            "type": "scatter3d"
           }
          ],
          "scattercarpet": [
           {
            "marker": {
             "colorbar": {
              "outlinewidth": 0,
              "ticks": ""
             }
            },
            "type": "scattercarpet"
           }
          ],
          "scattergeo": [
           {
            "marker": {
             "colorbar": {
              "outlinewidth": 0,
              "ticks": ""
             }
            },
            "type": "scattergeo"
           }
          ],
          "scattergl": [
           {
            "marker": {
             "colorbar": {
              "outlinewidth": 0,
              "ticks": ""
             }
            },
            "type": "scattergl"
           }
          ],
          "scattermapbox": [
           {
            "marker": {
             "colorbar": {
              "outlinewidth": 0,
              "ticks": ""
             }
            },
            "type": "scattermapbox"
           }
          ],
          "scatterpolar": [
           {
            "marker": {
             "colorbar": {
              "outlinewidth": 0,
              "ticks": ""
             }
            },
            "type": "scatterpolar"
           }
          ],
          "scatterpolargl": [
           {
            "marker": {
             "colorbar": {
              "outlinewidth": 0,
              "ticks": ""
             }
            },
            "type": "scatterpolargl"
           }
          ],
          "scatterternary": [
           {
            "marker": {
             "colorbar": {
              "outlinewidth": 0,
              "ticks": ""
             }
            },
            "type": "scatterternary"
           }
          ],
          "surface": [
           {
            "colorbar": {
             "outlinewidth": 0,
             "ticks": ""
            },
            "colorscale": [
             [
              0,
              "#0d0887"
             ],
             [
              0.1111111111111111,
              "#46039f"
             ],
             [
              0.2222222222222222,
              "#7201a8"
             ],
             [
              0.3333333333333333,
              "#9c179e"
             ],
             [
              0.4444444444444444,
              "#bd3786"
             ],
             [
              0.5555555555555556,
              "#d8576b"
             ],
             [
              0.6666666666666666,
              "#ed7953"
             ],
             [
              0.7777777777777778,
              "#fb9f3a"
             ],
             [
              0.8888888888888888,
              "#fdca26"
             ],
             [
              1,
              "#f0f921"
             ]
            ],
            "type": "surface"
           }
          ],
          "table": [
           {
            "cells": {
             "fill": {
              "color": "#EBF0F8"
             },
             "line": {
              "color": "white"
             }
            },
            "header": {
             "fill": {
              "color": "#C8D4E3"
             },
             "line": {
              "color": "white"
             }
            },
            "type": "table"
           }
          ]
         },
         "layout": {
          "annotationdefaults": {
           "arrowcolor": "#2a3f5f",
           "arrowhead": 0,
           "arrowwidth": 1
          },
          "autotypenumbers": "strict",
          "coloraxis": {
           "colorbar": {
            "outlinewidth": 0,
            "ticks": ""
           }
          },
          "colorscale": {
           "diverging": [
            [
             0,
             "#8e0152"
            ],
            [
             0.1,
             "#c51b7d"
            ],
            [
             0.2,
             "#de77ae"
            ],
            [
             0.3,
             "#f1b6da"
            ],
            [
             0.4,
             "#fde0ef"
            ],
            [
             0.5,
             "#f7f7f7"
            ],
            [
             0.6,
             "#e6f5d0"
            ],
            [
             0.7,
             "#b8e186"
            ],
            [
             0.8,
             "#7fbc41"
            ],
            [
             0.9,
             "#4d9221"
            ],
            [
             1,
             "#276419"
            ]
           ],
           "sequential": [
            [
             0,
             "#0d0887"
            ],
            [
             0.1111111111111111,
             "#46039f"
            ],
            [
             0.2222222222222222,
             "#7201a8"
            ],
            [
             0.3333333333333333,
             "#9c179e"
            ],
            [
             0.4444444444444444,
             "#bd3786"
            ],
            [
             0.5555555555555556,
             "#d8576b"
            ],
            [
             0.6666666666666666,
             "#ed7953"
            ],
            [
             0.7777777777777778,
             "#fb9f3a"
            ],
            [
             0.8888888888888888,
             "#fdca26"
            ],
            [
             1,
             "#f0f921"
            ]
           ],
           "sequentialminus": [
            [
             0,
             "#0d0887"
            ],
            [
             0.1111111111111111,
             "#46039f"
            ],
            [
             0.2222222222222222,
             "#7201a8"
            ],
            [
             0.3333333333333333,
             "#9c179e"
            ],
            [
             0.4444444444444444,
             "#bd3786"
            ],
            [
             0.5555555555555556,
             "#d8576b"
            ],
            [
             0.6666666666666666,
             "#ed7953"
            ],
            [
             0.7777777777777778,
             "#fb9f3a"
            ],
            [
             0.8888888888888888,
             "#fdca26"
            ],
            [
             1,
             "#f0f921"
            ]
           ]
          },
          "colorway": [
           "#636efa",
           "#EF553B",
           "#00cc96",
           "#ab63fa",
           "#FFA15A",
           "#19d3f3",
           "#FF6692",
           "#B6E880",
           "#FF97FF",
           "#FECB52"
          ],
          "font": {
           "color": "#2a3f5f"
          },
          "geo": {
           "bgcolor": "white",
           "lakecolor": "white",
           "landcolor": "#E5ECF6",
           "showlakes": true,
           "showland": true,
           "subunitcolor": "white"
          },
          "hoverlabel": {
           "align": "left"
          },
          "hovermode": "closest",
          "mapbox": {
           "style": "light"
          },
          "paper_bgcolor": "white",
          "plot_bgcolor": "#E5ECF6",
          "polar": {
           "angularaxis": {
            "gridcolor": "white",
            "linecolor": "white",
            "ticks": ""
           },
           "bgcolor": "#E5ECF6",
           "radialaxis": {
            "gridcolor": "white",
            "linecolor": "white",
            "ticks": ""
           }
          },
          "scene": {
           "xaxis": {
            "backgroundcolor": "#E5ECF6",
            "gridcolor": "white",
            "gridwidth": 2,
            "linecolor": "white",
            "showbackground": true,
            "ticks": "",
            "zerolinecolor": "white"
           },
           "yaxis": {
            "backgroundcolor": "#E5ECF6",
            "gridcolor": "white",
            "gridwidth": 2,
            "linecolor": "white",
            "showbackground": true,
            "ticks": "",
            "zerolinecolor": "white"
           },
           "zaxis": {
            "backgroundcolor": "#E5ECF6",
            "gridcolor": "white",
            "gridwidth": 2,
            "linecolor": "white",
            "showbackground": true,
            "ticks": "",
            "zerolinecolor": "white"
           }
          },
          "shapedefaults": {
           "line": {
            "color": "#2a3f5f"
           }
          },
          "ternary": {
           "aaxis": {
            "gridcolor": "white",
            "linecolor": "white",
            "ticks": ""
           },
           "baxis": {
            "gridcolor": "white",
            "linecolor": "white",
            "ticks": ""
           },
           "bgcolor": "#E5ECF6",
           "caxis": {
            "gridcolor": "white",
            "linecolor": "white",
            "ticks": ""
           }
          },
          "title": {
           "x": 0.05
          },
          "xaxis": {
           "automargin": true,
           "gridcolor": "white",
           "linecolor": "white",
           "ticks": "",
           "title": {
            "standoff": 15
           },
           "zerolinecolor": "white",
           "zerolinewidth": 2
          },
          "yaxis": {
           "automargin": true,
           "gridcolor": "white",
           "linecolor": "white",
           "ticks": "",
           "title": {
            "standoff": 15
           },
           "zerolinecolor": "white",
           "zerolinewidth": 2
          }
         }
        },
        "title": {
         "text": "2016년도 제주산 양배추의 가격에 대한 상관관계분석"
        },
        "width": 500,
        "xaxis": {
         "anchor": "y",
         "constrain": "domain",
         "domain": [
          0,
          1
         ],
         "scaleanchor": "y"
        },
        "yaxis": {
         "anchor": "x",
         "autorange": "reversed",
         "constrain": "domain",
         "domain": [
          0,
          1
         ]
        }
       }
      }
     },
     "metadata": {},
     "output_type": "display_data"
    }
   ],
   "source": [
    "# load pickle\n",
    "with open(\"./pickles/hypo3_map_gamgul_corr_data.pickle\", \"rb\") as fr:\n",
    "    corr_gamgul = pickle.load(fr)\n",
    "with open(\"./pickles/hypo3_map_radish_corr_data.pickle\", \"rb\") as fr:\n",
    "    corr_radish = pickle.load(fr)\n",
    "with open(\"./pickles/hypo3_map_cabbage_corr_data.pickle\", \"rb\") as fr:\n",
    "    corr_cabbage = pickle.load(fr)\n",
    "    \n",
    "# heatmap 시각화\n",
    "fig1 = px.imshow(corr_gamgul,\n",
    "                color_continuous_scale = px.colors.diverging.RdBu, text_auto=True,\n",
    "                color_continuous_midpoint = 0, width = 500, height = 500,\n",
    "                title = \"2016년도 제주산 감귤의 가격에 대한 상관관계분석\")\n",
    "fig1.show()\n",
    "\n",
    "fig2 = px.imshow(corr_radish,\n",
    "                color_continuous_scale = px.colors.diverging.RdBu, text_auto=True,\n",
    "                color_continuous_midpoint = 0, width = 500, height = 500,\n",
    "                title = \"2016년도 제주산 무의 가격에 대한 상관관계분석\")\n",
    "fig2.show()\n",
    "\n",
    "fig3 = px.imshow(corr_cabbage,\n",
    "                color_continuous_scale = px.colors.diverging.RdBu, text_auto=True,\n",
    "                color_continuous_midpoint = 0, width = 500, height = 500,\n",
    "                title = \"2016년도 제주산 양배추의 가격에 대한 상관관계분석\")\n",
    "fig3.show()\n",
    "\n"
   ]
  },
  {
   "cell_type": "markdown",
   "metadata": {},
   "source": [
    "* **추가적으로 단가, 거래중량, 거래지역과의 거리에 대한 상관관계분석을 진행**\n",
    "  * 유의미한 관계를 찾지 못했다.\n",
    "  * 산지로부터 거래지역과의 거리 이외에 나타나지 않은 요인에 의해 거래 가격이 변화하는 것으로 생각할 수 있다.\n",
    "  * 거래 가격이 변화하게끔 하는 요인이 어떤 것이 있는지에 대해서는 더 구체적인 데이터 분석을 통해 알 수 있을 것이라고 판단된다."
   ]
  },
  {
   "cell_type": "markdown",
   "metadata": {},
   "source": [
    "## 가설 4 : 코로나 발생(2020년 1월 기준) 이후로 중국산 농산물의 거래량은 줄었을 것이고 가격은 올랐을 것이다."
   ]
  },
  {
   "cell_type": "code",
   "execution_count": null,
   "metadata": {},
   "outputs": [],
   "source": [
    "df_2019 = TSALET_CONCAT_YEAR(2019)"
   ]
  },
  {
   "cell_type": "code",
   "execution_count": null,
   "metadata": {},
   "outputs": [],
   "source": [
    "dt_index = pd.date_range(start=\"20200101\", end=\"20200930\", freq = \"M\")\n",
    "dt_list = dt_index.strftime(\"%Y%m\").tolist()\n",
    "df_2020 = pd.concat([TSALET_CSV(int(i)) for i in tqdm(dt_list)])"
   ]
  },
  {
   "cell_type": "code",
   "execution_count": 148,
   "metadata": {
    "scrolled": true
   },
   "outputs": [],
   "source": [
    "# 2019년 ~ 2020년의 중국산 농산물에 대한 가격과 거래량 확인\n",
    "df_2019_china = df_2019[df_2019[\"SAN_NM\"]==\"중국\"]\n",
    "df_2019_china = df_2019_china.drop(df_2019_china[(df_2019_china[\"COST\"] <= 0) | (df_2019_china[\"DANQ\"] <= 0) |\n",
    "                                                 (df_2019_china[\"QTY\"] <= 0)].index, axis = 0)\n",
    "df_2019_china.groupby([\"SALEDATE\"])[\"TOT_QTY\"].sum()\n",
    "\n",
    "df_2020_china = df_2020[df_2020[\"SAN_NM\"] == \"중국\"]\n",
    "df_2020_china = df_2020_china.drop(df_2020_china[(df_2020_china[\"COST\"] <= 0) | (df_2020_china[\"DANQ\"] <= 0) |\n",
    "                                                 (df_2020_china[\"QTY\"] <= 0)].index, axis = 0)\n",
    "\n",
    "df_19_20_china = pd.concat([df_2019_china, df_2020_china])\n",
    "\n",
    "# 2019년 ~ 2020년 중국산 농산물의 단가 column 추가\n",
    "df_19_20_china[\"COST_PER_DANQ\"] = df_19_20_china[\"TOT_AMT\"] / df_19_20_china[\"TOT_QTY\"]\n",
    "\n",
    "# 2019년 ~ 2020년 전체 농산물 거래량의 합\n",
    "df_2019_2020_TOT_QTY = pd.concat([df_2019.groupby([\"SALEDATE\"])[\"TOT_QTY\"].sum(),\n",
    "                                  df_2020.groupby([\"SALEDATE\"])[\"TOT_QTY\"].sum()])\n",
    "\n",
    "# 2019년 전체 농산물 단가 평균\n",
    "df_2019_SD_TQ_TA = df_2019[[\"SALEDATE\", \"TOT_QTY\", \"TOT_AMT\"]]\n",
    "df_2019_SD_TQ_TA = df_2019_SD_TQ_TA.replace(0, np.NaN).dropna(axis = 0)\n",
    "df_2019_SD_TQ_TA[\"COST_PER_DANQ\"] = df_2019_SD_TQ_TA[\"TOT_AMT\"] / df_2019_SD_TQ_TA[\"TOT_QTY\"]\n",
    "grouped_2019_all_DANQ = df_2019_SD_TQ_TA.groupby([\"SALEDATE\"])[\"COST_PER_DANQ\"].mean()\n",
    "\n",
    "# 2020년 전체 농산물 단가 평균\n",
    "df_2020_SD_TQ_TA = df_2020[[\"SALEDATE\", \"TOT_QTY\", \"TOT_AMT\"]]\n",
    "df_2020_SD_TQ_TA = df_2020_SD_TQ_TA.replace(0, np.NaN).dropna(axis = 0)\n",
    "df_2020_SD_TQ_TA[\"COST_PER_DANQ\"] = df_2020_SD_TQ_TA[\"TOT_AMT\"] / df_2020_SD_TQ_TA[\"TOT_QTY\"]\n",
    "grouped_2020_all_DANQ = df_2020_SD_TQ_TA.groupby([\"SALEDATE\"])[\"COST_PER_DANQ\"].mean()\n",
    "\n",
    "# 2019년 ~ 2020년 전체 농산물 단가 평균\n",
    "grouped_19_20_all_DANQ = pd.concat([grouped_2019_all_DANQ, grouped_2020_all_DANQ])\n",
    "\n",
    "# 2019년 ~ 2020년 (전체 / 중국산) 농산물 거래량 합 변화\n",
    "grouped_19_20_TOT_QTY_all = pd.DataFrame(df_2019_2020_TOT_QTY)[\"TOT_QTY\"].resample(\"2W\").sum()\n",
    "grouped_19_20_TOT_QTY_china = pd.DataFrame(df_19_20_china.groupby([\"SALEDATE\"])[\"TOT_QTY\"].sum())[\"TOT_QTY\"].resample(\"2W\").sum()\n",
    "\n",
    "# 2019년 ~ 2020년 (전체 / 중국산) 농산물 단가 평균 변화\n",
    "grouped_19_20_DANQ_all = pd.DataFrame(grouped_19_20_all_DANQ)[\"COST_PER_DANQ\"].resample(\"2W\").mean()\n",
    "grouped_19_20_DANQ_china = pd.DataFrame(df_19_20_china.groupby([\"SALEDATE\"])[\"COST_PER_DANQ\"].mean())[\"COST_PER_DANQ\"].resample(\"2W\").mean()\n",
    "\n",
    "# save pickle\n",
    "with open(\"./pickles/hypo4_grouped_1920_TOT_QTY_all_data.pickle\", \"wb\") as fw:\n",
    "    pickle.dump(grouped_19_20_TOT_QTY_all, fw)\n",
    "with open(\"./pickles/hypo4_grouped_1920_TOT_QTY_china_data.pickle\", \"wb\") as fw:\n",
    "    pickle.dump(grouped_19_20_TOT_QTY_china, fw)\n",
    "with open(\"./pickles/hypo4_grouped_1920_DANQ_all_data.pickle\", \"wb\") as fw:\n",
    "    pickle.dump(grouped_19_20_DANQ_all, fw)\n",
    "with open(\"./pickles/hypo4_grouped_1920_DANQ_china_data.pickle\", \"wb\") as fw:\n",
    "    pickle.dump(grouped_19_20_DANQ_china, fw)"
   ]
  },
  {
   "cell_type": "code",
   "execution_count": 33,
   "metadata": {},
   "outputs": [
    {
     "data": {
      "application/vnd.plotly.v1+json": {
       "config": {
        "plotlyServerURL": "https://plotly.com"
       },
       "data": [
        {
         "name": "All",
         "type": "scatter",
         "x": [
          "2019-01-06T00:00:00",
          "2019-01-20T00:00:00",
          "2019-02-03T00:00:00",
          "2019-02-17T00:00:00",
          "2019-03-03T00:00:00",
          "2019-03-17T00:00:00",
          "2019-03-31T00:00:00",
          "2019-04-14T00:00:00",
          "2019-04-28T00:00:00",
          "2019-05-12T00:00:00",
          "2019-05-26T00:00:00",
          "2019-06-09T00:00:00",
          "2019-06-23T00:00:00",
          "2019-07-07T00:00:00",
          "2019-07-21T00:00:00",
          "2019-08-04T00:00:00",
          "2019-08-18T00:00:00",
          "2019-09-01T00:00:00",
          "2019-09-15T00:00:00",
          "2019-09-29T00:00:00",
          "2019-10-13T00:00:00",
          "2019-10-27T00:00:00",
          "2019-11-10T00:00:00",
          "2019-11-24T00:00:00",
          "2019-12-08T00:00:00",
          "2019-12-22T00:00:00",
          "2020-01-05T00:00:00",
          "2020-01-19T00:00:00",
          "2020-02-02T00:00:00",
          "2020-02-16T00:00:00",
          "2020-03-01T00:00:00",
          "2020-03-15T00:00:00",
          "2020-03-29T00:00:00",
          "2020-04-12T00:00:00",
          "2020-04-26T00:00:00",
          "2020-05-10T00:00:00",
          "2020-05-24T00:00:00",
          "2020-06-07T00:00:00",
          "2020-06-21T00:00:00",
          "2020-07-05T00:00:00",
          "2020-07-19T00:00:00",
          "2020-08-02T00:00:00",
          "2020-08-16T00:00:00",
          "2020-08-30T00:00:00",
          "2020-09-13T00:00:00",
          "2020-09-27T00:00:00",
          "2020-10-11T00:00:00"
         ],
         "xaxis": "x",
         "y": [
          63637327.41999986,
          227254065.96999982,
          268003624.11999983,
          137108864.99999982,
          186287239.94999972,
          203922640.74999967,
          205561346.8199998,
          217807252.4399998,
          231412355.61999965,
          247044766.44999963,
          251293527.0999996,
          271538073.25999975,
          292830668.43999976,
          269817931.4999998,
          249321032.53999978,
          217845666.67999977,
          235727606.1199998,
          252127215.7099996,
          259302598.49999976,
          209295696.81999993,
          210207208.1599997,
          232516645.48999965,
          245070539.49999958,
          256368018.52999967,
          230807931.0399996,
          213126978.39999962,
          172837627.09999964,
          263788382.09999958,
          156617873.57999972,
          183734608.09999982,
          183769772.8099998,
          193179202.77999985,
          194738042.58000013,
          215383957.23999974,
          208473971.62999985,
          235731770.38999975,
          233977262.26999956,
          270400254.68999964,
          248606756.70999953,
          234999086.43999973,
          227831488.06999975,
          192179354.5599999,
          203184768.68999976,
          196258603.24999973,
          191639738.61999986,
          262518847.09999987
         ],
         "yaxis": "y"
        },
        {
         "name": "China",
         "type": "scatter",
         "x": [
          "2019-01-06T00:00:00",
          "2019-01-20T00:00:00",
          "2019-02-03T00:00:00",
          "2019-02-17T00:00:00",
          "2019-03-03T00:00:00",
          "2019-03-17T00:00:00",
          "2019-03-31T00:00:00",
          "2019-04-14T00:00:00",
          "2019-04-28T00:00:00",
          "2019-05-12T00:00:00",
          "2019-05-26T00:00:00",
          "2019-06-09T00:00:00",
          "2019-06-23T00:00:00",
          "2019-07-07T00:00:00",
          "2019-07-21T00:00:00",
          "2019-08-04T00:00:00",
          "2019-08-18T00:00:00",
          "2019-09-01T00:00:00",
          "2019-09-15T00:00:00",
          "2019-09-29T00:00:00",
          "2019-10-13T00:00:00",
          "2019-10-27T00:00:00",
          "2019-11-10T00:00:00",
          "2019-11-24T00:00:00",
          "2019-12-08T00:00:00",
          "2019-12-22T00:00:00",
          "2020-01-05T00:00:00",
          "2020-01-19T00:00:00",
          "2020-02-02T00:00:00",
          "2020-02-16T00:00:00",
          "2020-03-01T00:00:00",
          "2020-03-15T00:00:00",
          "2020-03-29T00:00:00",
          "2020-04-12T00:00:00",
          "2020-04-26T00:00:00",
          "2020-05-10T00:00:00",
          "2020-05-24T00:00:00",
          "2020-06-07T00:00:00",
          "2020-06-21T00:00:00",
          "2020-07-05T00:00:00",
          "2020-07-19T00:00:00",
          "2020-08-02T00:00:00",
          "2020-08-16T00:00:00",
          "2020-08-30T00:00:00",
          "2020-09-13T00:00:00",
          "2020-09-27T00:00:00",
          "2020-10-11T00:00:00"
         ],
         "xaxis": "x",
         "y": [
          883108.69,
          2723243.3,
          3339238.0700000003,
          2135363.6500000004,
          2591947.9199999995,
          2542897.8,
          2693330.1,
          2595586.77,
          2410572.17,
          2319143.3499999996,
          1913209.2400000002,
          2126898.0500000003,
          2214026.06,
          2387231.1,
          2606053.2,
          2616282.5999999996,
          2919855.5,
          3068739.37,
          3057363.900000001,
          3031561.6499999994,
          2833575.7600000002,
          3041546.35,
          3056748.2,
          2718328.85,
          2837214.6500000004,
          2804438.3899999997,
          2695655.6999999997,
          3229440.3,
          2767159.1,
          2388946.15,
          2034632.9,
          2214002.55,
          2569391.1999999997,
          3569537.3000000003,
          3744142.55,
          3112734.8500000006,
          2398192.79,
          2454939.47,
          2209751.59,
          2298293.55,
          2346766.46,
          2309799.6399999997,
          3013178.26,
          2919429.3099999996,
          3237095.3600000003,
          3631528.86
         ],
         "yaxis": "y2"
        }
       ],
       "layout": {
        "shapes": [
         {
          "fillcolor": "green",
          "line": {
           "width": 0
          },
          "opacity": 0.1,
          "type": "rect",
          "x0": "2020-01-06",
          "x1": "2020-10-04",
          "xref": "x",
          "y0": 0,
          "y1": 1,
          "yref": "paper"
         },
         {
          "line": {
           "color": "green"
          },
          "type": "line",
          "x0": "2020-01-06",
          "x1": "2020-01-06",
          "xref": "x",
          "y0": 0,
          "y1": 1,
          "yref": "paper"
         }
        ],
        "template": {
         "data": {
          "bar": [
           {
            "error_x": {
             "color": "#2a3f5f"
            },
            "error_y": {
             "color": "#2a3f5f"
            },
            "marker": {
             "line": {
              "color": "#E5ECF6",
              "width": 0.5
             },
             "pattern": {
              "fillmode": "overlay",
              "size": 10,
              "solidity": 0.2
             }
            },
            "type": "bar"
           }
          ],
          "barpolar": [
           {
            "marker": {
             "line": {
              "color": "#E5ECF6",
              "width": 0.5
             },
             "pattern": {
              "fillmode": "overlay",
              "size": 10,
              "solidity": 0.2
             }
            },
            "type": "barpolar"
           }
          ],
          "carpet": [
           {
            "aaxis": {
             "endlinecolor": "#2a3f5f",
             "gridcolor": "white",
             "linecolor": "white",
             "minorgridcolor": "white",
             "startlinecolor": "#2a3f5f"
            },
            "baxis": {
             "endlinecolor": "#2a3f5f",
             "gridcolor": "white",
             "linecolor": "white",
             "minorgridcolor": "white",
             "startlinecolor": "#2a3f5f"
            },
            "type": "carpet"
           }
          ],
          "choropleth": [
           {
            "colorbar": {
             "outlinewidth": 0,
             "ticks": ""
            },
            "type": "choropleth"
           }
          ],
          "contour": [
           {
            "colorbar": {
             "outlinewidth": 0,
             "ticks": ""
            },
            "colorscale": [
             [
              0,
              "#0d0887"
             ],
             [
              0.1111111111111111,
              "#46039f"
             ],
             [
              0.2222222222222222,
              "#7201a8"
             ],
             [
              0.3333333333333333,
              "#9c179e"
             ],
             [
              0.4444444444444444,
              "#bd3786"
             ],
             [
              0.5555555555555556,
              "#d8576b"
             ],
             [
              0.6666666666666666,
              "#ed7953"
             ],
             [
              0.7777777777777778,
              "#fb9f3a"
             ],
             [
              0.8888888888888888,
              "#fdca26"
             ],
             [
              1,
              "#f0f921"
             ]
            ],
            "type": "contour"
           }
          ],
          "contourcarpet": [
           {
            "colorbar": {
             "outlinewidth": 0,
             "ticks": ""
            },
            "type": "contourcarpet"
           }
          ],
          "heatmap": [
           {
            "colorbar": {
             "outlinewidth": 0,
             "ticks": ""
            },
            "colorscale": [
             [
              0,
              "#0d0887"
             ],
             [
              0.1111111111111111,
              "#46039f"
             ],
             [
              0.2222222222222222,
              "#7201a8"
             ],
             [
              0.3333333333333333,
              "#9c179e"
             ],
             [
              0.4444444444444444,
              "#bd3786"
             ],
             [
              0.5555555555555556,
              "#d8576b"
             ],
             [
              0.6666666666666666,
              "#ed7953"
             ],
             [
              0.7777777777777778,
              "#fb9f3a"
             ],
             [
              0.8888888888888888,
              "#fdca26"
             ],
             [
              1,
              "#f0f921"
             ]
            ],
            "type": "heatmap"
           }
          ],
          "heatmapgl": [
           {
            "colorbar": {
             "outlinewidth": 0,
             "ticks": ""
            },
            "colorscale": [
             [
              0,
              "#0d0887"
             ],
             [
              0.1111111111111111,
              "#46039f"
             ],
             [
              0.2222222222222222,
              "#7201a8"
             ],
             [
              0.3333333333333333,
              "#9c179e"
             ],
             [
              0.4444444444444444,
              "#bd3786"
             ],
             [
              0.5555555555555556,
              "#d8576b"
             ],
             [
              0.6666666666666666,
              "#ed7953"
             ],
             [
              0.7777777777777778,
              "#fb9f3a"
             ],
             [
              0.8888888888888888,
              "#fdca26"
             ],
             [
              1,
              "#f0f921"
             ]
            ],
            "type": "heatmapgl"
           }
          ],
          "histogram": [
           {
            "marker": {
             "pattern": {
              "fillmode": "overlay",
              "size": 10,
              "solidity": 0.2
             }
            },
            "type": "histogram"
           }
          ],
          "histogram2d": [
           {
            "colorbar": {
             "outlinewidth": 0,
             "ticks": ""
            },
            "colorscale": [
             [
              0,
              "#0d0887"
             ],
             [
              0.1111111111111111,
              "#46039f"
             ],
             [
              0.2222222222222222,
              "#7201a8"
             ],
             [
              0.3333333333333333,
              "#9c179e"
             ],
             [
              0.4444444444444444,
              "#bd3786"
             ],
             [
              0.5555555555555556,
              "#d8576b"
             ],
             [
              0.6666666666666666,
              "#ed7953"
             ],
             [
              0.7777777777777778,
              "#fb9f3a"
             ],
             [
              0.8888888888888888,
              "#fdca26"
             ],
             [
              1,
              "#f0f921"
             ]
            ],
            "type": "histogram2d"
           }
          ],
          "histogram2dcontour": [
           {
            "colorbar": {
             "outlinewidth": 0,
             "ticks": ""
            },
            "colorscale": [
             [
              0,
              "#0d0887"
             ],
             [
              0.1111111111111111,
              "#46039f"
             ],
             [
              0.2222222222222222,
              "#7201a8"
             ],
             [
              0.3333333333333333,
              "#9c179e"
             ],
             [
              0.4444444444444444,
              "#bd3786"
             ],
             [
              0.5555555555555556,
              "#d8576b"
             ],
             [
              0.6666666666666666,
              "#ed7953"
             ],
             [
              0.7777777777777778,
              "#fb9f3a"
             ],
             [
              0.8888888888888888,
              "#fdca26"
             ],
             [
              1,
              "#f0f921"
             ]
            ],
            "type": "histogram2dcontour"
           }
          ],
          "mesh3d": [
           {
            "colorbar": {
             "outlinewidth": 0,
             "ticks": ""
            },
            "type": "mesh3d"
           }
          ],
          "parcoords": [
           {
            "line": {
             "colorbar": {
              "outlinewidth": 0,
              "ticks": ""
             }
            },
            "type": "parcoords"
           }
          ],
          "pie": [
           {
            "automargin": true,
            "type": "pie"
           }
          ],
          "scatter": [
           {
            "fillpattern": {
             "fillmode": "overlay",
             "size": 10,
             "solidity": 0.2
            },
            "type": "scatter"
           }
          ],
          "scatter3d": [
           {
            "line": {
             "colorbar": {
              "outlinewidth": 0,
              "ticks": ""
             }
            },
            "marker": {
             "colorbar": {
              "outlinewidth": 0,
              "ticks": ""
             }
            },
            "type": "scatter3d"
           }
          ],
          "scattercarpet": [
           {
            "marker": {
             "colorbar": {
              "outlinewidth": 0,
              "ticks": ""
             }
            },
            "type": "scattercarpet"
           }
          ],
          "scattergeo": [
           {
            "marker": {
             "colorbar": {
              "outlinewidth": 0,
              "ticks": ""
             }
            },
            "type": "scattergeo"
           }
          ],
          "scattergl": [
           {
            "marker": {
             "colorbar": {
              "outlinewidth": 0,
              "ticks": ""
             }
            },
            "type": "scattergl"
           }
          ],
          "scattermapbox": [
           {
            "marker": {
             "colorbar": {
              "outlinewidth": 0,
              "ticks": ""
             }
            },
            "type": "scattermapbox"
           }
          ],
          "scatterpolar": [
           {
            "marker": {
             "colorbar": {
              "outlinewidth": 0,
              "ticks": ""
             }
            },
            "type": "scatterpolar"
           }
          ],
          "scatterpolargl": [
           {
            "marker": {
             "colorbar": {
              "outlinewidth": 0,
              "ticks": ""
             }
            },
            "type": "scatterpolargl"
           }
          ],
          "scatterternary": [
           {
            "marker": {
             "colorbar": {
              "outlinewidth": 0,
              "ticks": ""
             }
            },
            "type": "scatterternary"
           }
          ],
          "surface": [
           {
            "colorbar": {
             "outlinewidth": 0,
             "ticks": ""
            },
            "colorscale": [
             [
              0,
              "#0d0887"
             ],
             [
              0.1111111111111111,
              "#46039f"
             ],
             [
              0.2222222222222222,
              "#7201a8"
             ],
             [
              0.3333333333333333,
              "#9c179e"
             ],
             [
              0.4444444444444444,
              "#bd3786"
             ],
             [
              0.5555555555555556,
              "#d8576b"
             ],
             [
              0.6666666666666666,
              "#ed7953"
             ],
             [
              0.7777777777777778,
              "#fb9f3a"
             ],
             [
              0.8888888888888888,
              "#fdca26"
             ],
             [
              1,
              "#f0f921"
             ]
            ],
            "type": "surface"
           }
          ],
          "table": [
           {
            "cells": {
             "fill": {
              "color": "#EBF0F8"
             },
             "line": {
              "color": "white"
             }
            },
            "header": {
             "fill": {
              "color": "#C8D4E3"
             },
             "line": {
              "color": "white"
             }
            },
            "type": "table"
           }
          ]
         },
         "layout": {
          "annotationdefaults": {
           "arrowcolor": "#2a3f5f",
           "arrowhead": 0,
           "arrowwidth": 1
          },
          "autotypenumbers": "strict",
          "coloraxis": {
           "colorbar": {
            "outlinewidth": 0,
            "ticks": ""
           }
          },
          "colorscale": {
           "diverging": [
            [
             0,
             "#8e0152"
            ],
            [
             0.1,
             "#c51b7d"
            ],
            [
             0.2,
             "#de77ae"
            ],
            [
             0.3,
             "#f1b6da"
            ],
            [
             0.4,
             "#fde0ef"
            ],
            [
             0.5,
             "#f7f7f7"
            ],
            [
             0.6,
             "#e6f5d0"
            ],
            [
             0.7,
             "#b8e186"
            ],
            [
             0.8,
             "#7fbc41"
            ],
            [
             0.9,
             "#4d9221"
            ],
            [
             1,
             "#276419"
            ]
           ],
           "sequential": [
            [
             0,
             "#0d0887"
            ],
            [
             0.1111111111111111,
             "#46039f"
            ],
            [
             0.2222222222222222,
             "#7201a8"
            ],
            [
             0.3333333333333333,
             "#9c179e"
            ],
            [
             0.4444444444444444,
             "#bd3786"
            ],
            [
             0.5555555555555556,
             "#d8576b"
            ],
            [
             0.6666666666666666,
             "#ed7953"
            ],
            [
             0.7777777777777778,
             "#fb9f3a"
            ],
            [
             0.8888888888888888,
             "#fdca26"
            ],
            [
             1,
             "#f0f921"
            ]
           ],
           "sequentialminus": [
            [
             0,
             "#0d0887"
            ],
            [
             0.1111111111111111,
             "#46039f"
            ],
            [
             0.2222222222222222,
             "#7201a8"
            ],
            [
             0.3333333333333333,
             "#9c179e"
            ],
            [
             0.4444444444444444,
             "#bd3786"
            ],
            [
             0.5555555555555556,
             "#d8576b"
            ],
            [
             0.6666666666666666,
             "#ed7953"
            ],
            [
             0.7777777777777778,
             "#fb9f3a"
            ],
            [
             0.8888888888888888,
             "#fdca26"
            ],
            [
             1,
             "#f0f921"
            ]
           ]
          },
          "colorway": [
           "#636efa",
           "#EF553B",
           "#00cc96",
           "#ab63fa",
           "#FFA15A",
           "#19d3f3",
           "#FF6692",
           "#B6E880",
           "#FF97FF",
           "#FECB52"
          ],
          "font": {
           "color": "#2a3f5f"
          },
          "geo": {
           "bgcolor": "white",
           "lakecolor": "white",
           "landcolor": "#E5ECF6",
           "showlakes": true,
           "showland": true,
           "subunitcolor": "white"
          },
          "hoverlabel": {
           "align": "left"
          },
          "hovermode": "closest",
          "mapbox": {
           "style": "light"
          },
          "paper_bgcolor": "white",
          "plot_bgcolor": "#E5ECF6",
          "polar": {
           "angularaxis": {
            "gridcolor": "white",
            "linecolor": "white",
            "ticks": ""
           },
           "bgcolor": "#E5ECF6",
           "radialaxis": {
            "gridcolor": "white",
            "linecolor": "white",
            "ticks": ""
           }
          },
          "scene": {
           "xaxis": {
            "backgroundcolor": "#E5ECF6",
            "gridcolor": "white",
            "gridwidth": 2,
            "linecolor": "white",
            "showbackground": true,
            "ticks": "",
            "zerolinecolor": "white"
           },
           "yaxis": {
            "backgroundcolor": "#E5ECF6",
            "gridcolor": "white",
            "gridwidth": 2,
            "linecolor": "white",
            "showbackground": true,
            "ticks": "",
            "zerolinecolor": "white"
           },
           "zaxis": {
            "backgroundcolor": "#E5ECF6",
            "gridcolor": "white",
            "gridwidth": 2,
            "linecolor": "white",
            "showbackground": true,
            "ticks": "",
            "zerolinecolor": "white"
           }
          },
          "shapedefaults": {
           "line": {
            "color": "#2a3f5f"
           }
          },
          "ternary": {
           "aaxis": {
            "gridcolor": "white",
            "linecolor": "white",
            "ticks": ""
           },
           "baxis": {
            "gridcolor": "white",
            "linecolor": "white",
            "ticks": ""
           },
           "bgcolor": "#E5ECF6",
           "caxis": {
            "gridcolor": "white",
            "linecolor": "white",
            "ticks": ""
           }
          },
          "title": {
           "x": 0.05
          },
          "xaxis": {
           "automargin": true,
           "gridcolor": "white",
           "linecolor": "white",
           "ticks": "",
           "title": {
            "standoff": 15
           },
           "zerolinecolor": "white",
           "zerolinewidth": 2
          },
          "yaxis": {
           "automargin": true,
           "gridcolor": "white",
           "linecolor": "white",
           "ticks": "",
           "title": {
            "standoff": 15
           },
           "zerolinecolor": "white",
           "zerolinewidth": 2
          }
         }
        },
        "title": {
         "text": "2019년 ~ 2020년 (전체 / 중국산) 농산물 거래량 합 변화"
        },
        "xaxis": {
         "anchor": "y",
         "domain": [
          0,
          0.94
         ]
        },
        "yaxis": {
         "anchor": "x",
         "domain": [
          0,
          1
         ]
        },
        "yaxis2": {
         "anchor": "x",
         "overlaying": "y",
         "side": "right"
        }
       }
      }
     },
     "metadata": {},
     "output_type": "display_data"
    },
    {
     "data": {
      "application/vnd.plotly.v1+json": {
       "config": {
        "plotlyServerURL": "https://plotly.com"
       },
       "data": [
        {
         "name": "All",
         "type": "scatter",
         "x": [
          "2019-01-06T00:00:00",
          "2019-01-20T00:00:00",
          "2019-02-03T00:00:00",
          "2019-02-17T00:00:00",
          "2019-03-03T00:00:00",
          "2019-03-17T00:00:00",
          "2019-03-31T00:00:00",
          "2019-04-14T00:00:00",
          "2019-04-28T00:00:00",
          "2019-05-12T00:00:00",
          "2019-05-26T00:00:00",
          "2019-06-09T00:00:00",
          "2019-06-23T00:00:00",
          "2019-07-07T00:00:00",
          "2019-07-21T00:00:00",
          "2019-08-04T00:00:00",
          "2019-08-18T00:00:00",
          "2019-09-01T00:00:00",
          "2019-09-15T00:00:00",
          "2019-09-29T00:00:00",
          "2019-10-13T00:00:00",
          "2019-10-27T00:00:00",
          "2019-11-10T00:00:00",
          "2019-11-24T00:00:00",
          "2019-12-08T00:00:00",
          "2019-12-22T00:00:00",
          "2020-01-05T00:00:00",
          "2020-01-19T00:00:00",
          "2020-02-02T00:00:00",
          "2020-02-16T00:00:00",
          "2020-03-01T00:00:00",
          "2020-03-15T00:00:00",
          "2020-03-29T00:00:00",
          "2020-04-12T00:00:00",
          "2020-04-26T00:00:00",
          "2020-05-10T00:00:00",
          "2020-05-24T00:00:00",
          "2020-06-07T00:00:00",
          "2020-06-21T00:00:00",
          "2020-07-05T00:00:00",
          "2020-07-19T00:00:00",
          "2020-08-02T00:00:00",
          "2020-08-16T00:00:00",
          "2020-08-30T00:00:00",
          "2020-09-13T00:00:00",
          "2020-09-27T00:00:00",
          "2020-10-11T00:00:00"
         ],
         "xaxis": "x",
         "y": [
          3907.355900437612,
          3650.1142233142764,
          4025.7886885575667,
          3990.9866469613144,
          3575.020176484022,
          3633.9047223968278,
          3579.591844946781,
          3561.037773355898,
          3277.8564361646313,
          3175.160628618744,
          2708.9666762865845,
          2778.8078760522403,
          2545.359581762909,
          2255.2500907726408,
          2288.6466043712385,
          2318.35765879931,
          2781.9048755347794,
          2809.140377308559,
          3006.1427705430065,
          3757.236593686592,
          2986.095143714069,
          3082.704936853394,
          2753.2511871013025,
          3132.9097609187265,
          3431.0508428441517,
          3791.4514139571043,
          4504.40002754109,
          4294.358771949823,
          4733.8894000689925,
          3816.818450935858,
          3799.8785095111743,
          3615.322654941631,
          3576.51182607852,
          3613.617250242521,
          3743.8296841608494,
          3280.071792336114,
          2909.727064671739,
          2935.9643651072165,
          2713.4467610489683,
          2716.4379845851295,
          2688.8043789908193,
          2630.3238304176652,
          3536.0455854569377,
          3897.038502931539,
          3700.049674192126,
          4307.25301908262
         ],
         "yaxis": "y"
        },
        {
         "name": "China",
         "type": "scatter",
         "x": [
          "2019-01-06T00:00:00",
          "2019-01-20T00:00:00",
          "2019-02-03T00:00:00",
          "2019-02-17T00:00:00",
          "2019-03-03T00:00:00",
          "2019-03-17T00:00:00",
          "2019-03-31T00:00:00",
          "2019-04-14T00:00:00",
          "2019-04-28T00:00:00",
          "2019-05-12T00:00:00",
          "2019-05-26T00:00:00",
          "2019-06-09T00:00:00",
          "2019-06-23T00:00:00",
          "2019-07-07T00:00:00",
          "2019-07-21T00:00:00",
          "2019-08-04T00:00:00",
          "2019-08-18T00:00:00",
          "2019-09-01T00:00:00",
          "2019-09-15T00:00:00",
          "2019-09-29T00:00:00",
          "2019-10-13T00:00:00",
          "2019-10-27T00:00:00",
          "2019-11-10T00:00:00",
          "2019-11-24T00:00:00",
          "2019-12-08T00:00:00",
          "2019-12-22T00:00:00",
          "2020-01-05T00:00:00",
          "2020-01-19T00:00:00",
          "2020-02-02T00:00:00",
          "2020-02-16T00:00:00",
          "2020-03-01T00:00:00",
          "2020-03-15T00:00:00",
          "2020-03-29T00:00:00",
          "2020-04-12T00:00:00",
          "2020-04-26T00:00:00",
          "2020-05-10T00:00:00",
          "2020-05-24T00:00:00",
          "2020-06-07T00:00:00",
          "2020-06-21T00:00:00",
          "2020-07-05T00:00:00",
          "2020-07-19T00:00:00",
          "2020-08-02T00:00:00",
          "2020-08-16T00:00:00",
          "2020-08-30T00:00:00",
          "2020-09-13T00:00:00",
          "2020-09-27T00:00:00",
          "2020-10-11T00:00:00"
         ],
         "xaxis": "x",
         "y": [
          3618.0570179183283,
          2652.9497888378055,
          3014.918376049657,
          2743.412051467659,
          2646.6650483864905,
          2651.080511084511,
          2757.9198817852925,
          2835.275101968962,
          2777.671350160826,
          2780.0312177917854,
          2656.2165892103226,
          2601.5531169528717,
          2680.953490966486,
          2616.8983282671957,
          2585.6233167298146,
          2339.238480062631,
          2652.782632256554,
          2757.1042217799836,
          2779.923910542229,
          2748.4056842922105,
          2499.306789700491,
          2524.0701289434874,
          2440.4870520361305,
          2497.2945239341975,
          2376.3927556332983,
          2536.5950673341067,
          2498.4149964238227,
          2579.8234402104617,
          2650.246590479227,
          2665.13686970606,
          2400.644508202566,
          2433.574037698063,
          2489.3683789592646,
          2413.3712081868503,
          2428.6574155256,
          2369.5794028491187,
          2734.012027712885,
          2741.594609875228,
          2363.726224456384,
          2647.456310049554,
          2469.36934925339,
          2393.99552491896,
          2711.805668073535,
          2583.313822729851,
          2610.5626097391655,
          2773.0241998743636
         ],
         "yaxis": "y2"
        }
       ],
       "layout": {
        "shapes": [
         {
          "fillcolor": "green",
          "line": {
           "width": 0
          },
          "opacity": 0.1,
          "type": "rect",
          "x0": "2020-01-06",
          "x1": "2020-10-04",
          "xref": "x",
          "y0": 0,
          "y1": 1,
          "yref": "paper"
         },
         {
          "line": {
           "color": "green"
          },
          "type": "line",
          "x0": "2020-01-06",
          "x1": "2020-01-06",
          "xref": "x",
          "y0": 0,
          "y1": 1,
          "yref": "paper"
         }
        ],
        "template": {
         "data": {
          "bar": [
           {
            "error_x": {
             "color": "#2a3f5f"
            },
            "error_y": {
             "color": "#2a3f5f"
            },
            "marker": {
             "line": {
              "color": "#E5ECF6",
              "width": 0.5
             },
             "pattern": {
              "fillmode": "overlay",
              "size": 10,
              "solidity": 0.2
             }
            },
            "type": "bar"
           }
          ],
          "barpolar": [
           {
            "marker": {
             "line": {
              "color": "#E5ECF6",
              "width": 0.5
             },
             "pattern": {
              "fillmode": "overlay",
              "size": 10,
              "solidity": 0.2
             }
            },
            "type": "barpolar"
           }
          ],
          "carpet": [
           {
            "aaxis": {
             "endlinecolor": "#2a3f5f",
             "gridcolor": "white",
             "linecolor": "white",
             "minorgridcolor": "white",
             "startlinecolor": "#2a3f5f"
            },
            "baxis": {
             "endlinecolor": "#2a3f5f",
             "gridcolor": "white",
             "linecolor": "white",
             "minorgridcolor": "white",
             "startlinecolor": "#2a3f5f"
            },
            "type": "carpet"
           }
          ],
          "choropleth": [
           {
            "colorbar": {
             "outlinewidth": 0,
             "ticks": ""
            },
            "type": "choropleth"
           }
          ],
          "contour": [
           {
            "colorbar": {
             "outlinewidth": 0,
             "ticks": ""
            },
            "colorscale": [
             [
              0,
              "#0d0887"
             ],
             [
              0.1111111111111111,
              "#46039f"
             ],
             [
              0.2222222222222222,
              "#7201a8"
             ],
             [
              0.3333333333333333,
              "#9c179e"
             ],
             [
              0.4444444444444444,
              "#bd3786"
             ],
             [
              0.5555555555555556,
              "#d8576b"
             ],
             [
              0.6666666666666666,
              "#ed7953"
             ],
             [
              0.7777777777777778,
              "#fb9f3a"
             ],
             [
              0.8888888888888888,
              "#fdca26"
             ],
             [
              1,
              "#f0f921"
             ]
            ],
            "type": "contour"
           }
          ],
          "contourcarpet": [
           {
            "colorbar": {
             "outlinewidth": 0,
             "ticks": ""
            },
            "type": "contourcarpet"
           }
          ],
          "heatmap": [
           {
            "colorbar": {
             "outlinewidth": 0,
             "ticks": ""
            },
            "colorscale": [
             [
              0,
              "#0d0887"
             ],
             [
              0.1111111111111111,
              "#46039f"
             ],
             [
              0.2222222222222222,
              "#7201a8"
             ],
             [
              0.3333333333333333,
              "#9c179e"
             ],
             [
              0.4444444444444444,
              "#bd3786"
             ],
             [
              0.5555555555555556,
              "#d8576b"
             ],
             [
              0.6666666666666666,
              "#ed7953"
             ],
             [
              0.7777777777777778,
              "#fb9f3a"
             ],
             [
              0.8888888888888888,
              "#fdca26"
             ],
             [
              1,
              "#f0f921"
             ]
            ],
            "type": "heatmap"
           }
          ],
          "heatmapgl": [
           {
            "colorbar": {
             "outlinewidth": 0,
             "ticks": ""
            },
            "colorscale": [
             [
              0,
              "#0d0887"
             ],
             [
              0.1111111111111111,
              "#46039f"
             ],
             [
              0.2222222222222222,
              "#7201a8"
             ],
             [
              0.3333333333333333,
              "#9c179e"
             ],
             [
              0.4444444444444444,
              "#bd3786"
             ],
             [
              0.5555555555555556,
              "#d8576b"
             ],
             [
              0.6666666666666666,
              "#ed7953"
             ],
             [
              0.7777777777777778,
              "#fb9f3a"
             ],
             [
              0.8888888888888888,
              "#fdca26"
             ],
             [
              1,
              "#f0f921"
             ]
            ],
            "type": "heatmapgl"
           }
          ],
          "histogram": [
           {
            "marker": {
             "pattern": {
              "fillmode": "overlay",
              "size": 10,
              "solidity": 0.2
             }
            },
            "type": "histogram"
           }
          ],
          "histogram2d": [
           {
            "colorbar": {
             "outlinewidth": 0,
             "ticks": ""
            },
            "colorscale": [
             [
              0,
              "#0d0887"
             ],
             [
              0.1111111111111111,
              "#46039f"
             ],
             [
              0.2222222222222222,
              "#7201a8"
             ],
             [
              0.3333333333333333,
              "#9c179e"
             ],
             [
              0.4444444444444444,
              "#bd3786"
             ],
             [
              0.5555555555555556,
              "#d8576b"
             ],
             [
              0.6666666666666666,
              "#ed7953"
             ],
             [
              0.7777777777777778,
              "#fb9f3a"
             ],
             [
              0.8888888888888888,
              "#fdca26"
             ],
             [
              1,
              "#f0f921"
             ]
            ],
            "type": "histogram2d"
           }
          ],
          "histogram2dcontour": [
           {
            "colorbar": {
             "outlinewidth": 0,
             "ticks": ""
            },
            "colorscale": [
             [
              0,
              "#0d0887"
             ],
             [
              0.1111111111111111,
              "#46039f"
             ],
             [
              0.2222222222222222,
              "#7201a8"
             ],
             [
              0.3333333333333333,
              "#9c179e"
             ],
             [
              0.4444444444444444,
              "#bd3786"
             ],
             [
              0.5555555555555556,
              "#d8576b"
             ],
             [
              0.6666666666666666,
              "#ed7953"
             ],
             [
              0.7777777777777778,
              "#fb9f3a"
             ],
             [
              0.8888888888888888,
              "#fdca26"
             ],
             [
              1,
              "#f0f921"
             ]
            ],
            "type": "histogram2dcontour"
           }
          ],
          "mesh3d": [
           {
            "colorbar": {
             "outlinewidth": 0,
             "ticks": ""
            },
            "type": "mesh3d"
           }
          ],
          "parcoords": [
           {
            "line": {
             "colorbar": {
              "outlinewidth": 0,
              "ticks": ""
             }
            },
            "type": "parcoords"
           }
          ],
          "pie": [
           {
            "automargin": true,
            "type": "pie"
           }
          ],
          "scatter": [
           {
            "fillpattern": {
             "fillmode": "overlay",
             "size": 10,
             "solidity": 0.2
            },
            "type": "scatter"
           }
          ],
          "scatter3d": [
           {
            "line": {
             "colorbar": {
              "outlinewidth": 0,
              "ticks": ""
             }
            },
            "marker": {
             "colorbar": {
              "outlinewidth": 0,
              "ticks": ""
             }
            },
            "type": "scatter3d"
           }
          ],
          "scattercarpet": [
           {
            "marker": {
             "colorbar": {
              "outlinewidth": 0,
              "ticks": ""
             }
            },
            "type": "scattercarpet"
           }
          ],
          "scattergeo": [
           {
            "marker": {
             "colorbar": {
              "outlinewidth": 0,
              "ticks": ""
             }
            },
            "type": "scattergeo"
           }
          ],
          "scattergl": [
           {
            "marker": {
             "colorbar": {
              "outlinewidth": 0,
              "ticks": ""
             }
            },
            "type": "scattergl"
           }
          ],
          "scattermapbox": [
           {
            "marker": {
             "colorbar": {
              "outlinewidth": 0,
              "ticks": ""
             }
            },
            "type": "scattermapbox"
           }
          ],
          "scatterpolar": [
           {
            "marker": {
             "colorbar": {
              "outlinewidth": 0,
              "ticks": ""
             }
            },
            "type": "scatterpolar"
           }
          ],
          "scatterpolargl": [
           {
            "marker": {
             "colorbar": {
              "outlinewidth": 0,
              "ticks": ""
             }
            },
            "type": "scatterpolargl"
           }
          ],
          "scatterternary": [
           {
            "marker": {
             "colorbar": {
              "outlinewidth": 0,
              "ticks": ""
             }
            },
            "type": "scatterternary"
           }
          ],
          "surface": [
           {
            "colorbar": {
             "outlinewidth": 0,
             "ticks": ""
            },
            "colorscale": [
             [
              0,
              "#0d0887"
             ],
             [
              0.1111111111111111,
              "#46039f"
             ],
             [
              0.2222222222222222,
              "#7201a8"
             ],
             [
              0.3333333333333333,
              "#9c179e"
             ],
             [
              0.4444444444444444,
              "#bd3786"
             ],
             [
              0.5555555555555556,
              "#d8576b"
             ],
             [
              0.6666666666666666,
              "#ed7953"
             ],
             [
              0.7777777777777778,
              "#fb9f3a"
             ],
             [
              0.8888888888888888,
              "#fdca26"
             ],
             [
              1,
              "#f0f921"
             ]
            ],
            "type": "surface"
           }
          ],
          "table": [
           {
            "cells": {
             "fill": {
              "color": "#EBF0F8"
             },
             "line": {
              "color": "white"
             }
            },
            "header": {
             "fill": {
              "color": "#C8D4E3"
             },
             "line": {
              "color": "white"
             }
            },
            "type": "table"
           }
          ]
         },
         "layout": {
          "annotationdefaults": {
           "arrowcolor": "#2a3f5f",
           "arrowhead": 0,
           "arrowwidth": 1
          },
          "autotypenumbers": "strict",
          "coloraxis": {
           "colorbar": {
            "outlinewidth": 0,
            "ticks": ""
           }
          },
          "colorscale": {
           "diverging": [
            [
             0,
             "#8e0152"
            ],
            [
             0.1,
             "#c51b7d"
            ],
            [
             0.2,
             "#de77ae"
            ],
            [
             0.3,
             "#f1b6da"
            ],
            [
             0.4,
             "#fde0ef"
            ],
            [
             0.5,
             "#f7f7f7"
            ],
            [
             0.6,
             "#e6f5d0"
            ],
            [
             0.7,
             "#b8e186"
            ],
            [
             0.8,
             "#7fbc41"
            ],
            [
             0.9,
             "#4d9221"
            ],
            [
             1,
             "#276419"
            ]
           ],
           "sequential": [
            [
             0,
             "#0d0887"
            ],
            [
             0.1111111111111111,
             "#46039f"
            ],
            [
             0.2222222222222222,
             "#7201a8"
            ],
            [
             0.3333333333333333,
             "#9c179e"
            ],
            [
             0.4444444444444444,
             "#bd3786"
            ],
            [
             0.5555555555555556,
             "#d8576b"
            ],
            [
             0.6666666666666666,
             "#ed7953"
            ],
            [
             0.7777777777777778,
             "#fb9f3a"
            ],
            [
             0.8888888888888888,
             "#fdca26"
            ],
            [
             1,
             "#f0f921"
            ]
           ],
           "sequentialminus": [
            [
             0,
             "#0d0887"
            ],
            [
             0.1111111111111111,
             "#46039f"
            ],
            [
             0.2222222222222222,
             "#7201a8"
            ],
            [
             0.3333333333333333,
             "#9c179e"
            ],
            [
             0.4444444444444444,
             "#bd3786"
            ],
            [
             0.5555555555555556,
             "#d8576b"
            ],
            [
             0.6666666666666666,
             "#ed7953"
            ],
            [
             0.7777777777777778,
             "#fb9f3a"
            ],
            [
             0.8888888888888888,
             "#fdca26"
            ],
            [
             1,
             "#f0f921"
            ]
           ]
          },
          "colorway": [
           "#636efa",
           "#EF553B",
           "#00cc96",
           "#ab63fa",
           "#FFA15A",
           "#19d3f3",
           "#FF6692",
           "#B6E880",
           "#FF97FF",
           "#FECB52"
          ],
          "font": {
           "color": "#2a3f5f"
          },
          "geo": {
           "bgcolor": "white",
           "lakecolor": "white",
           "landcolor": "#E5ECF6",
           "showlakes": true,
           "showland": true,
           "subunitcolor": "white"
          },
          "hoverlabel": {
           "align": "left"
          },
          "hovermode": "closest",
          "mapbox": {
           "style": "light"
          },
          "paper_bgcolor": "white",
          "plot_bgcolor": "#E5ECF6",
          "polar": {
           "angularaxis": {
            "gridcolor": "white",
            "linecolor": "white",
            "ticks": ""
           },
           "bgcolor": "#E5ECF6",
           "radialaxis": {
            "gridcolor": "white",
            "linecolor": "white",
            "ticks": ""
           }
          },
          "scene": {
           "xaxis": {
            "backgroundcolor": "#E5ECF6",
            "gridcolor": "white",
            "gridwidth": 2,
            "linecolor": "white",
            "showbackground": true,
            "ticks": "",
            "zerolinecolor": "white"
           },
           "yaxis": {
            "backgroundcolor": "#E5ECF6",
            "gridcolor": "white",
            "gridwidth": 2,
            "linecolor": "white",
            "showbackground": true,
            "ticks": "",
            "zerolinecolor": "white"
           },
           "zaxis": {
            "backgroundcolor": "#E5ECF6",
            "gridcolor": "white",
            "gridwidth": 2,
            "linecolor": "white",
            "showbackground": true,
            "ticks": "",
            "zerolinecolor": "white"
           }
          },
          "shapedefaults": {
           "line": {
            "color": "#2a3f5f"
           }
          },
          "ternary": {
           "aaxis": {
            "gridcolor": "white",
            "linecolor": "white",
            "ticks": ""
           },
           "baxis": {
            "gridcolor": "white",
            "linecolor": "white",
            "ticks": ""
           },
           "bgcolor": "#E5ECF6",
           "caxis": {
            "gridcolor": "white",
            "linecolor": "white",
            "ticks": ""
           }
          },
          "title": {
           "x": 0.05
          },
          "xaxis": {
           "automargin": true,
           "gridcolor": "white",
           "linecolor": "white",
           "ticks": "",
           "title": {
            "standoff": 15
           },
           "zerolinecolor": "white",
           "zerolinewidth": 2
          },
          "yaxis": {
           "automargin": true,
           "gridcolor": "white",
           "linecolor": "white",
           "ticks": "",
           "title": {
            "standoff": 15
           },
           "zerolinecolor": "white",
           "zerolinewidth": 2
          }
         }
        },
        "title": {
         "text": "2019년 ~ 2020년 (전체 / 중국산) 농산물 단가 평균 변화"
        },
        "xaxis": {
         "anchor": "y",
         "domain": [
          0,
          0.94
         ]
        },
        "yaxis": {
         "anchor": "x",
         "domain": [
          0,
          1
         ]
        },
        "yaxis2": {
         "anchor": "x",
         "overlaying": "y",
         "side": "right"
        }
       }
      }
     },
     "metadata": {},
     "output_type": "display_data"
    }
   ],
   "source": [
    "# load pickle\n",
    "with open(\"./pickles/hypo4_grouped_1920_TOT_QTY_all_data.pickle\", \"rb\") as fr:\n",
    "    grouped_19_20_TOT_QTY_all = pickle.load(fr)\n",
    "with open(\"./pickles/hypo4_grouped_1920_TOT_QTY_china_data.pickle\", \"rb\") as fr:\n",
    "    grouped_19_20_TOT_QTY_china = pickle.load(fr)\n",
    "with open(\"./pickles/hypo4_grouped_1920_DANQ_all_data.pickle\", \"rb\") as fr:\n",
    "    grouped_19_20_DANQ_all = pickle.load(fr)\n",
    "with open(\"./pickles/hypo4_grouped_1920_DANQ_china_data.pickle\", \"rb\") as fr:\n",
    "    grouped_19_20_DANQ_china = pickle.load(fr)\n",
    "\n",
    "# 시각화 - 2019년 ~ 2020년 (전체 / 중국산) 농산물 거래량 합 변화\n",
    "fig1= ms(specs=[[{'secondary_y': True}]])\n",
    "fig1.add_trace(go.Scatter(x = grouped_19_20_TOT_QTY_all.index, y = grouped_19_20_TOT_QTY_all.values[:-1], name = \"All\"),\n",
    "             secondary_y = False)\n",
    "fig1.add_trace(go.Scatter(x = grouped_19_20_TOT_QTY_china.index, y = grouped_19_20_TOT_QTY_china.values[:-1], name = \"China\"),\n",
    "             secondary_y = True)\n",
    "\n",
    "fig1.add_shape(type = 'rect', x0 = '2020-01-06', y0 = 0, x1 = '2020-10-04', y1 =1, \n",
    "              fillcolor = 'green',opacity = 0.1, line = {'width' : 0}, xref='x',yref='paper')\n",
    "fig1.add_shape(type = 'line', x0 = '2020-01-06', y0 = 0, x1 = '2020-01-06', y1 =1, xref='x', yref='paper',\n",
    "              line = {'color' : 'green'})\n",
    "\n",
    "fig1.update_layout(title = '2019년 ~ 2020년 (전체 / 중국산) 농산물 거래량 합 변화')\n",
    "\n",
    "fig2= ms(specs=[[{'secondary_y': True}]])\n",
    "fig2.add_trace(go.Scatter(x = grouped_19_20_DANQ_all.index, y = grouped_19_20_DANQ_all.values[:-1], name = \"All\"),\n",
    "             secondary_y = False)\n",
    "fig2.add_trace(go.Scatter(x = grouped_19_20_DANQ_china.index, y = grouped_19_20_DANQ_china.values[:-1], name = \"China\"),\n",
    "             secondary_y = True)\n",
    "\n",
    "fig2.add_shape(type = 'rect', x0 = '2020-01-06', y0 = 0, x1 = '2020-10-04', y1 =1, \n",
    "              fillcolor = 'green',opacity = 0.1, line = {'width' : 0}, xref='x',yref='paper')\n",
    "fig2.add_shape(type = 'line', x0 = '2020-01-06', y0 = 0, x1 = '2020-01-06', y1 =1, xref='x', yref='paper',\n",
    "              line = {'color' : 'green'})\n",
    "\n",
    "fig2.update_layout(title = '2019년 ~ 2020년 (전체 / 중국산) 농산물 단가 평균 변화')\n",
    "\n",
    "fig1.show()\n",
    "fig2.show()"
   ]
  },
  {
   "cell_type": "markdown",
   "metadata": {},
   "source": [
    "* 코로나 바이러스가 전파되기 시작한 시기인 2020년 1월 초를 기준으로 전후 변화를 알아보기 위해 2019년과 2020년 데이터를 활용하였다.\n",
    "\n",
    "* **중국산 농산물의 거래량은 2020년 1월을 기준으로 하여 전과 다르게 큰 변화가 생겼다고 할 수 없다고 판단된다.**\n",
    "  * 2020년 1월 중순부터 3월 초까지 거래량이 한달 반의 기간동안 감소하긴 하지만, 그 후 비슷한 폭으로 증감을 반복하는 추세를 보이기 때문에 코로나 바이러스 발생을 기준으로 거래량에 큰 변화가 생겼다고 할 수 없다고 판단된다.\n",
    "* **중국산 농산물의 단가 또한 2020년 1월을 기준으로 하여 전과 다르게 큰 변화가 생겼다고 할 수 없다.**\n",
    "  * 2020년 1월 초부터 2월 중순까지 단가가 한달 반의 기간동안 증가하긴 하지만, 그 후 비슷한 폭으로 증감을 반복하는 추세를 보이기 때문에 코로나 바이러스 발생을 기준으로 단가에 큰 변화가 생겼다고 할 수 없다고 판단된다.\n",
    "  \n",
    "\n",
    "* **시각화를 해 본 후**\n",
    "  * 그래프를 육안으로 관찰해 볼 때에는 거래량과 가격이 2020년 1월을 기준으로 크게 변화가 나타나지 않는다고 판단이 되는데, 이 판단이 통계적으로 유의한지, 즉 통계적으로 변화가 일어났는지의 유무에 대해서는 알아보지 못했다.\n",
    "  * 이는 추가적으로 진행해야 할 필요가 있어 보인다."
   ]
  },
  {
   "cell_type": "markdown",
   "metadata": {},
   "source": [
    "## 가설 5. 2016년에 비해 2019년에 열대과일의 수입량 대비 국내 생산량의 비율이 증가했을 것이다."
   ]
  },
  {
   "cell_type": "code",
   "execution_count": null,
   "metadata": {},
   "outputs": [],
   "source": [
    "df_2016 = TSALET_CONCAT_YEAR(2016)"
   ]
  },
  {
   "cell_type": "code",
   "execution_count": null,
   "metadata": {},
   "outputs": [],
   "source": [
    "df_2019 = TSALET_CONCAT_YEAR(2019)"
   ]
  },
  {
   "cell_type": "code",
   "execution_count": 14,
   "metadata": {},
   "outputs": [],
   "source": [
    "# 국내 생산 중인 열대과일만을 선별\n",
    "tropical_fruits = ['파파야', '바나나', '용과', '파인애플', '참다래(키위)', '자몽', '람부탄']\n",
    "\n",
    "# 2016년 열대과일의 생산지 추출\n",
    "trop_2016_san_TOT_QTY = df_2016[df_2016[\"PUM_NM\"].isin(tropical_fruits)]\n",
    "trop_2016_san_TOT_QTY = pd.DataFrame(trop_2016_san_TOT_QTY.groupby([\"PUM_NM\", \"SAN_NM\"])[\"TOT_QTY\"].sum()).reset_index()\n",
    "\n",
    "# 2016년 열대과일의 생산지를 국내와 수입으로 분류\n",
    "for i in range(560):\n",
    "    if trop_2016_san_TOT_QTY.iloc[i,1][-1] in [\"군\", \"구\", \"도\", \"시\"]:\n",
    "        trop_2016_san_TOT_QTY.iloc[i,1] = \"국내\"\n",
    "    else:\n",
    "        trop_2016_san_TOT_QTY.iloc[i,1] = \"수입\"\n",
    "        \n",
    "# 품목별 국내, 수입산 거래량\n",
    "grouped_2016_trop_san_TOT_QTY = pd.DataFrame(trop_2016_san_TOT_QTY.groupby([\"PUM_NM\", \"SAN_NM\"])[\"TOT_QTY\"].sum()).reset_index()\n",
    "\n",
    "# 정규화\n",
    "for i in range(0, 7):\n",
    "    sum = (grouped_2016_trop_san_TOT_QTY.iloc[2*i, 2] + grouped_2016_trop_san_TOT_QTY.iloc[2*i+1, 2])\n",
    "    grouped_2016_trop_san_TOT_QTY.iloc[2*i, 2] /= sum\n",
    "    grouped_2016_trop_san_TOT_QTY.iloc[2*i+1, 2] /= sum\n",
    "    \n",
    "# 2019년 열대과일의 생산지 추출\n",
    "trop_2019_san_TOT_QTY = df_2019[df_2019[\"PUM_NM\"].isin(tropical_fruits)]\n",
    "trop_2019_san_TOT_QTY = pd.DataFrame(trop_2019_san_TOT_QTY.groupby([\"PUM_NM\", \"SAN_NM\"])[\"TOT_QTY\"].sum()).reset_index()\n",
    "\n",
    "# 2019년 열대과일의 생산지를 국내와 수입으로 분류\n",
    "for i in range(568):\n",
    "    if trop_2019_san_TOT_QTY.iloc[i,1][-1] in [\"군\", \"구\", \"도\", \"시\"]:\n",
    "        trop_2019_san_TOT_QTY.iloc[i,1] = \"국내\"\n",
    "    else:\n",
    "        trop_2019_san_TOT_QTY.iloc[i,1] = \"수입\"\n",
    "        \n",
    "# 품목별 국내, 수입산 거래량\n",
    "grouped_2019_trop_san_TOT_QTY = pd.DataFrame(trop_2019_san_TOT_QTY.groupby([\"PUM_NM\", \"SAN_NM\"])[\"TOT_QTY\"].sum()).reset_index()\n",
    "\n",
    "# 정규화\n",
    "for i in range(0, 7):\n",
    "    sum = (grouped_2019_trop_san_TOT_QTY.iloc[2*i, 2] + grouped_2019_trop_san_TOT_QTY.iloc[2*i+1, 2])\n",
    "    grouped_2019_trop_san_TOT_QTY.iloc[2*i, 2] /= sum\n",
    "    grouped_2019_trop_san_TOT_QTY.iloc[2*i+1, 2] /= sum\n",
    "    \n",
    "# save pickle\n",
    "with open(\"./pickles/hypo5_grouped_2016_trop_san_TOT_QTY_data.pickle\", \"wb\") as fw:\n",
    "    pickle.dump(grouped_2016_trop_san_TOT_QTY, fw)\n",
    "with open(\"./pickles/hypo5_grouped_2019_trop_san_TOT_QTY_data.pickle\", \"wb\") as fw:\n",
    "    pickle.dump(grouped_2019_trop_san_TOT_QTY, fw)"
   ]
  },
  {
   "cell_type": "code",
   "execution_count": 35,
   "metadata": {
    "scrolled": false
   },
   "outputs": [
    {
     "data": {
      "application/vnd.plotly.v1+json": {
       "config": {
        "plotlyServerURL": "https://plotly.com"
       },
       "data": [
        {
         "alignmentgroup": "True",
         "hovertemplate": "SAN_NM=국내<br>PUM_NM=%{x}<br>TOT_QTY=%{y}<extra></extra>",
         "legendgroup": "국내",
         "marker": {
          "color": "#636efa",
          "pattern": {
           "shape": ""
          }
         },
         "name": "국내",
         "offsetgroup": "국내",
         "orientation": "v",
         "showlegend": true,
         "textposition": "auto",
         "texttemplate": "%{y}",
         "type": "bar",
         "x": [
          "람부탄_2016",
          "람부탄_2019",
          "바나나_2016",
          "바나나_2019",
          "용과_2016",
          "용과_2019",
          "자몽_2016",
          "자몽_2019",
          "참다래(키위)_2016",
          "참다래(키위)_2019",
          "파인애플_2016",
          "파인애플_2019",
          "파파야_2016",
          "파파야_2019"
         ],
         "xaxis": "x",
         "y": [
          0.8862,
          0.983,
          0.2533,
          0.1967,
          0.4558,
          0.2523,
          0.2162,
          0.1409,
          0.5955,
          0.5271,
          0.2077,
          0.1555,
          0.9485,
          0.944
         ],
         "yaxis": "y"
        },
        {
         "alignmentgroup": "True",
         "hovertemplate": "SAN_NM=수입<br>PUM_NM=%{x}<br>TOT_QTY=%{y}<extra></extra>",
         "legendgroup": "수입",
         "marker": {
          "color": "#EF553B",
          "pattern": {
           "shape": ""
          }
         },
         "name": "수입",
         "offsetgroup": "수입",
         "orientation": "v",
         "showlegend": true,
         "textposition": "auto",
         "texttemplate": "%{y}",
         "type": "bar",
         "x": [
          "람부탄_2016",
          "람부탄_2019",
          "바나나_2016",
          "바나나_2019",
          "용과_2016",
          "용과_2019",
          "자몽_2016",
          "자몽_2019",
          "참다래(키위)_2016",
          "참다래(키위)_2019",
          "파인애플_2016",
          "파인애플_2019",
          "파파야_2016",
          "파파야_2019"
         ],
         "xaxis": "x",
         "y": [
          0.1138,
          0.017,
          0.7467,
          0.8033,
          0.5442,
          0.7477,
          0.7838,
          0.8591,
          0.4045,
          0.4729,
          0.7923,
          0.8445,
          0.0515,
          0.056
         ],
         "yaxis": "y"
        }
       ],
       "layout": {
        "barmode": "relative",
        "height": 600,
        "legend": {
         "title": {
          "text": "SAN_NM"
         },
         "tracegroupgap": 0
        },
        "margin": {
         "t": 60
        },
        "template": {
         "data": {
          "bar": [
           {
            "error_x": {
             "color": "#2a3f5f"
            },
            "error_y": {
             "color": "#2a3f5f"
            },
            "marker": {
             "line": {
              "color": "#E5ECF6",
              "width": 0.5
             },
             "pattern": {
              "fillmode": "overlay",
              "size": 10,
              "solidity": 0.2
             }
            },
            "type": "bar"
           }
          ],
          "barpolar": [
           {
            "marker": {
             "line": {
              "color": "#E5ECF6",
              "width": 0.5
             },
             "pattern": {
              "fillmode": "overlay",
              "size": 10,
              "solidity": 0.2
             }
            },
            "type": "barpolar"
           }
          ],
          "carpet": [
           {
            "aaxis": {
             "endlinecolor": "#2a3f5f",
             "gridcolor": "white",
             "linecolor": "white",
             "minorgridcolor": "white",
             "startlinecolor": "#2a3f5f"
            },
            "baxis": {
             "endlinecolor": "#2a3f5f",
             "gridcolor": "white",
             "linecolor": "white",
             "minorgridcolor": "white",
             "startlinecolor": "#2a3f5f"
            },
            "type": "carpet"
           }
          ],
          "choropleth": [
           {
            "colorbar": {
             "outlinewidth": 0,
             "ticks": ""
            },
            "type": "choropleth"
           }
          ],
          "contour": [
           {
            "colorbar": {
             "outlinewidth": 0,
             "ticks": ""
            },
            "colorscale": [
             [
              0,
              "#0d0887"
             ],
             [
              0.1111111111111111,
              "#46039f"
             ],
             [
              0.2222222222222222,
              "#7201a8"
             ],
             [
              0.3333333333333333,
              "#9c179e"
             ],
             [
              0.4444444444444444,
              "#bd3786"
             ],
             [
              0.5555555555555556,
              "#d8576b"
             ],
             [
              0.6666666666666666,
              "#ed7953"
             ],
             [
              0.7777777777777778,
              "#fb9f3a"
             ],
             [
              0.8888888888888888,
              "#fdca26"
             ],
             [
              1,
              "#f0f921"
             ]
            ],
            "type": "contour"
           }
          ],
          "contourcarpet": [
           {
            "colorbar": {
             "outlinewidth": 0,
             "ticks": ""
            },
            "type": "contourcarpet"
           }
          ],
          "heatmap": [
           {
            "colorbar": {
             "outlinewidth": 0,
             "ticks": ""
            },
            "colorscale": [
             [
              0,
              "#0d0887"
             ],
             [
              0.1111111111111111,
              "#46039f"
             ],
             [
              0.2222222222222222,
              "#7201a8"
             ],
             [
              0.3333333333333333,
              "#9c179e"
             ],
             [
              0.4444444444444444,
              "#bd3786"
             ],
             [
              0.5555555555555556,
              "#d8576b"
             ],
             [
              0.6666666666666666,
              "#ed7953"
             ],
             [
              0.7777777777777778,
              "#fb9f3a"
             ],
             [
              0.8888888888888888,
              "#fdca26"
             ],
             [
              1,
              "#f0f921"
             ]
            ],
            "type": "heatmap"
           }
          ],
          "heatmapgl": [
           {
            "colorbar": {
             "outlinewidth": 0,
             "ticks": ""
            },
            "colorscale": [
             [
              0,
              "#0d0887"
             ],
             [
              0.1111111111111111,
              "#46039f"
             ],
             [
              0.2222222222222222,
              "#7201a8"
             ],
             [
              0.3333333333333333,
              "#9c179e"
             ],
             [
              0.4444444444444444,
              "#bd3786"
             ],
             [
              0.5555555555555556,
              "#d8576b"
             ],
             [
              0.6666666666666666,
              "#ed7953"
             ],
             [
              0.7777777777777778,
              "#fb9f3a"
             ],
             [
              0.8888888888888888,
              "#fdca26"
             ],
             [
              1,
              "#f0f921"
             ]
            ],
            "type": "heatmapgl"
           }
          ],
          "histogram": [
           {
            "marker": {
             "pattern": {
              "fillmode": "overlay",
              "size": 10,
              "solidity": 0.2
             }
            },
            "type": "histogram"
           }
          ],
          "histogram2d": [
           {
            "colorbar": {
             "outlinewidth": 0,
             "ticks": ""
            },
            "colorscale": [
             [
              0,
              "#0d0887"
             ],
             [
              0.1111111111111111,
              "#46039f"
             ],
             [
              0.2222222222222222,
              "#7201a8"
             ],
             [
              0.3333333333333333,
              "#9c179e"
             ],
             [
              0.4444444444444444,
              "#bd3786"
             ],
             [
              0.5555555555555556,
              "#d8576b"
             ],
             [
              0.6666666666666666,
              "#ed7953"
             ],
             [
              0.7777777777777778,
              "#fb9f3a"
             ],
             [
              0.8888888888888888,
              "#fdca26"
             ],
             [
              1,
              "#f0f921"
             ]
            ],
            "type": "histogram2d"
           }
          ],
          "histogram2dcontour": [
           {
            "colorbar": {
             "outlinewidth": 0,
             "ticks": ""
            },
            "colorscale": [
             [
              0,
              "#0d0887"
             ],
             [
              0.1111111111111111,
              "#46039f"
             ],
             [
              0.2222222222222222,
              "#7201a8"
             ],
             [
              0.3333333333333333,
              "#9c179e"
             ],
             [
              0.4444444444444444,
              "#bd3786"
             ],
             [
              0.5555555555555556,
              "#d8576b"
             ],
             [
              0.6666666666666666,
              "#ed7953"
             ],
             [
              0.7777777777777778,
              "#fb9f3a"
             ],
             [
              0.8888888888888888,
              "#fdca26"
             ],
             [
              1,
              "#f0f921"
             ]
            ],
            "type": "histogram2dcontour"
           }
          ],
          "mesh3d": [
           {
            "colorbar": {
             "outlinewidth": 0,
             "ticks": ""
            },
            "type": "mesh3d"
           }
          ],
          "parcoords": [
           {
            "line": {
             "colorbar": {
              "outlinewidth": 0,
              "ticks": ""
             }
            },
            "type": "parcoords"
           }
          ],
          "pie": [
           {
            "automargin": true,
            "type": "pie"
           }
          ],
          "scatter": [
           {
            "fillpattern": {
             "fillmode": "overlay",
             "size": 10,
             "solidity": 0.2
            },
            "type": "scatter"
           }
          ],
          "scatter3d": [
           {
            "line": {
             "colorbar": {
              "outlinewidth": 0,
              "ticks": ""
             }
            },
            "marker": {
             "colorbar": {
              "outlinewidth": 0,
              "ticks": ""
             }
            },
            "type": "scatter3d"
           }
          ],
          "scattercarpet": [
           {
            "marker": {
             "colorbar": {
              "outlinewidth": 0,
              "ticks": ""
             }
            },
            "type": "scattercarpet"
           }
          ],
          "scattergeo": [
           {
            "marker": {
             "colorbar": {
              "outlinewidth": 0,
              "ticks": ""
             }
            },
            "type": "scattergeo"
           }
          ],
          "scattergl": [
           {
            "marker": {
             "colorbar": {
              "outlinewidth": 0,
              "ticks": ""
             }
            },
            "type": "scattergl"
           }
          ],
          "scattermapbox": [
           {
            "marker": {
             "colorbar": {
              "outlinewidth": 0,
              "ticks": ""
             }
            },
            "type": "scattermapbox"
           }
          ],
          "scatterpolar": [
           {
            "marker": {
             "colorbar": {
              "outlinewidth": 0,
              "ticks": ""
             }
            },
            "type": "scatterpolar"
           }
          ],
          "scatterpolargl": [
           {
            "marker": {
             "colorbar": {
              "outlinewidth": 0,
              "ticks": ""
             }
            },
            "type": "scatterpolargl"
           }
          ],
          "scatterternary": [
           {
            "marker": {
             "colorbar": {
              "outlinewidth": 0,
              "ticks": ""
             }
            },
            "type": "scatterternary"
           }
          ],
          "surface": [
           {
            "colorbar": {
             "outlinewidth": 0,
             "ticks": ""
            },
            "colorscale": [
             [
              0,
              "#0d0887"
             ],
             [
              0.1111111111111111,
              "#46039f"
             ],
             [
              0.2222222222222222,
              "#7201a8"
             ],
             [
              0.3333333333333333,
              "#9c179e"
             ],
             [
              0.4444444444444444,
              "#bd3786"
             ],
             [
              0.5555555555555556,
              "#d8576b"
             ],
             [
              0.6666666666666666,
              "#ed7953"
             ],
             [
              0.7777777777777778,
              "#fb9f3a"
             ],
             [
              0.8888888888888888,
              "#fdca26"
             ],
             [
              1,
              "#f0f921"
             ]
            ],
            "type": "surface"
           }
          ],
          "table": [
           {
            "cells": {
             "fill": {
              "color": "#EBF0F8"
             },
             "line": {
              "color": "white"
             }
            },
            "header": {
             "fill": {
              "color": "#C8D4E3"
             },
             "line": {
              "color": "white"
             }
            },
            "type": "table"
           }
          ]
         },
         "layout": {
          "annotationdefaults": {
           "arrowcolor": "#2a3f5f",
           "arrowhead": 0,
           "arrowwidth": 1
          },
          "autotypenumbers": "strict",
          "coloraxis": {
           "colorbar": {
            "outlinewidth": 0,
            "ticks": ""
           }
          },
          "colorscale": {
           "diverging": [
            [
             0,
             "#8e0152"
            ],
            [
             0.1,
             "#c51b7d"
            ],
            [
             0.2,
             "#de77ae"
            ],
            [
             0.3,
             "#f1b6da"
            ],
            [
             0.4,
             "#fde0ef"
            ],
            [
             0.5,
             "#f7f7f7"
            ],
            [
             0.6,
             "#e6f5d0"
            ],
            [
             0.7,
             "#b8e186"
            ],
            [
             0.8,
             "#7fbc41"
            ],
            [
             0.9,
             "#4d9221"
            ],
            [
             1,
             "#276419"
            ]
           ],
           "sequential": [
            [
             0,
             "#0d0887"
            ],
            [
             0.1111111111111111,
             "#46039f"
            ],
            [
             0.2222222222222222,
             "#7201a8"
            ],
            [
             0.3333333333333333,
             "#9c179e"
            ],
            [
             0.4444444444444444,
             "#bd3786"
            ],
            [
             0.5555555555555556,
             "#d8576b"
            ],
            [
             0.6666666666666666,
             "#ed7953"
            ],
            [
             0.7777777777777778,
             "#fb9f3a"
            ],
            [
             0.8888888888888888,
             "#fdca26"
            ],
            [
             1,
             "#f0f921"
            ]
           ],
           "sequentialminus": [
            [
             0,
             "#0d0887"
            ],
            [
             0.1111111111111111,
             "#46039f"
            ],
            [
             0.2222222222222222,
             "#7201a8"
            ],
            [
             0.3333333333333333,
             "#9c179e"
            ],
            [
             0.4444444444444444,
             "#bd3786"
            ],
            [
             0.5555555555555556,
             "#d8576b"
            ],
            [
             0.6666666666666666,
             "#ed7953"
            ],
            [
             0.7777777777777778,
             "#fb9f3a"
            ],
            [
             0.8888888888888888,
             "#fdca26"
            ],
            [
             1,
             "#f0f921"
            ]
           ]
          },
          "colorway": [
           "#636efa",
           "#EF553B",
           "#00cc96",
           "#ab63fa",
           "#FFA15A",
           "#19d3f3",
           "#FF6692",
           "#B6E880",
           "#FF97FF",
           "#FECB52"
          ],
          "font": {
           "color": "#2a3f5f"
          },
          "geo": {
           "bgcolor": "white",
           "lakecolor": "white",
           "landcolor": "#E5ECF6",
           "showlakes": true,
           "showland": true,
           "subunitcolor": "white"
          },
          "hoverlabel": {
           "align": "left"
          },
          "hovermode": "closest",
          "mapbox": {
           "style": "light"
          },
          "paper_bgcolor": "white",
          "plot_bgcolor": "#E5ECF6",
          "polar": {
           "angularaxis": {
            "gridcolor": "white",
            "linecolor": "white",
            "ticks": ""
           },
           "bgcolor": "#E5ECF6",
           "radialaxis": {
            "gridcolor": "white",
            "linecolor": "white",
            "ticks": ""
           }
          },
          "scene": {
           "xaxis": {
            "backgroundcolor": "#E5ECF6",
            "gridcolor": "white",
            "gridwidth": 2,
            "linecolor": "white",
            "showbackground": true,
            "ticks": "",
            "zerolinecolor": "white"
           },
           "yaxis": {
            "backgroundcolor": "#E5ECF6",
            "gridcolor": "white",
            "gridwidth": 2,
            "linecolor": "white",
            "showbackground": true,
            "ticks": "",
            "zerolinecolor": "white"
           },
           "zaxis": {
            "backgroundcolor": "#E5ECF6",
            "gridcolor": "white",
            "gridwidth": 2,
            "linecolor": "white",
            "showbackground": true,
            "ticks": "",
            "zerolinecolor": "white"
           }
          },
          "shapedefaults": {
           "line": {
            "color": "#2a3f5f"
           }
          },
          "ternary": {
           "aaxis": {
            "gridcolor": "white",
            "linecolor": "white",
            "ticks": ""
           },
           "baxis": {
            "gridcolor": "white",
            "linecolor": "white",
            "ticks": ""
           },
           "bgcolor": "#E5ECF6",
           "caxis": {
            "gridcolor": "white",
            "linecolor": "white",
            "ticks": ""
           }
          },
          "title": {
           "x": 0.05
          },
          "xaxis": {
           "automargin": true,
           "gridcolor": "white",
           "linecolor": "white",
           "ticks": "",
           "title": {
            "standoff": 15
           },
           "zerolinecolor": "white",
           "zerolinewidth": 2
          },
          "yaxis": {
           "automargin": true,
           "gridcolor": "white",
           "linecolor": "white",
           "ticks": "",
           "title": {
            "standoff": 15
           },
           "zerolinecolor": "white",
           "zerolinewidth": 2
          }
         }
        },
        "title": {
         "text": "2016년과 2019년의 열대과일 7종의 국내, 수입산 거래량 비율"
        },
        "width": 1000,
        "xaxis": {
         "anchor": "y",
         "domain": [
          0,
          1
         ],
         "title": {
          "text": "PUM_NM"
         }
        },
        "yaxis": {
         "anchor": "x",
         "domain": [
          0,
          1
         ],
         "title": {
          "text": "TOT_QTY"
         }
        }
       }
      }
     },
     "metadata": {},
     "output_type": "display_data"
    }
   ],
   "source": [
    "# load pickle\n",
    "with open(\"./pickles/hypo5_grouped_2016_trop_san_TOT_QTY_data.pickle\", \"rb\") as fr:\n",
    "    grouped_2016_trop_san_TOT_QTY = pickle.load(fr)\n",
    "with open(\"./pickles/hypo5_grouped_2019_trop_san_TOT_QTY_data.pickle\", \"rb\") as fr:\n",
    "    grouped_2019_trop_san_TOT_QTY = pickle.load(fr)\n",
    "\n",
    "# 품목_연도\n",
    "for i in range(14):\n",
    "    grouped_2016_trop_san_TOT_QTY.iloc[i, 0] = grouped_2016_trop_san_TOT_QTY.iloc[i, 0] + \"_2016\"\n",
    "for i in range(14):\n",
    "    grouped_2019_trop_san_TOT_QTY.iloc[i, 0] = grouped_2019_trop_san_TOT_QTY.iloc[i, 0] + \"_2019\"\n",
    "\n",
    "# 2016년과 2019년을 동시에 표현\n",
    "grouped_2016_2019_trop_san_TOT_QTY = pd.concat([grouped_2016_trop_san_TOT_QTY,\n",
    "                                                grouped_2019_trop_san_TOT_QTY]).sort_values(\"PUM_NM\")\n",
    "\n",
    "# 소수점 4자리까지 표현\n",
    "grouped_2016_2019_trop_san_TOT_QTY['TOT_QTY'] = grouped_2016_2019_trop_san_TOT_QTY['TOT_QTY'].round(4)\n",
    "\n",
    "# 시각화 - 2016년과 2019년의 열대과일 국내, 수입산 거래량 비율\n",
    "fig = px.bar(grouped_2016_2019_trop_san_TOT_QTY, x = 'PUM_NM', y = \"TOT_QTY\", color = 'SAN_NM', text_auto = True)\n",
    "fig.update_layout(title = \"2016년과 2019년의 열대과일 7종의 국내, 수입산 거래량 비율\", width = 1000, height = 600)\n",
    "fig.show()"
   ]
  },
  {
   "cell_type": "markdown",
   "metadata": {},
   "source": [
    "* 세로 2줄씩 2016년과 2019년의 품목별 국내산, 수입산 거래량 비율을 나타내었다.\n",
    "* 기술 발전으로 인해 시간이 지나면서 열대과일의 국내 생산량이 늘어났을 것이라고 예측하여 가설을 세웠지만,\n",
    "* 2016년 대비 2019년에 열대과일의 국내 생산량 비율이 더 높아진 품목은 7개 품목 중 람부탄 하나 뿐이었다.\n",
    "* 나머지 6종은 국내 생산량 비율이 소폭 감소했다.\n",
    "* \"일반적으로 2016년과 2019년 사이에 열대과일의 국내산 거래량이 수입산 거래량보다 적어졌다\" 라고 단정짓기에는 통계적 검정 과정이 필요할 것이지만, 본 데이터 분석 결과로는 2016년과 2019년 사이에 열대과일의 국내산 거래량이 수입산 거래량보다 적어졌다고 판단했다.  \n",
    "* **시각화를 해 본 후**\n",
    "  * 3년이 지난 후 열대과일의 수입산 대비 국내산 거래량 비율이 줄어든 이유에 대해서는 외부 데이터를 이용하여 추가적인 분석이 필요해 보인다."
   ]
  }
 ],
 "metadata": {
  "kernelspec": {
   "display_name": "Python 3.8.15 ('dl')",
   "language": "python",
   "name": "python3"
  },
  "language_info": {
   "codemirror_mode": {
    "name": "ipython",
    "version": 3
   },
   "file_extension": ".py",
   "mimetype": "text/x-python",
   "name": "python",
   "nbconvert_exporter": "python",
   "pygments_lexer": "ipython3",
   "version": "3.8.15"
  },
  "vscode": {
   "interpreter": {
    "hash": "10ea6ee7c6023c24c9869c59c38961d7d8d3ce8d95d55087040984a1057ac77b"
   }
  }
 },
 "nbformat": 4,
 "nbformat_minor": 2
}
